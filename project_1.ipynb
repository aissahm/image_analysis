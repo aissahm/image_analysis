{
  "nbformat": 4,
  "nbformat_minor": 0,
  "metadata": {
    "colab": {
      "name": "project_1.ipynb",
      "provenance": [],
      "collapsed_sections": [
        "_2EXXw2WzCsO",
        "XTHCcL12zP-1"
      ],
      "authorship_tag": "ABX9TyNhIwtq3hHBlyv6zKF0O9Yd",
      "include_colab_link": true
    },
    "kernelspec": {
      "name": "python3",
      "display_name": "Python 3"
    }
  },
  "cells": [
    {
      "cell_type": "markdown",
      "metadata": {
        "id": "view-in-github",
        "colab_type": "text"
      },
      "source": [
        "<a href=\"https://colab.research.google.com/github/aissahm/image_analysis/blob/main/project_1.ipynb\" target=\"_parent\"><img src=\"https://colab.research.google.com/assets/colab-badge.svg\" alt=\"Open In Colab\"/></a>"
      ]
    },
    {
      "cell_type": "markdown",
      "metadata": {
        "id": "dz5Q1yldze1n"
      },
      "source": [
        "# **Image analysis - Project 1**"
      ]
    },
    {
      "cell_type": "code",
      "metadata": {
        "id": "rGJzF9s7nQvc"
      },
      "source": [
        "import numpy as np\n",
        "import cv2\n",
        "from matplotlib import pyplot as plt\n",
        "import os"
      ],
      "execution_count": 13,
      "outputs": []
    },
    {
      "cell_type": "markdown",
      "metadata": {
        "id": "_2EXXw2WzCsO"
      },
      "source": [
        "## **Introduction**"
      ]
    },
    {
      "cell_type": "markdown",
      "metadata": {
        "id": "US4XR77vzFcn"
      },
      "source": [
        "In this task we will evaluate the potential of three image operators, when used in sequence, to extract image features suitable for license plate image detection (i.e., features that must highlight the caracters of a plate). In the current directory, you will find the images of the plates and their binary masks. You will also find three random splits of the original images into training and testing sets. The task consists of the following steps, which can be applied to any of these sets.\n",
        "\n",
        "1. Step 1: Dataset composition.\n",
        "2. Step 2: Batch (z-score) normalization.\n",
        "3. Step 3: Creation of a random kernel bank.\n",
        "4. Step 4: Convolution with the random kernel bank. \n",
        "5. Step 5: Rectified Linear Unit activation (ReLU).\n",
        "\n",
        "These steps are presented in the next sections."
      ]
    },
    {
      "cell_type": "markdown",
      "metadata": {
        "id": "XTHCcL12zP-1"
      },
      "source": [
        "## **Dataset composition**"
      ]
    },
    {
      "cell_type": "markdown",
      "metadata": {
        "id": "7Wje2xE3zRYJ"
      },
      "source": [
        "You must create a subimage (patch) dataset by extracting regions of interest with size W × H pixels, center at each position (x,y) of the original images, and stride (displacement between them) of (Dx,Dy) pixels.\n",
        "\n",
        "The plate masks (avaliable annotation) can be used in this step only to verify if your choice for W, H, Dx, and Dy is suitable to not miss any plate from the training set. That is, for the corresponding testing set, you will simply use the same parameters learned in the training set.\n",
        "\n",
        "In this step, using the training set only, you must also define a threshold on the percentage of plate pixels that fall inside a subimage to consider it from class 1 (background) or class 2 (plate/foreground). Note that this will create a difficulty for a future plate detection since subimages with parts of a plate might be considered background. In this sense, we might need to further process those images in the future to avoid classification errors.\n",
        "\n",
        "After creating the subimages of a same size W × H, you must convert each subimage into a multiband image by pseudo colorizing it based on a Red-Green-Blue color table (e.g., from blue to red) and then convert it into an uncorrelated color space (e.g., Y-Cb-Cr or L-a-b).\n"
      ]
    },
    {
      "cell_type": "markdown",
      "metadata": {
        "id": "woqqmyUooRWW"
      },
      "source": [
        "**We first create a function that returns the percentage of plate pixels contained in a subimage**\n",
        "\n",
        "We need the sizes W x H, the coordinates of the center of the subimage (x,y)."
      ]
    },
    {
      "cell_type": "code",
      "metadata": {
        "id": "_Q3-D1dnoeKs"
      },
      "source": [
        "#returns the number of pixels representing\n",
        "#the plate in the mask\n",
        "def returnPlateNumberPixelsFromMask(maskImg):\n",
        "  #maskImg = cv2.imread(maskPath)\n",
        "  return maskImg.sum()/(3*255)\n",
        "\n",
        "#given width x height, and center coordinates of subimage,\n",
        "#returns number of plate pixels contained in subimage\n",
        "def returnPlateNumberPixelsCovBySubimage(width, height, xcenter, ycenter, maskImg):\n",
        "  xstart = xcenter - width//2\n",
        "  xend = xcenter + width//2\n",
        "  ystart = ycenter - height//2\n",
        "  yend = ycenter + height//2\n",
        "  subImg = maskImg[ystart:yend+1,xstart: xend+1,:]\n",
        "\n",
        "  return subImg.sum()/(3*255)"
      ],
      "execution_count": 126,
      "outputs": []
    },
    {
      "cell_type": "code",
      "metadata": {
        "id": "pTp3AWiezcdL",
        "outputId": "d4d6b131-9b4e-40d8-f4e6-13f380fa7f36",
        "colab": {
          "base_uri": "https://localhost:8080/",
          "height": 269
        }
      },
      "source": [
        "test_image_path = \"/content/plates/mask_0001.png\"\n",
        "\n",
        "#Import image\n",
        "img = cv2.imread(test_image_path)\n",
        "\n",
        "#Show the image with matplotlib\n",
        "plt.imshow(img)\n",
        "plt.show()"
      ],
      "execution_count": 198,
      "outputs": [
        {
          "output_type": "display_data",
          "data": {
            "image/png": "[encoded data removed]",
            "text/plain": [
              "<Figure size 432x288 with 1 Axes>"
            ]
          },
          "metadata": {
            "tags": [],
            "needs_background": "light"
          }
        }
      ]
    },
    {
      "cell_type": "code",
      "metadata": {
        "id": "WIzZ6Jyu2tJq",
        "outputId": "ced9190f-84d7-4b79-d3dd-a017b0fb81a9",
        "colab": {
          "base_uri": "https://localhost:8080/",
          "height": 68
        }
      },
      "source": [
        "w = 150\n",
        "h = 100\n",
        "x = 150\n",
        "y = 150\n",
        "\n",
        "print(returnPlateNumberPixelsCovBySubimage(w, h, x, y, img))\n",
        "print()\n",
        "print(returnPlateNumberPixelsFromMask(img))"
      ],
      "execution_count": 128,
      "outputs": [
        {
          "output_type": "stream",
          "text": [
            "2274.0\n",
            "\n",
            "2274.0\n"
          ],
          "name": "stdout"
        }
      ]
    },
    {
      "cell_type": "code",
      "metadata": {
        "id": "paDKUmmj_r0i"
      },
      "source": [
        "def scanOriginalImageUsingSubImagesWith(width, height, xstride, ystride, imagepath, thresholdForPlateClass):\n",
        "  \n",
        "  i = 0\n",
        "  imageToScan = cv2.imread(imagepath)\n",
        "  plateNumberPixelsInImageToScan = returnPlateNumberPixelsFromMask(imageToScan)\n",
        "\n",
        "  #statistics\n",
        "  numberSubImages = 0\n",
        "  numberSubImagesClassPlate = 0 #number of images wich contain the threshold of plate percentage\n",
        "  numberSubImagesContainingAllPlate = 0\n",
        "\n",
        "  #initializing scanning parameters \n",
        "  xcenter_initial = width // 2\n",
        "  ycenter_initial = height // 2\n",
        "  yfinal = imageToScan.shape[0] - height // 2 - 1\n",
        "  xfinal = imageToScan.shape[1] - width // 2 - 1\n",
        "  ycenter = ycenter_initial\n",
        "  xcenter = xcenter_initial\n",
        "  \n",
        "  #we scan the original image from left to right, top to bottom\n",
        "  while ycenter <= yfinal:\n",
        "    \n",
        "    #We make sure we cover the entire original image \n",
        "    #on the last strides on vertical and/or horizontal axes\n",
        "    if xfinal - xcenter < xstride:\n",
        "      xcenter = xfinal\n",
        "    if yfinal - ycenter < ystride:\n",
        "      ycenter = yfinal\n",
        "    \n",
        "    plateNumberPixelsInSubimage = returnPlateNumberPixelsCovBySubimage(width, height, xcenter, ycenter, imageToScan)\n",
        "    platePercentageCovered = plateNumberPixelsInSubimage / plateNumberPixelsInImageToScan\n",
        "    \n",
        "    #Increment\n",
        "    xcenter += xstride\n",
        "    if xcenter > xfinal:\n",
        "      xcenter = xcenter_initial\n",
        "      ycenter += ystride\n",
        "    \n",
        "    #statistics\n",
        "    numberSubImages += 1\n",
        "    if platePercentageCovered >= thresholdForPlateClass:\n",
        "      numberSubImagesClassPlate += 1\n",
        "    if platePercentageCovered == 1.0:\n",
        "      numberSubImagesContainingAllPlate += 1\n",
        "    \n",
        "  #print statistics:\n",
        "  #print(\"Number of subimages created \", numberSubImages - 1)\n",
        "  #print(\"Number of subimages with threshold pixels of plate \", numberSubImagesClassPlate)\n",
        "  #print(\"Number of subimages containing all the plate \", numberSubImagesContainingAllPlate)\n",
        "\n",
        "  return [numberSubImagesContainingAllPlate, numberSubImagesClassPlate, numberSubImages]"
      ],
      "execution_count": 193,
      "outputs": []
    },
    {
      "cell_type": "markdown",
      "metadata": {
        "id": "OowBJbyh3IoO"
      },
      "source": [
        "We test the functions created above with one example before looping through all the 3 training sets."
      ]
    },
    {
      "cell_type": "code",
      "metadata": {
        "id": "Dx4vAGdAJA2w",
        "outputId": "f715dfac-34c8-4594-fc05-e9551bb0653f",
        "colab": {
          "base_uri": "https://localhost:8080/",
          "height": 34
        }
      },
      "source": [
        "w = 151\n",
        "h = 51\n",
        "dx = 40\n",
        "dy = 10\n",
        "test_image_path = \"/content/plates/mask_0001.png\"\n",
        "\n",
        "threshold = 0.9\n",
        "\n",
        "scanOriginalImageUsingSubImagesWith(w, h, dx, dy, test_image_path, threshold)"
      ],
      "execution_count": 259,
      "outputs": [
        {
          "output_type": "execute_result",
          "data": {
            "text/plain": [
              "[2, 6, 114]"
            ]
          },
          "metadata": {
            "tags": []
          },
          "execution_count": 259
        }
      ]
    },
    {
      "cell_type": "markdown",
      "metadata": {
        "id": "_6XmHx1v3UGj"
      },
      "source": [
        "Now that everything is working as expected, we create an array containing the path to the masks to perform the tests on the entire training sets. "
      ]
    },
    {
      "cell_type": "code",
      "metadata": {
        "id": "M2XInhbvNH0c"
      },
      "source": [
        "#given a text file containing the name of training images\n",
        "#return pathfile of respective masks\n",
        "def returnMaskImagesPathArray(trainTextPath):\n",
        "  mask_images_path_array = []\n",
        "  train_images_array = []\n",
        "  with open(trainTextPath, 'r') as file:\n",
        "      data = file.read().replace('\\n', ';')\n",
        "      train_images_array = data.split(\";\")\n",
        "  for train_image_str in train_images_array:\n",
        "    mask_image_str = train_image_str.replace(\"./plates/orig\", \"/content/plates/mask\")\n",
        "    if len(mask_image_str) > 0:\n",
        "      mask_images_path_array.append(mask_image_str)\n",
        "\n",
        "  return mask_images_path_array"
      ],
      "execution_count": 271,
      "outputs": []
    },
    {
      "cell_type": "markdown",
      "metadata": {
        "id": "mFU_szZF3h7m"
      },
      "source": [
        "We select manually the values of W, H, Dx, Dy. \n",
        "\n",
        "We define the variable \"threshold\" as the percentage of pixels from the plate contained in a subimage to classify the subimage as class 2 \"plate\". If the percentage is below that threshold, we classify the subimage as belonging to class 1 \"background\"."
      ]
    },
    {
      "cell_type": "code",
      "metadata": {
        "id": "E48Bc-S-PQli",
        "outputId": "2f510c1a-2001-4fda-ced4-be9d7cb4bd0a",
        "colab": {
          "base_uri": "https://localhost:8080/",
          "height": 68
        }
      },
      "source": [
        "w = int(175 * 1.1)\n",
        "h = int(75 * 1.1)\n",
        "dx = 40\n",
        "dy = 10\n",
        "threshold = 0.9\n",
        "\n",
        "totalNumberSubimagesCreated = 0\n",
        "totalNumberImagesWithPlatesNotCovered = 0\n",
        "listTrainImagesWithPlatesNotCovered = []\n",
        "\n",
        "mask_images_path_array = returnMaskImagesPathArray(\"/content/train1.txt\")\n",
        "\n",
        "for train_mask_imagepath in mask_images_path_array:\n",
        "  nImagesContainingAllPlate, nImagesClassPlate, nTotalSubimages = scanOriginalImageUsingSubImagesWith(w, h, dx, dy, train_mask_imagepath, threshold)\n",
        "  totalNumberSubimagesCreated += nTotalSubimages\n",
        "\n",
        "  if nImagesContainingAllPlate == 0:\n",
        "    totalNumberImagesWithPlatesNotCovered += 1\n",
        "    listTrainImagesWithPlatesNotCovered.append(train_mask_imagepath)\n",
        "  \n",
        "  #print(\"nImagesContainingAllPlate \", nImagesContainingAllPlate)\n",
        "  #print(\"nImagesClassPlate \", nImagesClassPlate)\n",
        "  #print(\"Total Subimages created\", nTotalSubimages)\n",
        "  #print()\n",
        "\n",
        "print(\"Training set size: \", len(mask_images_path_array))\n",
        "print(\"Total number images without plates found: \", totalNumberImagesWithPlatesNotCovered)\n",
        "print(\"Total subimages created from training set: \", totalNumberSubimagesCreated)\n"
      ],
      "execution_count": 273,
      "outputs": [
        {
          "output_type": "stream",
          "text": [
            "Training set size:  100\n",
            "Total number images without plates found:  0\n",
            "Total subimages created from training set:  6400\n"
          ],
          "name": "stdout"
        }
      ]
    },
    {
      "cell_type": "markdown",
      "metadata": {
        "id": "KqXPEP8J4Qsx"
      },
      "source": [
        "Runnning various values of the parameters, we get the following minimal values in order to make sure that we have at least one subimage of class 2 from each original image, as well as at least one subimage containing the entire plate inside it.\n",
        "\n"
      ]
    },
    {
      "cell_type": "markdown",
      "metadata": {
        "id": "TXxU4V6fzd7j"
      },
      "source": [
        "Parameters:\n",
        "\n",
        "First training set: w = 170, h = 70, dx = 40, dy = 10, threshold = 0.9\n",
        "\n",
        "Second training set: w = 170, h = 70, dx = 40, dy = 10, threshold = 0.9\n",
        "\n",
        "Third training set: w = 170, h = 75, dx = 40, dy = 10, threshold = 0.9\n",
        "\n",
        "\n"
      ]
    },
    {
      "cell_type": "markdown",
      "metadata": {
        "id": "yABgF_ft2UsE"
      },
      "source": [
        "In order to increase the chances of success of getting at least one subimage containing the plate with the minimum threshold on the test sets, we increase by 10% the values of W and H. This will also allow us to decrease the total number of subimages from all images from 8500 to 6400. \n",
        "\n",
        "Conclusion:\n",
        "\n",
        "1. W = int(175 * 1.1) = 187 pixels\n",
        "2. H = int(75  * 1.1) = 77 pixels\n",
        "\n",
        "3. Dx = 40 pixels\n",
        "4. Dy = 10 pixels\n"
      ]
    },
    {
      "cell_type": "code",
      "metadata": {
        "id": "Xwztmq1_ilxE"
      },
      "source": [
        "#save parameters in param.txt\n"
      ],
      "execution_count": null,
      "outputs": []
    },
    {
      "cell_type": "markdown",
      "metadata": {
        "id": "tFCDTwwj5ElG"
      },
      "source": [
        "### **Converting the subimages to Y-Cb-Cr format** \n",
        "\n",
        "Now, we must convert each subimage into a multiband image by pseudo colorizing it based on a Red-Green-Blue color table (e.g., from blue to red) and then convert it into an uncorrelated color space (e.g., Y-Cb-Cr or L-a-b)."
      ]
    },
    {
      "cell_type": "code",
      "metadata": {
        "id": "rvyJvpIL5Q_q",
        "outputId": "ff294828-3b48-4d82-eef3-5987690ac610",
        "colab": {
          "base_uri": "https://localhost:8080/",
          "height": 200
        }
      },
      "source": [
        "img = cv2.imread('/content/plates/orig_0037.png', 1)\n",
        "imgYCrCb = cv2.cvtColor(img[120+0:120+76, 5+0:50+176,:], cv2.COLOR_RGB2YCrCb)\n",
        "plt.imshow(imgYCrCb)\n",
        "plt.show()\n",
        "\n",
        "print(\"original image shape: \", img.shape)\n",
        "print(\"YCbCr Subimage shape: \", YCrCb.shape)"
      ],
      "execution_count": 269,
      "outputs": [
        {
          "output_type": "display_data",
          "data": {
            "image/png": "[encoded data removed]",
            "text/plain": [
              "<Figure size 432x288 with 1 Axes>"
            ]
          },
          "metadata": {
            "tags": [],
            "needs_background": "light"
          }
        },
        {
          "output_type": "stream",
          "text": [
            "original image shape:  (240, 352, 3)\n",
            "YCbCr Subimage shape:  (10, 30, 3)\n"
          ],
          "name": "stdout"
        }
      ]
    },
    {
      "cell_type": "code",
      "metadata": {
        "id": "Z9VZTC9nf6oR"
      },
      "source": [
        "#same code as above, with the addition of creating the subimages and storing them\n",
        "#information included in filename: originalimagename_width_heigth-xcenter_ycenter_class\n",
        "def createSubimagesFromTrainingImage(width, height, xstride, ystride, imagepath, thresholdForPlateClass):\n"
      ],
      "execution_count": null,
      "outputs": []
    },
    {
      "cell_type": "markdown",
      "metadata": {
        "id": "QZunyXPtb8zA"
      },
      "source": [
        "## **Batch Normalization**"
      ]
    },
    {
      "cell_type": "markdown",
      "metadata": {
        "id": "HSGtW-JEcJ2a"
      },
      "source": [
        "Let Ii(p) = (Ii1(p), Ii2(p), Ii3(p)) be the three color values of each pixel p in the image domain DI of an image Iˆ = (D , I ), i = 1, 2, . . . , N , of the training set. Batch normalization consists of transforming each image Iˆ\n",
        "iIi i\n",
        "into an image Jˆ = (D , J ) such that iIi\n",
        "Jij(p) = Iij(p) − μj(p), (1) σj (p)\n",
        " 1  N\n",
        "μj(p) = N Iij(p),\n",
        "i=1\n",
        "  1  N\n",
        "σj(p) =  N − 1\n",
        "j = 1, 2, 3.\n",
        "For the testing set, you can only normalize the images by using the parameters μ(p) = (μ1 (p), μ2 (p), μ3 (p))\n",
        "and σ(p) = (σ1(p),σ2(p),σ3(p)) learned for each pixel p in the training set. Evaluate your results with and without batch normalization."
      ]
    },
    {
      "cell_type": "code",
      "metadata": {
        "id": "zxiU5uCdcOH3"
      },
      "source": [
        "#given a folder path with a set of images,\n",
        "#function that returns the mean and standard deviation\n",
        "#of the entire set for batch normalization\n",
        "def returnBatchNormMeanAndStandarDeviationTensor(folderPath):\n",
        "  meanTensor = 0\n",
        "  standardDeviationTensor = 0\n"
      ],
      "execution_count": null,
      "outputs": []
    }
  ]
}