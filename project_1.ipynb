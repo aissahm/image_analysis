{
  "nbformat": 4,
  "nbformat_minor": 0,
  "metadata": {
    "colab": {
      "name": "project_1.ipynb",
      "provenance": [],
      "collapsed_sections": [
        "_2EXXw2WzCsO",
        "XTHCcL12zP-1"
      ],
      "authorship_tag": "ABX9TyOyAB9Q6FCoCws7nj3LjDjJ",
      "include_colab_link": true
    },
    "kernelspec": {
      "name": "python3",
      "display_name": "Python 3"
    }
  },
  "cells": [
    {
      "cell_type": "markdown",
      "metadata": {
        "id": "view-in-github",
        "colab_type": "text"
      },
      "source": [
        "<a href=\"https://colab.research.google.com/github/aissahm/image_analysis/blob/main/project_1.ipynb\" target=\"_parent\"><img src=\"https://colab.research.google.com/assets/colab-badge.svg\" alt=\"Open In Colab\"/></a>"
      ]
    },
    {
      "cell_type": "markdown",
      "metadata": {
        "id": "dz5Q1yldze1n"
      },
      "source": [
        "# **Image analysis - Project 1**"
      ]
    },
    {
      "cell_type": "code",
      "metadata": {
        "id": "rGJzF9s7nQvc"
      },
      "source": [
        "import numpy as np\n",
        "import pandas as pd\n",
        "import cv2\n",
        "from matplotlib import pyplot as plt\n",
        "import os\n",
        "from google.colab import files\n",
        "\n",
        "!pip install ipython-autotime\n",
        "%load_ext autotime"
      ],
      "execution_count": null,
      "outputs": []
    },
    {
      "cell_type": "markdown",
      "metadata": {
        "id": "0Oc1xg19mISc"
      },
      "source": [
        "We create the folders we need to store the intermediate output and final outputs."
      ]
    },
    {
      "cell_type": "code",
      "metadata": {
        "id": "pP5XzahIl9ei",
        "outputId": "a3270623-6de3-4f74-f754-5c90045ea6e4",
        "colab": {
          "base_uri": "https://localhost:8080/"
        }
      },
      "source": [
        "ycbcrfolderpath = \"ycbcrplates\"\n",
        "os.mkdir(ycbcrfolderpath)"
      ],
      "execution_count": 2,
      "outputs": [
        {
          "output_type": "stream",
          "text": [
            "time: 1.66 ms\n"
          ],
          "name": "stdout"
        }
      ]
    },
    {
      "cell_type": "markdown",
      "metadata": {
        "id": "_2EXXw2WzCsO"
      },
      "source": [
        "## **Introduction**"
      ]
    },
    {
      "cell_type": "markdown",
      "metadata": {
        "id": "US4XR77vzFcn"
      },
      "source": [
        "In this task we will evaluate the potential of three image operators, when used in sequence, to extract image features suitable for license plate image detection (i.e., features that must highlight the caracters of a plate). In the current directory, you will find the images of the plates and their binary masks. You will also find three random splits of the original images into training and testing sets. The task consists of the following steps, which can be applied to any of these sets.\n",
        "\n",
        "1. Step 1: Dataset composition.\n",
        "2. Step 2: Batch (z-score) normalization.\n",
        "3. Step 3: Creation of a random kernel bank.\n",
        "4. Step 4: Convolution with the random kernel bank. \n",
        "5. Step 5: Rectified Linear Unit activation (ReLU).\n",
        "\n",
        "These steps are presented in the next sections."
      ]
    },
    {
      "cell_type": "markdown",
      "metadata": {
        "id": "XTHCcL12zP-1"
      },
      "source": [
        "## **Dataset composition**"
      ]
    },
    {
      "cell_type": "markdown",
      "metadata": {
        "id": "7Wje2xE3zRYJ"
      },
      "source": [
        "You must create a subimage (patch) dataset by extracting regions of interest with size W × H pixels, center at each position (x,y) of the original images, and stride (displacement between them) of (Dx,Dy) pixels.\n",
        "\n",
        "The plate masks (avaliable annotation) can be used in this step only to verify if your choice for W, H, Dx, and Dy is suitable to not miss any plate from the training set. That is, for the corresponding testing set, you will simply use the same parameters learned in the training set.\n",
        "\n",
        "In this step, using the training set only, you must also define a threshold on the percentage of plate pixels that fall inside a subimage to consider it from class 1 (background) or class 2 (plate/foreground). Note that this will create a difficulty for a future plate detection since subimages with parts of a plate might be considered background. In this sense, we might need to further process those images in the future to avoid classification errors.\n",
        "\n",
        "After creating the subimages of a same size W × H, you must convert each subimage into a multiband image by pseudo colorizing it based on a Red-Green-Blue color table (e.g., from blue to red) and then convert it into an uncorrelated color space (e.g., Y-Cb-Cr or L-a-b).\n"
      ]
    },
    {
      "cell_type": "markdown",
      "metadata": {
        "id": "VYtMNNn7B3Ek"
      },
      "source": [
        "#### **From grayscale to YCbCr**"
      ]
    },
    {
      "cell_type": "markdown",
      "metadata": {
        "id": "zYA6NlZ8B92n"
      },
      "source": [
        "We create a function that will transform the grayscale image with one channel to a YCbCr image with 3 channels. We first transform the image into an RGB image, and then to a YCbCr image."
      ]
    },
    {
      "cell_type": "code",
      "metadata": {
        "id": "kbRYOqX_ErZk",
        "outputId": "7d6a5cc9-0be6-4756-9492-51f556edad87",
        "colab": {
          "base_uri": "https://localhost:8080/"
        }
      },
      "source": [
        "#function that saves an image\n",
        "def saveImage(image, imagefullpath):\n",
        "  cv2.imwrite(imagefullpath, image)\n",
        "\n",
        "#Mapping from grayscale pixel to RGB using color table\n",
        "def fromGrayscaleToRGBMapping(pixel, H):\n",
        "  V = pixel / H\n",
        "  V = (6 - 2) * V + 1\n",
        "  r_p = H * max(0, (3- abs(V-4) - abs(V-5))/2 )\n",
        "  g_p = H * max(0, (4- abs(V-2) - abs(V-4))/2 )\n",
        "  b_p = H * max(0, (3- abs(V-1) - abs(V-2))/2 )\n",
        "  return [r_p, g_p, b_p]\n",
        "\n",
        "#Transform the grayscale image with one channel into an RGB image with 3 channels\n",
        "def fromGrayscaleToRGB(grayscaleimage, bits):\n",
        "  if len(grayscaleimage.shape) !=2:\n",
        "    print (\"Error: image is not a grayscale image\")\n",
        "    return 0\n",
        "  \n",
        "  H = 2**bits -1\n",
        "\n",
        "  #we initiate an rgb image with 3 channels with same dimensions as grayscale image\n",
        "  rgbimage = np.zeros((grayscaleimage.shape[0], grayscaleimage.shape[1], 3))\n",
        "  i = 0\n",
        "  while i < grayscaleimage.shape[0]:\n",
        "    j = 0\n",
        "    while j < grayscaleimage.shape[1]:\n",
        "      r_p, g_p, b_p = fromGrayscaleToRGBMapping(grayscaleimage[i][j], H)\n",
        "      rgbimage[i][j][0] = r_p\n",
        "      rgbimage[i][j][1] = g_p\n",
        "      rgbimage[i][j][2] = b_p\n",
        "      \n",
        "      j +=1\n",
        "    i +=1\n",
        "  \n",
        "  return rgbimage\n",
        "\n",
        "#Transform an RGB image with 3 channels into a YCbCr image with 3 channels\n",
        "def fromRGBToYCbCr(rgbimage, bits):\n",
        "  conversionMatrix = np.array([[0.299, 0.587, 0.144], [-0.169, -0.331, 0.500], [0.500, -0.419, -0.081]])\n",
        "  bias = np.array([0, 2**(bits - 1), 2**(bits -1)])\n",
        "  YCbCrimage = np.zeros((rgbimage.shape[0], rgbimage.shape[1], rgbimage.shape[2]))\n",
        "\n",
        "  i = 0\n",
        "  while i < rgbimage.shape[0]:\n",
        "    j = 0\n",
        "    while j < rgbimage.shape[1]:\n",
        "      YCbCrimage[i][j] = conversionMatrix @ rgbimage[i][j] + bias\n",
        "      j += 1\n",
        "    i += 1\n",
        "\n",
        "  return YCbCrimage\n",
        "\n",
        "#Main function that converts a grayscale image with 1 channel to a YCbCr image with 3 channels\n",
        "def fromGrayscaleToYCbCr(image, bits):\n",
        "  rgbimage = fromGrayscaleToRGB(image, bits)\n",
        "  if len(rgbimage.shape) < 3:\n",
        "    return 0\n",
        "  return fromRGBToYCbCr(rgbimage, bits)"
      ],
      "execution_count": 3,
      "outputs": [
        {
          "output_type": "stream",
          "text": [
            "time: 106 ms\n"
          ],
          "name": "stdout"
        }
      ]
    },
    {
      "cell_type": "markdown",
      "metadata": {
        "id": "lMAZ1OeBge5P"
      },
      "source": [
        "We test the functions above with a grayscale image exmaple:"
      ]
    },
    {
      "cell_type": "code",
      "metadata": {
        "id": "rTnXgCEdJa3-",
        "outputId": "cdbfe9ae-066d-4800-82b0-ed2193a88ac7",
        "colab": {
          "base_uri": "https://localhost:8080/",
          "height": 286
        }
      },
      "source": [
        "grayscaleimg = cv2.imread(\"/content/plates/orig_0001.png\", cv2.IMREAD_GRAYSCALE)\n",
        "\n",
        "ycbcrimg = fromGrayscaleToYCbCr(grayscaleimg, 8)\n",
        "\n",
        "plt.imshow(ycbcrimg.astype('uint8'))\n",
        "plt.show()"
      ],
      "execution_count": 4,
      "outputs": [
        {
          "output_type": "display_data",
          "data": {
            "image/png": "[encoded data removed]",
            "text/plain": [
              "<Figure size 432x288 with 1 Axes>"
            ]
          },
          "metadata": {
            "tags": [],
            "needs_background": "light"
          }
        },
        {
          "output_type": "stream",
          "text": [
            "time: 1.6 s\n"
          ],
          "name": "stdout"
        }
      ]
    },
    {
      "cell_type": "markdown",
      "metadata": {
        "id": "Et9oR_WRViT4"
      },
      "source": [
        "**Now, we loop through each image inside the \"plates\" folder to convert them into YCbCr images and save the images inside the folder \"ycbcrplates/\".**"
      ]
    },
    {
      "cell_type": "code",
      "metadata": {
        "id": "nKfbS8sDVr26",
        "outputId": "b2d9ce2e-8c6d-42cd-c81c-3c0cca5bdedf",
        "colab": {
          "base_uri": "https://localhost:8080/"
        }
      },
      "source": [
        "directory = '/content/plates/'\n",
        "\n",
        "ycbcrdirectory = \"/content/ycbcrplates/\"\n",
        "\n",
        "i = 0 \n",
        "for filename in os.listdir(directory):\n",
        "  if \"orig\" in filename:\n",
        "    grayscaleimg = cv2.imread(directory + filename, cv2.IMREAD_GRAYSCALE)\n",
        "    ycbcrimg = fromGrayscaleToYCbCr(grayscaleimg, 8)\n",
        "    ycbcrimg = ycbcrimg.astype('uint8')\n",
        "\n",
        "    ycbcrimagepath = ycbcrdirectory + filename\n",
        "    cv2.imwrite(ycbcrimagepath, ycbcrimg)\n",
        "    i += 1\n",
        "\n",
        "print(\"Done,\", i, \" images from plates/ converted to YCbCr.\")"
      ],
      "execution_count": 5,
      "outputs": [
        {
          "output_type": "stream",
          "text": [
            "Done, 200  images from plates/ converted to YCbCr.\n",
            "time: 4min 9s\n"
          ],
          "name": "stdout"
        }
      ]
    },
    {
      "cell_type": "markdown",
      "metadata": {
        "id": "woqqmyUooRWW"
      },
      "source": [
        "**We first create a function that returns the percentage of plate pixels contained in a subimage**\n",
        "\n",
        "We need the sizes W x H, the coordinates of the center of the subimage (x,y)."
      ]
    },
    {
      "cell_type": "code",
      "metadata": {
        "id": "_Q3-D1dnoeKs",
        "outputId": "057ba869-6b0d-4a99-b185-8157aa49ed31",
        "colab": {
          "base_uri": "https://localhost:8080/"
        }
      },
      "source": [
        "#returns the number of pixels representing the plate in the mask\n",
        "def returnPlateNumberPixelsFromMask(maskImg):\n",
        "  #maskImg = cv2.imread(maskPath)\n",
        "  return maskImg.sum()/(3*255)\n",
        "\n",
        "#given width x height, and center coordinates of subimage, returns number of plate pixels contained in subimage\n",
        "def returnPlateNumberPixelsCovBySubimage(width, height, xcenter, ycenter, maskImg):\n",
        "  xstart = xcenter - width//2\n",
        "  xend = xcenter + width//2\n",
        "  ystart = ycenter - height//2\n",
        "  yend = ycenter + height//2\n",
        "  subImg = maskImg[ystart:yend+1,xstart: xend+1,:]\n",
        "\n",
        "  return subImg.sum()/(3*255)"
      ],
      "execution_count": 6,
      "outputs": [
        {
          "output_type": "stream",
          "text": [
            "time: 3.55 ms\n"
          ],
          "name": "stdout"
        }
      ]
    },
    {
      "cell_type": "code",
      "metadata": {
        "id": "pTp3AWiezcdL",
        "outputId": "4d3e5b5b-b2ea-497f-800c-9e6e1dfac610",
        "colab": {
          "base_uri": "https://localhost:8080/",
          "height": 286
        }
      },
      "source": [
        "test_image_path = \"/content/plates/mask_0001.png\"\n",
        "\n",
        "#Import image\n",
        "img = cv2.imread(test_image_path)\n",
        "\n",
        "#Show the image with matplotlib\n",
        "plt.imshow(img)\n",
        "plt.show()"
      ],
      "execution_count": 7,
      "outputs": [
        {
          "output_type": "display_data",
          "data": {
            "image/png": "[encoded data removed]",
            "text/plain": [
              "<Figure size 432x288 with 1 Axes>"
            ]
          },
          "metadata": {
            "tags": [],
            "needs_background": "light"
          }
        },
        {
          "output_type": "stream",
          "text": [
            "time: 145 ms\n"
          ],
          "name": "stdout"
        }
      ]
    },
    {
      "cell_type": "code",
      "metadata": {
        "id": "WIzZ6Jyu2tJq",
        "outputId": "2b71764a-1e6f-42a6-c4bb-72b42a69245d",
        "colab": {
          "base_uri": "https://localhost:8080/"
        }
      },
      "source": [
        "w = 150\n",
        "h = 100\n",
        "x = 150\n",
        "y = 150\n",
        "\n",
        "print(returnPlateNumberPixelsCovBySubimage(w, h, x, y, img))\n",
        "print()\n",
        "print(returnPlateNumberPixelsFromMask(img))"
      ],
      "execution_count": 8,
      "outputs": [
        {
          "output_type": "stream",
          "text": [
            "2274.0\n",
            "\n",
            "2274.0\n",
            "time: 4.76 ms\n"
          ],
          "name": "stdout"
        }
      ]
    },
    {
      "cell_type": "markdown",
      "metadata": {
        "id": "PVQGS7FBNYNd"
      },
      "source": [
        "#### **Selecting the values for the parameters**"
      ]
    },
    {
      "cell_type": "code",
      "metadata": {
        "id": "paDKUmmj_r0i",
        "outputId": "e49f09ec-3394-4915-fe7e-0f10d1f995cf",
        "colab": {
          "base_uri": "https://localhost:8080/"
        }
      },
      "source": [
        "def scanOriginalImageUsingSubImagesWith(width, height, xstride, ystride, imagepath, thresholdForPlateClass):\n",
        "  \n",
        "  imageToScan = cv2.imread(imagepath)\n",
        "  plateNumberPixelsInImageToScan = returnPlateNumberPixelsFromMask(imageToScan)\n",
        "\n",
        "  #statistics\n",
        "  numberSubImages = 0\n",
        "  numberSubImagesClassPlate = 0 #number of images wich contain the threshold of plate percentage\n",
        "  numberSubImagesContainingAllPlate = 0\n",
        "\n",
        "  #initializing scanning parameters \n",
        "  xcenter_initial = width // 2\n",
        "  ycenter_initial = height // 2\n",
        "  yfinal = imageToScan.shape[0] - height // 2 - 1\n",
        "  xfinal = imageToScan.shape[1] - width // 2 - 1\n",
        "  ycenter = ycenter_initial\n",
        "  xcenter = xcenter_initial\n",
        "  \n",
        "  #we scan the original image from left to right, top to bottom\n",
        "  while ycenter <= yfinal:\n",
        "    \n",
        "    #We make sure we cover the entire original image \n",
        "    #on the last strides on vertical and/or horizontal axes\n",
        "    if xfinal - xcenter < xstride:\n",
        "      xcenter = xfinal\n",
        "    if yfinal - ycenter < ystride:\n",
        "      ycenter = yfinal\n",
        "    \n",
        "    plateNumberPixelsInSubimage = returnPlateNumberPixelsCovBySubimage(width, height, xcenter, ycenter, imageToScan)\n",
        "    #percentage of plate\n",
        "    platePercentageCovered = plateNumberPixelsInSubimage / plateNumberPixelsInImageToScan\n",
        "    \n",
        "    #percentage of total pixels in subimage\n",
        "    #platePercentageCovered = plateNumberPixelsInSubimage / (width*height)\n",
        "\n",
        "    #Increment\n",
        "    xcenter += xstride\n",
        "    if xcenter > xfinal:\n",
        "      xcenter = xcenter_initial\n",
        "      ycenter += ystride\n",
        "    \n",
        "    #statistics\n",
        "    numberSubImages += 1\n",
        "    if platePercentageCovered >= thresholdForPlateClass:\n",
        "      numberSubImagesClassPlate += 1\n",
        "    if platePercentageCovered == 1.0:\n",
        "      numberSubImagesContainingAllPlate += 1\n",
        "    \n",
        "  #print statistics:\n",
        "  #print(\"Number of subimages created \", numberSubImages - 1)\n",
        "  #print(\"Number of subimages with threshold pixels of plate \", numberSubImagesClassPlate)\n",
        "  #print(\"Number of subimages containing all the plate \", numberSubImagesContainingAllPlate)\n",
        "\n",
        "  return [numberSubImagesContainingAllPlate, numberSubImagesClassPlate, numberSubImages]"
      ],
      "execution_count": 9,
      "outputs": [
        {
          "output_type": "stream",
          "text": [
            "time: 20.2 ms\n"
          ],
          "name": "stdout"
        }
      ]
    },
    {
      "cell_type": "markdown",
      "metadata": {
        "id": "OowBJbyh3IoO"
      },
      "source": [
        "We test the functions created above with one example before looping through all the 3 training sets."
      ]
    },
    {
      "cell_type": "code",
      "metadata": {
        "id": "Dx4vAGdAJA2w",
        "outputId": "8276d36d-9c99-4a2f-9eee-9fb67a4d87b7",
        "colab": {
          "base_uri": "https://localhost:8080/"
        }
      },
      "source": [
        "w = 187\n",
        "h = 75\n",
        "dx = 40\n",
        "dy = 20\n",
        "test_image_path = \"/content/plates/mask_0001.png\"\n",
        "\n",
        "threshold = 0.9\n",
        "\n",
        "scanOriginalImageUsingSubImagesWith(w, h, dx, dy, test_image_path, threshold)"
      ],
      "execution_count": 183,
      "outputs": [
        {
          "output_type": "execute_result",
          "data": {
            "text/plain": [
              "[4, 9, 45]"
            ]
          },
          "metadata": {
            "tags": []
          },
          "execution_count": 183
        },
        {
          "output_type": "stream",
          "text": [
            "time: 13.1 ms\n"
          ],
          "name": "stdout"
        }
      ]
    },
    {
      "cell_type": "markdown",
      "metadata": {
        "id": "_6XmHx1v3UGj"
      },
      "source": [
        "Now that everything is working as expected, we create an array containing the path to the masks to perform the tests on the entire training sets. "
      ]
    },
    {
      "cell_type": "code",
      "metadata": {
        "id": "M2XInhbvNH0c",
        "outputId": "dbdd35ce-3fa3-4173-d559-a71e577a176e",
        "colab": {
          "base_uri": "https://localhost:8080/"
        }
      },
      "source": [
        "#given a text file containing the name of training images return pathfile of respective masks\n",
        "def returnMaskImagesPathArray(trainTextPath):\n",
        "  mask_images_path_array = []\n",
        "  train_images_array = []\n",
        "  with open(trainTextPath, 'r') as file:\n",
        "      data = file.read().replace('\\n', ';')\n",
        "      train_images_array = data.split(\";\")\n",
        "  for train_image_str in train_images_array:\n",
        "    mask_image_str = train_image_str.replace(\"./plates/orig\", \"/content/plates/mask\")\n",
        "    if len(mask_image_str) > 0:\n",
        "      mask_images_path_array.append(mask_image_str)\n",
        "\n",
        "  return mask_images_path_array\n",
        "\n",
        "#given a text file containing the name of training images return pathfile of respective images\n",
        "def returnImagesPathArray(trainTextPath):\n",
        "  images_path_array = []\n",
        "  train_images_array = []\n",
        "  with open(trainTextPath, 'r') as file:\n",
        "      data = file.read().replace('\\n', ';')\n",
        "      train_images_array = data.split(\";\")\n",
        "  for train_image_str in train_images_array:\n",
        "    image_str = train_image_str.replace(\"./plates\", \"/content/plates\")\n",
        "    if len(image_str) > 0:\n",
        "      images_path_array.append(image_str)\n",
        "  return images_path_array"
      ],
      "execution_count": 10,
      "outputs": [
        {
          "output_type": "stream",
          "text": [
            "time: 10.3 ms\n"
          ],
          "name": "stdout"
        }
      ]
    },
    {
      "cell_type": "markdown",
      "metadata": {
        "id": "mFU_szZF3h7m"
      },
      "source": [
        "We select manually the values of W, H, Dx, Dy. \n",
        "\n",
        "We define the variable \"threshold\" as the percentage of pixels from the plate contained in a subimage to classify the subimage as class 2 \"plate\". If the percentage is below that threshold, we classify the subimage as belonging to class 1 \"background\"."
      ]
    },
    {
      "cell_type": "code",
      "metadata": {
        "id": "E48Bc-S-PQli",
        "outputId": "5e0ef2c0-0cde-4828-a878-89ce94e17a27",
        "colab": {
          "base_uri": "https://localhost:8080/"
        }
      },
      "source": [
        "w = 187\n",
        "h = 95\n",
        "dx = 40\n",
        "dy = 20\n",
        "threshold = 0.9\n",
        "\n",
        "totalNumberSubimagesCreated = 0\n",
        "totalNumberImagesWithPlatesNotCovered = 0\n",
        "listTrainImagesWithPlatesNotCovered = []\n",
        "\n",
        "mask_images_path_array = returnMaskImagesPathArray(\"/content/train2.txt\")\n",
        "\n",
        "for train_mask_imagepath in mask_images_path_array:\n",
        "  nImagesContainingAllPlate, nImagesClassPlate, nTotalSubimages = scanOriginalImageUsingSubImagesWith(w, h, dx, dy, train_mask_imagepath, threshold)\n",
        "  totalNumberSubimagesCreated += nTotalSubimages\n",
        "\n",
        "  if nImagesContainingAllPlate == 0:\n",
        "    totalNumberImagesWithPlatesNotCovered += 1\n",
        "    listTrainImagesWithPlatesNotCovered.append(train_mask_imagepath)\n",
        "\n",
        "print(\"Training set size: \", len(mask_images_path_array))\n",
        "print(\"Total number images without plates found: \", totalNumberImagesWithPlatesNotCovered)\n",
        "print(\"Total subimages created from training set: \", totalNumberSubimagesCreated)\n"
      ],
      "execution_count": 12,
      "outputs": [
        {
          "output_type": "stream",
          "text": [
            "Training set size:  100\n",
            "Total number images without plates found:  0\n",
            "Total subimages created from training set:  4000\n",
            "time: 369 ms\n"
          ],
          "name": "stdout"
        }
      ]
    },
    {
      "cell_type": "markdown",
      "metadata": {
        "id": "KqXPEP8J4Qsx"
      },
      "source": [
        "Runnning various values of the parameters, we get the following minimal values in order to make sure that we have at least one subimage of class 2 from each original image, as well as at least one subimage containing the entire plate inside it.\n",
        "\n"
      ]
    },
    {
      "cell_type": "markdown",
      "metadata": {
        "id": "TXxU4V6fzd7j"
      },
      "source": [
        "**Parameters:**\n",
        "\n",
        "First training set: w = 171, h = 71, dx = 40, dy = 10, threshold = 0.9\n",
        "\n",
        "Second training set: w = 171, h = 71, dx = 40, dy = 10, threshold = 0.9\n",
        "\n",
        "Third training set: w = 171, h = 75, dx = 40, dy = 10, threshold = 0.9\n",
        "\n",
        "\n"
      ]
    },
    {
      "cell_type": "markdown",
      "metadata": {
        "id": "yABgF_ft2UsE"
      },
      "source": [
        "In order to increase the chances of success of getting at least one subimage containing the plate with the minimum threshold on the test sets, we increase by 10% the values of W and H. This will also allow us to decrease the total number of subimages from all images from 8500 to 8000. \n",
        "\n",
        "**Conclusion:**\n",
        "\n",
        "1. W = 187 pixels\n",
        "2. H = 81 pixels\n",
        "\n",
        "3. Dx = 40 pixels\n",
        "4. Dy = 10 pixels\n",
        "\n",
        "(Note: W and H must be odd numbers since the subimage is centered at a given pixel.)\n",
        "\n"
      ]
    },
    {
      "cell_type": "code",
      "metadata": {
        "id": "Xwztmq1_ilxE",
        "outputId": "b75927a7-e5c9-4bb7-cc92-b91552916bdb",
        "colab": {
          "base_uri": "https://localhost:8080/"
        }
      },
      "source": [
        "#parameters array [w, h, dx, dy, threshold]\n",
        "parameters_array = [187, 95, 40, 20, 0.9]\n",
        "\n",
        "#save parameters in param.txt\n",
        "with open ('param.txt','w') as f:\n",
        " for parameterelem in parameters_array:\n",
        "     f.write(str(parameterelem)+'\\n')"
      ],
      "execution_count": 13,
      "outputs": [
        {
          "output_type": "stream",
          "text": [
            "time: 2.03 ms\n"
          ],
          "name": "stdout"
        }
      ]
    },
    {
      "cell_type": "markdown",
      "metadata": {
        "id": "lgV-hHHV939S"
      },
      "source": [
        "### **Creating all the subimages from the training sets**"
      ]
    },
    {
      "cell_type": "code",
      "metadata": {
        "id": "UpHsPD02lFEo",
        "outputId": "a41cdfad-fbe6-4ea2-ddb4-1841ebbbd00c",
        "colab": {
          "base_uri": "https://localhost:8080/"
        }
      },
      "source": [
        "#we set the parameters values for w, h, dx, dy\n",
        "w = 187\n",
        "h = 95\n",
        "dx = 40\n",
        "dy = 20\n",
        "threshold = 0.9"
      ],
      "execution_count": 14,
      "outputs": [
        {
          "output_type": "stream",
          "text": [
            "time: 1.13 ms\n"
          ],
          "name": "stdout"
        }
      ]
    },
    {
      "cell_type": "code",
      "metadata": {
        "id": "Z9VZTC9nf6oR",
        "outputId": "c826d41e-ee60-4b4b-8f3d-17749cd4ccf8",
        "colab": {
          "base_uri": "https://localhost:8080/"
        }
      },
      "source": [
        "#returns mask for correspoinding image\n",
        "def returnMaskPathFromImagePath(imagePath):\n",
        "  return imagePath.replace(\"orig\", \"mask\") \n",
        "\n",
        "#returns the ID of the original image\n",
        "def returnOriginalimagename(imagename):\n",
        "  originalImagename = imagename.replace(\".png\", \"\")\n",
        "  originalImagename = originalImagename.replace(\" \", \"\")\n",
        "  return originalImagename\n",
        "\n",
        "#saving subimage into folder\n",
        "def saveSubimage(width, height, xcenter, ycenter, subimageClass, outputFolderPath, imagename, subImg):\n",
        "  originalImagename = returnOriginalimagename(imagename)\n",
        "  subImagename = originalImagename + \"_\" + str(width) + \"_\" + str(height) + \"_\" + str(int(xcenter)) + \"_\" + str(int(ycenter)) + \"_\" + subimageClass\n",
        "  subimageFullpath = outputFolderPath + subImagename + \".png\"\n",
        "  # Saving the image \n",
        "  cv2.imwrite(subimageFullpath, subImg) \n",
        "\n",
        "#class as percentage of pixels from plate\n",
        "def returnSubimgClass(percentagePlateCovered, thresholdForPlateClass):\n",
        "  if percentagePlateCovered >= thresholdForPlateClass:\n",
        "    return \"2\"\n",
        "  return \"1\"\n",
        "\n",
        "#class as percentage of total pixels in subimage\n",
        "def returnSubimageClass(percentagePlateCovered, thresholdForPlateClass):\n",
        "  if percentagePlateCovered >= thresholdForPlateClass:\n",
        "    return \"2\"\n",
        "  return \"1\" \n",
        "\n",
        "#return the subimage of interest\n",
        "def returnSubimageWith(width, height, xcenter, ycenter, maskImg):\n",
        "  xstart = xcenter - width//2\n",
        "  xend = xcenter + width//2\n",
        "  ystart = ycenter - height//2\n",
        "  yend = ycenter + height//2\n",
        "  return maskImg[ystart:yend+1,xstart: xend+1,:]\n",
        "\n",
        "#same code as above, with the addition of creating the subimages and storing them\n",
        "#information included in filename: originalimagename_width_heigth-xcenter_ycenter_class\n",
        "def createSubimagesFromTrainingImage(width, height, xstride, ystride, thresholdForPlateClass, imagename, imageFolderPath, maskFolderPath, outputFolderpath):\n",
        "  \n",
        "  imagePath = imageFolderPath + imagename\n",
        "  imageToScan = cv2.imread(imagePath)\n",
        "  maskname = returnMaskPathFromImagePath(imagename)\n",
        "  imageMask = cv2.imread(maskFolderPath + maskname, 1)\n",
        "  \n",
        "  plateNumberPixelsInImageToScan = returnPlateNumberPixelsFromMask(imageMask)\n",
        "\n",
        "  #statistics\n",
        "  numberSubImages = 0\n",
        "  numberSubImagesClassPlate = 0 #number of images wich contain the threshold of plate percentage\n",
        "\n",
        "  #initializing scanning parameters \n",
        "  xcenter_initial = width // 2\n",
        "  ycenter_initial = height // 2\n",
        "  yfinal = imageMask.shape[0] - height // 2 - 1\n",
        "  xfinal = imageMask.shape[1] - width // 2 - 1\n",
        "  ycenter = ycenter_initial\n",
        "  xcenter = xcenter_initial\n",
        "\n",
        "  #class parameter depending on the threshold value\n",
        "  subImageClass = \"\"\n",
        "\n",
        "  #we scan the original image from left to right, top to bottom\n",
        "  while ycenter <= yfinal:\n",
        "    \n",
        "    #We make sure we cover the entire original image \n",
        "    #on the last strides on vertical and/or horizontal axes\n",
        "    if xfinal - xcenter < xstride:\n",
        "      xcenter = xfinal\n",
        "    if yfinal - ycenter < ystride:\n",
        "      ycenter = yfinal\n",
        "    \n",
        "    #getting the number of plate pixels contained in the subimage\n",
        "    plateNumberPixelsInSubimage = returnPlateNumberPixelsCovBySubimage(width, height, xcenter, ycenter, imageMask)\n",
        "    \n",
        "    #getting the class of the subimage\n",
        "    subImageClass = returnSubimgClass(plateNumberPixelsInSubimage / plateNumberPixelsInImageToScan, thresholdForPlateClass)\n",
        "    \n",
        "    #saving the subimage\n",
        "    saveSubimage(width, height, xcenter, ycenter, subImageClass, outputFolderpath, imagename, returnSubimageWith(width, height, xcenter, ycenter, imageToScan))\n",
        "\n",
        "    #Increment\n",
        "    xcenter += xstride\n",
        "    if xcenter > xfinal:\n",
        "      xcenter = xcenter_initial\n",
        "      ycenter += ystride\n",
        "    \n",
        "    #statistics\n",
        "    numberSubImages += 1\n",
        "    if plateNumberPixelsInSubimage / plateNumberPixelsInImageToScan >= thresholdForPlateClass:\n",
        "      numberSubImagesClassPlate += 1\n",
        "\n",
        "  #print(\"Number of sub images classified as plate/foreground: \", numberSubImagesClassPlate)\n",
        "  #print(\"Number of sub images created:\", numberSubImages )\n",
        "  return [numberSubImagesClassPlate, numberSubImages]"
      ],
      "execution_count": 15,
      "outputs": [
        {
          "output_type": "stream",
          "text": [
            "time: 87.7 ms\n"
          ],
          "name": "stdout"
        }
      ]
    },
    {
      "cell_type": "markdown",
      "metadata": {
        "id": "GFMZN8DaaSeg"
      },
      "source": [
        "We test the above functions with one image:"
      ]
    },
    {
      "cell_type": "code",
      "metadata": {
        "id": "LUvm2D8vQKS9",
        "outputId": "043ce0e9-a36a-49bd-b3e6-1ada2a7e4de5",
        "colab": {
          "base_uri": "https://localhost:8080/"
        }
      },
      "source": [
        "subImagesFolderPath = \"/content/subimages_187_81_40_10_90/\"\n",
        "\n",
        "test_image_path = '/content/ycbcrplates/orig_0001.png'\n",
        "\n",
        "createSubimagesFromTrainingImage(w, h, dx, dy, threshold, \"orig_0001.png\", '/content/ycbcrplates/', '/content/plates/', subImagesFolderPath)"
      ],
      "execution_count": 33,
      "outputs": [
        {
          "output_type": "execute_result",
          "data": {
            "text/plain": [
              "[17, 80]"
            ]
          },
          "metadata": {
            "tags": []
          },
          "execution_count": 33
        }
      ]
    },
    {
      "cell_type": "markdown",
      "metadata": {
        "id": "yUphdYmbdc2b"
      },
      "source": [
        "We show one example of a subimage to make sure everything works properly."
      ]
    },
    {
      "cell_type": "code",
      "metadata": {
        "id": "pN8uSfDDVeiD",
        "outputId": "1606a7c1-6f2e-4b6d-9cf1-7d27cc5af0d1",
        "colab": {
          "base_uri": "https://localhost:8080/",
          "height": 213
        }
      },
      "source": [
        "subimage1path = \"/content/subimages_187_81_40_10_90/orig_0001_187_81_133_160_2.png\"\n",
        "\n",
        "subimg = cv2.imread(subimage1path)\n",
        "print(\"subimage shape: \", subimg.shape)\n",
        "\n",
        "plt.imshow(subimg)\n",
        "plt.show()"
      ],
      "execution_count": 34,
      "outputs": [
        {
          "output_type": "stream",
          "text": [
            "subimage shape:  (81, 187, 3)\n"
          ],
          "name": "stdout"
        },
        {
          "output_type": "display_data",
          "data": {
            "image/png": "[encoded data removed]",
            "text/plain": [
              "<Figure size 432x288 with 1 Axes>"
            ]
          },
          "metadata": {
            "tags": [],
            "needs_background": "light"
          }
        }
      ]
    },
    {
      "cell_type": "markdown",
      "metadata": {
        "id": "mU0a4VhyrhbM"
      },
      "source": [
        "**Now, we tested the functions above work properly we can create the subimages for the entire dataset images.**"
      ]
    },
    {
      "cell_type": "code",
      "metadata": {
        "id": "O5Y5ojP7vQf8",
        "outputId": "2ae06796-f9a0-40e9-aa47-9a24a9181cd7",
        "colab": {
          "base_uri": "https://localhost:8080/"
        }
      },
      "source": [
        "train_path_array = [\"train1.txt\", \"train2.txt\", \"train3.txt\"]\n",
        "\n",
        "trainoutputname = [\"train1\", \"train2\", \"train3\"]\n",
        "\n",
        "outputFolderPath = \"_187_95_40_20_90/\"\n",
        "mask_folder_path = 'plates/'\n",
        "image_folder_path = 'ycbcrplates/'\n",
        "\n",
        "print(\"Statistics\")\n",
        "print()\n",
        "totalSubImages = 0\n",
        "totalSubImagesClass2 = 0\n",
        "\n",
        "i = 0\n",
        "while i < len(train_path_array):\n",
        "  #creating the training folder that will contain the subimages\n",
        "  trainoutputFolderPath = trainoutputname[i] + outputFolderPath\n",
        "  os.mkdir(trainoutputFolderPath)\n",
        "\n",
        "  f = open(train_path_array[i], \"r\")\n",
        "  for imgname in f:\n",
        "    if len(imgname) > 0:\n",
        "      imgname = imgname.replace(\"./plates/\", \"\")\n",
        "      imgname = imgname.replace(\" \", \"\")\n",
        "      numberSubimagesClass2, numberSubimagesFromImage = createSubimagesFromTrainingImage(w, h, dx, dy, threshold, imgname.strip(), image_folder_path, mask_folder_path, trainoutputFolderPath)\n",
        "      totalSubImages += numberSubimagesFromImage\n",
        "      totalSubImagesClass2 += numberSubimagesClass2\n",
        "  \n",
        "  print(trainoutputname[i])\n",
        "  print(\"Total number of subimages: \", totalSubImages)\n",
        "  print(\"Total number of class 2 subimages: \", totalSubImagesClass2)\n",
        "  totalSubImages = 0\n",
        "  totalSubImagesClass2 = 0\n",
        "  \n",
        "  i += 1"
      ],
      "execution_count": 16,
      "outputs": [
        {
          "output_type": "stream",
          "text": [
            "Statistics\n",
            "\n",
            "train1\n",
            "Total number of subimages:  4000\n",
            "Total number of class 2 subimages:  791\n",
            "train2\n",
            "Total number of subimages:  4000\n",
            "Total number of class 2 subimages:  791\n",
            "train3\n",
            "Total number of subimages:  4000\n",
            "Total number of class 2 subimages:  787\n",
            "time: 13.6 s\n"
          ],
          "name": "stdout"
        }
      ]
    },
    {
      "cell_type": "markdown",
      "metadata": {
        "id": "ZThcFfpjZzNX"
      },
      "source": [
        "**Creating the test set subimages**"
      ]
    },
    {
      "cell_type": "code",
      "metadata": {
        "id": "uRKTvdqNZqlD",
        "outputId": "aad6eba1-cfa8-4f32-9e9f-c4279661a814",
        "colab": {
          "base_uri": "https://localhost:8080/"
        }
      },
      "source": [
        "train_path_array = [\"test1.txt\", \"test2.txt\", \"test3.txt\"]\n",
        "\n",
        "trainoutputname = [\"test1\", \"test2\", \"test3\"]\n",
        "\n",
        "outputFolderPath = \"_187_95_40_20_90/\"\n",
        "mask_folder_path = 'plates/'\n",
        "image_folder_path = 'ycbcrplates/'\n",
        "\n",
        "print(\"Statistics\")\n",
        "print()\n",
        "totalSubImages = 0\n",
        "totalSubImagesClass2 = 0\n",
        "\n",
        "i = 0\n",
        "while i < len(train_path_array):\n",
        "  #creating the training folder that will contain the subimages\n",
        "  trainoutputFolderPath = trainoutputname[i] + outputFolderPath\n",
        "  os.mkdir(trainoutputFolderPath)\n",
        "\n",
        "  f = open(train_path_array[i], \"r\")\n",
        "  for imgname in f:\n",
        "    if len(imgname) > 0:\n",
        "      imgname = imgname.replace(\"./plates/\", \"\")\n",
        "      imgname = imgname.replace(\" \", \"\")\n",
        "      numberSubimagesClass2, numberSubimagesFromImage = createSubimagesFromTrainingImage(w, h, dx, dy, threshold, imgname.strip(), image_folder_path, mask_folder_path, trainoutputFolderPath)\n",
        "      totalSubImages += numberSubimagesFromImage\n",
        "      totalSubImagesClass2 += numberSubimagesClass2\n",
        "  \n",
        "  print(trainoutputname[i])\n",
        "  print(\"Total number of subimages: \", totalSubImages)\n",
        "  print(\"Total number of class 2 subimages: \", totalSubImagesClass2)\n",
        "  totalSubImages = 0\n",
        "  totalSubImagesClass2 = 0\n",
        "  \n",
        "  i += 1"
      ],
      "execution_count": 17,
      "outputs": [
        {
          "output_type": "stream",
          "text": [
            "Statistics\n",
            "\n",
            "test1\n",
            "Total number of subimages:  4000\n",
            "Total number of class 2 subimages:  771\n",
            "test2\n",
            "Total number of subimages:  4000\n",
            "Total number of class 2 subimages:  771\n",
            "test3\n",
            "Total number of subimages:  4000\n",
            "Total number of class 2 subimages:  775\n",
            "time: 14 s\n"
          ],
          "name": "stdout"
        }
      ]
    },
    {
      "cell_type": "code",
      "metadata": {
        "id": "yKTMnzBGadD0",
        "outputId": "3d373506-619f-4f0c-9e2b-ce04f7249c31",
        "colab": {
          "base_uri": "https://localhost:8080/"
        }
      },
      "source": [
        "subImagesFolderPath = \"/content/subimages_187_81_40_10_90/\"\n",
        "mask_folder_path = '/content/plates/'\n",
        "image_folder_path = '/content/ycbcrplates/'\n",
        "\n",
        "print(\"Statistics\")\n",
        "print()\n",
        "totalSubImages = 0\n",
        "totalSubImagesClass2 = 0\n",
        "\n",
        "for imgname in os.listdir(image_folder_path):\n",
        "  if \"orig\" in imgname:\n",
        "    numberSubimagesClass2, numberSubimagesFromImage = createSubimagesFromTrainingImage(w, h, dx, dy, threshold, imgname, image_folder_path, mask_folder_path, subImagesFolderPath)\n",
        "    totalSubImages += numberSubimagesFromImage\n",
        "    totalSubImagesClass2 += numberSubimagesClass2\n",
        "\n",
        "print(\"Total number of subimages: \", totalSubImages)\n",
        "print(\"Total number of class 2 subimages: \", totalSubImagesClass2)"
      ],
      "execution_count": 35,
      "outputs": [
        {
          "output_type": "stream",
          "text": [
            "Statistics\n",
            "\n",
            "Total number of subimages:  16000\n",
            "Total number of class 2 subimages:  2556\n"
          ],
          "name": "stdout"
        }
      ]
    },
    {
      "cell_type": "markdown",
      "metadata": {
        "id": "LHzUjOSJtY_A"
      },
      "source": [
        "We got 16,000 subimages in total, or 80 subimages per original image.\n",
        "\n",
        "The 2 classes are heavily unbalanced as we can see. In fact, only 2,556 out of 16,000 subimages belong to class 2, the remaining belonging to class 1."
      ]
    },
    {
      "cell_type": "markdown",
      "metadata": {
        "id": "w7QCX_6RdRZx"
      },
      "source": [
        "Now, we have all the subimages created from the training sets. We are ready for the next step!"
      ]
    },
    {
      "cell_type": "markdown",
      "metadata": {
        "id": "QZunyXPtb8zA"
      },
      "source": [
        "## **Batch Normalization**"
      ]
    },
    {
      "cell_type": "markdown",
      "metadata": {
        "id": "HSGtW-JEcJ2a"
      },
      "source": [
        "Let Ii(p) = (Ii1(p), Ii2(p), Ii3(p)) be the three color values of each pixel p in the image domain DI of an image Iˆ = (D , I ), i = 1, 2, . . . , N , of the training set. Batch normalization consists of transforming each image Iˆ\n",
        "iIi i\n",
        "into an image Jˆ = (D , J ) such that iIi\n",
        "Jij(p) = Iij(p) − μj(p), (1) σj (p)\n",
        " 1  N\n",
        "μj(p) = N Iij(p),\n",
        "i=1\n",
        "  1  N\n",
        "σj(p) =  N − 1\n",
        "j = 1, 2, 3.\n",
        "For the testing set, you can only normalize the images by using the parameters μ(p) = (μ1 (p), μ2 (p), μ3 (p))\n",
        "and σ(p) = (σ1(p),σ2(p),σ3(p)) learned for each pixel p in the training set. Evaluate your results with and without batch normalization."
      ]
    },
    {
      "cell_type": "code",
      "metadata": {
        "id": "zxiU5uCdcOH3",
        "outputId": "cf718a17-1476-413e-e2be-72e8eccf0fa1",
        "colab": {
          "base_uri": "https://localhost:8080/"
        }
      },
      "source": [
        "#given a folder path with a set of images, function that returns the mean and standard deviation\n",
        "#of the entire set for batch normalization\n",
        "def returnBatchNormMeanAndStandarDeviationTensors(folderPath):\n",
        "  meanTensor = np.array([])\n",
        "  standardDeviationTensor = np.array([])\n",
        "\n",
        "  subimagesCount = 0\n",
        "  for subimagename in os.listdir(folderPath):\n",
        "    subimage = cv2.imread(folderPath + \"/\" + subimagename)\n",
        "    if meanTensor.size == 0:\n",
        "      meanTensor = subimage\n",
        "    else:  \n",
        "      meanTensor += subimage\n",
        "    subimagesCount += 1\n",
        "  meanTensor = meanTensor / subimagesCount\n",
        "\n",
        "  for subimagename in os.listdir(folderPath):\n",
        "    subimage = cv2.imread(folderPath + \"/\" + subimagename)\n",
        "    if standardDeviationTensor.size == 0:\n",
        "      standardDeviationTensor = (subimage - meanTensor)**2\n",
        "    else:\n",
        "      standardDeviationTensor += (subimage - meanTensor)**2\n",
        "  \n",
        "  standardDeviationTensor = (standardDeviationTensor / (subimagesCount - 1))**0.5\n",
        "\n",
        "  return [meanTensor, standardDeviationTensor]\n",
        "\n",
        "#Normalize the images with Batch Norm inside a specific folder\n",
        "def normalizeSubimageWithBN(meanTensor, standardDeviationTensor, subimage):\n",
        "  if 0 in standardDeviationTensor:\n",
        "    print(\"Error: standard deviation tensor contains null value\")\n",
        "    return -1\n",
        "  return (subimage - meanTensor) / standardDeviationTensor"
      ],
      "execution_count": 18,
      "outputs": [
        {
          "output_type": "stream",
          "text": [
            "time: 11.9 ms\n"
          ],
          "name": "stdout"
        }
      ]
    },
    {
      "cell_type": "code",
      "metadata": {
        "id": "yfw9pEgKQIrQ",
        "outputId": "d4eb3671-7509-49b1-8db5-4708b9257b4d",
        "colab": {
          "base_uri": "https://localhost:8080/"
        }
      },
      "source": [
        "subimagesMeanTensor, subimagesSDTensor = returnBatchNormMeanAndStandarDeviationTensors(\"/content/train3_187_81_40_10_90\")\n",
        "\n",
        "if 0 in subimagesSDTensor:\n",
        "  print(\"There is a null value in the standard deviation tensor\")\n",
        "else:\n",
        "  print(\"All values inside the standard deviation tensor are strictly positive\")"
      ],
      "execution_count": 57,
      "outputs": [
        {
          "output_type": "stream",
          "text": [
            "All values inside the standard deviation tensor are strictly positive\n"
          ],
          "name": "stdout"
        }
      ]
    },
    {
      "cell_type": "markdown",
      "metadata": {
        "id": "O6Mb4B53TbeN"
      },
      "source": [
        "Now, we implemented the Batch Normalization and we made sure no zero value is contained in the standard deviation tensor. "
      ]
    },
    {
      "cell_type": "markdown",
      "metadata": {
        "id": "b-NFdLSFWPlf"
      },
      "source": [
        "## **Random kernels**"
      ]
    },
    {
      "cell_type": "markdown",
      "metadata": {
        "id": "bcqhwMw8Wc0c"
      },
      "source": [
        "We must create b random kernels with origin at the central pixel and sizes w × h, w ≪ W and h ≪ H , whose coefficients c(q) = (c1(q), c2(q), c3(q)) (3 bands each), for each pixel q of the adjacency set A(p) with origin p, are random numbers. You should verify and discuss the differences of forcing and not forcing the coefficient vector of each kernel (i.e., the concatenation of all c(q)) to have the mean value of its elements equal to zero and norm equal to one."
      ]
    },
    {
      "cell_type": "code",
      "metadata": {
        "id": "EnLvulVVWVTg",
        "outputId": "47556d70-0de8-4033-8332-6247837506f6",
        "colab": {
          "base_uri": "https://localhost:8080/"
        }
      },
      "source": [
        "#creates b random kernels\n",
        "#coefficients inside the kernels could be normalized or not\n",
        "def returnRandombKernels(nkernels, width, height, nbands, normalized = True):\n",
        "  # we create n kernels randomly without normalization\n",
        "  if normalized == False:\n",
        "    return [np.random.rand(height, width, nbands) for i in range(0, nkernels)]\n",
        "  \n",
        "  # we create n kernels randomly then normalize each one of them\n",
        "  nkernelsArray = [np.random.rand(height, width, nbands) for i in range(0, nkernels)]\n",
        "  i = 0\n",
        "  while i < nkernels:\n",
        "      #substracting the mean\n",
        "      kernelMean = np.sum(nkernelsArray[i]) / (height*width*nbands)\n",
        "      nkernelsArray[i] = nkernelsArray[i] - kernelMean\n",
        "\n",
        "      #normalizing the kernel\n",
        "      kernelnorm = np.sum(nkernelsArray[i]**2)/(height*width*nbands)\n",
        "      kernelnorm = kernelnorm**0.5\n",
        "      nkernelsArray[i] = nkernelsArray[i] / kernelnorm\n",
        "      \n",
        "      i += 1\n",
        "\n",
        "  return nkernelsArray"
      ],
      "execution_count": 19,
      "outputs": [
        {
          "output_type": "stream",
          "text": [
            "time: 9.63 ms\n"
          ],
          "name": "stdout"
        }
      ]
    },
    {
      "cell_type": "markdown",
      "metadata": {
        "id": "lThDnapMxwLB"
      },
      "source": [
        "We test with one example to check we get a kernel properly normalized with mean equal to 0 and norm equal to 1."
      ]
    },
    {
      "cell_type": "code",
      "metadata": {
        "id": "JtrW29iSYGPb",
        "outputId": "8e6dd55b-cc9e-455c-de1b-877ce26e44cd",
        "colab": {
          "base_uri": "https://localhost:8080/"
        }
      },
      "source": [
        "bKernels = np.array(returnRandombKernels(1, 3, 3, 3, True))\n",
        "\n",
        "meankernel = np.sum(bKernels[0]) / (2*4*3)\n",
        "\n",
        "norm = np.sum(bKernels[0]**2) / (2*4*3)\n",
        "norm = norm**0.5\n",
        "\n",
        "print(\"mean \", meankernel)\n",
        "print(\"norm \", norm)\n",
        "print(bKernels[0])"
      ],
      "execution_count": 88,
      "outputs": [
        {
          "output_type": "stream",
          "text": [
            "mean  3.4463173056072566e-16\n",
            "norm  1.0606601717798212\n",
            "[[[-0.0792097   1.84478187 -1.2671353 ]\n",
            "  [ 0.35854882 -0.98370096 -0.95963122]\n",
            "  [-0.74327255 -1.44796954 -0.22123495]]\n",
            "\n",
            " [[ 0.10143208 -0.84638992  1.34070112]\n",
            "  [-0.86968997  0.4446246  -1.22737078]\n",
            "  [-0.01064509 -1.35354779  1.22585608]]\n",
            "\n",
            " [[-0.93798125  1.16661126 -0.97831601]\n",
            "  [ 1.27504358  0.88991354  0.81117963]\n",
            "  [ 0.7549008   1.42210674  0.29039493]]]\n"
          ],
          "name": "stdout"
        }
      ]
    },
    {
      "cell_type": "markdown",
      "metadata": {
        "id": "SjZE82QWyK_Q"
      },
      "source": [
        "We get the results as expected. Now, we can implement the convolution."
      ]
    },
    {
      "cell_type": "markdown",
      "metadata": {
        "id": "pOTB5WdgxqvK"
      },
      "source": [
        "## **Convolution with the kernel bank**"
      ]
    },
    {
      "cell_type": "markdown",
      "metadata": {
        "id": "F-v5hf5ayRPi"
      },
      "source": [
        "The convolution with the created kernel bank will output images Cˆi = (DI,Ci) with b bands each, such that\n",
        "(2)\n",
        "(Iij(p) − μj(p))2, (3)\n",
        "Ci(p) =   ⟨Ji(q), c(q)⟩."
      ]
    },
    {
      "cell_type": "code",
      "metadata": {
        "id": "tzZNYQ8eyVYv",
        "outputId": "24c17287-bfe7-43da-a8d3-9faba17ff5fd",
        "colab": {
          "base_uri": "https://localhost:8080/"
        }
      },
      "source": [
        "def returnConvolution(image, kernel):\n",
        "  kwidth = kernel.shape[1]\n",
        "  kheight = kernel.shape[0]\n",
        "  imagewidth = image.shape[1]\n",
        "  imageheight = image.shape[0]\n",
        "\n",
        "  imagepaddedwidth = imagewidth + 2*(kwidth // 2)\n",
        "  imagepaddedheight = imageheight + 2*(kheight // 2)\n",
        "\n",
        "  imagepadded = np.zeros((imagepaddedheight, imagepaddedwidth, image.shape[2]))\n",
        "\n",
        "  imagepadded[kheight // 2: -1*(kheight // 2), kwidth // 2:-1*(kwidth // 2), :] = image[:,:,:].copy()\n",
        "\n",
        "  convo = np.zeros((image.shape[0], image.shape[1]))\n",
        "\n",
        "  for y in range(image.shape[0]):\n",
        "    for x in range(image.shape[1]):\n",
        "      convo[y,x] = (imagepadded[ y : y + kheight, x: x + kwidth, :] * kernel).sum()\n",
        "  \n",
        "  return convo\n",
        "\n",
        "#create convoluted image with b bands\n",
        "def returnBbandsConvoImage(image, nkernelsArray):\n",
        "  bBandsConvoImage = np.zeros((image.shape[0], image.shape[1], len(nkernelsArray)))\n",
        "  for index, kernel in enumerate(nkernelsArray):\n",
        "    bBandsConvoImage[:,:,index] = returnConvolution(image, kernel)\n",
        "  return bBandsConvoImage"
      ],
      "execution_count": 20,
      "outputs": [
        {
          "output_type": "stream",
          "text": [
            "time: 15 ms\n"
          ],
          "name": "stdout"
        }
      ]
    },
    {
      "cell_type": "code",
      "metadata": {
        "id": "O8FUV7IIXOdN",
        "outputId": "e2576cba-4f79-4672-c6fd-e3ea8ba6be08",
        "colab": {
          "base_uri": "https://localhost:8080/"
        }
      },
      "source": [
        "bKernels = np.array(returnRandombKernels(10, 3, 5, 3, True))\n",
        "\n",
        "test_image_path = \"/content/plates/orig_0048.png\"\n",
        "\n",
        "#Import image\n",
        "subimage = cv2.imread(test_image_path)\n",
        "\n",
        "subimageconvoluted = returnConvolution(subimage, bKernels[0])\n",
        "\n",
        "print(\"Convolution shape \", subimageconvoluted.shape)"
      ],
      "execution_count": 61,
      "outputs": [
        {
          "output_type": "stream",
          "text": [
            "Convolution shape  (240, 352)\n"
          ],
          "name": "stdout"
        }
      ]
    },
    {
      "cell_type": "code",
      "metadata": {
        "id": "Obi48COAgIVb",
        "outputId": "9fdfbd85-809f-4ffd-f566-f2b82897c33b",
        "colab": {
          "base_uri": "https://localhost:8080/"
        }
      },
      "source": [
        "bBandsImageresult = returnBbandsConvoImage(subimage, bKernels)\n",
        "\n",
        "print(\"shape \",bBandsImageresult.shape )"
      ],
      "execution_count": 62,
      "outputs": [
        {
          "output_type": "stream",
          "text": [
            "shape  (240, 352, 10)\n"
          ],
          "name": "stdout"
        }
      ]
    },
    {
      "cell_type": "code",
      "metadata": {
        "id": "Oia8Hvz_av_n",
        "outputId": "faaa97e7-421d-42f1-dda0-89c154f0ab30",
        "colab": {
          "base_uri": "https://localhost:8080/",
          "height": 269
        }
      },
      "source": [
        "plt.imshow(subimage)\n",
        "plt.show()"
      ],
      "execution_count": 63,
      "outputs": [
        {
          "output_type": "display_data",
          "data": {
            "image/png": "[encoded data removed]",
            "text/plain": [
              "<Figure size 432x288 with 1 Axes>"
            ]
          },
          "metadata": {
            "tags": [],
            "needs_background": "light"
          }
        }
      ]
    },
    {
      "cell_type": "markdown",
      "metadata": {
        "id": "iKEuhITr5OCM"
      },
      "source": [
        "## **ReLU**"
      ]
    },
    {
      "cell_type": "markdown",
      "metadata": {
        "id": "Lgz6cSQV6YgU"
      },
      "source": [
        "Given the definition of the ReLU function, we implemented the function as follows."
      ]
    },
    {
      "cell_type": "code",
      "metadata": {
        "id": "byZcZfKn5PRb",
        "outputId": "bd1c9ffc-2e35-49bc-ab2b-be2ee9bdcb74",
        "colab": {
          "base_uri": "https://localhost:8080/"
        }
      },
      "source": [
        "def reLU(image):\n",
        "  image[image < 0] = 0\n",
        "  return image"
      ],
      "execution_count": 21,
      "outputs": [
        {
          "output_type": "stream",
          "text": [
            "time: 1.03 ms\n"
          ],
          "name": "stdout"
        }
      ]
    },
    {
      "cell_type": "markdown",
      "metadata": {
        "id": "fy_491EHruTb"
      },
      "source": [
        "## **Model performance functions** "
      ]
    },
    {
      "cell_type": "markdown",
      "metadata": {
        "id": "FdFbVvsgrzB6"
      },
      "source": [
        "In this section, we define two scores to evaluate the performance of the model on the training set. \n",
        "\n",
        "The first score is the percentage of pixels activated in the plate region of the subimage, over the total number of pixels included inside the plate region in the subimage.\n",
        "\n",
        "The second score, similar to the first one, is the percentage of deactivated pixels, laying outside the plate region, over the total number of pixels outside the plate region in the subimage.\n",
        "\n",
        "The higher the two scores, the better the model performance. Since our focus is to build a model that aim to activate as many pixels inside the plate region as possible, the first score is the most important metric."
      ]
    },
    {
      "cell_type": "code",
      "metadata": {
        "id": "X4PT-v_LsgI0",
        "outputId": "dbb91207-aa74-49c4-8c3f-7c3bcd5cd245",
        "colab": {
          "base_uri": "https://localhost:8080/"
        }
      },
      "source": [
        "def returnScores(subimage, submask):\n",
        "  submaskOutsidePlate = submask[:, :, 0].copy() \n",
        "  submaskInsidePlate = submask[:, :, 0].copy()\n",
        "\n",
        "  submaskOutsidePlate[submaskOutsidePlate > 0] = 2 #inside plate is equal to 2\n",
        "  submaskOutsidePlate[submaskOutsidePlate == 0] = 1 #outside plate is equal to 1\n",
        "  submaskOutsidePlate[submaskOutsidePlate == 2] = 0 #inside plate is equal to 0\n",
        "\n",
        "  submaskInsidePlate[submaskInsidePlate > 0] = 1\n",
        "\n",
        "  subimagecopy = subimage.copy()\n",
        "  subimagecopy[subimagecopy > 0] = 1\n",
        "  \n",
        "  nPlatePixels = np.sum(submaskInsidePlate)\n",
        "  nActivatedPlatePixels = np.sum(subimagecopy*submaskInsidePlate)\n",
        "\n",
        "  nDeactivatedPixelsOutsidePlate = np.sum(subimagecopy*submaskOutsidePlate)\n",
        "\n",
        "  percentagePlatePixelsActivated = -1\n",
        "  if nPlatePixels > 0:\n",
        "    percentagePlatePixelsActivated = nActivatedPlatePixels/nPlatePixels\n",
        "  \n",
        "  width = submask.shape[1]\n",
        "  height = submask.shape[0]\n",
        "\n",
        "  percentageDeactivatedPixelsOutsidePlate = nDeactivatedPixelsOutsidePlate/(width * height - nPlatePixels) \n",
        "\n",
        "  return [percentagePlatePixelsActivated, percentageDeactivatedPixelsOutsidePlate]\n",
        "\n",
        "#Returns the percentage of activated pixels over the total number of pixels that figure \n",
        "#inside the plate region in the subimage\n",
        "def returnPercentageActivatedPixelsInPlateRegion(subimage, submask):\n",
        "  width = submask.shape[1]\n",
        "  height = submask.shape[0]\n",
        "\n",
        "  nPlatePixels = 0\n",
        "  nActivatedPlatePixels = 0\n",
        "  nDeactivatedPixelsOutsidePlate = 0\n",
        "  \n",
        "  i = 0\n",
        "  while i < height:\n",
        "    j = 0\n",
        "    while j < width:\n",
        "      #pixel value != 0 => inside plate region\n",
        "      if submask[i][j][0] != 0:\n",
        "        nPlatePixels += 1\n",
        "        \n",
        "        #pixel was activated \n",
        "        if subimage[i][j] > 0:\n",
        "          nActivatedPlatePixels += 1\n",
        "      \n",
        "      #pixel value = 0 => outside plate region\n",
        "      else:\n",
        "        #pixel was deactivated\n",
        "        if subimage[i][j] == 0:\n",
        "          nDeactivatedPixelsOutsidePlate += 1\n",
        "      \n",
        "      j += 1\n",
        "    i += 1\n",
        "\n",
        "  percentagePlatePixelsActivated = -1\n",
        "  if nPlatePixels > 0:\n",
        "    percentagePlatePixelsActivated = nActivatedPlatePixels/nPlatePixels\n",
        "  \n",
        "  percentageDeactivatedPixelsOutsidePlate = nDeactivatedPixelsOutsidePlate/(width * height - nPlatePixels)\n",
        "\n",
        "  return [percentagePlatePixelsActivated, percentageDeactivatedPixelsOutsidePlate]"
      ],
      "execution_count": 33,
      "outputs": [
        {
          "output_type": "stream",
          "text": [
            "time: 35.6 ms\n"
          ],
          "name": "stdout"
        }
      ]
    },
    {
      "cell_type": "code",
      "metadata": {
        "id": "78_b6MCEwTFg",
        "outputId": "169ea96c-07f1-4f40-bf6d-40b52917a5d6",
        "colab": {
          "base_uri": "https://localhost:8080/"
        }
      },
      "source": [
        "subimg = cv2.imread(\"/content/orig_0002.png\")[100:150,100:250,:]\n",
        "maskimg = cv2.imread(\"/content/mask_0002.png\")[100:150,100:250,:]\n",
        "\n",
        "percentagePlatePixelsActivated, percentageDeactivatedPixelsOutsidePlate = returnPercentageActivatedPixelsInPlateRegion(subimg, maskimg)"
      ],
      "execution_count": null,
      "outputs": [
        {
          "output_type": "stream",
          "text": [
            "1.0 - 0.00020610057708161583\n"
          ],
          "name": "stdout"
        }
      ]
    },
    {
      "cell_type": "markdown",
      "metadata": {
        "id": "L7qARj0b2WHm"
      },
      "source": [
        "## **Selecting the kernels from the kernel bank**"
      ]
    },
    {
      "cell_type": "markdown",
      "metadata": {
        "id": "Y7OrnkWw2bAs"
      },
      "source": [
        "In order to select the best kernels, we run the function for computing the performance of each kernel and then from there select the best kernels from the kernel bank.\n",
        "\n",
        "After that, we apply those kernels to the test set for a final evaluation of the model."
      ]
    },
    {
      "cell_type": "markdown",
      "metadata": {
        "id": "v9VJEHsEEpQF"
      },
      "source": [
        "## **Main task**"
      ]
    },
    {
      "cell_type": "markdown",
      "metadata": {
        "id": "HX6yxC2TEraS"
      },
      "source": [
        "In this section, we analyze the output of each kernel using the training set, and verify for several choices of the above parameters which kernels best enhance the characters of the plate, while reducing the regions of false positives in background patches. \n",
        "\n",
        "We will compare those kernels with a simple Sobel filter to enhance vertical edges. We will then select the best kernels manually and apply them on the testing set. The report will present a discussion, results, and conclusions from this experiment."
      ]
    },
    {
      "cell_type": "markdown",
      "metadata": {
        "id": "643x9BI3EwK4"
      },
      "source": [
        "## **Model configurations**"
      ]
    },
    {
      "cell_type": "markdown",
      "metadata": {
        "id": "TRv_a0SzEy5c"
      },
      "source": [
        "In this project, we test various configurations of the model:\n",
        "\n",
        "1. we test the effect of batch normalization\n",
        "2. we test for sizes of the kernel. We try: 3x3, 5x5, and 3x5\n",
        "3. we test whether we normalize the kernel\n",
        "\n",
        "So, we have the following configurations:\n",
        "\n",
        "1. BN + size of kernel + kernel normalized\n",
        "2. BN + size of kernel + kernel without normalization\n",
        "3. no BN + size of kernel + kernel normalized\n",
        "\n",
        "the third possibility: no BN + size of kernel + kenel without normalization won't be experimented, since we will end up with only positive values for all the pixels after the activation function ReLU. The ending result would be that the model activated every pixel in the subimages. For that reason, we discard this configuration from the study.\n",
        "\n",
        "In total, we test 9 variations of the model.\n",
        "\n"
      ]
    },
    {
      "cell_type": "code",
      "metadata": {
        "id": "tdjRz3z05LTN"
      },
      "source": [
        "def saveTensor(tensor, tensorFullpath):\n",
        "  tensor = tensor.reshape(tensor.shape[0], -1)\n",
        "  print(tensor.shape)\n",
        "  #tensor.to_csv(tensorFullpath)"
      ],
      "execution_count": 86,
      "outputs": []
    },
    {
      "cell_type": "code",
      "metadata": {
        "id": "AJHhDzAhVJoc"
      },
      "source": [
        "saveTensor(bKernels[0], \"tensortest.csv\")\n",
        "bKernels[0]"
      ],
      "execution_count": null,
      "outputs": []
    },
    {
      "cell_type": "markdown",
      "metadata": {
        "id": "Bxi6zvRkYwDa"
      },
      "source": [
        "## **Main**"
      ]
    },
    {
      "cell_type": "markdown",
      "metadata": {
        "id": "46QqahNDiehp"
      },
      "source": [
        "**Nomenclature functions**"
      ]
    },
    {
      "cell_type": "code",
      "metadata": {
        "id": "1Gjk9AU7ieAz",
        "outputId": "196be05d-ec1c-488f-ca18-ee6fbaab7ca4",
        "colab": {
          "base_uri": "https://localhost:8080/"
        }
      },
      "source": [
        "def returnSubimageDimensionsCenterCoordinates(imagename):\n",
        "  imagename = imagename.replace(\".png\", \"\")\n",
        "  elementsArray = imagename.split(\"_\")\n",
        "  imageID = elementsArray[1]\n",
        "  width = int(elementsArray[2])\n",
        "  height = int(elementsArray[3])\n",
        "  xcenter = int(elementsArray[4])\n",
        "  ycenter = int(elementsArray[5])\n",
        "  imageclass = int(elementsArray[6])\n",
        "  return [imageID, width, height, xcenter, ycenter, imageclass]"
      ],
      "execution_count": 23,
      "outputs": [
        {
          "output_type": "stream",
          "text": [
            "time: 3.32 ms\n"
          ],
          "name": "stdout"
        }
      ]
    },
    {
      "cell_type": "code",
      "metadata": {
        "id": "8AAqACpfYu0n",
        "outputId": "11813323-09c6-458a-d5c2-b2342a6338b5",
        "colab": {
          "base_uri": "https://localhost:8080/"
        }
      },
      "source": [
        "def launchModelEvaluation(trainingsetName, trainFolder, maskFolderPath, modelOptions):\n",
        "\n",
        "  meanTensor = np.array([])\n",
        "  standardDeviationTensor = np.array([])\n",
        "\n",
        "  kernelresultsDF = pd.DataFrame(columns = [\"TrainingSet\", 'Imagename', \"kernelID\", 'percentagePlatePixelsActivated', 'percentageDeactivatedPixelsOutsidePlate'])\n",
        "\n",
        "  if modelOptions[\"batchnormalization\"] == True:\n",
        "    meanTensor, standardDeviationTensor = returnBatchNormMeanAndStandarDeviationTensors(trainFolder)\n",
        "    \n",
        "  bKernels = np.array(returnRandombKernels(modelOptions[\"kernelBank\"][\"nkernels\"], modelOptions[\"kernelBank\"][\"width\"], modelOptions[\"kernelBank\"][\"height\"], modelOptions[\"kernelBank\"][\"nbands\"], modelOptions[\"kernelBank\"][\"normalized\"]))  \n",
        "\n",
        "  imageprocessed = 0\n",
        "\n",
        "  for imagename in os.listdir(trainFolder):\n",
        "    image = cv2.imread(trainFolder + imagename)\n",
        "    \n",
        "    #Batch Normalization if set to True\n",
        "    if modelOptions[\"batchnormalization\"] == True:\n",
        "      image = normalizeSubimageWithBN(meanTensor, standardDeviationTensor, image)\n",
        "\n",
        "    #Convolution with kernel bank\n",
        "    bBandsConvoImage = returnBbandsConvoImage(image, bKernels)\n",
        "    \n",
        "    #ReLU\n",
        "    bBandsImages = reLU(bBandsConvoImage)\n",
        "\n",
        "    imageID, width, height, xcenter, ycenter, imageclass = returnSubimageDimensionsCenterCoordinates(imagename)\n",
        "    imagemask = cv2.imread(maskFolderPath + \"mask_\" + imageID + \".png\", 1)\n",
        "    submask = returnSubimageWith(width, height, xcenter, ycenter, imagemask)\n",
        "\n",
        "    #getting model scores on image\n",
        "    index = 0\n",
        "    while index < bBandsImages.shape[2]:\n",
        "      #percentagePlatePixelsActivated, percentageDeactivatedPixelsOutsidePlate = returnPercentageActivatedPixelsInPlateRegion(bBandsImages[:,:,index], submask)\n",
        "      percentagePlatePixelsActivated, percentageDeactivatedPixelsOutsidePlate = returnScores(bBandsImages[:,:,index], submask)\n",
        "      kernelresultsDF = kernelresultsDF.append({\"TrainingSet\": trainingsetName,'Imagename' : imagename, 'kernelID' : index, 'percentagePlatePixelsActivated' : percentagePlatePixelsActivated, \"percentageDeactivatedPixelsOutsidePlate\": percentageDeactivatedPixelsOutsidePlate},  \n",
        "                ignore_index = True)\n",
        "\n",
        "      index += 1\n",
        "\n",
        "    imageprocessed +=1\n",
        "    if imageprocessed % 500 == 0:\n",
        "      print(\"Number of images processed \", imageprocessed)\n",
        "\n",
        "  return [bKernels, kernelresultsDF]"
      ],
      "execution_count": 32,
      "outputs": [
        {
          "output_type": "stream",
          "text": [
            "time: 26.6 ms\n"
          ],
          "name": "stdout"
        }
      ]
    },
    {
      "cell_type": "code",
      "metadata": {
        "id": "S86JMOGQhkTd"
      },
      "source": [
        "trainsetName = \"Trainset1\"\n",
        "trainFolderPath = \"/content/train1_187_95_40_20_90/\"\n",
        "maskFolder = \"plates/\"\n",
        "\n",
        "modelOptionsObj = {\"batchnormalization\": True, \"kernelBank\":{\"nkernels\": 10, \"width\": 3, \"height\": 3, \"nbands\": 3, \"normalized\":True }}\n",
        "\n",
        "trainset1bKernelsUsed, trainset1resultsDataFrame = launchModelEvaluation(trainsetName, trainFolderPath, maskFolder, modelOptionsObj)"
      ],
      "execution_count": null,
      "outputs": []
    },
    {
      "cell_type": "code",
      "metadata": {
        "id": "EL--EGBJaHkh",
        "outputId": "66780133-9018-46c7-cf9b-4dc3f60117ea",
        "colab": {
          "base_uri": "https://localhost:8080/"
        }
      },
      "source": [
        "def launchModelTestEvaluation(trainingsetName, trainFolder, maskFolderPath, modelOptions, meanTensor, standardDeviationTensor, bKernels):\n",
        "\n",
        "  kernelresultsDF = pd.DataFrame(columns = [\"TestSet\", 'Imagename', \"kernelID\", 'percentagePlatePixelsActivated', 'percentageDeactivatedPixelsOutsidePlate'])\n",
        "\n",
        "  imageprocessed = 0\n",
        "\n",
        "  for imagename in os.listdir(trainFolder):\n",
        "    image = cv2.imread(trainFolder + imagename)\n",
        "    \n",
        "    #Batch Normalization if set to True\n",
        "    if modelOptions[\"batchnormalization\"] == True:\n",
        "      image = normalizeSubimageWithBN(meanTensor, standardDeviationTensor, image)\n",
        "\n",
        "    #Convolution with kernel bank\n",
        "    bBandsConvoImage = returnBbandsConvoImage(image, bKernels)\n",
        "    \n",
        "    #ReLU\n",
        "    bBandsImages = reLU(bBandsConvoImage)\n",
        "\n",
        "    imageID, width, height, xcenter, ycenter, imageclass = returnSubimageDimensionsCenterCoordinates(imagename)\n",
        "    imagemask = cv2.imread(maskFolderPath + \"mask_\" + imageID + \".png\", 1)\n",
        "    submask = returnSubimageWith(width, height, xcenter, ycenter, imagemask)\n",
        "\n",
        "    #getting model scores on image\n",
        "    index = 0\n",
        "    while index < bBandsImages.shape[2]:\n",
        "      #percentagePlatePixelsActivated, percentageDeactivatedPixelsOutsidePlate = returnPercentageActivatedPixelsInPlateRegion(bBandsImages[:,:,index], submask)\n",
        "      percentagePlatePixelsActivated, percentageDeactivatedPixelsOutsidePlate = returnScores(bBandsImages[:,:,index], submask)\n",
        "      kernelresultsDF = kernelresultsDF.append({\"TestSet\": trainingsetName,'Imagename' : imagename, 'kernelID' : index, 'percentagePlatePixelsActivated' : percentagePlatePixelsActivated, \"percentageDeactivatedPixelsOutsidePlate\": percentageDeactivatedPixelsOutsidePlate},  \n",
        "                ignore_index = True)\n",
        "\n",
        "      index += 1\n",
        "\n",
        "    imageprocessed +=1\n",
        "    if imageprocessed % 500 == 0:\n",
        "      print(\"Number of images processed \", imageprocessed)\n",
        "\n",
        "  return [kernelresultsDF]"
      ],
      "execution_count": 25,
      "outputs": [
        {
          "output_type": "stream",
          "text": [
            "time: 28.2 ms\n"
          ],
          "name": "stdout"
        }
      ]
    },
    {
      "cell_type": "code",
      "metadata": {
        "id": "kktyyvI0cUfB",
        "outputId": "bedc0f5e-1d7b-4737-e661-83046b12e940",
        "colab": {
          "base_uri": "https://localhost:8080/"
        }
      },
      "source": [
        "modelOptionsObj1 = {\"batchnormalization\": True, \"kernelBank\":{\"nkernels\": 10, \"width\": 3, \"height\": 3, \"nbands\": 3, \"normalized\":True }}\n",
        "modelOptionsObj2 = {\"batchnormalization\": False, \"kernelBank\":{\"nkernels\": 10, \"width\": 3, \"height\": 3, \"nbands\": 3, \"normalized\":True }}\n",
        "modelOptionsObj3 = {\"batchnormalization\": True, \"kernelBank\":{\"nkernels\": 10, \"width\": 3, \"height\": 3, \"nbands\": 3, \"normalized\":False }}\n",
        "modelOptionsObj4 = {\"batchnormalization\": True, \"kernelBank\":{\"nkernels\": 10, \"width\": 5, \"height\": 5, \"nbands\": 3, \"normalized\":True }}\n",
        "modelOptionsObj5 = {\"batchnormalization\": True, \"kernelBank\":{\"nkernels\": 10, \"width\": 5, \"height\": 3, \"nbands\": 3, \"normalized\":True }}\n",
        "\n",
        "modelOptionsObjarray = [modelOptionsObj1, modelOptionsObj2, modelOptionsObj3, modelOptionsObj4, modelOptionsObj5]\n",
        "\n",
        "trainsetNamearray = [\"Trainset1\", \"Trainset2\", \"Trainset3\"]\n",
        "testsetNamearray = [\"Testset1\", \"Testset2\", \"Testset3\"]\n",
        "\n",
        "trainFolderPatharray = [\"/content/train1_187_95_40_20_90/\", \"/content/train2_187_95_40_20_90/\", \"/content/train3_187_95_40_20_90/\"]\n",
        "testFolderPatharray = [\"/content/test1_187_95_40_20_90/\", \"/content/test2_187_95_40_20_90/\", \"/content/test3_187_95_40_20_90/\"]\n",
        "\n",
        "maskFolder = \"plates/\"\n",
        "\n",
        "j = 0\n",
        "modelprename = \"model\"\n",
        "\n",
        "for modelOptionsObj in modelOptionsObjarray:\n",
        "  i = 0\n",
        "  j += 1\n",
        "  while i < len(trainsetNamearray):\n",
        "    trainsetName = trainsetNamearray[i]\n",
        "    trainFolderPath = trainFolderPatharray[i]\n",
        "\n",
        "    trainsetbKernelsUsed, trainsetresultsDataFrame = launchModelEvaluation(trainsetName, trainFolderPath, maskFolder, modelOptionsObj)\n",
        "\n",
        "    modelname = modelprename + str(j) + \"_\" + trainsetName + \"results.csv\"\n",
        "    trainsetresultsDataFrame.to_csv(modelname)\n",
        "    #files.download(modelname)\n",
        "\n",
        "    #TEST part\n",
        "    meanTens = np.array([])\n",
        "    standardDeviationTens = np.array([])\n",
        "    if modelOptionsObj[\"batchnormalization\"] == True:\n",
        "      meanTens, standardDeviationTens = returnBatchNormMeanAndStandarDeviationTensors(trainFolderPath)\n",
        "\n",
        "    testsetName = testsetNamearray[i]\n",
        "    testFolderPath= testFolderPatharray[i]\n",
        "\n",
        "    testResultDataframe = launchModelTestEvaluation(testsetName, testFolderPath, maskFolder, modelOptionsObj, meanTens, standardDeviationTens, trainsetbKernelsUsed)\n",
        "    modelname = modelprename + str(j) + \"_\" + testsetName + \"results.csv\"\n",
        "    testResultDataframe.to_csv(modelname)\n",
        "    #files.download(modelname)\n",
        "\n",
        "    i += 1\n",
        "  \n",
        "  print(\"Model \", j)\n"
      ],
      "execution_count": 31,
      "outputs": [
        {
          "output_type": "stream",
          "text": [
            "Model  1\n",
            "time: 35 s\n"
          ],
          "name": "stdout"
        }
      ]
    },
    {
      "cell_type": "code",
      "metadata": {
        "id": "UAXVTvz7kFfX",
        "outputId": "2074316c-f309-4ed7-98a0-74ccd973109e",
        "colab": {
          "base_uri": "https://localhost:8080/",
          "height": 34
        }
      },
      "source": [
        ""
      ],
      "execution_count": 205,
      "outputs": [
        {
          "output_type": "display_data",
          "data": {
            "application/javascript": [
              "\n",
              "    async function download(id, filename, size) {\n",
              "      if (!google.colab.kernel.accessAllowed) {\n",
              "        return;\n",
              "      }\n",
              "      const div = document.createElement('div');\n",
              "      const label = document.createElement('label');\n",
              "      label.textContent = `Downloading \"${filename}\": `;\n",
              "      div.appendChild(label);\n",
              "      const progress = document.createElement('progress');\n",
              "      progress.max = size;\n",
              "      div.appendChild(progress);\n",
              "      document.body.appendChild(div);\n",
              "\n",
              "      const buffers = [];\n",
              "      let downloaded = 0;\n",
              "\n",
              "      const channel = await google.colab.kernel.comms.open(id);\n",
              "      // Send a message to notify the kernel that we're ready.\n",
              "      channel.send({})\n",
              "\n",
              "      for await (const message of channel.messages) {\n",
              "        // Send a message to notify the kernel that we're ready.\n",
              "        channel.send({})\n",
              "        if (message.buffers) {\n",
              "          for (const buffer of message.buffers) {\n",
              "            buffers.push(buffer);\n",
              "            downloaded += buffer.byteLength;\n",
              "            progress.value = downloaded;\n",
              "          }\n",
              "        }\n",
              "      }\n",
              "      const blob = new Blob(buffers, {type: 'application/binary'});\n",
              "      const a = document.createElement('a');\n",
              "      a.href = window.URL.createObjectURL(blob);\n",
              "      a.download = filename;\n",
              "      div.appendChild(a);\n",
              "      a.click();\n",
              "      div.remove();\n",
              "    }\n",
              "  "
            ],
            "text/plain": [
              "<IPython.core.display.Javascript object>"
            ]
          },
          "metadata": {
            "tags": []
          }
        },
        {
          "output_type": "display_data",
          "data": {
            "application/javascript": [
              "download(\"download_3e7202c1-7fef-4e92-8106-77fb216e5c48\", \"trainset1results.csv\", 3294125)"
            ],
            "text/plain": [
              "<IPython.core.display.Javascript object>"
            ]
          },
          "metadata": {
            "tags": []
          }
        },
        {
          "output_type": "stream",
          "text": [
            "time: 5.88 ms\n"
          ],
          "name": "stdout"
        }
      ]
    }
  ]
}