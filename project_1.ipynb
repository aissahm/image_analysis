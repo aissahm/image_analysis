{
  "nbformat": 4,
  "nbformat_minor": 0,
  "metadata": {
    "colab": {
      "name": "project_1.ipynb",
      "provenance": [],
      "collapsed_sections": [
        "_2EXXw2WzCsO",
        "XTHCcL12zP-1"
      ],
      "toc_visible": true,
      "authorship_tag": "ABX9TyMTh9PIQlCXNuAzEJAJim1Q",
      "include_colab_link": true
    },
    "kernelspec": {
      "name": "python3",
      "display_name": "Python 3"
    }
  },
  "cells": [
    {
      "cell_type": "markdown",
      "metadata": {
        "id": "view-in-github",
        "colab_type": "text"
      },
      "source": [
        "<a href=\"https://colab.research.google.com/github/aissahm/image_analysis/blob/main/project_1.ipynb\" target=\"_parent\"><img src=\"https://colab.research.google.com/assets/colab-badge.svg\" alt=\"Open In Colab\"/></a>"
      ]
    },
    {
      "cell_type": "markdown",
      "metadata": {
        "id": "dz5Q1yldze1n"
      },
      "source": [
        "# **Image analysis - Project 1**"
      ]
    },
    {
      "cell_type": "code",
      "metadata": {
        "id": "rGJzF9s7nQvc"
      },
      "source": [
        "import numpy as np\n",
        "import cv2\n",
        "from matplotlib import pyplot as plt\n",
        "import os"
      ],
      "execution_count": 2,
      "outputs": []
    },
    {
      "cell_type": "markdown",
      "metadata": {
        "id": "_2EXXw2WzCsO"
      },
      "source": [
        "## **Introduction**"
      ]
    },
    {
      "cell_type": "markdown",
      "metadata": {
        "id": "US4XR77vzFcn"
      },
      "source": [
        "In this task we will evaluate the potential of three image operators, when used in sequence, to extract image features suitable for license plate image detection (i.e., features that must highlight the caracters of a plate). In the current directory, you will find the images of the plates and their binary masks. You will also find three random splits of the original images into training and testing sets. The task consists of the following steps, which can be applied to any of these sets.\n",
        "\n",
        "1. Step 1: Dataset composition.\n",
        "2. Step 2: Batch (z-score) normalization.\n",
        "3. Step 3: Creation of a random kernel bank.\n",
        "4. Step 4: Convolution with the random kernel bank. \n",
        "5. Step 5: Rectified Linear Unit activation (ReLU).\n",
        "\n",
        "These steps are presented in the next sections."
      ]
    },
    {
      "cell_type": "markdown",
      "metadata": {
        "id": "XTHCcL12zP-1"
      },
      "source": [
        "## **Dataset composition**"
      ]
    },
    {
      "cell_type": "markdown",
      "metadata": {
        "id": "7Wje2xE3zRYJ"
      },
      "source": [
        "You must create a subimage (patch) dataset by extracting regions of interest with size W × H pixels, center at each position (x,y) of the original images, and stride (displacement between them) of (Dx,Dy) pixels.\n",
        "\n",
        "The plate masks (avaliable annotation) can be used in this step only to verify if your choice for W, H, Dx, and Dy is suitable to not miss any plate from the training set. That is, for the corresponding testing set, you will simply use the same parameters learned in the training set.\n",
        "\n",
        "In this step, using the training set only, you must also define a threshold on the percentage of plate pixels that fall inside a subimage to consider it from class 1 (background) or class 2 (plate/foreground). Note that this will create a difficulty for a future plate detection since subimages with parts of a plate might be considered background. In this sense, we might need to further process those images in the future to avoid classification errors.\n",
        "\n",
        "After creating the subimages of a same size W × H, you must convert each subimage into a multiband image by pseudo colorizing it based on a Red-Green-Blue color table (e.g., from blue to red) and then convert it into an uncorrelated color space (e.g., Y-Cb-Cr or L-a-b).\n"
      ]
    },
    {
      "cell_type": "markdown",
      "metadata": {
        "id": "woqqmyUooRWW"
      },
      "source": [
        "**We first create a function that returns the percentage of plate pixels contained in a subimage**\n",
        "\n",
        "We need the sizes W x H, the coordinates of the center of the subimage (x,y)."
      ]
    },
    {
      "cell_type": "code",
      "metadata": {
        "id": "_Q3-D1dnoeKs"
      },
      "source": [
        "#returns the number of pixels representing\n",
        "#the plate in the mask\n",
        "def returnPlateNumberPixelsFromMask(maskImg):\n",
        "  #maskImg = cv2.imread(maskPath)\n",
        "  return maskImg.sum()/(3*255)\n",
        "\n",
        "#given width x height, and center coordinates of subimage,\n",
        "#returns number of plate pixels contained in subimage\n",
        "def returnPlateNumberPixelsCovBySubimage(width, height, xcenter, ycenter, maskImg):\n",
        "  xstart = xcenter - width//2\n",
        "  xend = xcenter + width//2\n",
        "  ystart = ycenter - height//2\n",
        "  yend = ycenter + height//2\n",
        "  subImg = maskImg[ystart:yend+1,xstart: xend+1,:]\n",
        "\n",
        "  return subImg.sum()/(3*255)"
      ],
      "execution_count": null,
      "outputs": []
    },
    {
      "cell_type": "code",
      "metadata": {
        "id": "pTp3AWiezcdL",
        "outputId": "7c39470c-acc6-4db9-8fc8-f75d62c37100",
        "colab": {
          "base_uri": "https://localhost:8080/",
          "height": 269
        }
      },
      "source": [
        "test_image_path = \"/content/plates/mask_0001.png\"\n",
        "\n",
        "#Import image\n",
        "img = cv2.imread(test_image_path)\n",
        "\n",
        "#Show the image with matplotlib\n",
        "plt.imshow(img)\n",
        "plt.show()"
      ],
      "execution_count": null,
      "outputs": [
        {
          "output_type": "display_data",
          "data": {
            "image/png": "[encoded data removed]",
            "text/plain": [
              "<Figure size 432x288 with 1 Axes>"
            ]
          },
          "metadata": {
            "tags": [],
            "needs_background": "light"
          }
        }
      ]
    },
    {
      "cell_type": "code",
      "metadata": {
        "id": "WIzZ6Jyu2tJq",
        "outputId": "d9c4cce7-0a50-42ba-90f1-5d36f48ca16f",
        "colab": {
          "base_uri": "https://localhost:8080/",
          "height": 68
        }
      },
      "source": [
        "w = 150\n",
        "h = 100\n",
        "x = 150\n",
        "y = 150\n",
        "\n",
        "print(returnPlateNumberPixelsCovBySubimage(w, h, x, y, img))\n",
        "print()\n",
        "print(returnPlateNumberPixelsFromMask(img))"
      ],
      "execution_count": null,
      "outputs": [
        {
          "output_type": "stream",
          "text": [
            "2274.0\n",
            "\n",
            "2274.0\n"
          ],
          "name": "stdout"
        }
      ]
    },
    {
      "cell_type": "markdown",
      "metadata": {
        "id": "PVQGS7FBNYNd"
      },
      "source": [
        "#### **Selecting the values for the parameters**"
      ]
    },
    {
      "cell_type": "code",
      "metadata": {
        "id": "paDKUmmj_r0i"
      },
      "source": [
        "def scanOriginalImageUsingSubImagesWith(width, height, xstride, ystride, imagepath, thresholdForPlateClass):\n",
        "  \n",
        "  imageToScan = cv2.imread(imagepath)\n",
        "  plateNumberPixelsInImageToScan = returnPlateNumberPixelsFromMask(imageToScan)\n",
        "\n",
        "  #statistics\n",
        "  numberSubImages = 0\n",
        "  numberSubImagesClassPlate = 0 #number of images wich contain the threshold of plate percentage\n",
        "  numberSubImagesContainingAllPlate = 0\n",
        "\n",
        "  #initializing scanning parameters \n",
        "  xcenter_initial = width // 2\n",
        "  ycenter_initial = height // 2\n",
        "  yfinal = imageToScan.shape[0] - height // 2 - 1\n",
        "  xfinal = imageToScan.shape[1] - width // 2 - 1\n",
        "  ycenter = ycenter_initial\n",
        "  xcenter = xcenter_initial\n",
        "  \n",
        "  #we scan the original image from left to right, top to bottom\n",
        "  while ycenter <= yfinal:\n",
        "    \n",
        "    #We make sure we cover the entire original image \n",
        "    #on the last strides on vertical and/or horizontal axes\n",
        "    if xfinal - xcenter < xstride:\n",
        "      xcenter = xfinal\n",
        "    if yfinal - ycenter < ystride:\n",
        "      ycenter = yfinal\n",
        "    \n",
        "    plateNumberPixelsInSubimage = returnPlateNumberPixelsCovBySubimage(width, height, xcenter, ycenter, imageToScan)\n",
        "    #percentage of plate\n",
        "    platePercentageCovered = plateNumberPixelsInSubimage / plateNumberPixelsInImageToScan\n",
        "    \n",
        "    #percentage of total pixels in subimage\n",
        "    #platePercentageCovered = plateNumberPixelsInSubimage / (width*height)\n",
        "\n",
        "    #Increment\n",
        "    xcenter += xstride\n",
        "    if xcenter > xfinal:\n",
        "      xcenter = xcenter_initial\n",
        "      ycenter += ystride\n",
        "    \n",
        "    #statistics\n",
        "    numberSubImages += 1\n",
        "    if platePercentageCovered >= thresholdForPlateClass:\n",
        "      numberSubImagesClassPlate += 1\n",
        "    if platePercentageCovered == 1.0:\n",
        "      numberSubImagesContainingAllPlate += 1\n",
        "    \n",
        "  #print statistics:\n",
        "  #print(\"Number of subimages created \", numberSubImages - 1)\n",
        "  #print(\"Number of subimages with threshold pixels of plate \", numberSubImagesClassPlate)\n",
        "  #print(\"Number of subimages containing all the plate \", numberSubImagesContainingAllPlate)\n",
        "\n",
        "  return [numberSubImagesContainingAllPlate, numberSubImagesClassPlate, numberSubImages]"
      ],
      "execution_count": null,
      "outputs": []
    },
    {
      "cell_type": "markdown",
      "metadata": {
        "id": "OowBJbyh3IoO"
      },
      "source": [
        "We test the functions created above with one example before looping through all the 3 training sets."
      ]
    },
    {
      "cell_type": "code",
      "metadata": {
        "id": "Dx4vAGdAJA2w",
        "outputId": "f715dfac-34c8-4594-fc05-e9551bb0653f",
        "colab": {
          "base_uri": "https://localhost:8080/",
          "height": 34
        }
      },
      "source": [
        "w = 151\n",
        "h = 51\n",
        "dx = 40\n",
        "dy = 10\n",
        "test_image_path = \"/content/plates/mask_0001.png\"\n",
        "\n",
        "threshold = 0.9\n",
        "\n",
        "scanOriginalImageUsingSubImagesWith(w, h, dx, dy, test_image_path, threshold)"
      ],
      "execution_count": null,
      "outputs": [
        {
          "output_type": "execute_result",
          "data": {
            "text/plain": [
              "[2, 6, 114]"
            ]
          },
          "metadata": {
            "tags": []
          },
          "execution_count": 259
        }
      ]
    },
    {
      "cell_type": "markdown",
      "metadata": {
        "id": "gUz0XxEVNef9"
      },
      "source": [
        "#### **Creating the subimages for all training sets**"
      ]
    },
    {
      "cell_type": "markdown",
      "metadata": {
        "id": "_6XmHx1v3UGj"
      },
      "source": [
        "Now that everything is working as expected, we create an array containing the path to the masks to perform the tests on the entire training sets. "
      ]
    },
    {
      "cell_type": "code",
      "metadata": {
        "id": "M2XInhbvNH0c"
      },
      "source": [
        "#given a text file containing the name of training images\n",
        "#return pathfile of respective masks\n",
        "def returnMaskImagesPathArray(trainTextPath):\n",
        "  mask_images_path_array = []\n",
        "  train_images_array = []\n",
        "  with open(trainTextPath, 'r') as file:\n",
        "      data = file.read().replace('\\n', ';')\n",
        "      train_images_array = data.split(\";\")\n",
        "  for train_image_str in train_images_array:\n",
        "    mask_image_str = train_image_str.replace(\"./plates/orig\", \"/content/plates/mask\")\n",
        "    if len(mask_image_str) > 0:\n",
        "      mask_images_path_array.append(mask_image_str)\n",
        "\n",
        "  return mask_images_path_array\n",
        "\n",
        "#given a text file containing the name of training images\n",
        "#return pathfile of respective images\n",
        "def returnImagesPathArray(trainTextPath):\n",
        "  images_path_array = []\n",
        "  train_images_array = []\n",
        "  with open(trainTextPath, 'r') as file:\n",
        "      data = file.read().replace('\\n', ';')\n",
        "      train_images_array = data.split(\";\")\n",
        "  for train_image_str in train_images_array:\n",
        "    image_str = train_image_str.replace(\"./plates\", \"/content/plates\")\n",
        "    if len(image_str) > 0:\n",
        "      images_path_array.append(image_str)\n",
        "  return images_path_array"
      ],
      "execution_count": null,
      "outputs": []
    },
    {
      "cell_type": "markdown",
      "metadata": {
        "id": "mFU_szZF3h7m"
      },
      "source": [
        "We select manually the values of W, H, Dx, Dy. \n",
        "\n",
        "We define the variable \"threshold\" as the percentage of pixels from the plate contained in a subimage to classify the subimage as class 2 \"plate\". If the percentage is below that threshold, we classify the subimage as belonging to class 1 \"background\"."
      ]
    },
    {
      "cell_type": "code",
      "metadata": {
        "id": "E48Bc-S-PQli",
        "outputId": "2f510c1a-2001-4fda-ced4-be9d7cb4bd0a",
        "colab": {
          "base_uri": "https://localhost:8080/",
          "height": 68
        }
      },
      "source": [
        "w = int(175 * 1.1)\n",
        "h = int(75 * 1.1)\n",
        "dx = 40\n",
        "dy = 10\n",
        "threshold = 0.9\n",
        "\n",
        "totalNumberSubimagesCreated = 0\n",
        "totalNumberImagesWithPlatesNotCovered = 0\n",
        "listTrainImagesWithPlatesNotCovered = []\n",
        "\n",
        "mask_images_path_array = returnMaskImagesPathArray(\"/content/train1.txt\")\n",
        "\n",
        "for train_mask_imagepath in mask_images_path_array:\n",
        "  nImagesContainingAllPlate, nImagesClassPlate, nTotalSubimages = scanOriginalImageUsingSubImagesWith(w, h, dx, dy, train_mask_imagepath, threshold)\n",
        "  totalNumberSubimagesCreated += nTotalSubimages\n",
        "\n",
        "  if nImagesContainingAllPlate == 0:\n",
        "    totalNumberImagesWithPlatesNotCovered += 1\n",
        "    listTrainImagesWithPlatesNotCovered.append(train_mask_imagepath)\n",
        "  \n",
        "  #print(\"nImagesContainingAllPlate \", nImagesContainingAllPlate)\n",
        "  #print(\"nImagesClassPlate \", nImagesClassPlate)\n",
        "  #print(\"Total Subimages created\", nTotalSubimages)\n",
        "  #print()\n",
        "\n",
        "print(\"Training set size: \", len(mask_images_path_array))\n",
        "print(\"Total number images without plates found: \", totalNumberImagesWithPlatesNotCovered)\n",
        "print(\"Total subimages created from training set: \", totalNumberSubimagesCreated)\n"
      ],
      "execution_count": null,
      "outputs": [
        {
          "output_type": "stream",
          "text": [
            "Training set size:  100\n",
            "Total number images without plates found:  0\n",
            "Total subimages created from training set:  6400\n"
          ],
          "name": "stdout"
        }
      ]
    },
    {
      "cell_type": "markdown",
      "metadata": {
        "id": "KqXPEP8J4Qsx"
      },
      "source": [
        "Runnning various values of the parameters, we get the following minimal values in order to make sure that we have at least one subimage of class 2 from each original image, as well as at least one subimage containing the entire plate inside it.\n",
        "\n"
      ]
    },
    {
      "cell_type": "markdown",
      "metadata": {
        "id": "TXxU4V6fzd7j"
      },
      "source": [
        "Parameters:\n",
        "\n",
        "First training set: w = 170, h = 70, dx = 40, dy = 10, threshold = 0.9\n",
        "\n",
        "Second training set: w = 170, h = 70, dx = 40, dy = 10, threshold = 0.9\n",
        "\n",
        "Third training set: w = 170, h = 75, dx = 40, dy = 10, threshold = 0.9\n",
        "\n",
        "\n"
      ]
    },
    {
      "cell_type": "markdown",
      "metadata": {
        "id": "yABgF_ft2UsE"
      },
      "source": [
        "In order to increase the chances of success of getting at least one subimage containing the plate with the minimum threshold on the test sets, we increase by 10% the values of W and H. This will also allow us to decrease the total number of subimages from all images from 8500 to 6400. \n",
        "\n",
        "Conclusion:\n",
        "\n",
        "1. W = int(175 * 1.1) = 187 pixels\n",
        "2. H = int(75  * 1.1) = 77 pixels\n",
        "\n",
        "3. Dx = 40 pixels\n",
        "4. Dy = 10 pixels\n"
      ]
    },
    {
      "cell_type": "code",
      "metadata": {
        "id": "Xwztmq1_ilxE"
      },
      "source": [
        "#save parameters in param.txt\n"
      ],
      "execution_count": null,
      "outputs": []
    },
    {
      "cell_type": "markdown",
      "metadata": {
        "id": "tFCDTwwj5ElG"
      },
      "source": [
        "### **Converting the subimages to Y-Cb-Cr format** \n",
        "\n",
        "Now, we must convert each subimage into a multiband image by pseudo colorizing it based on a Red-Green-Blue color table (e.g., from blue to red) and then convert it into an uncorrelated color space (e.g., Y-Cb-Cr or L-a-b)."
      ]
    },
    {
      "cell_type": "code",
      "metadata": {
        "id": "rvyJvpIL5Q_q",
        "outputId": "6a979d4b-a7c9-4f11-e992-5c85583ad688",
        "colab": {
          "base_uri": "https://localhost:8080/"
        }
      },
      "source": [
        "img = cv2.imread('/content/plates/orig_0037.png', 1)\n",
        "print(\"original image shape: \", img.shape)\n",
        "\n",
        "imgYCrCb = cv2.cvtColor(img[120+0:120+76, 5+0:50+176,:], cv2.COLOR_RGB2YCrCb)\n",
        "print(\"YCbCr Subimage shape: \", imgYCrCb.shape)\n",
        "\n",
        "plt.imshow(imgYCrCb)\n",
        "plt.show()"
      ],
      "execution_count": null,
      "outputs": [
        {
          "output_type": "stream",
          "text": [
            "original image shape:  (240, 352, 3)\n",
            "YCbCr Subimage shape:  (76, 221, 3)\n"
          ],
          "name": "stdout"
        },
        {
          "output_type": "display_data",
          "data": {
            "image/png": "[encoded data removed]",
            "text/plain": [
              "<Figure size 432x288 with 1 Axes>"
            ]
          },
          "metadata": {
            "tags": [],
            "needs_background": "light"
          }
        }
      ]
    },
    {
      "cell_type": "markdown",
      "metadata": {
        "id": "lgV-hHHV939S"
      },
      "source": [
        "### **Creating all the subimages from the training sets**"
      ]
    },
    {
      "cell_type": "code",
      "metadata": {
        "id": "Z9VZTC9nf6oR"
      },
      "source": [
        "#returns mask for correspoinding image\n",
        "def returnMaskPathFromImagePath(imagePath):\n",
        "  return imagePath.replace(\"orig\", \"mask\") \n",
        "\n",
        "#returns the ID of the original image\n",
        "def returnOriginalimagename(imagePath):\n",
        "  originalImagename = imagePath.replace(\"/content/plates/orig_\", \"\")\n",
        "  originalImagename = originalImagename.replace(\".png\", \"\")\n",
        "  originalImagename = originalImagename.replace(\" \", \"\")\n",
        "  return originalImagename\n",
        "\n",
        "#saving subimage into folder\n",
        "def saveSubimage(width, height, xcenter, ycenter, subimageClass, folderPath, imagePath, subImg):\n",
        "  originalImagename = returnOriginalimagename(imagePath)\n",
        "  subImagename = originalImagename + \"_\" + str(width) + \"_\" + str(height) + \"_\" + str(int(xcenter)) + \"_\" + str(int(ycenter)) + \"_\" + subimageClass\n",
        "  subimageFullpath = folderPath + subImagename + \".png\"\n",
        "  # Saving the image \n",
        "  cv2.imwrite(subimageFullpath, subImg) \n",
        "\n",
        "#class as percentage of pixels from plate\n",
        "def returnSubimgClass(percentagePlateCovered, thresholdForPlateClass):\n",
        "  if percentagePlateCovered >= thresholdForPlateClass:\n",
        "    return \"2\"\n",
        "  return \"1\"\n",
        "\n",
        "#class as percentage of total pixels in subimage\n",
        "def returnSubimageClass(percentagePlateCovered, thresholdForPlateClass):\n",
        "  if percentagePlateCovered >= thresholdForPlateClass:\n",
        "    return \"2\"\n",
        "  return \"1\"\n",
        "\n",
        "def  \n",
        "\n",
        "#return the subimage of interest\n",
        "def returnSubimageWith(width, height, xcenter, ycenter, maskImg):\n",
        "  xstart = xcenter - width//2\n",
        "  xend = xcenter + width//2\n",
        "  ystart = ycenter - height//2\n",
        "  yend = ycenter + height//2\n",
        "  return maskImg[ystart:yend+1,xstart: xend+1,:]\n",
        "\n",
        "#same code as above, with the addition of creating the subimages and storing them\n",
        "#information included in filename: originalimagename_width_heigth-xcenter_ycenter_class\n",
        "def createSubimagesFromTrainingImage(width, height, xstride, ystride, imagePath, thresholdForPlateClass, folderPath):\n",
        "  \n",
        "  imageToScan = cv2.imread(imagePath, 1)\n",
        "  imageMask = cv2.imread(returnMaskPathFromImagePath(imagePath), 1)\n",
        "  plateNumberPixelsInImageToScan = returnPlateNumberPixelsFromMask(imageMask)\n",
        "\n",
        "  #statistics\n",
        "  numberSubImages = 0\n",
        "  numberSubImagesClassPlate = 0 #number of images wich contain the threshold of plate percentage\n",
        "\n",
        "  #initializing scanning parameters \n",
        "  xcenter_initial = width // 2\n",
        "  ycenter_initial = height // 2\n",
        "  yfinal = imageMask.shape[0] - height // 2 - 1\n",
        "  xfinal = imageMask.shape[1] - width // 2 - 1\n",
        "  ycenter = ycenter_initial\n",
        "  xcenter = xcenter_initial\n",
        "\n",
        "  #class parameter depending on the threshold value\n",
        "  subImageClass = \"\"\n",
        "\n",
        "  #we scan the original image from left to right, top to bottom\n",
        "  while ycenter <= yfinal:\n",
        "    \n",
        "    #We make sure we cover the entire original image \n",
        "    #on the last strides on vertical and/or horizontal axes\n",
        "    if xfinal - xcenter < xstride:\n",
        "      xcenter = xfinal\n",
        "    if yfinal - ycenter < ystride:\n",
        "      ycenter = yfinal\n",
        "    \n",
        "    #getting the number of plate pixels contained in the subimage\n",
        "    plateNumberPixelsInSubimage = returnPlateNumberPixelsCovBySubimage(width, height, xcenter, ycenter, imageMask)\n",
        "    \n",
        "    #getting the class of the subimage\n",
        "    subImageClass = returnSubimgClass(plateNumberPixelsInSubimage / plateNumberPixelsInImageToScan, thresholdForPlateClass)\n",
        "    \n",
        "    #saving the subimage\n",
        "    saveSubimage(width, height, xcenter, ycenter, subImageClass, folderPath, imagePath, returnSubimageWith(width, height, xcenter, ycenter, imageToScan))\n",
        "\n",
        "    #Increment\n",
        "    xcenter += xstride\n",
        "    if xcenter > xfinal:\n",
        "      xcenter = xcenter_initial\n",
        "      ycenter += ystride\n",
        "    \n",
        "    #statistics\n",
        "    numberSubImages += 1\n",
        "    if plateNumberPixelsInSubimage / plateNumberPixelsInImageToScan >= thresholdForPlateClass:\n",
        "      numberSubImagesClassPlate += 1\n",
        "\n",
        "  #print(\"Number of sub images classified as plate/foreground: \", numberSubImagesClassPlate)\n",
        "  #print(\"Number of sub images created:\", numberSubImages )\n",
        "  return [numberSubImagesClassPlate, numberSubImages]"
      ],
      "execution_count": null,
      "outputs": []
    },
    {
      "cell_type": "markdown",
      "metadata": {
        "id": "GFMZN8DaaSeg"
      },
      "source": [
        "We test the above functions with one image:"
      ]
    },
    {
      "cell_type": "code",
      "metadata": {
        "id": "LUvm2D8vQKS9",
        "outputId": "e1585027-f6f3-48a8-e01b-009a60b43d5e",
        "colab": {
          "base_uri": "https://localhost:8080/",
          "height": 34
        }
      },
      "source": [
        "subImagesFolderPath = \"/content/subimagesTestFolder/\"\n",
        "\n",
        "test_image_path = '/content/plates/orig_0037.png'\n",
        "\n",
        "w = int(175 * 1.1)\n",
        "h = int(75 * 1.1)\n",
        "dx = 40\n",
        "dy = 10\n",
        "threshold = 0.9\n",
        "\n",
        "createSubimagesFromTrainingImage(w, h, dx, dy, test_image_path, threshold, subImagesFolderPath)"
      ],
      "execution_count": null,
      "outputs": [
        {
          "output_type": "execute_result",
          "data": {
            "text/plain": [
              "[15, 64]"
            ]
          },
          "metadata": {
            "tags": []
          },
          "execution_count": 10
        }
      ]
    },
    {
      "cell_type": "markdown",
      "metadata": {
        "id": "yUphdYmbdc2b"
      },
      "source": [
        "We show one example of a subimage to make sure everything works properly."
      ]
    },
    {
      "cell_type": "code",
      "metadata": {
        "id": "pN8uSfDDVeiD",
        "outputId": "4f02fbab-a663-45ae-c9ee-1b497dd475f5",
        "colab": {
          "base_uri": "https://localhost:8080/",
          "height": 212
        }
      },
      "source": [
        "subimage1path = \"/content/subimagesTestFolder/0037_192_82_96_131_1.png\"\n",
        "\n",
        "subimg = cv2.imread(subimage1path)\n",
        "print(\"subimage shape: \", subimg.shape)\n",
        "\n",
        "plt.imshow(subimg)\n",
        "plt.show()"
      ],
      "execution_count": null,
      "outputs": [
        {
          "output_type": "stream",
          "text": [
            "subimage shape:  (83, 193, 3)\n"
          ],
          "name": "stdout"
        },
        {
          "output_type": "display_data",
          "data": {
            "image/png": "[encoded data removed]",
            "text/plain": [
              "<Figure size 432x288 with 1 Axes>"
            ]
          },
          "metadata": {
            "tags": [],
            "needs_background": "light"
          }
        }
      ]
    },
    {
      "cell_type": "markdown",
      "metadata": {
        "id": "LgD_ypGUaWd1"
      },
      "source": [
        "Now, we can loop through all the training sets to create the respective subimages:"
      ]
    },
    {
      "cell_type": "code",
      "metadata": {
        "id": "yKTMnzBGadD0",
        "outputId": "3fe07376-5e20-4b92-a041-568714b73a7d",
        "colab": {
          "base_uri": "https://localhost:8080/",
          "height": 238
        }
      },
      "source": [
        "train_Text_path_array = [\"train1.txt\", \"train2.txt\", \"train3.txt\"]\n",
        "subimages_train_folderPath = [\"/content/subimagesTrain1/\", \"/content/subimagesTrain2/\", \"/content/subimagesTrain3/\"]\n",
        "\n",
        "#subimages parameters\n",
        "w = int(175 * 1.1)\n",
        "h = int(75 * 1.1)\n",
        "dx = 40\n",
        "dy = 10\n",
        "threshold = 0.9\n",
        "\n",
        "totalSubImages = 0\n",
        "totalSubImagesClass2 = 0\n",
        "print(\"Statistics\")\n",
        "\n",
        "i = 0\n",
        "for train_text_path in train_Text_path_array:\n",
        "  images_path_array = returnImagesPathArray(train_text_path)\n",
        "  for image_path in images_path_array:\n",
        "    numberSubimagesClass2, numberSubimagesFromImage = createSubimagesFromTrainingImage(w, h, dx, dy, image_path, threshold, subimages_train_folderPath[i])\n",
        "    totalSubImages += numberSubimagesFromImage\n",
        "    totalSubImagesClass2 += numberSubimagesClass2\n",
        "  print(\"Train set \", i+1)\n",
        "  print(\"Total number subimages: \", totalSubImages)\n",
        "  print(\"Total number class 2 subimages: \", totalSubImagesClass2)\n",
        "  print(\"\")\n",
        "  \n",
        "  totalSubImages = 0\n",
        "  totalSubImagesClass2 = 0\n",
        "  i += 1\n"
      ],
      "execution_count": null,
      "outputs": [
        {
          "output_type": "stream",
          "text": [
            "Statistics\n",
            "Train set 1\n",
            "Total number subimages:  6400\n",
            "Total number class 2 subimages:  1049\n",
            "\n",
            "Train set 1\n",
            "Total number subimages:  6400\n",
            "Total number class 2 subimages:  1075\n",
            "\n",
            "Train set 1\n",
            "Total number subimages:  6400\n",
            "Total number class 2 subimages:  1069\n",
            "\n"
          ],
          "name": "stdout"
        }
      ]
    },
    {
      "cell_type": "markdown",
      "metadata": {
        "id": "w7QCX_6RdRZx"
      },
      "source": [
        "Now, we have all the subimages created from the 3 training sets. We are ready for the next step!"
      ]
    },
    {
      "cell_type": "markdown",
      "metadata": {
        "id": "QZunyXPtb8zA"
      },
      "source": [
        "## **Batch Normalization**"
      ]
    },
    {
      "cell_type": "markdown",
      "metadata": {
        "id": "HSGtW-JEcJ2a"
      },
      "source": [
        "Let Ii(p) = (Ii1(p), Ii2(p), Ii3(p)) be the three color values of each pixel p in the image domain DI of an image Iˆ = (D , I ), i = 1, 2, . . . , N , of the training set. Batch normalization consists of transforming each image Iˆ\n",
        "iIi i\n",
        "into an image Jˆ = (D , J ) such that iIi\n",
        "Jij(p) = Iij(p) − μj(p), (1) σj (p)\n",
        " 1  N\n",
        "μj(p) = N Iij(p),\n",
        "i=1\n",
        "  1  N\n",
        "σj(p) =  N − 1\n",
        "j = 1, 2, 3.\n",
        "For the testing set, you can only normalize the images by using the parameters μ(p) = (μ1 (p), μ2 (p), μ3 (p))\n",
        "and σ(p) = (σ1(p),σ2(p),σ3(p)) learned for each pixel p in the training set. Evaluate your results with and without batch normalization."
      ]
    },
    {
      "cell_type": "code",
      "metadata": {
        "id": "zxiU5uCdcOH3"
      },
      "source": [
        "#given a folder path with a set of images,\n",
        "#function that returns the mean and standard deviation\n",
        "#of the entire set for batch normalization\n",
        "def returnBatchNormMeanAndStandarDeviationTensors(folderPath):\n",
        "  meanTensor = np.array([])\n",
        "  standardDeviationTensor = np.array([])\n",
        "\n",
        "  subimagesCount = 0\n",
        "  for subimagename in os.listdir(folderPath):\n",
        "    subimage = cv2.imread(folderPath + \"/\" + subimagename)\n",
        "    if meanTensor.size == 0:\n",
        "      meanTensor = subimage\n",
        "    else:  \n",
        "      meanTensor += subimage\n",
        "    subimagesCount += 1\n",
        "  meanTensor = meanTensor / subimagesCount\n",
        "\n",
        "  for subimagename in os.listdir(folderPath):\n",
        "    subimage = cv2.imread(folderPath + \"/\" + subimagename)\n",
        "    if standardDeviationTensor.size == 0:\n",
        "      standardDeviationTensor = (subimage - meanTensor)**2\n",
        "    else:\n",
        "      standardDeviationTensor += (subimage - meanTensor)**2\n",
        "  \n",
        "  standardDeviationTensor = (standardDeviationTensor / (subimagesCount - 1))**0.5\n",
        "\n",
        "  return [meanTensor, standardDeviationTensor]\n",
        "\n",
        "#Normalize the images with Batch Norm inside a specific folder\n",
        "def normalizeSubimageWithBN(meanTensor, standardDeviationTensor, subimage):\n",
        "  if 0 in standardDeviationTensor:\n",
        "    print(\"Error: standard deviation tensor contains null value\")\n",
        "    return -1\n",
        "  return (subimage - meanTensor) / standardDeviationTensor"
      ],
      "execution_count": null,
      "outputs": []
    },
    {
      "cell_type": "code",
      "metadata": {
        "id": "yfw9pEgKQIrQ",
        "outputId": "2e70dfd4-a66f-45e0-eb4c-82ccd73a7e9b",
        "colab": {
          "base_uri": "https://localhost:8080/",
          "height": 34
        }
      },
      "source": [
        "subimagesMeanTensor, subimagesSDTensor = returnBatchNormMeanAndStandarDeviationTensors(\"/content/subimagesTestFolder\")\n",
        "\n",
        "if 0 in subimagesSDTensor:\n",
        "  print(\"There is a null value in the standard deviation tensor\")\n",
        "else:\n",
        "  print(\"All values inside the standard deviation tensor are strictly positive\")"
      ],
      "execution_count": null,
      "outputs": [
        {
          "output_type": "stream",
          "text": [
            "All values inside the standard deviation tensor are strictly positive\n"
          ],
          "name": "stdout"
        }
      ]
    },
    {
      "cell_type": "markdown",
      "metadata": {
        "id": "O6Mb4B53TbeN"
      },
      "source": [
        "Now, we implemented the Batch Normalization and we made sure no zero value is contained in the standard deviation tensor. "
      ]
    },
    {
      "cell_type": "markdown",
      "metadata": {
        "id": "b-NFdLSFWPlf"
      },
      "source": [
        "## **Random kernels**"
      ]
    },
    {
      "cell_type": "markdown",
      "metadata": {
        "id": "bcqhwMw8Wc0c"
      },
      "source": [
        "We must create b random kernels with origin at the central pixel and sizes w × h, w ≪ W and h ≪ H , whose coefficients c(q) = (c1(q), c2(q), c3(q)) (3 bands each), for each pixel q of the adjacency set A(p) with origin p, are random numbers. You should verify and discuss the differences of forcing and not forcing the coefficient vector of each kernel (i.e., the concatenation of all c(q)) to have the mean value of its elements equal to zero and norm equal to one."
      ]
    },
    {
      "cell_type": "code",
      "metadata": {
        "id": "EnLvulVVWVTg"
      },
      "source": [
        "#creates b random kernels\n",
        "#coefficients inside the kernels could be normalized or not\n",
        "def returnRandombKernels(nkernels, width, height, nbands, normalized = True):\n",
        "  # we create n kernels randomly without normalization\n",
        "  if normalized == False:\n",
        "    return [np.random.rand(height, width, nbands) for i in range(0, nkernels)]\n",
        "  \n",
        "  # we create n kernels randomly then normalize each one of them\n",
        "  nkernelsArray = [np.random.rand(height, width, nbands) for i in range(0, nkernels)]\n",
        "  i = 0\n",
        "  while i < nkernels:\n",
        "      #substracting the mean\n",
        "      kernelMean = np.sum(nkernelsArray[i]) / (height*width*nbands)\n",
        "      nkernelsArray[i] = nkernelsArray[i] - kernelMean\n",
        "\n",
        "      #normalizing the kernel\n",
        "      kernelnorm = np.sum(nkernelsArray[i]**2)/(height*width*nbands)\n",
        "      kernelnorm = kernelnorm**0.5\n",
        "      nkernelsArray[i] = nkernelsArray[i] / kernelnorm\n",
        "      \n",
        "      i += 1\n",
        "\n",
        "  return nkernelsArray"
      ],
      "execution_count": null,
      "outputs": []
    },
    {
      "cell_type": "markdown",
      "metadata": {
        "id": "lThDnapMxwLB"
      },
      "source": [
        "We test with one example to check we get a kernel properly normalized with mean equal to 0 and norm equal to 1."
      ]
    },
    {
      "cell_type": "code",
      "metadata": {
        "id": "JtrW29iSYGPb",
        "outputId": "c965d037-3886-4ec3-a10d-688691ddfe68",
        "colab": {
          "base_uri": "https://localhost:8080/"
        }
      },
      "source": [
        "bKernels = np.array(returnRandombKernels(1, 2, 4, 3, True))\n",
        "\n",
        "meankernel = np.sum(bKernels[0]) / (2*4*3)\n",
        "\n",
        "norm = np.sum(bKernels[0]**2) / (2*4*3)\n",
        "norm = norm**0.5\n",
        "\n",
        "print(\"mean \", meankernel)\n",
        "print(\"norm \", norm)\n",
        "print(bKernels[0])"
      ],
      "execution_count": null,
      "outputs": [
        {
          "output_type": "stream",
          "text": [
            "mean  -1.1564823173178715e-16\n",
            "norm  1.0\n",
            "[[[-1.61456917  0.66710429  0.33749716]\n",
            "  [ 0.520241   -1.45138064  1.24995727]]\n",
            "\n",
            " [[ 1.18805507 -0.09720825 -0.12017781]\n",
            "  [ 0.17892792  1.185493    0.69841943]]\n",
            "\n",
            " [[ 1.23247649 -1.08904191 -2.0048422 ]\n",
            "  [-1.01925112  0.90140733  0.27128865]]\n",
            "\n",
            " [[-0.52802782 -1.66518866  0.68676636]\n",
            "  [ 0.84203613 -0.72532789  0.35534537]]]\n"
          ],
          "name": "stdout"
        }
      ]
    },
    {
      "cell_type": "markdown",
      "metadata": {
        "id": "SjZE82QWyK_Q"
      },
      "source": [
        "We get the results as expected. Now, we can implement the convolution."
      ]
    },
    {
      "cell_type": "markdown",
      "metadata": {
        "id": "pOTB5WdgxqvK"
      },
      "source": [
        "## **Convolution with the kernel bank**"
      ]
    },
    {
      "cell_type": "markdown",
      "metadata": {
        "id": "F-v5hf5ayRPi"
      },
      "source": [
        "The convolution with the created kernel bank will output images Cˆi = (DI,Ci) with b bands each, such that\n",
        "(2)\n",
        "(Iij(p) − μj(p))2, (3)\n",
        "Ci(p) =   ⟨Ji(q), c(q)⟩."
      ]
    },
    {
      "cell_type": "code",
      "metadata": {
        "id": "RzBHX4MieOac",
        "outputId": "e0eaf19b-5064-474e-817e-c80976ab58fc",
        "colab": {
          "base_uri": "https://localhost:8080/"
        }
      },
      "source": [
        "a = np.array([[1, 1], [2, 2]])\n",
        "\n",
        "b = np.array([[1,0], [0,4]])\n",
        "\n",
        "c = (a* b).sum()\n",
        "print(c)"
      ],
      "execution_count": null,
      "outputs": [
        {
          "output_type": "stream",
          "text": [
            "9\n"
          ],
          "name": "stdout"
        }
      ]
    },
    {
      "cell_type": "code",
      "metadata": {
        "id": "tzZNYQ8eyVYv"
      },
      "source": [
        "def returnConvolution(image, kernel):\n",
        "  kwidth = kernel.shape[1]\n",
        "  kheight = kernel.shape[0]\n",
        "  imagewidth = image.shape[1]\n",
        "  imageheight = image.shape[0]\n",
        "\n",
        "  imagepaddedwidth = imagewidth + 2*(kwidth // 2)\n",
        "  imagepaddedheight = imageheight + 2*(kheight // 2)\n",
        "\n",
        "  imagepadded = np.zeros((imagepaddedheight, imagepaddedwidth, image.shape[2]))\n",
        "\n",
        "  imagepadded[kheight // 2: -1*(kheight // 2), kwidth // 2:-1*(kwidth // 2), :] = image[:,:,:].copy()\n",
        "\n",
        "  convo = np.zeros((image.shape[0], image.shape[1]))\n",
        "\n",
        "  for y in range(image.shape[0]):\n",
        "    for x in range(image.shape[1]):\n",
        "      convo[y,x] = (imagepadded[ y : y + kheight, x: x + kwidth, :] * kernel).sum()\n",
        "  \n",
        "  return convo\n",
        "\n",
        "#create convoluted image with b bands\n",
        "def returnBbandsConvoImage(image, nkernelsArray):\n",
        "  bBandsConvoImage = np.zeros((image.shape[0], image.shape[1], len(nkernelsArray)))\n",
        "  for index, kernel in enumerate(nkernelsArray):\n",
        "    bBandsConvoImage[:,:,index] = returnConvolution(image, kernel)\n",
        "  return bBandsConvoImage"
      ],
      "execution_count": null,
      "outputs": []
    },
    {
      "cell_type": "code",
      "metadata": {
        "id": "O8FUV7IIXOdN",
        "outputId": "ef5d5b64-ba72-43aa-8194-057fa2f37d47",
        "colab": {
          "base_uri": "https://localhost:8080/"
        }
      },
      "source": [
        "bKernels = np.array(returnRandombKernels(10, 3, 5, 3, True))\n",
        "\n",
        "test_image_path = \"/content/orig_0008.png\"\n",
        "\n",
        "#Import image\n",
        "img = cv2.imread(test_image_path)\n",
        "\n",
        "subimage = img[0:50, 0:100,:]\n",
        "\n",
        "subimageconvoluted = returnConvolution(subimage, bKernels[0])\n",
        "\n",
        "print(\"Convolution shape \", subimageconvoluted.shape)"
      ],
      "execution_count": null,
      "outputs": [
        {
          "output_type": "stream",
          "text": [
            "Convolution shape  (50, 100)\n"
          ],
          "name": "stdout"
        }
      ]
    },
    {
      "cell_type": "code",
      "metadata": {
        "id": "Obi48COAgIVb",
        "outputId": "52178b2f-2728-41f3-ea29-b821746e78ea",
        "colab": {
          "base_uri": "https://localhost:8080/"
        }
      },
      "source": [
        "bBandsImageresult = returnBbandsConvoImage(subimage, bKernels)\n",
        "\n",
        "print(\"shape \",bBandsImageresult.shape )"
      ],
      "execution_count": null,
      "outputs": [
        {
          "output_type": "stream",
          "text": [
            "shape  (50, 100, 10)\n"
          ],
          "name": "stdout"
        }
      ]
    },
    {
      "cell_type": "code",
      "metadata": {
        "id": "Oia8Hvz_av_n",
        "outputId": "79cd1f98-816c-4007-f5c4-24264241502f",
        "colab": {
          "base_uri": "https://localhost:8080/",
          "height": 218
        }
      },
      "source": [
        "plt.imshow(subimage)\n",
        "plt.show()"
      ],
      "execution_count": null,
      "outputs": [
        {
          "output_type": "display_data",
          "data": {
            "image/png": "[encoded data removed]",
            "text/plain": [
              "<Figure size 432x288 with 1 Axes>"
            ]
          },
          "metadata": {
            "tags": [],
            "needs_background": "light"
          }
        }
      ]
    },
    {
      "cell_type": "code",
      "metadata": {
        "id": "aIwErC8Vas5X",
        "outputId": "6163ada0-a425-4223-fa26-7e14e0b01787",
        "colab": {
          "base_uri": "https://localhost:8080/",
          "height": 218
        }
      },
      "source": [
        "plt.imshow(bBandsImageresult[:,:, 5])\n",
        "plt.show()"
      ],
      "execution_count": null,
      "outputs": [
        {
          "output_type": "display_data",
          "data": {
            "image/png": "[encoded data removed]",
            "text/plain": [
              "<Figure size 432x288 with 1 Axes>"
            ]
          },
          "metadata": {
            "tags": [],
            "needs_background": "light"
          }
        }
      ]
    },
    {
      "cell_type": "markdown",
      "metadata": {
        "id": "iKEuhITr5OCM"
      },
      "source": [
        "## **ReLU**"
      ]
    },
    {
      "cell_type": "markdown",
      "metadata": {
        "id": "Lgz6cSQV6YgU"
      },
      "source": [
        "Given the definition of the ReLU function, we implemented the function as follows."
      ]
    },
    {
      "cell_type": "code",
      "metadata": {
        "id": "byZcZfKn5PRb"
      },
      "source": [
        "def reLU(image):\n",
        "  return image[image < 0] = 0"
      ],
      "execution_count": null,
      "outputs": []
    },
    {
      "cell_type": "markdown",
      "metadata": {
        "id": "lSdJOGKd6Dqg"
      },
      "source": [
        "## **Main task**"
      ]
    },
    {
      "cell_type": "markdown",
      "metadata": {
        "id": "PksOp_Hg6E90"
      },
      "source": [
        "In this section, we analyze the output of each kernel using the training set, and verify for several choices of the above parameters which kernels best enhance the characters of the plate, while reducing the regions of false positives in background patches. \n",
        "\n",
        "We will compare those kernels with a simple Sobel filter to enhance vertical edges. We will then select the best kernels manually and apply them on the testing set. The report will present a discussion, results, and conclusions from this experiment."
      ]
    },
    {
      "cell_type": "markdown",
      "metadata": {
        "id": "EZDRddnpP18h"
      },
      "source": [
        "## **Scickit image**"
      ]
    },
    {
      "cell_type": "code",
      "metadata": {
        "id": "VpGwOfe-P6JC",
        "outputId": "648c9a88-f45c-4d23-e6af-011b8ca8960e",
        "colab": {
          "base_uri": "https://localhost:8080/"
        }
      },
      "source": [
        "from skimage import data, io, filters\n",
        "import skimage\n",
        "from skimage.color import rgb2gray\n",
        "from PIL import Image\n",
        "from skimage.viewer import ImageViewer"
      ],
      "execution_count": 41,
      "outputs": [
        {
          "output_type": "stream",
          "text": [
            "/usr/local/lib/python3.6/dist-packages/ipykernel_launcher.py:5: UserWarning: Viewer requires Qt\n",
            "  \"\"\"\n"
          ],
          "name": "stderr"
        }
      ]
    },
    {
      "cell_type": "code",
      "metadata": {
        "id": "K59Y2R_PQmry",
        "outputId": "65a4659e-cb49-4dad-f096-14d0c926ae11",
        "colab": {
          "base_uri": "https://localhost:8080/",
          "height": 269
        }
      },
      "source": [
        "#img = cv2.imread(\"/content/orig_0071.png\")\n",
        "im_pillow = np.array(Image.open('/content/orig_0071.png'))\n",
        "#im_rgb = cv2.cvtColor(img, cv2.COLOR_BGR2RGB)\n",
        "#img_gray = rgb2gray(im_pillow)\n",
        "imgrgb = skimage.color.gray2rgb(im_pillow)\n",
        "ycbcrimg = skimage.color.rgb2ycbcr(imgrgb)\n",
        "\n",
        "plt.imshow((ycbcrimg ).astype(np.uint8), cmap='gray')\n",
        "#plt.imshow(ycbcrimg)\n",
        "plt.show()"
      ],
      "execution_count": 53,
      "outputs": [
        {
          "output_type": "display_data",
          "data": {
            "image/png": "[encoded data removed]",
            "text/plain": [
              "<Figure size 432x288 with 1 Axes>"
            ]
          },
          "metadata": {
            "tags": [],
            "needs_background": "light"
          }
        }
      ]
    },
    {
      "cell_type": "code",
      "metadata": {
        "id": "5QjlvSsaUJ3j",
        "outputId": "5cd3be3d-53a5-4663-f4e9-221e1bad2eff",
        "colab": {
          "base_uri": "https://localhost:8080/"
        }
      },
      "source": [
        "print(ycbcrimg.shape)"
      ],
      "execution_count": 52,
      "outputs": [
        {
          "output_type": "stream",
          "text": [
            "(240, 352, 3)\n"
          ],
          "name": "stdout"
        }
      ]
    },
    {
      "cell_type": "code",
      "metadata": {
        "id": "bcWXiKGsB4xL",
        "outputId": "5ace737a-02d3-4055-b74c-1b685f136885",
        "colab": {
          "base_uri": "https://localhost:8080/"
        }
      },
      "source": [
        "ycbcrimg"
      ],
      "execution_count": 31,
      "outputs": [
        {
          "output_type": "execute_result",
          "data": {
            "text/plain": [
              "array([[[ 48.63529412, 128.        , 128.        ],\n",
              "        [ 76.97647059, 128.        , 128.        ],\n",
              "        [ 77.83529412, 128.        , 128.        ],\n",
              "        ...,\n",
              "        [ 58.94117647, 128.        , 128.        ],\n",
              "        [ 57.22352941, 128.        , 128.        ],\n",
              "        [ 57.22352941, 128.        , 128.        ]],\n",
              "\n",
              "       [[ 45.2       , 128.        , 128.        ],\n",
              "        [ 77.83529412, 128.        , 128.        ],\n",
              "        [ 80.41176471, 128.        , 128.        ],\n",
              "        ...,\n",
              "        [ 61.51764706, 128.        , 128.        ],\n",
              "        [ 61.51764706, 128.        , 128.        ],\n",
              "        [ 64.09411765, 128.        , 128.        ]],\n",
              "\n",
              "       [[ 46.91764706, 128.        , 128.        ],\n",
              "        [ 82.98823529, 128.        , 128.        ],\n",
              "        [ 87.28235294, 128.        , 128.        ],\n",
              "        ...,\n",
              "        [ 61.51764706, 128.        , 128.        ],\n",
              "        [ 58.94117647, 128.        , 128.        ],\n",
              "        [ 58.94117647, 128.        , 128.        ]],\n",
              "\n",
              "       ...,\n",
              "\n",
              "       [[ 70.10588235, 128.        , 128.        ],\n",
              "        [ 93.29411765, 128.        , 128.        ],\n",
              "        [ 95.01176471, 128.        , 128.        ],\n",
              "        ...,\n",
              "        [ 27.16470588, 128.        , 128.        ],\n",
              "        [ 26.30588235, 128.        , 128.        ],\n",
              "        [ 25.44705882, 128.        , 128.        ]],\n",
              "\n",
              "       [[ 80.41176471, 128.        , 128.        ],\n",
              "        [ 78.69411765, 128.        , 128.        ],\n",
              "        [ 74.4       , 128.        , 128.        ],\n",
              "        ...,\n",
              "        [ 22.01176471, 128.        , 128.        ],\n",
              "        [ 21.15294118, 128.        , 128.        ],\n",
              "        [ 17.71764706, 128.        , 128.        ]],\n",
              "\n",
              "       [[108.75294118, 128.        , 128.        ],\n",
              "        [104.45882353, 128.        , 128.        ],\n",
              "        [104.45882353, 128.        , 128.        ],\n",
              "        ...,\n",
              "        [ 24.58823529, 128.        , 128.        ],\n",
              "        [ 20.29411765, 128.        , 128.        ],\n",
              "        [ 16.85882353, 128.        , 128.        ]]])"
            ]
          },
          "metadata": {
            "tags": []
          },
          "execution_count": 31
        }
      ]
    }
  ]
}