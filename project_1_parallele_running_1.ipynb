{
  "nbformat": 4,
  "nbformat_minor": 0,
  "metadata": {
    "colab": {
      "name": "project_1_parallele_running_1.ipynb",
      "provenance": [],
      "collapsed_sections": [
        "_2EXXw2WzCsO"
      ],
      "toc_visible": true,
      "include_colab_link": true
    },
    "kernelspec": {
      "name": "python3",
      "display_name": "Python 3"
    }
  },
  "cells": [
    {
      "cell_type": "markdown",
      "metadata": {
        "id": "view-in-github",
        "colab_type": "text"
      },
      "source": [
        "<a href=\"https://colab.research.google.com/github/aissahm/image_analysis/blob/main/project_1_parallele_running_1.ipynb\" target=\"_parent\"><img src=\"https://colab.research.google.com/assets/colab-badge.svg\" alt=\"Open In Colab\"/></a>"
      ]
    },
    {
      "cell_type": "markdown",
      "metadata": {
        "id": "dz5Q1yldze1n"
      },
      "source": [
        "# **Image analysis - Project 1**"
      ]
    },
    {
      "cell_type": "code",
      "metadata": {
        "id": "rGJzF9s7nQvc"
      },
      "source": [
        "import numpy as np\n",
        "import pandas as pd\n",
        "import cv2\n",
        "from matplotlib import pyplot as plt\n",
        "import os\n",
        "from google.colab import files\n",
        "\n",
        "!pip install ipython-autotime\n",
        "%load_ext autotime"
      ],
      "execution_count": null,
      "outputs": []
    },
    {
      "cell_type": "markdown",
      "metadata": {
        "id": "0Oc1xg19mISc"
      },
      "source": [
        "We create the folders we need to store the intermediate output and final outputs."
      ]
    },
    {
      "cell_type": "code",
      "metadata": {
        "id": "pP5XzahIl9ei",
        "outputId": "cfb1c25d-a6f2-4c3e-a295-e47e9d27dbc0",
        "colab": {
          "base_uri": "https://localhost:8080/"
        }
      },
      "source": [
        "ycbcrfolderpath = \"ycbcrplates\"\n",
        "os.mkdir(ycbcrfolderpath)"
      ],
      "execution_count": 2,
      "outputs": [
        {
          "output_type": "stream",
          "text": [
            "time: 1.31 ms\n"
          ],
          "name": "stdout"
        }
      ]
    },
    {
      "cell_type": "markdown",
      "metadata": {
        "id": "_2EXXw2WzCsO"
      },
      "source": [
        "## **Introduction**"
      ]
    },
    {
      "cell_type": "markdown",
      "metadata": {
        "id": "US4XR77vzFcn"
      },
      "source": [
        "In this task we will evaluate the potential of three image operators, when used in sequence, to extract image features suitable for license plate image detection (i.e., features that must highlight the caracters of a plate). In the current directory, you will find the images of the plates and their binary masks. You will also find three random splits of the original images into training and testing sets. The task consists of the following steps, which can be applied to any of these sets.\n",
        "\n",
        "1. Step 1: Dataset composition.\n",
        "2. Step 2: Batch (z-score) normalization.\n",
        "3. Step 3: Creation of a random kernel bank.\n",
        "4. Step 4: Convolution with the random kernel bank. \n",
        "5. Step 5: Rectified Linear Unit activation (ReLU).\n",
        "\n",
        "These steps are presented in the next sections."
      ]
    },
    {
      "cell_type": "markdown",
      "metadata": {
        "id": "XTHCcL12zP-1"
      },
      "source": [
        "## **Dataset composition**"
      ]
    },
    {
      "cell_type": "markdown",
      "metadata": {
        "id": "7Wje2xE3zRYJ"
      },
      "source": [
        "You must create a subimage (patch) dataset by extracting regions of interest with size W × H pixels, center at each position (x,y) of the original images, and stride (displacement between them) of (Dx,Dy) pixels.\n",
        "\n",
        "The plate masks (avaliable annotation) can be used in this step only to verify if your choice for W, H, Dx, and Dy is suitable to not miss any plate from the training set. That is, for the corresponding testing set, you will simply use the same parameters learned in the training set.\n",
        "\n",
        "In this step, using the training set only, you must also define a threshold on the percentage of plate pixels that fall inside a subimage to consider it from class 1 (background) or class 2 (plate/foreground). Note that this will create a difficulty for a future plate detection since subimages with parts of a plate might be considered background. In this sense, we might need to further process those images in the future to avoid classification errors.\n",
        "\n",
        "After creating the subimages of a same size W × H, you must convert each subimage into a multiband image by pseudo colorizing it based on a Red-Green-Blue color table (e.g., from blue to red) and then convert it into an uncorrelated color space (e.g., Y-Cb-Cr or L-a-b).\n"
      ]
    },
    {
      "cell_type": "markdown",
      "metadata": {
        "id": "VYtMNNn7B3Ek"
      },
      "source": [
        "#### **From grayscale to YCbCr**"
      ]
    },
    {
      "cell_type": "markdown",
      "metadata": {
        "id": "zYA6NlZ8B92n"
      },
      "source": [
        "We create a function that will transform the grayscale image with one channel to a YCbCr image with 3 channels. We first transform the image into an RGB image, and then to a YCbCr image."
      ]
    },
    {
      "cell_type": "code",
      "metadata": {
        "id": "kbRYOqX_ErZk",
        "outputId": "72fc5d09-a0df-452b-9ac6-00cdc844a034",
        "colab": {
          "base_uri": "https://localhost:8080/"
        }
      },
      "source": [
        "#function that saves an image\n",
        "def saveImage(image, imagefullpath):\n",
        "  cv2.imwrite(imagefullpath, image)\n",
        "\n",
        "#Mapping from grayscale pixel to RGB using color table\n",
        "def fromGrayscaleToRGBMapping(pixel, H):\n",
        "  V = pixel / H\n",
        "  V = (6 - 2) * V + 1\n",
        "  r_p = H * max(0, (3- abs(V-4) - abs(V-5))/2 )\n",
        "  g_p = H * max(0, (4- abs(V-2) - abs(V-4))/2 )\n",
        "  b_p = H * max(0, (3- abs(V-1) - abs(V-2))/2 )\n",
        "  return [r_p, g_p, b_p]\n",
        "\n",
        "#Transform the grayscale image with one channel into an RGB image with 3 channels\n",
        "def fromGrayscaleToRGB(grayscaleimage, bits):\n",
        "  if len(grayscaleimage.shape) !=2:\n",
        "    print (\"Error: image is not a grayscale image\")\n",
        "    return 0\n",
        "  \n",
        "  H = 2**bits -1\n",
        "\n",
        "  #we initiate an rgb image with 3 channels with same dimensions as grayscale image\n",
        "  rgbimage = np.zeros((grayscaleimage.shape[0], grayscaleimage.shape[1], 3))\n",
        "  i = 0\n",
        "  while i < grayscaleimage.shape[0]:\n",
        "    j = 0\n",
        "    while j < grayscaleimage.shape[1]:\n",
        "      r_p, g_p, b_p = fromGrayscaleToRGBMapping(grayscaleimage[i][j], H)\n",
        "      rgbimage[i][j][0] = r_p\n",
        "      rgbimage[i][j][1] = g_p\n",
        "      rgbimage[i][j][2] = b_p\n",
        "      \n",
        "      j +=1\n",
        "    i +=1\n",
        "  \n",
        "  return rgbimage\n",
        "\n",
        "#Transform an RGB image with 3 channels into a YCbCr image with 3 channels\n",
        "def fromRGBToYCbCr(rgbimage, bits):\n",
        "  conversionMatrix = np.array([[0.299, 0.587, 0.144], [-0.169, -0.331, 0.500], [0.500, -0.419, -0.081]])\n",
        "  bias = np.array([0, 2**(bits - 1), 2**(bits -1)])\n",
        "  YCbCrimage = np.zeros((rgbimage.shape[0], rgbimage.shape[1], rgbimage.shape[2]))\n",
        "\n",
        "  i = 0\n",
        "  while i < rgbimage.shape[0]:\n",
        "    j = 0\n",
        "    while j < rgbimage.shape[1]:\n",
        "      YCbCrimage[i][j] = conversionMatrix @ rgbimage[i][j] + bias\n",
        "      j += 1\n",
        "    i += 1\n",
        "\n",
        "  return YCbCrimage\n",
        "\n",
        "#Main function that converts a grayscale image with 1 channel to a YCbCr image with 3 channels\n",
        "def fromGrayscaleToYCbCr(image, bits):\n",
        "  rgbimage = fromGrayscaleToRGB(image, bits)\n",
        "  if len(rgbimage.shape) < 3:\n",
        "    return 0\n",
        "  return fromRGBToYCbCr(rgbimage, bits)"
      ],
      "execution_count": 3,
      "outputs": [
        {
          "output_type": "stream",
          "text": [
            "time: 99.5 ms\n"
          ],
          "name": "stdout"
        }
      ]
    },
    {
      "cell_type": "markdown",
      "metadata": {
        "id": "lMAZ1OeBge5P"
      },
      "source": [
        "We test the functions above with a grayscale image exmaple:"
      ]
    },
    {
      "cell_type": "code",
      "metadata": {
        "id": "rTnXgCEdJa3-",
        "outputId": "6f7e477d-3c85-45b5-fd98-7b882eec0bf7",
        "colab": {
          "base_uri": "https://localhost:8080/",
          "height": 286
        }
      },
      "source": [
        "grayscaleimg = cv2.imread(\"/content/plates/orig_0001.png\", cv2.IMREAD_GRAYSCALE)\n",
        "\n",
        "ycbcrimg = fromGrayscaleToYCbCr(grayscaleimg, 8)\n",
        "\n",
        "plt.imshow(ycbcrimg.astype('uint8'))\n",
        "plt.show()"
      ],
      "execution_count": null,
      "outputs": [
        {
          "output_type": "display_data",
          "data": {
            "image/png": "[encoded data removed]",
            "text/plain": [
              "<Figure size 432x288 with 1 Axes>"
            ]
          },
          "metadata": {
            "tags": [],
            "needs_background": "light"
          }
        },
        {
          "output_type": "stream",
          "text": [
            "time: 1.33 s\n"
          ],
          "name": "stdout"
        }
      ]
    },
    {
      "cell_type": "markdown",
      "metadata": {
        "id": "Et9oR_WRViT4"
      },
      "source": [
        "**Now, we loop through each image inside the \"plates\" folder to convert them into YCbCr images and save the images inside the folder \"ycbcrplates/\".**"
      ]
    },
    {
      "cell_type": "code",
      "metadata": {
        "id": "nKfbS8sDVr26",
        "outputId": "581b48a0-74d8-41df-e979-05ab38650a54",
        "colab": {
          "base_uri": "https://localhost:8080/"
        }
      },
      "source": [
        "directory = '/content/plates/'\n",
        "\n",
        "ycbcrdirectory = \"/content/ycbcrplates/\"\n",
        "\n",
        "i = 0 \n",
        "for filename in os.listdir(directory):\n",
        "  if \"orig\" in filename:\n",
        "    grayscaleimg = cv2.imread(directory + filename, cv2.IMREAD_GRAYSCALE)\n",
        "    ycbcrimg = fromGrayscaleToYCbCr(grayscaleimg, 8)\n",
        "    ycbcrimg = ycbcrimg.astype('uint8')\n",
        "\n",
        "    ycbcrimagepath = ycbcrdirectory + filename\n",
        "    cv2.imwrite(ycbcrimagepath, ycbcrimg)\n",
        "    i += 1\n",
        "\n",
        "print(\"Done,\", i, \" images from 'plates/' converted to YCbCr.\")"
      ],
      "execution_count": 4,
      "outputs": [
        {
          "output_type": "stream",
          "text": [
            "Done, 200  images from 'plates/' converted to YCbCr.\n",
            "time: 4min 11s\n"
          ],
          "name": "stdout"
        }
      ]
    },
    {
      "cell_type": "markdown",
      "metadata": {
        "id": "woqqmyUooRWW"
      },
      "source": [
        "**We first create a function that returns the percentage of plate pixels contained in a subimage**\n",
        "\n",
        "We need the sizes W x H, the coordinates of the center of the subimage (x,y)."
      ]
    },
    {
      "cell_type": "code",
      "metadata": {
        "id": "_Q3-D1dnoeKs",
        "outputId": "e342ec83-fcbc-4d4d-f06d-8b2bc275ff60",
        "colab": {
          "base_uri": "https://localhost:8080/"
        }
      },
      "source": [
        "#returns the number of pixels representing the plate in the mask\n",
        "def returnPlateNumberPixelsFromMask(maskImg):\n",
        "  #maskImg = cv2.imread(maskPath)\n",
        "  return maskImg.sum()/(3*255)\n",
        "\n",
        "#given width x height, and center coordinates of subimage, returns number of plate pixels contained in subimage\n",
        "def returnPlateNumberPixelsCovBySubimage(width, height, xcenter, ycenter, maskImg):\n",
        "  xstart = xcenter - width//2\n",
        "  xend = xcenter + width//2\n",
        "  ystart = ycenter - height//2\n",
        "  yend = ycenter + height//2\n",
        "  subImg = maskImg[ystart:yend+1,xstart: xend+1,:]\n",
        "\n",
        "  return subImg.sum()/(3*255)"
      ],
      "execution_count": 5,
      "outputs": [
        {
          "output_type": "stream",
          "text": [
            "time: 4.89 ms\n"
          ],
          "name": "stdout"
        }
      ]
    },
    {
      "cell_type": "code",
      "metadata": {
        "id": "pTp3AWiezcdL",
        "outputId": "1abb8c14-e9b2-4be6-d12c-0c46fe508576",
        "colab": {
          "base_uri": "https://localhost:8080/",
          "height": 286
        }
      },
      "source": [
        "test_image_path = \"/content/plates/mask_0001.png\"\n",
        "\n",
        "#Import image\n",
        "img = cv2.imread(test_image_path)\n",
        "\n",
        "#Show the image with matplotlib\n",
        "plt.imshow(img)\n",
        "plt.show()"
      ],
      "execution_count": null,
      "outputs": [
        {
          "output_type": "display_data",
          "data": {
            "image/png": "[encoded data removed]",
            "text/plain": [
              "<Figure size 432x288 with 1 Axes>"
            ]
          },
          "metadata": {
            "tags": [],
            "needs_background": "light"
          }
        },
        {
          "output_type": "stream",
          "text": [
            "time: 142 ms\n"
          ],
          "name": "stdout"
        }
      ]
    },
    {
      "cell_type": "code",
      "metadata": {
        "id": "WIzZ6Jyu2tJq",
        "outputId": "2b71764a-1e6f-42a6-c4bb-72b42a69245d",
        "colab": {
          "base_uri": "https://localhost:8080/"
        }
      },
      "source": [
        "w = 150\n",
        "h = 100\n",
        "x = 150\n",
        "y = 150\n",
        "\n",
        "print(returnPlateNumberPixelsCovBySubimage(w, h, x, y, img))\n",
        "print()\n",
        "print(returnPlateNumberPixelsFromMask(img))"
      ],
      "execution_count": null,
      "outputs": [
        {
          "output_type": "stream",
          "text": [
            "2274.0\n",
            "\n",
            "2274.0\n",
            "time: 4.76 ms\n"
          ],
          "name": "stdout"
        }
      ]
    },
    {
      "cell_type": "markdown",
      "metadata": {
        "id": "PVQGS7FBNYNd"
      },
      "source": [
        "#### **Selecting the values for the parameters**"
      ]
    },
    {
      "cell_type": "code",
      "metadata": {
        "id": "paDKUmmj_r0i",
        "outputId": "fbfe5a33-a1ea-4085-dc8a-151945f554ca",
        "colab": {
          "base_uri": "https://localhost:8080/"
        }
      },
      "source": [
        "def scanOriginalImageUsingSubImagesWith(width, height, xstride, ystride, imagepath, thresholdForPlateClass):\n",
        "  \n",
        "  imageToScan = cv2.imread(imagepath)\n",
        "  plateNumberPixelsInImageToScan = returnPlateNumberPixelsFromMask(imageToScan)\n",
        "\n",
        "  #statistics\n",
        "  numberSubImages = 0\n",
        "  numberSubImagesClassPlate = 0 #number of images wich contain the threshold of plate percentage\n",
        "  numberSubImagesContainingAllPlate = 0\n",
        "\n",
        "  #initializing scanning parameters \n",
        "  xcenter_initial = width // 2\n",
        "  ycenter_initial = height // 2\n",
        "  yfinal = imageToScan.shape[0] - height // 2 - 1\n",
        "  xfinal = imageToScan.shape[1] - width // 2 - 1\n",
        "  ycenter = ycenter_initial\n",
        "  xcenter = xcenter_initial\n",
        "  \n",
        "  #we scan the original image from left to right, top to bottom\n",
        "  while ycenter <= yfinal:\n",
        "    \n",
        "    #We make sure we cover the entire original image \n",
        "    #on the last strides on vertical and/or horizontal axes\n",
        "    if xfinal - xcenter < xstride:\n",
        "      xcenter = xfinal\n",
        "    if yfinal - ycenter < ystride:\n",
        "      ycenter = yfinal\n",
        "    \n",
        "    plateNumberPixelsInSubimage = returnPlateNumberPixelsCovBySubimage(width, height, xcenter, ycenter, imageToScan)\n",
        "    #percentage of plate\n",
        "    platePercentageCovered = plateNumberPixelsInSubimage / plateNumberPixelsInImageToScan\n",
        "    \n",
        "    #percentage of total pixels in subimage\n",
        "    #platePercentageCovered = plateNumberPixelsInSubimage / (width*height)\n",
        "\n",
        "    #Increment\n",
        "    xcenter += xstride\n",
        "    if xcenter > xfinal:\n",
        "      xcenter = xcenter_initial\n",
        "      ycenter += ystride\n",
        "    \n",
        "    #statistics\n",
        "    numberSubImages += 1\n",
        "    if platePercentageCovered >= thresholdForPlateClass:\n",
        "      numberSubImagesClassPlate += 1\n",
        "    if platePercentageCovered == 1.0:\n",
        "      numberSubImagesContainingAllPlate += 1\n",
        "    \n",
        "  #print statistics:\n",
        "  #print(\"Number of subimages created \", numberSubImages - 1)\n",
        "  #print(\"Number of subimages with threshold pixels of plate \", numberSubImagesClassPlate)\n",
        "  #print(\"Number of subimages containing all the plate \", numberSubImagesContainingAllPlate)\n",
        "\n",
        "  return [numberSubImagesContainingAllPlate, numberSubImagesClassPlate, numberSubImages]"
      ],
      "execution_count": 6,
      "outputs": [
        {
          "output_type": "stream",
          "text": [
            "time: 26.2 ms\n"
          ],
          "name": "stdout"
        }
      ]
    },
    {
      "cell_type": "markdown",
      "metadata": {
        "id": "OowBJbyh3IoO"
      },
      "source": [
        "We test the functions created above with one example before looping through all the 3 training sets."
      ]
    },
    {
      "cell_type": "code",
      "metadata": {
        "id": "Dx4vAGdAJA2w",
        "outputId": "42b67248-33fe-4088-a977-911577d64f8b",
        "colab": {
          "base_uri": "https://localhost:8080/"
        }
      },
      "source": [
        "w = 187\n",
        "h = 75\n",
        "dx = 40\n",
        "dy = 20\n",
        "test_image_path = \"/content/plates/mask_0001.png\"\n",
        "\n",
        "threshold = 0.9\n",
        "\n",
        "scanOriginalImageUsingSubImagesWith(w, h, dx, dy, test_image_path, threshold)"
      ],
      "execution_count": 7,
      "outputs": [
        {
          "output_type": "execute_result",
          "data": {
            "text/plain": [
              "[4, 9, 45]"
            ]
          },
          "metadata": {
            "tags": []
          },
          "execution_count": 7
        },
        {
          "output_type": "stream",
          "text": [
            "time: 18.8 ms\n"
          ],
          "name": "stdout"
        }
      ]
    },
    {
      "cell_type": "markdown",
      "metadata": {
        "id": "_6XmHx1v3UGj"
      },
      "source": [
        "Now that everything is working as expected, we create an array containing the path to the masks to perform the tests on the entire training sets. "
      ]
    },
    {
      "cell_type": "code",
      "metadata": {
        "id": "M2XInhbvNH0c",
        "outputId": "86f481a6-6d17-459b-e323-202fdb1dabbe",
        "colab": {
          "base_uri": "https://localhost:8080/"
        }
      },
      "source": [
        "#given a text file containing the name of training images return pathfile of respective masks\n",
        "def returnMaskImagesPathArray(trainTextPath):\n",
        "  mask_images_path_array = []\n",
        "  train_images_array = []\n",
        "  with open(trainTextPath, 'r') as file:\n",
        "      data = file.read().replace('\\n', ';')\n",
        "      train_images_array = data.split(\";\")\n",
        "  for train_image_str in train_images_array:\n",
        "    mask_image_str = train_image_str.replace(\"./plates/orig\", \"/content/plates/mask\")\n",
        "    if len(mask_image_str) > 0:\n",
        "      mask_images_path_array.append(mask_image_str)\n",
        "\n",
        "  return mask_images_path_array\n",
        "\n",
        "#given a text file containing the name of training images return pathfile of respective images\n",
        "def returnImagesPathArray(trainTextPath):\n",
        "  images_path_array = []\n",
        "  train_images_array = []\n",
        "  with open(trainTextPath, 'r') as file:\n",
        "      data = file.read().replace('\\n', ';')\n",
        "      train_images_array = data.split(\";\")\n",
        "  for train_image_str in train_images_array:\n",
        "    image_str = train_image_str.replace(\"./plates\", \"/content/plates\")\n",
        "    if len(image_str) > 0:\n",
        "      images_path_array.append(image_str)\n",
        "  return images_path_array"
      ],
      "execution_count": 8,
      "outputs": [
        {
          "output_type": "stream",
          "text": [
            "time: 22.2 ms\n"
          ],
          "name": "stdout"
        }
      ]
    },
    {
      "cell_type": "markdown",
      "metadata": {
        "id": "mFU_szZF3h7m"
      },
      "source": [
        "We select manually the values of W, H, Dx, Dy. \n",
        "\n",
        "We define the variable \"threshold\" as the percentage of pixels from the plate contained in a subimage to classify the subimage as class 2 \"plate\". If the percentage is below that threshold, we classify the subimage as belonging to class 1 \"background\"."
      ]
    },
    {
      "cell_type": "code",
      "metadata": {
        "id": "E48Bc-S-PQli",
        "outputId": "fc0f68f2-8cb7-42c1-8d67-cadf00750537",
        "colab": {
          "base_uri": "https://localhost:8080/"
        }
      },
      "source": [
        "w = 187\n",
        "h = 95\n",
        "dx = 40\n",
        "dy = 20\n",
        "threshold = 0.9\n",
        "\n",
        "totalNumberSubimagesCreated = 0\n",
        "totalNumberImagesWithPlatesNotCovered = 0\n",
        "listTrainImagesWithPlatesNotCovered = []\n",
        "\n",
        "mask_images_path_array = returnMaskImagesPathArray(\"/content/train2.txt\")\n",
        "\n",
        "for train_mask_imagepath in mask_images_path_array:\n",
        "  nImagesContainingAllPlate, nImagesClassPlate, nTotalSubimages = scanOriginalImageUsingSubImagesWith(w, h, dx, dy, train_mask_imagepath, threshold)\n",
        "  totalNumberSubimagesCreated += nTotalSubimages\n",
        "\n",
        "  if nImagesContainingAllPlate == 0:\n",
        "    totalNumberImagesWithPlatesNotCovered += 1\n",
        "    listTrainImagesWithPlatesNotCovered.append(train_mask_imagepath)\n",
        "\n",
        "print(\"Training set size: \", len(mask_images_path_array))\n",
        "print(\"Total number images without plates found: \", totalNumberImagesWithPlatesNotCovered)\n",
        "print(\"Total subimages created from training set: \", totalNumberSubimagesCreated)\n"
      ],
      "execution_count": null,
      "outputs": [
        {
          "output_type": "stream",
          "text": [
            "Training set size:  100\n",
            "Total number images without plates found:  0\n",
            "Total subimages created from training set:  4000\n",
            "time: 339 ms\n"
          ],
          "name": "stdout"
        }
      ]
    },
    {
      "cell_type": "markdown",
      "metadata": {
        "id": "KqXPEP8J4Qsx"
      },
      "source": [
        "Runnning various values of the parameters, we get the following minimal values in order to make sure that we have at least one subimage of class 2 from each original image, as well as at least one subimage containing the entire plate inside it.\n",
        "\n"
      ]
    },
    {
      "cell_type": "markdown",
      "metadata": {
        "id": "TXxU4V6fzd7j"
      },
      "source": [
        "**Parameters:**\n",
        "\n",
        "First training set: w = 171, h = 71, dx = 40, dy = 10, threshold = 0.9\n",
        "\n",
        "Second training set: w = 171, h = 71, dx = 40, dy = 10, threshold = 0.9\n",
        "\n",
        "Third training set: w = 171, h = 75, dx = 40, dy = 10, threshold = 0.9\n",
        "\n",
        "\n"
      ]
    },
    {
      "cell_type": "markdown",
      "metadata": {
        "id": "yABgF_ft2UsE"
      },
      "source": [
        "In order to increase the chances of success of getting at least one subimage containing the plate with the minimum threshold on the test sets, we increase by 10% the values of W and H. This will also allow us to decrease the total number of subimages from all images from 8500 to 8000. \n",
        "\n",
        "**Conclusion:**\n",
        "\n",
        "1. W = 187 pixels\n",
        "2. H = 81 pixels\n",
        "\n",
        "3. Dx = 40 pixels\n",
        "4. Dy = 10 pixels\n",
        "\n",
        "(Note: W and H must be odd numbers since the subimage is centered at a given pixel.)\n",
        "\n"
      ]
    },
    {
      "cell_type": "code",
      "metadata": {
        "id": "Xwztmq1_ilxE",
        "outputId": "b1114470-c465-49be-b76a-ad24a8c016c9",
        "colab": {
          "base_uri": "https://localhost:8080/"
        }
      },
      "source": [
        "#parameters array [w, h, dx, dy, threshold]\n",
        "parameters_array = [187, 95, 40, 20, 0.9]\n",
        "\n",
        "#save parameters in param.txt\n",
        "with open ('param.txt','w') as f:\n",
        " for parameterelem in parameters_array:\n",
        "     f.write(str(parameterelem)+'\\n')"
      ],
      "execution_count": 9,
      "outputs": [
        {
          "output_type": "stream",
          "text": [
            "time: 2.53 ms\n"
          ],
          "name": "stdout"
        }
      ]
    },
    {
      "cell_type": "markdown",
      "metadata": {
        "id": "lgV-hHHV939S"
      },
      "source": [
        "### **Creating all the subimages from the training sets**"
      ]
    },
    {
      "cell_type": "code",
      "metadata": {
        "id": "UpHsPD02lFEo",
        "outputId": "c153b565-ce54-44c5-a1d7-182d422af1d7",
        "colab": {
          "base_uri": "https://localhost:8080/"
        }
      },
      "source": [
        "#we set the parameters values for w, h, dx, dy\n",
        "w = 187\n",
        "h = 95\n",
        "dx = 40\n",
        "dy = 20\n",
        "threshold = 0.9"
      ],
      "execution_count": 10,
      "outputs": [
        {
          "output_type": "stream",
          "text": [
            "time: 1.46 ms\n"
          ],
          "name": "stdout"
        }
      ]
    },
    {
      "cell_type": "code",
      "metadata": {
        "id": "Z9VZTC9nf6oR",
        "outputId": "c404fc0a-a2ca-4892-eb72-42ae8234a995",
        "colab": {
          "base_uri": "https://localhost:8080/"
        }
      },
      "source": [
        "#returns mask for correspoinding image\n",
        "def returnMaskPathFromImagePath(imagePath):\n",
        "  return imagePath.replace(\"orig\", \"mask\") \n",
        "\n",
        "#returns the ID of the original image\n",
        "def returnOriginalimagename(imagename):\n",
        "  originalImagename = imagename.replace(\".png\", \"\")\n",
        "  originalImagename = originalImagename.replace(\" \", \"\")\n",
        "  return originalImagename\n",
        "\n",
        "#saving subimage into folder\n",
        "def saveSubimage(width, height, xcenter, ycenter, subimageClass, outputFolderPath, imagename, subImg):\n",
        "  originalImagename = returnOriginalimagename(imagename)\n",
        "  subImagename = originalImagename + \"_\" + str(width) + \"_\" + str(height) + \"_\" + str(int(xcenter)) + \"_\" + str(int(ycenter)) + \"_\" + subimageClass\n",
        "  subimageFullpath = outputFolderPath + subImagename + \".png\"\n",
        "  # Saving the image \n",
        "  cv2.imwrite(subimageFullpath, subImg) \n",
        "\n",
        "#class as percentage of pixels from plate\n",
        "def returnSubimgClass(percentagePlateCovered, thresholdForPlateClass):\n",
        "  if percentagePlateCovered >= thresholdForPlateClass:\n",
        "    return \"2\"\n",
        "  return \"1\"\n",
        "\n",
        "#class as percentage of total pixels in subimage\n",
        "def returnSubimageClass(percentagePlateCovered, thresholdForPlateClass):\n",
        "  if percentagePlateCovered >= thresholdForPlateClass:\n",
        "    return \"2\"\n",
        "  return \"1\" \n",
        "\n",
        "#return the subimage of interest\n",
        "def returnSubimageWith(width, height, xcenter, ycenter, maskImg):\n",
        "  xstart = xcenter - width//2\n",
        "  xend = xcenter + width//2\n",
        "  ystart = ycenter - height//2\n",
        "  yend = ycenter + height//2\n",
        "  return maskImg[ystart:yend+1,xstart: xend+1,:]\n",
        "\n",
        "#same code as above, with the addition of creating the subimages and storing them\n",
        "#information included in filename: originalimagename_width_heigth-xcenter_ycenter_class\n",
        "def createSubimagesFromTrainingImage(width, height, xstride, ystride, thresholdForPlateClass, imagename, imageFolderPath, maskFolderPath, outputFolderpath):\n",
        "  \n",
        "  imagePath = imageFolderPath + imagename\n",
        "  imageToScan = cv2.imread(imagePath)\n",
        "  maskname = returnMaskPathFromImagePath(imagename)\n",
        "  imageMask = cv2.imread(maskFolderPath + maskname, 1)\n",
        "  \n",
        "  plateNumberPixelsInImageToScan = returnPlateNumberPixelsFromMask(imageMask)\n",
        "\n",
        "  #statistics\n",
        "  numberSubImages = 0\n",
        "  numberSubImagesClassPlate = 0 #number of images wich contain the threshold of plate percentage\n",
        "\n",
        "  #initializing scanning parameters \n",
        "  xcenter_initial = width // 2\n",
        "  ycenter_initial = height // 2\n",
        "  yfinal = imageMask.shape[0] - height // 2 - 1\n",
        "  xfinal = imageMask.shape[1] - width // 2 - 1\n",
        "  ycenter = ycenter_initial\n",
        "  xcenter = xcenter_initial\n",
        "\n",
        "  #class parameter depending on the threshold value\n",
        "  subImageClass = \"\"\n",
        "\n",
        "  #we scan the original image from left to right, top to bottom\n",
        "  while ycenter <= yfinal:\n",
        "    \n",
        "    #We make sure we cover the entire original image \n",
        "    #on the last strides on vertical and/or horizontal axes\n",
        "    if xfinal - xcenter < xstride:\n",
        "      xcenter = xfinal\n",
        "    if yfinal - ycenter < ystride:\n",
        "      ycenter = yfinal\n",
        "    \n",
        "    #getting the number of plate pixels contained in the subimage\n",
        "    plateNumberPixelsInSubimage = returnPlateNumberPixelsCovBySubimage(width, height, xcenter, ycenter, imageMask)\n",
        "    \n",
        "    #getting the class of the subimage\n",
        "    subImageClass = returnSubimgClass(plateNumberPixelsInSubimage / plateNumberPixelsInImageToScan, thresholdForPlateClass)\n",
        "    \n",
        "    #saving the subimage\n",
        "    saveSubimage(width, height, xcenter, ycenter, subImageClass, outputFolderpath, imagename, returnSubimageWith(width, height, xcenter, ycenter, imageToScan))\n",
        "\n",
        "    #Increment\n",
        "    xcenter += xstride\n",
        "    if xcenter > xfinal:\n",
        "      xcenter = xcenter_initial\n",
        "      ycenter += ystride\n",
        "    \n",
        "    #statistics\n",
        "    numberSubImages += 1\n",
        "    if plateNumberPixelsInSubimage / plateNumberPixelsInImageToScan >= thresholdForPlateClass:\n",
        "      numberSubImagesClassPlate += 1\n",
        "\n",
        "  #print(\"Number of sub images classified as plate/foreground: \", numberSubImagesClassPlate)\n",
        "  #print(\"Number of sub images created:\", numberSubImages )\n",
        "  return [numberSubImagesClassPlate, numberSubImages]"
      ],
      "execution_count": 11,
      "outputs": [
        {
          "output_type": "stream",
          "text": [
            "time: 91.8 ms\n"
          ],
          "name": "stdout"
        }
      ]
    },
    {
      "cell_type": "markdown",
      "metadata": {
        "id": "GFMZN8DaaSeg"
      },
      "source": [
        "We test the above functions with one image:"
      ]
    },
    {
      "cell_type": "code",
      "metadata": {
        "id": "LUvm2D8vQKS9",
        "outputId": "043ce0e9-a36a-49bd-b3e6-1ada2a7e4de5",
        "colab": {
          "base_uri": "https://localhost:8080/"
        }
      },
      "source": [
        "subImagesFolderPath = \"/content/subimages_187_81_40_10_90/\"\n",
        "\n",
        "test_image_path = '/content/ycbcrplates/orig_0001.png'\n",
        "\n",
        "createSubimagesFromTrainingImage(w, h, dx, dy, threshold, \"orig_0001.png\", '/content/ycbcrplates/', '/content/plates/', subImagesFolderPath)"
      ],
      "execution_count": null,
      "outputs": [
        {
          "output_type": "execute_result",
          "data": {
            "text/plain": [
              "[17, 80]"
            ]
          },
          "metadata": {
            "tags": []
          },
          "execution_count": 33
        }
      ]
    },
    {
      "cell_type": "markdown",
      "metadata": {
        "id": "yUphdYmbdc2b"
      },
      "source": [
        "We show one example of a subimage to make sure everything works properly."
      ]
    },
    {
      "cell_type": "code",
      "metadata": {
        "id": "pN8uSfDDVeiD",
        "outputId": "1606a7c1-6f2e-4b6d-9cf1-7d27cc5af0d1",
        "colab": {
          "base_uri": "https://localhost:8080/",
          "height": 213
        }
      },
      "source": [
        "subimage1path = \"/content/subimages_187_81_40_10_90/orig_0001_187_81_133_160_2.png\"\n",
        "\n",
        "subimg = cv2.imread(subimage1path)\n",
        "print(\"subimage shape: \", subimg.shape)\n",
        "\n",
        "plt.imshow(subimg)\n",
        "plt.show()"
      ],
      "execution_count": null,
      "outputs": [
        {
          "output_type": "stream",
          "text": [
            "subimage shape:  (81, 187, 3)\n"
          ],
          "name": "stdout"
        },
        {
          "output_type": "display_data",
          "data": {
            "image/png": "[encoded data removed]",
            "text/plain": [
              "<Figure size 432x288 with 1 Axes>"
            ]
          },
          "metadata": {
            "tags": [],
            "needs_background": "light"
          }
        }
      ]
    },
    {
      "cell_type": "markdown",
      "metadata": {
        "id": "mU0a4VhyrhbM"
      },
      "source": [
        "**Now, we tested the functions above work properly we can create the subimages for the entire dataset images.**"
      ]
    },
    {
      "cell_type": "code",
      "metadata": {
        "id": "O5Y5ojP7vQf8",
        "outputId": "6c63fe6a-9ad2-404d-bc2d-4b336854dda6",
        "colab": {
          "base_uri": "https://localhost:8080/"
        }
      },
      "source": [
        "train_path_array = [\"train1.txt\", \"train2.txt\", \"train3.txt\"]\n",
        "\n",
        "trainoutputname = [\"train1\", \"train2\", \"train3\"]\n",
        "\n",
        "outputFolderPath = \"_187_95_40_20_90/\"\n",
        "mask_folder_path = 'plates/'\n",
        "image_folder_path = 'ycbcrplates/'\n",
        "\n",
        "print(\"Statistics\")\n",
        "print()\n",
        "totalSubImages = 0\n",
        "totalSubImagesClass2 = 0\n",
        "\n",
        "i = 0\n",
        "while i < len(train_path_array):\n",
        "  #creating the training folder that will contain the subimages\n",
        "  trainoutputFolderPath = trainoutputname[i] + outputFolderPath\n",
        "  os.mkdir(trainoutputFolderPath)\n",
        "\n",
        "  f = open(train_path_array[i], \"r\")\n",
        "  for imgname in f:\n",
        "    if len(imgname) > 0:\n",
        "      imgname = imgname.replace(\"./plates/\", \"\")\n",
        "      imgname = imgname.replace(\" \", \"\")\n",
        "      numberSubimagesClass2, numberSubimagesFromImage = createSubimagesFromTrainingImage(w, h, dx, dy, threshold, imgname.strip(), image_folder_path, mask_folder_path, trainoutputFolderPath)\n",
        "      totalSubImages += numberSubimagesFromImage\n",
        "      totalSubImagesClass2 += numberSubimagesClass2\n",
        "  \n",
        "  print(trainoutputname[i])\n",
        "  print(\"Total number of subimages: \", totalSubImages)\n",
        "  print(\"Total number of class 2 subimages: \", totalSubImagesClass2)\n",
        "  totalSubImages = 0\n",
        "  totalSubImagesClass2 = 0\n",
        "  \n",
        "  i += 1"
      ],
      "execution_count": 12,
      "outputs": [
        {
          "output_type": "stream",
          "text": [
            "Statistics\n",
            "\n",
            "train1\n",
            "Total number of subimages:  4000\n",
            "Total number of class 2 subimages:  791\n",
            "train2\n",
            "Total number of subimages:  4000\n",
            "Total number of class 2 subimages:  791\n",
            "train3\n",
            "Total number of subimages:  4000\n",
            "Total number of class 2 subimages:  787\n",
            "time: 18.5 s\n"
          ],
          "name": "stdout"
        }
      ]
    },
    {
      "cell_type": "markdown",
      "metadata": {
        "id": "ZThcFfpjZzNX"
      },
      "source": [
        "**Creating the test set subimages**"
      ]
    },
    {
      "cell_type": "code",
      "metadata": {
        "id": "uRKTvdqNZqlD",
        "outputId": "9061a54f-68a1-4bdc-ffa0-e10ccb74c2b8",
        "colab": {
          "base_uri": "https://localhost:8080/"
        }
      },
      "source": [
        "train_path_array = [\"test1.txt\", \"test2.txt\", \"test3.txt\"]\n",
        "\n",
        "trainoutputname = [\"test1\", \"test2\", \"test3\"]\n",
        "\n",
        "outputFolderPath = \"_187_95_40_20_90/\"\n",
        "mask_folder_path = 'plates/'\n",
        "image_folder_path = 'ycbcrplates/'\n",
        "\n",
        "print(\"Statistics\")\n",
        "print()\n",
        "totalSubImages = 0\n",
        "totalSubImagesClass2 = 0\n",
        "\n",
        "i = 0\n",
        "while i < len(train_path_array):\n",
        "  #creating the training folder that will contain the subimages\n",
        "  trainoutputFolderPath = trainoutputname[i] + outputFolderPath\n",
        "  os.mkdir(trainoutputFolderPath)\n",
        "\n",
        "  f = open(train_path_array[i], \"r\")\n",
        "  for imgname in f:\n",
        "    if len(imgname) > 0:\n",
        "      imgname = imgname.replace(\"./plates/\", \"\")\n",
        "      imgname = imgname.replace(\" \", \"\")\n",
        "      numberSubimagesClass2, numberSubimagesFromImage = createSubimagesFromTrainingImage(w, h, dx, dy, threshold, imgname.strip(), image_folder_path, mask_folder_path, trainoutputFolderPath)\n",
        "      totalSubImages += numberSubimagesFromImage\n",
        "      totalSubImagesClass2 += numberSubimagesClass2\n",
        "  \n",
        "  print(trainoutputname[i])\n",
        "  print(\"Total number of subimages: \", totalSubImages)\n",
        "  print(\"Total number of class 2 subimages: \", totalSubImagesClass2)\n",
        "  totalSubImages = 0\n",
        "  totalSubImagesClass2 = 0\n",
        "  \n",
        "  i += 1"
      ],
      "execution_count": 13,
      "outputs": [
        {
          "output_type": "stream",
          "text": [
            "Statistics\n",
            "\n",
            "test1\n",
            "Total number of subimages:  4000\n",
            "Total number of class 2 subimages:  771\n",
            "test2\n",
            "Total number of subimages:  4000\n",
            "Total number of class 2 subimages:  771\n",
            "test3\n",
            "Total number of subimages:  4000\n",
            "Total number of class 2 subimages:  775\n",
            "time: 15.3 s\n"
          ],
          "name": "stdout"
        }
      ]
    },
    {
      "cell_type": "code",
      "metadata": {
        "id": "yKTMnzBGadD0",
        "outputId": "3d373506-619f-4f0c-9e2b-ce04f7249c31",
        "colab": {
          "base_uri": "https://localhost:8080/"
        }
      },
      "source": [
        "subImagesFolderPath = \"/content/subimages_187_81_40_10_90/\"\n",
        "mask_folder_path = '/content/plates/'\n",
        "image_folder_path = '/content/ycbcrplates/'\n",
        "\n",
        "print(\"Statistics\")\n",
        "print()\n",
        "totalSubImages = 0\n",
        "totalSubImagesClass2 = 0\n",
        "\n",
        "for imgname in os.listdir(image_folder_path):\n",
        "  if \"orig\" in imgname:\n",
        "    numberSubimagesClass2, numberSubimagesFromImage = createSubimagesFromTrainingImage(w, h, dx, dy, threshold, imgname, image_folder_path, mask_folder_path, subImagesFolderPath)\n",
        "    totalSubImages += numberSubimagesFromImage\n",
        "    totalSubImagesClass2 += numberSubimagesClass2\n",
        "\n",
        "print(\"Total number of subimages: \", totalSubImages)\n",
        "print(\"Total number of class 2 subimages: \", totalSubImagesClass2)"
      ],
      "execution_count": null,
      "outputs": [
        {
          "output_type": "stream",
          "text": [
            "Statistics\n",
            "\n",
            "Total number of subimages:  16000\n",
            "Total number of class 2 subimages:  2556\n"
          ],
          "name": "stdout"
        }
      ]
    },
    {
      "cell_type": "markdown",
      "metadata": {
        "id": "LHzUjOSJtY_A"
      },
      "source": [
        "We got 16,000 subimages in total, or 80 subimages per original image.\n",
        "\n",
        "The 2 classes are heavily unbalanced as we can see. In fact, only 2,556 out of 16,000 subimages belong to class 2, the remaining belonging to class 1."
      ]
    },
    {
      "cell_type": "markdown",
      "metadata": {
        "id": "w7QCX_6RdRZx"
      },
      "source": [
        "Now, we have all the subimages created from the training sets. We are ready for the next step!"
      ]
    },
    {
      "cell_type": "markdown",
      "metadata": {
        "id": "QZunyXPtb8zA"
      },
      "source": [
        "## **Batch Normalization**"
      ]
    },
    {
      "cell_type": "markdown",
      "metadata": {
        "id": "HSGtW-JEcJ2a"
      },
      "source": [
        "Let Ii(p) = (Ii1(p), Ii2(p), Ii3(p)) be the three color values of each pixel p in the image domain DI of an image Iˆ = (D , I ), i = 1, 2, . . . , N , of the training set. Batch normalization consists of transforming each image Iˆ\n",
        "iIi i\n",
        "into an image Jˆ = (D , J ) such that iIi\n",
        "Jij(p) = Iij(p) − μj(p), (1) σj (p)\n",
        " 1  N\n",
        "μj(p) = N Iij(p),\n",
        "i=1\n",
        "  1  N\n",
        "σj(p) =  N − 1\n",
        "j = 1, 2, 3.\n",
        "For the testing set, you can only normalize the images by using the parameters μ(p) = (μ1 (p), μ2 (p), μ3 (p))\n",
        "and σ(p) = (σ1(p),σ2(p),σ3(p)) learned for each pixel p in the training set. Evaluate your results with and without batch normalization."
      ]
    },
    {
      "cell_type": "code",
      "metadata": {
        "id": "zxiU5uCdcOH3",
        "outputId": "8da7c89a-6f0c-4800-db19-e3fdab3d203e",
        "colab": {
          "base_uri": "https://localhost:8080/"
        }
      },
      "source": [
        "#given a folder path with a set of images, function that returns the mean and standard deviation\n",
        "#of the entire set for batch normalization\n",
        "def returnBatchNormMeanAndStandarDeviationTensors(folderPath):\n",
        "  meanTensor = np.array([])\n",
        "  standardDeviationTensor = np.array([])\n",
        "\n",
        "  subimagesCount = 0\n",
        "  for subimagename in os.listdir(folderPath):\n",
        "    subimage = cv2.imread(folderPath + \"/\" + subimagename)\n",
        "    if meanTensor.size == 0:\n",
        "      meanTensor = subimage\n",
        "    else:  \n",
        "      meanTensor += subimage\n",
        "    subimagesCount += 1\n",
        "  meanTensor = meanTensor / subimagesCount\n",
        "\n",
        "  for subimagename in os.listdir(folderPath):\n",
        "    subimage = cv2.imread(folderPath + \"/\" + subimagename)\n",
        "    if standardDeviationTensor.size == 0:\n",
        "      standardDeviationTensor = (subimage - meanTensor)**2\n",
        "    else:\n",
        "      standardDeviationTensor += (subimage - meanTensor)**2\n",
        "  \n",
        "  standardDeviationTensor = (standardDeviationTensor / (subimagesCount - 1))**0.5\n",
        "\n",
        "  return [meanTensor, standardDeviationTensor]\n",
        "\n",
        "#Normalize the images with Batch Norm inside a specific folder\n",
        "def normalizeSubimageWithBN(meanTensor, standardDeviationTensor, subimage):\n",
        "  if 0 in standardDeviationTensor:\n",
        "    print(\"Error: standard deviation tensor contains null value\")\n",
        "    return -1\n",
        "  return (subimage - meanTensor) / standardDeviationTensor"
      ],
      "execution_count": 14,
      "outputs": [
        {
          "output_type": "stream",
          "text": [
            "time: 60 ms\n"
          ],
          "name": "stdout"
        }
      ]
    },
    {
      "cell_type": "code",
      "metadata": {
        "id": "yfw9pEgKQIrQ",
        "outputId": "d4eb3671-7509-49b1-8db5-4708b9257b4d",
        "colab": {
          "base_uri": "https://localhost:8080/"
        }
      },
      "source": [
        "subimagesMeanTensor, subimagesSDTensor = returnBatchNormMeanAndStandarDeviationTensors(\"/content/train3_187_81_40_10_90\")\n",
        "\n",
        "if 0 in subimagesSDTensor:\n",
        "  print(\"There is a null value in the standard deviation tensor\")\n",
        "else:\n",
        "  print(\"All values inside the standard deviation tensor are strictly positive\")"
      ],
      "execution_count": null,
      "outputs": [
        {
          "output_type": "stream",
          "text": [
            "All values inside the standard deviation tensor are strictly positive\n"
          ],
          "name": "stdout"
        }
      ]
    },
    {
      "cell_type": "markdown",
      "metadata": {
        "id": "O6Mb4B53TbeN"
      },
      "source": [
        "Now, we implemented the Batch Normalization and we made sure no zero value is contained in the standard deviation tensor. "
      ]
    },
    {
      "cell_type": "markdown",
      "metadata": {
        "id": "b-NFdLSFWPlf"
      },
      "source": [
        "## **Random kernels**"
      ]
    },
    {
      "cell_type": "markdown",
      "metadata": {
        "id": "bcqhwMw8Wc0c"
      },
      "source": [
        "We must create b random kernels with origin at the central pixel and sizes w × h, w ≪ W and h ≪ H , whose coefficients c(q) = (c1(q), c2(q), c3(q)) (3 bands each), for each pixel q of the adjacency set A(p) with origin p, are random numbers. You should verify and discuss the differences of forcing and not forcing the coefficient vector of each kernel (i.e., the concatenation of all c(q)) to have the mean value of its elements equal to zero and norm equal to one."
      ]
    },
    {
      "cell_type": "code",
      "metadata": {
        "id": "EnLvulVVWVTg",
        "outputId": "7ed59780-8864-4d97-9b81-f6393ea15c71",
        "colab": {
          "base_uri": "https://localhost:8080/"
        }
      },
      "source": [
        "#creates b random kernels\n",
        "#coefficients inside the kernels could be normalized or not\n",
        "def returnRandombKernels(nkernels, width, height, nbands, normalized = True):\n",
        "  # we create n kernels randomly without normalization\n",
        "  if normalized == False:\n",
        "    \n",
        "    #return [torch.randn(height, width, nbands) for i in range(0, nkernels)]\n",
        "    return [np.random.rand(height, width, nbands) for i in range(0, nkernels)]\n",
        "  \n",
        "  # we create n kernels randomly then normalize each one of them\n",
        "  nkernelsArray = [np.random.rand(height, width, nbands) for i in range(0, nkernels)]\n",
        "  #nkernelsArray = [torch.randn(height, width, nbands) for i in range(0, nkernels)]\n",
        "  \n",
        "  i = 0\n",
        "  while i < nkernels:\n",
        "      #substracting the mean\n",
        "      kernelMean = np.sum(nkernelsArray[i]) / (height*width*nbands)\n",
        "      nkernelsArray[i] = nkernelsArray[i] - kernelMean\n",
        "\n",
        "      #normalizing the kernel\n",
        "      kernelnorm = np.sum(nkernelsArray[i]**2)/(height*width*nbands)\n",
        "      kernelnorm = kernelnorm**0.5\n",
        "      nkernelsArray[i] = nkernelsArray[i] / kernelnorm\n",
        "      \n",
        "      i += 1\n",
        "\n",
        "  return nkernelsArray"
      ],
      "execution_count": 15,
      "outputs": [
        {
          "output_type": "stream",
          "text": [
            "time: 31.5 ms\n"
          ],
          "name": "stdout"
        }
      ]
    },
    {
      "cell_type": "markdown",
      "metadata": {
        "id": "lThDnapMxwLB"
      },
      "source": [
        "We test with one example to check we get a kernel properly normalized with mean equal to 0 and norm equal to 1."
      ]
    },
    {
      "cell_type": "code",
      "metadata": {
        "id": "JtrW29iSYGPb",
        "outputId": "8e6dd55b-cc9e-455c-de1b-877ce26e44cd",
        "colab": {
          "base_uri": "https://localhost:8080/"
        }
      },
      "source": [
        "bKernels = np.array(returnRandombKernels(1, 3, 3, 3, True))\n",
        "\n",
        "meankernel = np.sum(bKernels[0]) / (2*4*3)\n",
        "\n",
        "norm = np.sum(bKernels[0]**2) / (2*4*3)\n",
        "norm = norm**0.5\n",
        "\n",
        "print(\"mean \", meankernel)\n",
        "print(\"norm \", norm)\n",
        "print(bKernels[0])"
      ],
      "execution_count": null,
      "outputs": [
        {
          "output_type": "stream",
          "text": [
            "mean  3.4463173056072566e-16\n",
            "norm  1.0606601717798212\n",
            "[[[-0.0792097   1.84478187 -1.2671353 ]\n",
            "  [ 0.35854882 -0.98370096 -0.95963122]\n",
            "  [-0.74327255 -1.44796954 -0.22123495]]\n",
            "\n",
            " [[ 0.10143208 -0.84638992  1.34070112]\n",
            "  [-0.86968997  0.4446246  -1.22737078]\n",
            "  [-0.01064509 -1.35354779  1.22585608]]\n",
            "\n",
            " [[-0.93798125  1.16661126 -0.97831601]\n",
            "  [ 1.27504358  0.88991354  0.81117963]\n",
            "  [ 0.7549008   1.42210674  0.29039493]]]\n"
          ],
          "name": "stdout"
        }
      ]
    },
    {
      "cell_type": "markdown",
      "metadata": {
        "id": "SjZE82QWyK_Q"
      },
      "source": [
        "We get the results as expected. Now, we can implement the convolution."
      ]
    },
    {
      "cell_type": "markdown",
      "metadata": {
        "id": "pOTB5WdgxqvK"
      },
      "source": [
        "## **Convolution with the kernel bank**"
      ]
    },
    {
      "cell_type": "markdown",
      "metadata": {
        "id": "F-v5hf5ayRPi"
      },
      "source": [
        "The convolution with the created kernel bank will output images Cˆi = (DI,Ci) with b bands each, such that\n",
        "(2)\n",
        "(Iij(p) − μj(p))2, (3)\n",
        "Ci(p) =   ⟨Ji(q), c(q)⟩."
      ]
    },
    {
      "cell_type": "code",
      "metadata": {
        "id": "tzZNYQ8eyVYv",
        "outputId": "fca5e790-41df-4426-acb0-a87b0bf8ea0b",
        "colab": {
          "base_uri": "https://localhost:8080/"
        }
      },
      "source": [
        "def returnConvolution(image, kernel):\n",
        "  kwidth = kernel.shape[1]\n",
        "  kheight = kernel.shape[0]\n",
        "  imagewidth = image.shape[1]\n",
        "  imageheight = image.shape[0]\n",
        "\n",
        "  imagepaddedwidth = imagewidth + 2*(kwidth // 2)\n",
        "  imagepaddedheight = imageheight + 2*(kheight // 2)\n",
        "\n",
        "  imagepadded = np.zeros((imagepaddedheight, imagepaddedwidth, image.shape[2]))\n",
        "\n",
        "  imagepadded[kheight // 2: -1*(kheight // 2), kwidth // 2:-1*(kwidth // 2), :] = image[:,:,:].copy()\n",
        "\n",
        "  convo = np.zeros((image.shape[0], image.shape[1]))\n",
        "\n",
        "  for y in range(image.shape[0]):\n",
        "    for x in range(image.shape[1]):\n",
        "      convo[y,x] = (imagepadded[ y : y + kheight, x: x + kwidth, :] * kernel).sum()\n",
        "  \n",
        "  return convo\n",
        "\n",
        "#create convoluted image with b bands\n",
        "def returnBbandsConvoImage(image, nkernelsArray):\n",
        "  bBandsConvoImage = np.zeros((image.shape[0], image.shape[1], len(nkernelsArray)))\n",
        "  for index, kernel in enumerate(nkernelsArray):\n",
        "    bBandsConvoImage[:,:,index] = returnConvolution(image, kernel)\n",
        "  return bBandsConvoImage"
      ],
      "execution_count": 16,
      "outputs": [
        {
          "output_type": "stream",
          "text": [
            "time: 13.4 ms\n"
          ],
          "name": "stdout"
        }
      ]
    },
    {
      "cell_type": "code",
      "metadata": {
        "id": "O8FUV7IIXOdN",
        "outputId": "e2576cba-4f79-4672-c6fd-e3ea8ba6be08",
        "colab": {
          "base_uri": "https://localhost:8080/"
        }
      },
      "source": [
        "bKernels = np.array(returnRandombKernels(10, 3, 5, 3, True))\n",
        "\n",
        "test_image_path = \"/content/plates/orig_0048.png\"\n",
        "\n",
        "#Import image\n",
        "subimage = cv2.imread(test_image_path)\n",
        "\n",
        "subimageconvoluted = returnConvolution(subimage, bKernels[0])\n",
        "\n",
        "print(\"Convolution shape \", subimageconvoluted.shape)"
      ],
      "execution_count": null,
      "outputs": [
        {
          "output_type": "stream",
          "text": [
            "Convolution shape  (240, 352)\n"
          ],
          "name": "stdout"
        }
      ]
    },
    {
      "cell_type": "code",
      "metadata": {
        "id": "Obi48COAgIVb",
        "outputId": "9fdfbd85-809f-4ffd-f566-f2b82897c33b",
        "colab": {
          "base_uri": "https://localhost:8080/"
        }
      },
      "source": [
        "bBandsImageresult = returnBbandsConvoImage(subimage, bKernels)\n",
        "\n",
        "print(\"shape \",bBandsImageresult.shape )"
      ],
      "execution_count": null,
      "outputs": [
        {
          "output_type": "stream",
          "text": [
            "shape  (240, 352, 10)\n"
          ],
          "name": "stdout"
        }
      ]
    },
    {
      "cell_type": "code",
      "metadata": {
        "id": "Oia8Hvz_av_n",
        "outputId": "faaa97e7-421d-42f1-dda0-89c154f0ab30",
        "colab": {
          "base_uri": "https://localhost:8080/",
          "height": 269
        }
      },
      "source": [
        "plt.imshow(subimage)\n",
        "plt.show()"
      ],
      "execution_count": null,
      "outputs": [
        {
          "output_type": "display_data",
          "data": {
            "image/png": "[encoded data removed]",
            "text/plain": [
              "<Figure size 432x288 with 1 Axes>"
            ]
          },
          "metadata": {
            "tags": [],
            "needs_background": "light"
          }
        }
      ]
    },
    {
      "cell_type": "markdown",
      "metadata": {
        "id": "iKEuhITr5OCM"
      },
      "source": [
        "## **ReLU**"
      ]
    },
    {
      "cell_type": "markdown",
      "metadata": {
        "id": "Lgz6cSQV6YgU"
      },
      "source": [
        "Given the definition of the ReLU function, we implemented the function as follows."
      ]
    },
    {
      "cell_type": "code",
      "metadata": {
        "id": "byZcZfKn5PRb",
        "outputId": "42af7c4a-0f0e-42d3-e302-f45ee272ae60",
        "colab": {
          "base_uri": "https://localhost:8080/"
        }
      },
      "source": [
        "def reLU(image):\n",
        "  image[image < 0] = 0\n",
        "  return image"
      ],
      "execution_count": 17,
      "outputs": [
        {
          "output_type": "stream",
          "text": [
            "time: 978 µs\n"
          ],
          "name": "stdout"
        }
      ]
    },
    {
      "cell_type": "markdown",
      "metadata": {
        "id": "fy_491EHruTb"
      },
      "source": [
        "## **Model performance functions** "
      ]
    },
    {
      "cell_type": "markdown",
      "metadata": {
        "id": "FdFbVvsgrzB6"
      },
      "source": [
        "In this section, we define two scores to evaluate the performance of the model on the training set. \n",
        "\n",
        "The first score is the percentage of pixels activated in the plate region of the subimage, over the total number of pixels included inside the plate region in the subimage.\n",
        "\n",
        "The second score, similar to the first one, is the percentage of deactivated pixels, laying outside the plate region, over the total number of pixels outside the plate region in the subimage.\n",
        "\n",
        "The higher the two scores, the better the model performance. Since our focus is to build a model that aim to activate as many pixels inside the plate region as possible, the first score is the most important metric."
      ]
    },
    {
      "cell_type": "code",
      "metadata": {
        "id": "RuDxF7gbmivN",
        "outputId": "bb4fe5b6-fc77-4d86-8088-bb99522c74a5",
        "colab": {
          "base_uri": "https://localhost:8080/"
        }
      },
      "source": [
        "def computeScoresPerKernel(resultsDf):\n",
        "  nkernelsarray = resultsDf.kernelID.unique()\n",
        "  pixelsActivatedScoresArray = []\n",
        "  outsidePlateDeactivatedPixelsScoresArray = []\n",
        "  kernelIDArray = []\n",
        "\n",
        "  for kernelID in nkernelsarray: \n",
        "    kernelPlatePixelsActivatedDf = resultsDf[(resultsDf.kernelID == kernelID ) & (resultsDf.percentagePlatePixelsActivated > -1)].copy()\n",
        "    kernelOutsidePlateDeactivatedDf = resultsDf[resultsDf.kernelID == kernelID ].copy()\n",
        "    averageOutsidePixelsDeactivated = kernelOutsidePlateDeactivatedDf.percentageDeactivatedPixelsOutsidePlate.mean()\n",
        "    averagePlatePixelsActivated = 0\n",
        "    if kernelPlatePixelsActivatedDf.percentagePlatePixelsActivated.count() > 0:\n",
        "      averagePlatePixelsActivated = kernelPlatePixelsActivatedDf.percentagePlatePixelsActivated.mean()\n",
        "    pixelsActivatedScoresArray.append( 100*averagePlatePixelsActivated)\n",
        "    outsidePlateDeactivatedPixelsScoresArray.append(100*(1- averageOutsidePixelsDeactivated))\n",
        "    kernelIDArray.append(\"kernel_\" + str(kernelID))\n",
        "  \n",
        "  return [kernelIDArray, pixelsActivatedScoresArray, outsidePlateDeactivatedPixelsScoresArray]\n",
        "\n",
        "#plots the two scores to view results per kernel\n",
        "def plotScores(modelScoresArray):\n",
        "\n",
        "  fig, ax = plt.subplots()\n",
        "  ax.scatter(modelScoresArray[1], modelScoresArray[2])\n",
        "\n",
        "  plt.title(\"Average scores per kernel\")\n",
        "  plt.xlabel(\"% activated pixels inside plate region\")\n",
        "  plt.ylabel(\"% deactivated pixels outside plate region\")\n",
        "\n",
        "  for i, txt in enumerate(modelScoresArray[0]):\n",
        "      ax.annotate(txt, (modelScoresArray[1][i], modelScoresArray[2][i]))"
      ],
      "execution_count": 25,
      "outputs": [
        {
          "output_type": "stream",
          "text": [
            "time: 23.9 ms\n"
          ],
          "name": "stdout"
        }
      ]
    },
    {
      "cell_type": "code",
      "metadata": {
        "id": "X4PT-v_LsgI0",
        "outputId": "79ec1968-32fd-40f7-de4e-75ec913a1869",
        "colab": {
          "base_uri": "https://localhost:8080/"
        }
      },
      "source": [
        "def returnScores(subimage, submask):\n",
        "  submaskOutsidePlate = submask[:, :, 0].copy() \n",
        "  submaskInsidePlate = submask[:, :, 0].copy()\n",
        "\n",
        "  submaskOutsidePlate[submaskOutsidePlate > 0] = 2 #inside plate is equal to 2\n",
        "  submaskOutsidePlate[submaskOutsidePlate == 0] = 1 #outside plate is equal to 1\n",
        "  submaskOutsidePlate[submaskOutsidePlate == 2] = 0 #inside plate is equal to 0\n",
        "\n",
        "  submaskInsidePlate[submaskInsidePlate > 0] = 1\n",
        "\n",
        "  subimagecopy = subimage.copy()\n",
        "  subimagecopy[subimagecopy > 0] = 1\n",
        "  \n",
        "  nPlatePixels = np.sum(submaskInsidePlate)\n",
        "  nActivatedPlatePixels = np.sum(subimagecopy*submaskInsidePlate)\n",
        "\n",
        "  nDeactivatedPixelsOutsidePlate = np.sum(subimagecopy*submaskOutsidePlate)\n",
        "\n",
        "  percentagePlatePixelsActivated = -1\n",
        "  if nPlatePixels > 0:\n",
        "    percentagePlatePixelsActivated = nActivatedPlatePixels/nPlatePixels\n",
        "  \n",
        "  width = submask.shape[1]\n",
        "  height = submask.shape[0]\n",
        "\n",
        "  percentageDeactivatedPixelsOutsidePlate = nDeactivatedPixelsOutsidePlate/(width * height - nPlatePixels) \n",
        "\n",
        "  return [percentagePlatePixelsActivated, percentageDeactivatedPixelsOutsidePlate]\n",
        "\n",
        "#Returns the percentage of activated pixels over the total number of pixels that figure \n",
        "#inside the plate region in the subimage\n",
        "def returnPercentageActivatedPixelsInPlateRegion(subimage, submask):\n",
        "  width = submask.shape[1]\n",
        "  height = submask.shape[0]\n",
        "\n",
        "  nPlatePixels = 0\n",
        "  nActivatedPlatePixels = 0\n",
        "  nDeactivatedPixelsOutsidePlate = 0\n",
        "  \n",
        "  i = 0\n",
        "  while i < height:\n",
        "    j = 0\n",
        "    while j < width:\n",
        "      #pixel value != 0 => inside plate region\n",
        "      if submask[i][j][0] != 0:\n",
        "        nPlatePixels += 1\n",
        "        \n",
        "        #pixel was activated \n",
        "        if subimage[i][j] > 0:\n",
        "          nActivatedPlatePixels += 1\n",
        "      \n",
        "      #pixel value = 0 => outside plate region\n",
        "      else:\n",
        "        #pixel was deactivated\n",
        "        if subimage[i][j] == 0:\n",
        "          nDeactivatedPixelsOutsidePlate += 1\n",
        "      \n",
        "      j += 1\n",
        "    i += 1\n",
        "\n",
        "  percentagePlatePixelsActivated = -1\n",
        "  if nPlatePixels > 0:\n",
        "    percentagePlatePixelsActivated = nActivatedPlatePixels/nPlatePixels\n",
        "  \n",
        "  percentageDeactivatedPixelsOutsidePlate = nDeactivatedPixelsOutsidePlate/(width * height - nPlatePixels)\n",
        "\n",
        "  return [percentagePlatePixelsActivated, percentageDeactivatedPixelsOutsidePlate]"
      ],
      "execution_count": 19,
      "outputs": [
        {
          "output_type": "stream",
          "text": [
            "time: 36.1 ms\n"
          ],
          "name": "stdout"
        }
      ]
    },
    {
      "cell_type": "code",
      "metadata": {
        "id": "78_b6MCEwTFg",
        "outputId": "169ea96c-07f1-4f40-bf6d-40b52917a5d6",
        "colab": {
          "base_uri": "https://localhost:8080/"
        }
      },
      "source": [
        "subimg = cv2.imread(\"/content/orig_0002.png\")[100:150,100:250,:]\n",
        "maskimg = cv2.imread(\"/content/mask_0002.png\")[100:150,100:250,:]\n",
        "\n",
        "percentagePlatePixelsActivated, percentageDeactivatedPixelsOutsidePlate = returnPercentageActivatedPixelsInPlateRegion(subimg, maskimg)"
      ],
      "execution_count": null,
      "outputs": [
        {
          "output_type": "stream",
          "text": [
            "1.0 - 0.00020610057708161583\n"
          ],
          "name": "stdout"
        }
      ]
    },
    {
      "cell_type": "markdown",
      "metadata": {
        "id": "L7qARj0b2WHm"
      },
      "source": [
        "## **Selecting the kernels from the kernel bank**"
      ]
    },
    {
      "cell_type": "markdown",
      "metadata": {
        "id": "Y7OrnkWw2bAs"
      },
      "source": [
        "In order to select the best kernels, we run the function for computing the performance of each kernel and then from there select the best kernels from the kernel bank.\n",
        "\n",
        "After that, we apply those kernels to the test set for a final evaluation of the model."
      ]
    },
    {
      "cell_type": "markdown",
      "metadata": {
        "id": "v9VJEHsEEpQF"
      },
      "source": [
        "## **Main task**"
      ]
    },
    {
      "cell_type": "markdown",
      "metadata": {
        "id": "HX6yxC2TEraS"
      },
      "source": [
        "In this section, we analyze the output of each kernel using the training set, and verify for several choices of the above parameters which kernels best enhance the characters of the plate, while reducing the regions of false positives in background patches. \n",
        "\n",
        "We will compare those kernels with a simple Sobel filter to enhance vertical edges. We will then select the best kernels manually and apply them on the testing set. The report will present a discussion, results, and conclusions from this experiment."
      ]
    },
    {
      "cell_type": "markdown",
      "metadata": {
        "id": "643x9BI3EwK4"
      },
      "source": [
        "## **Model configurations**"
      ]
    },
    {
      "cell_type": "markdown",
      "metadata": {
        "id": "TRv_a0SzEy5c"
      },
      "source": [
        "In this project, we test various configurations of the model:\n",
        "\n",
        "1. we test the effect of batch normalization\n",
        "2. we test for sizes of the kernel. We try: 3x3, 5x5, and 3x5\n",
        "3. we test whether we normalize the kernel\n",
        "\n",
        "So, we have the following configurations:\n",
        "\n",
        "1. BN + size of kernel + kernel normalized\n",
        "2. BN + size of kernel + kernel without normalization\n",
        "3. no BN + size of kernel + kernel normalized\n",
        "\n",
        "the third possibility: no BN + size of kernel + kenel without normalization won't be experimented, since we will end up with only positive values for all the pixels after the activation function ReLU. The ending result would be that the model activated every pixel in the subimages. For that reason, we discard this configuration from the study.\n",
        "\n",
        "In total, we test 9 variations of the model.\n",
        "\n"
      ]
    },
    {
      "cell_type": "code",
      "metadata": {
        "id": "tdjRz3z05LTN"
      },
      "source": [
        "def saveTensor(tensor, tensorFullpath):\n",
        "  tensor = tensor.reshape(tensor.shape[0], -1)\n",
        "  print(tensor.shape)\n",
        "  #tensor.to_csv(tensorFullpath)"
      ],
      "execution_count": null,
      "outputs": []
    },
    {
      "cell_type": "code",
      "metadata": {
        "id": "AJHhDzAhVJoc"
      },
      "source": [
        "saveTensor(bKernels[0], \"tensortest.csv\")\n",
        "bKernels[0]"
      ],
      "execution_count": null,
      "outputs": []
    },
    {
      "cell_type": "markdown",
      "metadata": {
        "id": "Bxi6zvRkYwDa"
      },
      "source": [
        "## **Main**"
      ]
    },
    {
      "cell_type": "markdown",
      "metadata": {
        "id": "46QqahNDiehp"
      },
      "source": [
        "**Nomenclature functions**"
      ]
    },
    {
      "cell_type": "code",
      "metadata": {
        "id": "1Gjk9AU7ieAz",
        "outputId": "2a083d1b-ea50-4dad-ca63-ad89b29d25c9",
        "colab": {
          "base_uri": "https://localhost:8080/"
        }
      },
      "source": [
        "def returnSubimageDimensionsCenterCoordinates(imagename):\n",
        "  imagename = imagename.replace(\".png\", \"\")\n",
        "  elementsArray = imagename.split(\"_\")\n",
        "  imageID = elementsArray[1]\n",
        "  width = int(elementsArray[2])\n",
        "  height = int(elementsArray[3])\n",
        "  xcenter = int(elementsArray[4])\n",
        "  ycenter = int(elementsArray[5])\n",
        "  imageclass = int(elementsArray[6])\n",
        "  return [imageID, width, height, xcenter, ycenter, imageclass]"
      ],
      "execution_count": 20,
      "outputs": [
        {
          "output_type": "stream",
          "text": [
            "time: 5.4 ms\n"
          ],
          "name": "stdout"
        }
      ]
    },
    {
      "cell_type": "code",
      "metadata": {
        "id": "8AAqACpfYu0n",
        "outputId": "3f474817-563c-4d67-b355-0a4538884da1",
        "colab": {
          "base_uri": "https://localhost:8080/"
        }
      },
      "source": [
        "def launchModelEvaluation(trainingsetName, trainFolder, maskFolderPath, modelOptions):\n",
        "\n",
        "  meanTensor = np.array([])\n",
        "  standardDeviationTensor = np.array([])\n",
        "\n",
        "  kernelresultsDF = pd.DataFrame(columns = [\"TrainingSet\", 'Imagename', \"kernelID\", 'percentagePlatePixelsActivated', 'percentageDeactivatedPixelsOutsidePlate'])\n",
        "\n",
        "  if modelOptions[\"batchnormalization\"] == True:\n",
        "    meanTensor, standardDeviationTensor = returnBatchNormMeanAndStandarDeviationTensors(trainFolder)\n",
        "    \n",
        "  bKernels = np.array(returnRandombKernels(modelOptions[\"kernelBank\"][\"nkernels\"], modelOptions[\"kernelBank\"][\"width\"], modelOptions[\"kernelBank\"][\"height\"], modelOptions[\"kernelBank\"][\"nbands\"], modelOptions[\"kernelBank\"][\"normalized\"]))  \n",
        "\n",
        "  imageprocessed = 0\n",
        "\n",
        "  for imagename in os.listdir(trainFolder):\n",
        "    image = cv2.imread(trainFolder + imagename)\n",
        "    \n",
        "    #Batch Normalization if set to True\n",
        "    if modelOptions[\"batchnormalization\"] == True:\n",
        "      image = normalizeSubimageWithBN(meanTensor, standardDeviationTensor, image)\n",
        "\n",
        "    #Convolution with kernel bank\n",
        "    bBandsConvoImage = returnBbandsConvoImage(image, bKernels)\n",
        "    \n",
        "    #ReLU\n",
        "    bBandsImages = reLU(bBandsConvoImage)\n",
        "\n",
        "    imageID, width, height, xcenter, ycenter, imageclass = returnSubimageDimensionsCenterCoordinates(imagename)\n",
        "    imagemask = cv2.imread(maskFolderPath + \"mask_\" + imageID + \".png\", 1)\n",
        "    submask = returnSubimageWith(width, height, xcenter, ycenter, imagemask)\n",
        "\n",
        "    #getting model scores on image\n",
        "    index = 0\n",
        "    while index < bBandsImages.shape[2]:\n",
        "      #percentagePlatePixelsActivated, percentageDeactivatedPixelsOutsidePlate = returnPercentageActivatedPixelsInPlateRegion(bBandsImages[:,:,index], submask)\n",
        "      percentagePlatePixelsActivated, percentageDeactivatedPixelsOutsidePlate = returnScores(bBandsImages[:,:,index], submask)\n",
        "      kernelresultsDF = kernelresultsDF.append({\"TrainingSet\": trainingsetName,'Imagename' : imagename, 'kernelID' : index, 'percentagePlatePixelsActivated' : percentagePlatePixelsActivated, \"percentageDeactivatedPixelsOutsidePlate\": percentageDeactivatedPixelsOutsidePlate},  \n",
        "                ignore_index = True)\n",
        "\n",
        "      index += 1\n",
        "\n",
        "    imageprocessed +=1\n",
        "    if imageprocessed % 2000 == 0:\n",
        "      print(\"Number of images processed \", imageprocessed)\n",
        "\n",
        "  return [bKernels, kernelresultsDF]"
      ],
      "execution_count": 21,
      "outputs": [
        {
          "output_type": "stream",
          "text": [
            "time: 30.7 ms\n"
          ],
          "name": "stdout"
        }
      ]
    },
    {
      "cell_type": "code",
      "metadata": {
        "id": "S86JMOGQhkTd"
      },
      "source": [
        "trainsetName = \"Trainset1\"\n",
        "trainFolderPath = \"/content/train1_187_95_40_20_90/\"\n",
        "maskFolder = \"plates/\"\n",
        "\n",
        "modelOptionsObj = {\"batchnormalization\": True, \"kernelBank\":{\"nkernels\": 10, \"width\": 3, \"height\": 3, \"nbands\": 3, \"normalized\":True }}\n",
        "\n",
        "trainset1bKernelsUsed, trainset1resultsDataFrame = launchModelEvaluation(trainsetName, trainFolderPath, maskFolder, modelOptionsObj)"
      ],
      "execution_count": null,
      "outputs": []
    },
    {
      "cell_type": "code",
      "metadata": {
        "id": "EL--EGBJaHkh",
        "outputId": "25b515e4-338e-4550-e4b1-62fc9ae58f68",
        "colab": {
          "base_uri": "https://localhost:8080/"
        }
      },
      "source": [
        "def launchModelTestEvaluation(trainingsetName, trainFolder, maskFolderPath, modelOptions, meanTensor, standardDeviationTensor, bKernels, kernelIDsarray):\n",
        "\n",
        "  kernelresultsDF = pd.DataFrame(columns = [\"TestSet\", 'Imagename', \"kernelID\", 'percentagePlatePixelsActivated', 'percentageDeactivatedPixelsOutsidePlate'])\n",
        "\n",
        "  imageprocessed = 0\n",
        "\n",
        "  for imagename in os.listdir(trainFolder):\n",
        "    image = cv2.imread(trainFolder + imagename)\n",
        "    \n",
        "    #Batch Normalization if set to True\n",
        "    if modelOptions[\"batchnormalization\"] == True:\n",
        "      image = normalizeSubimageWithBN(meanTensor, standardDeviationTensor, image)\n",
        "\n",
        "    #Convolution with kernel bank\n",
        "    bBandsConvoImage = returnBbandsConvoImage(image, bKernels)\n",
        "    \n",
        "    #ReLU\n",
        "    bBandsImages = reLU(bBandsConvoImage)\n",
        "\n",
        "    imageID, width, height, xcenter, ycenter, imageclass = returnSubimageDimensionsCenterCoordinates(imagename)\n",
        "    imagemask = cv2.imread(maskFolderPath + \"mask_\" + imageID + \".png\", 1)\n",
        "    submask = returnSubimageWith(width, height, xcenter, ycenter, imagemask)\n",
        "\n",
        "    #getting model scores on image\n",
        "    index = 0\n",
        "    while index < bBandsImages.shape[2]:\n",
        "      #percentagePlatePixelsActivated, percentageDeactivatedPixelsOutsidePlate = returnPercentageActivatedPixelsInPlateRegion(bBandsImages[:,:,index], submask)\n",
        "      percentagePlatePixelsActivated, percentageDeactivatedPixelsOutsidePlate = returnScores(bBandsImages[:,:,index], submask)\n",
        "      kernelresultsDF = kernelresultsDF.append({\"TestSet\": trainingsetName,'Imagename' : imagename, 'kernelID' : kernelIDsarray[index], 'percentagePlatePixelsActivated' : percentagePlatePixelsActivated, \"percentageDeactivatedPixelsOutsidePlate\": percentageDeactivatedPixelsOutsidePlate},  \n",
        "                ignore_index = True)\n",
        "\n",
        "      index += 1\n",
        "\n",
        "    imageprocessed +=1\n",
        "    if imageprocessed % 2000 == 0:\n",
        "      print(\"Number of images processed \", imageprocessed)\n",
        "\n",
        "  return kernelresultsDF"
      ],
      "execution_count": 24,
      "outputs": [
        {
          "output_type": "stream",
          "text": [
            "time: 18.8 ms\n"
          ],
          "name": "stdout"
        }
      ]
    },
    {
      "cell_type": "code",
      "metadata": {
        "id": "kktyyvI0cUfB",
        "outputId": "66aa3e8d-7c76-437a-d79e-b3905d32f5fe",
        "colab": {
          "base_uri": "https://localhost:8080/",
          "height": 1000
        }
      },
      "source": [
        "modelOptionsObj1 = {\"batchnormalization\": True, \"kernelBank\":{\"nkernels\": 10, \"width\": 3, \"height\": 3, \"nbands\": 3, \"normalized\":True }}\n",
        "modelOptionsObj2 = {\"batchnormalization\": False, \"kernelBank\":{\"nkernels\": 10, \"width\": 3, \"height\": 3, \"nbands\": 3, \"normalized\":True }}\n",
        "modelOptionsObj3 = {\"batchnormalization\": True, \"kernelBank\":{\"nkernels\": 10, \"width\": 3, \"height\": 3, \"nbands\": 3, \"normalized\":False }}\n",
        "modelOptionsObj4 = {\"batchnormalization\": True, \"kernelBank\":{\"nkernels\": 10, \"width\": 5, \"height\": 5, \"nbands\": 3, \"normalized\":True }}\n",
        "modelOptionsObj5 = {\"batchnormalization\": True, \"kernelBank\":{\"nkernels\": 10, \"width\": 7, \"height\": 3, \"nbands\": 3, \"normalized\":True }}\n",
        "\n",
        "#modelOptionsObjarray = [modelOptionsObj1, modelOptionsObj2, modelOptionsObj3, modelOptionsObj4, modelOptionsObj5]\n",
        "\n",
        "modelOptionsObjarray = [ modelOptionsObj1]\n",
        "\n",
        "#trainsetNamearray = [\"Trainset1\", \"Trainset2\", \"Trainset3\"]\n",
        "#testsetNamearray = [\"Testset1\", \"Testset2\", \"Testset3\"]\n",
        "\n",
        "trainsetNamearray = [\"Trainset1\"]\n",
        "testsetNamearray = [\"Testset1\"]\n",
        "\n",
        "\n",
        "trainFolderPatharray = [\"/content/train1_187_95_40_20_90/\", \"/content/train2_187_95_40_20_90/\", \"/content/train3_187_95_40_20_90/\"]\n",
        "testFolderPatharray = [\"/content/test1_187_95_40_20_90/\", \"/content/test2_187_95_40_20_90/\", \"/content/test3_187_95_40_20_90/\"]\n",
        "\n",
        "maskFolder = \"plates/\"\n",
        "\n",
        "j = 0\n",
        "modelprename = \"model\"\n",
        "\n",
        "kernelsSet = []\n",
        "\n",
        "print(\"starting...\")\n",
        "print()\n",
        "\n",
        "for modelOptionsObj in modelOptionsObjarray:\n",
        "  i = 0\n",
        "  j += 1\n",
        "\n",
        "  while i < len(trainsetNamearray):\n",
        "    \n",
        "    trainsetName = trainsetNamearray[i]\n",
        "    trainFolderPath = trainFolderPatharray[i]\n",
        "\n",
        "    trainsetbKernelsUsed, trainsetresultsDataFrame = launchModelEvaluation(trainsetName, trainFolderPath, maskFolder, modelOptionsObj)\n",
        "\n",
        "    kernelsSet.append(trainsetbKernelsUsed)\n",
        "\n",
        "    modelname = modelprename + str(j) + \"_\" + trainsetName + \"results.csv\"\n",
        "    trainsetresultsDataFrame.to_csv(modelname)\n",
        "    files.download(modelname)\n",
        "\n",
        "    #TEST part\n",
        "    meanTens = np.array([])\n",
        "    standardDeviationTens = np.array([])\n",
        "    if modelOptionsObj[\"batchnormalization\"] == True:\n",
        "      meanTens, standardDeviationTens = returnBatchNormMeanAndStandarDeviationTensors(trainFolderPath)\n",
        "\n",
        "    testsetName = testsetNamearray[i]\n",
        "    testFolderPath= testFolderPatharray[i]\n",
        "\n",
        "    #testResultDataframe = launchModelTestEvaluation(testsetName, testFolderPath, maskFolder, modelOptionsObj, meanTens, standardDeviationTens, trainsetbKernelsUsed)\n",
        "    #modelname = modelprename + str(j) + \"_\" + testsetName + \"results.csv\"\n",
        "    #testResultDataframe.to_csv(modelname)\n",
        "    #files.download(modelname)\n",
        "\n",
        "    i += 1\n",
        "  \n",
        "  print(\"Model \", j)\n",
        "\n",
        "\n",
        "print(\"Model 1 kernels\")\n",
        "\n",
        "i = 0\n",
        "for kernel in trainsetbKernelsUsed:\n",
        "  print(\"kernel \", i)\n",
        "  print(kernel)\n",
        "  print()\n",
        "  i+=1"
      ],
      "execution_count": null,
      "outputs": [
        {
          "output_type": "stream",
          "text": [
            "starting...\n",
            "\n",
            "Number of images processed  500\n",
            "Number of images processed  1000\n",
            "Number of images processed  1500\n",
            "Number of images processed  2000\n",
            "Number of images processed  2500\n",
            "Number of images processed  3000\n",
            "Number of images processed  3500\n",
            "Number of images processed  4000\n"
          ],
          "name": "stdout"
        },
        {
          "output_type": "display_data",
          "data": {
            "application/javascript": [
              "\n",
              "    async function download(id, filename, size) {\n",
              "      if (!google.colab.kernel.accessAllowed) {\n",
              "        return;\n",
              "      }\n",
              "      const div = document.createElement('div');\n",
              "      const label = document.createElement('label');\n",
              "      label.textContent = `Downloading \"${filename}\": `;\n",
              "      div.appendChild(label);\n",
              "      const progress = document.createElement('progress');\n",
              "      progress.max = size;\n",
              "      div.appendChild(progress);\n",
              "      document.body.appendChild(div);\n",
              "\n",
              "      const buffers = [];\n",
              "      let downloaded = 0;\n",
              "\n",
              "      const channel = await google.colab.kernel.comms.open(id);\n",
              "      // Send a message to notify the kernel that we're ready.\n",
              "      channel.send({})\n",
              "\n",
              "      for await (const message of channel.messages) {\n",
              "        // Send a message to notify the kernel that we're ready.\n",
              "        channel.send({})\n",
              "        if (message.buffers) {\n",
              "          for (const buffer of message.buffers) {\n",
              "            buffers.push(buffer);\n",
              "            downloaded += buffer.byteLength;\n",
              "            progress.value = downloaded;\n",
              "          }\n",
              "        }\n",
              "      }\n",
              "      const blob = new Blob(buffers, {type: 'application/binary'});\n",
              "      const a = document.createElement('a');\n",
              "      a.href = window.URL.createObjectURL(blob);\n",
              "      a.download = filename;\n",
              "      div.appendChild(a);\n",
              "      a.click();\n",
              "      div.remove();\n",
              "    }\n",
              "  "
            ],
            "text/plain": [
              "<IPython.core.display.Javascript object>"
            ]
          },
          "metadata": {
            "tags": []
          }
        },
        {
          "output_type": "display_data",
          "data": {
            "application/javascript": [
              "download(\"download_3b20c432-e1ab-41e3-a19b-f7f98f183dce\", \"model1_Trainset1results.csv\", 3233910)"
            ],
            "text/plain": [
              "<IPython.core.display.Javascript object>"
            ]
          },
          "metadata": {
            "tags": []
          }
        },
        {
          "output_type": "stream",
          "text": [
            "Model  1\n",
            "Model 1 kernels\n",
            "kernel  0\n",
            "[[[-0.92813504 -1.60193959  1.06812273]\n",
            "  [ 0.53740597  1.20832704  0.10121898]\n",
            "  [-0.00795904 -1.07644709 -0.60571016]]\n",
            "\n",
            " [[-1.20078185  1.87117512 -1.20670207]\n",
            "  [ 0.00646715 -0.44198345 -0.06672964]\n",
            "  [-1.11525659  0.89730314 -0.23860353]]\n",
            "\n",
            " [[ 1.69483942  0.42247465  0.73686667]\n",
            "  [ 0.25940569 -0.61876108  1.84790727]\n",
            "  [-1.72013075  0.02490962  0.15271644]]]\n",
            "\n",
            "kernel  1\n",
            "[[[ 1.40143075  0.26086177  0.70453523]\n",
            "  [ 1.11352672  0.99520095 -0.59724033]\n",
            "  [-0.99993076 -0.96372664  1.51413677]]\n",
            "\n",
            " [[ 0.41441632  0.9438536  -0.96030802]\n",
            "  [ 1.4260765  -0.10539928 -0.33655447]\n",
            "  [-0.56743854 -1.71632193  0.74666126]]\n",
            "\n",
            " [[-1.25878451  0.95582192  1.0959302 ]\n",
            "  [-0.60137535 -1.76696204 -0.83904979]\n",
            "  [-1.26222839 -0.05719172  0.46005978]]]\n",
            "\n",
            "kernel  2\n",
            "[[[-0.54755466 -0.70086094  1.31006344]\n",
            "  [ 1.32232808 -0.84035002 -0.39825457]\n",
            "  [-0.73231378  0.27904765  0.86297448]]\n",
            "\n",
            " [[-0.68165261  1.11877664 -0.94556071]\n",
            "  [ 1.22776378  0.41435128  0.40142464]\n",
            "  [-0.23664844 -0.84527087  1.20742554]]\n",
            "\n",
            " [[-0.26613144  1.031532    0.66670081]\n",
            "  [-1.71971424  0.59853102 -1.64548867]\n",
            "  [-0.62365469  1.57666338 -1.83412708]]]\n",
            "\n",
            "kernel  3\n",
            "[[[-0.61654748 -0.88509662 -0.79267154]\n",
            "  [ 1.3013555  -0.2756251  -1.38370409]\n",
            "  [ 1.25668971  1.83956527 -0.84769147]]\n",
            "\n",
            " [[-1.02558469  1.09210119  0.04761137]\n",
            "  [-0.46711968 -0.22497782  1.76791282]\n",
            "  [-0.05851766 -1.66832652  0.14531503]]\n",
            "\n",
            " [[-0.39648568 -1.5487315   1.2274585 ]\n",
            "  [ 0.20188882  1.31222911  0.75603406]\n",
            "  [-0.33120133  0.41797326 -0.84385344]]]\n",
            "\n",
            "kernel  4\n",
            "[[[-1.13188707 -0.86337837  0.65572686]\n",
            "  [-0.9762594  -0.14513387 -0.00421661]\n",
            "  [ 0.88332087  0.94303835  1.16773108]]\n",
            "\n",
            " [[-1.0973578  -0.4102596  -1.38547273]\n",
            "  [-0.21554469 -0.32383942 -1.34291124]\n",
            "  [ 0.89455136 -1.36033066 -1.46374427]]\n",
            "\n",
            " [[ 1.26329732 -1.25221225  1.01975075]\n",
            "  [ 0.73735268  1.92514711  1.18041716]\n",
            "  [ 0.60472589  0.20733872  0.49014985]]]\n",
            "\n",
            "kernel  5\n",
            "[[[-1.16579156 -1.46357168  0.66218467]\n",
            "  [-0.33383648  0.32451818 -0.77334944]\n",
            "  [ 1.21383938 -1.43754571  0.38622593]]\n",
            "\n",
            " [[ 1.15223373  1.43153625 -1.63629922]\n",
            "  [ 0.8108396   0.5894878  -1.4281315 ]\n",
            "  [-0.81483939  0.45892111  1.5281796 ]]\n",
            "\n",
            " [[ 0.82075781 -0.40122848  1.05835572]\n",
            "  [ 0.70785462 -0.85323181 -1.01548544]\n",
            "  [ 0.74425142  0.52903134 -1.09490645]]]\n",
            "\n",
            "kernel  6\n",
            "[[[ 1.31668804e+00 -9.66128246e-01  1.03754477e+00]\n",
            "  [-5.44268860e-04 -1.18236376e+00  1.42132800e+00]\n",
            "  [ 5.06302184e-01  2.69860212e-01  8.48433797e-01]]\n",
            "\n",
            " [[-1.52057532e+00 -1.00152085e+00  1.23701898e-01]\n",
            "  [-2.66663906e-02 -1.12649054e-01 -1.74961455e+00]\n",
            "  [-5.05411250e-02  5.42377874e-01 -1.68117724e+00]]\n",
            "\n",
            " [[ 9.20029839e-01 -8.39630369e-01 -1.84798288e-01]\n",
            "  [ 1.27959666e+00  2.15455720e-01  1.78146346e+00]\n",
            "  [ 3.53576860e-01  3.11157727e-01 -1.61130758e+00]]]\n",
            "\n",
            "kernel  7\n",
            "[[[ 0.84483209  0.92813603 -0.7721257 ]\n",
            "  [-1.48386334  0.58651242 -0.54339949]\n",
            "  [ 1.49135777 -0.47721328  0.93615994]]\n",
            "\n",
            " [[-0.61888806 -1.01578981  1.14911114]\n",
            "  [-0.99514245 -1.2838998  -0.75862636]\n",
            "  [-1.34328087 -0.89382358  0.41231475]]\n",
            "\n",
            " [[-0.64468574 -0.4114292   0.66656589]\n",
            "  [ 1.22607605 -0.78089656  1.29005224]\n",
            "  [-0.59383362  1.63295893  1.45282063]]]\n",
            "\n",
            "kernel  8\n",
            "[[[ 0.69525677  0.82961962  0.51573178]\n",
            "  [ 0.50159886 -0.97161316 -1.64917734]\n",
            "  [ 1.20677908  0.41757729 -0.00699912]]\n",
            "\n",
            " [[-1.49346268  0.15440997  1.26417684]\n",
            "  [ 0.83018165 -1.56237734  0.7899475 ]\n",
            "  [ 0.15567241 -1.7218772  -1.77660698]]\n",
            "\n",
            " [[ 1.37259034 -0.66295914 -0.55026138]\n",
            "  [-0.49388263 -0.2735919   1.14340348]\n",
            "  [ 1.41412514 -0.02109831 -0.10716356]]]\n",
            "\n",
            "kernel  9\n",
            "[[[ 1.30724178 -1.4606695  -0.36461746]\n",
            "  [ 1.20018441 -0.40969271 -0.11727258]\n",
            "  [ 0.02513473 -1.52578664  1.05025811]]\n",
            "\n",
            " [[-1.65188922  1.14866144 -0.70414138]\n",
            "  [-1.04675493  1.29941958  0.05649487]\n",
            "  [ 0.22971277 -0.90906853  1.17426123]]\n",
            "\n",
            " [[-0.40302981  1.13733418  1.13421168]\n",
            "  [ 0.24908992 -1.64093434  1.12558725]\n",
            "  [ 0.40614454 -1.20017167 -0.10970773]]]\n",
            "\n",
            "time: 1h 4min 45s\n"
          ],
          "name": "stdout"
        }
      ]
    },
    {
      "cell_type": "code",
      "metadata": {
        "id": "IlyY0F5onNYf",
        "outputId": "cdefd03e-fdee-468e-87d8-db402f13f456",
        "colab": {
          "base_uri": "https://localhost:8080/",
          "height": 436
        }
      },
      "source": [
        "testResultDataframe"
      ],
      "execution_count": null,
      "outputs": [
        {
          "output_type": "execute_result",
          "data": {
            "text/html": [
              "<div>\n",
              "<style scoped>\n",
              "    .dataframe tbody tr th:only-of-type {\n",
              "        vertical-align: middle;\n",
              "    }\n",
              "\n",
              "    .dataframe tbody tr th {\n",
              "        vertical-align: top;\n",
              "    }\n",
              "\n",
              "    .dataframe thead th {\n",
              "        text-align: right;\n",
              "    }\n",
              "</style>\n",
              "<table border=\"1\" class=\"dataframe\">\n",
              "  <thead>\n",
              "    <tr style=\"text-align: right;\">\n",
              "      <th></th>\n",
              "      <th>TestSet</th>\n",
              "      <th>Imagename</th>\n",
              "      <th>kernelID</th>\n",
              "      <th>percentagePlatePixelsActivated</th>\n",
              "      <th>percentageDeactivatedPixelsOutsidePlate</th>\n",
              "    </tr>\n",
              "  </thead>\n",
              "  <tbody>\n",
              "    <tr>\n",
              "      <th>0</th>\n",
              "      <td>Testset1</td>\n",
              "      <td>orig_0191_187_95_173_47_1.png</td>\n",
              "      <td>0</td>\n",
              "      <td>-1</td>\n",
              "      <td>0.287194</td>\n",
              "    </tr>\n",
              "    <tr>\n",
              "      <th>1</th>\n",
              "      <td>Testset1</td>\n",
              "      <td>orig_0191_187_95_173_47_1.png</td>\n",
              "      <td>1</td>\n",
              "      <td>-1</td>\n",
              "      <td>0.250999</td>\n",
              "    </tr>\n",
              "    <tr>\n",
              "      <th>2</th>\n",
              "      <td>Testset1</td>\n",
              "      <td>orig_0191_187_95_173_47_1.png</td>\n",
              "      <td>2</td>\n",
              "      <td>-1</td>\n",
              "      <td>0.296032</td>\n",
              "    </tr>\n",
              "    <tr>\n",
              "      <th>3</th>\n",
              "      <td>Testset1</td>\n",
              "      <td>orig_0191_187_95_173_47_1.png</td>\n",
              "      <td>3</td>\n",
              "      <td>-1</td>\n",
              "      <td>0.727385</td>\n",
              "    </tr>\n",
              "    <tr>\n",
              "      <th>4</th>\n",
              "      <td>Testset1</td>\n",
              "      <td>orig_0191_187_95_173_47_1.png</td>\n",
              "      <td>4</td>\n",
              "      <td>-1</td>\n",
              "      <td>0.336842</td>\n",
              "    </tr>\n",
              "    <tr>\n",
              "      <th>...</th>\n",
              "      <td>...</td>\n",
              "      <td>...</td>\n",
              "      <td>...</td>\n",
              "      <td>...</td>\n",
              "      <td>...</td>\n",
              "    </tr>\n",
              "    <tr>\n",
              "      <th>39995</th>\n",
              "      <td>Testset1</td>\n",
              "      <td>orig_0042_187_95_173_167_2.png</td>\n",
              "      <td>5</td>\n",
              "      <td>0.713112</td>\n",
              "      <td>0.190234</td>\n",
              "    </tr>\n",
              "    <tr>\n",
              "      <th>39996</th>\n",
              "      <td>Testset1</td>\n",
              "      <td>orig_0042_187_95_173_167_2.png</td>\n",
              "      <td>6</td>\n",
              "      <td>0.799061</td>\n",
              "      <td>0.244079</td>\n",
              "    </tr>\n",
              "    <tr>\n",
              "      <th>39997</th>\n",
              "      <td>Testset1</td>\n",
              "      <td>orig_0042_187_95_173_167_2.png</td>\n",
              "      <td>7</td>\n",
              "      <td>0.542388</td>\n",
              "      <td>0.347938</td>\n",
              "    </tr>\n",
              "    <tr>\n",
              "      <th>39998</th>\n",
              "      <td>Testset1</td>\n",
              "      <td>orig_0042_187_95_173_167_2.png</td>\n",
              "      <td>8</td>\n",
              "      <td>0.883837</td>\n",
              "      <td>0.566732</td>\n",
              "    </tr>\n",
              "    <tr>\n",
              "      <th>39999</th>\n",
              "      <td>Testset1</td>\n",
              "      <td>orig_0042_187_95_173_167_2.png</td>\n",
              "      <td>9</td>\n",
              "      <td>0.822235</td>\n",
              "      <td>0.232098</td>\n",
              "    </tr>\n",
              "  </tbody>\n",
              "</table>\n",
              "<p>40000 rows × 5 columns</p>\n",
              "</div>"
            ],
            "text/plain": [
              "        TestSet  ... percentageDeactivatedPixelsOutsidePlate\n",
              "0      Testset1  ...                                0.287194\n",
              "1      Testset1  ...                                0.250999\n",
              "2      Testset1  ...                                0.296032\n",
              "3      Testset1  ...                                0.727385\n",
              "4      Testset1  ...                                0.336842\n",
              "...         ...  ...                                     ...\n",
              "39995  Testset1  ...                                0.190234\n",
              "39996  Testset1  ...                                0.244079\n",
              "39997  Testset1  ...                                0.347938\n",
              "39998  Testset1  ...                                0.566732\n",
              "39999  Testset1  ...                                0.232098\n",
              "\n",
              "[40000 rows x 5 columns]"
            ]
          },
          "metadata": {
            "tags": []
          },
          "execution_count": 24
        },
        {
          "output_type": "stream",
          "text": [
            "time: 62.2 ms\n"
          ],
          "name": "stdout"
        }
      ]
    },
    {
      "cell_type": "code",
      "metadata": {
        "id": "MKpMVoApncnh",
        "outputId": "ffab762b-12c9-49af-b094-c0ae5261df72",
        "colab": {
          "base_uri": "https://localhost:8080/"
        }
      },
      "source": [
        "print(\"Model 5 kernels\")\n",
        "\n",
        "i = 0\n",
        "for kernel in trainsetbKernelsUsed:\n",
        "  print(\"kernel \", i)\n",
        "  print(kernel)\n",
        "  print()\n",
        "  i+=1"
      ],
      "execution_count": null,
      "outputs": [
        {
          "output_type": "stream",
          "text": [
            "Model 5 kernels\n",
            "kernel  0\n",
            "[[[ 0.30886987 -1.31732794 -0.20694034]\n",
            "  [-1.69193448 -0.04230101  0.14903301]\n",
            "  [ 0.39944508  1.38124175  0.8347378 ]\n",
            "  [-1.08333281 -0.85404796 -0.81628067]\n",
            "  [ 0.70366941 -0.61597587  1.51342804]\n",
            "  [-0.55667697 -0.80799575  1.10334111]\n",
            "  [ 0.7025113   0.3217316   0.39508336]]\n",
            "\n",
            " [[ 1.04771136 -1.64670965  0.58049864]\n",
            "  [ 1.16576932 -0.16886328  1.33608575]\n",
            "  [ 0.4324186  -0.35129701 -0.74070564]\n",
            "  [-1.07142803 -0.06666211  1.09548993]\n",
            "  [ 1.11414251 -1.0775307   0.21772763]\n",
            "  [ 1.42016174  0.87858904  1.38037471]\n",
            "  [-0.86498192  0.3996987  -1.62790918]]\n",
            "\n",
            " [[ 1.42416077 -1.38694804 -0.18012916]\n",
            "  [ 0.59753289 -0.09752373 -1.12186449]\n",
            "  [-1.05359352  1.26754769  1.40332555]\n",
            "  [-0.07422961  0.95600934 -1.15778851]\n",
            "  [-1.20134805  0.927207   -0.82965458]\n",
            "  [-1.56677303 -0.97091651 -1.83477469]\n",
            "  [-0.62828936  1.53205634  0.72313476]]]\n",
            "\n",
            "kernel  1\n",
            "[[[ 1.17168187  0.10608278 -1.02660016]\n",
            "  [-0.84385161 -0.9252194   0.8843524 ]\n",
            "  [ 0.69118536 -0.11950509  1.14740039]\n",
            "  [-1.37766237 -0.94833842  0.54555342]\n",
            "  [-1.1988963  -1.49486642 -1.38828353]\n",
            "  [ 1.46460277  0.31049767 -1.14528253]\n",
            "  [-1.00541753 -1.14690607 -0.89832786]]\n",
            "\n",
            " [[ 0.93552983 -0.41723759 -0.29619943]\n",
            "  [ 0.26952512 -0.17532065  1.15796919]\n",
            "  [-0.79717516 -1.66017818 -0.4127894 ]\n",
            "  [ 0.74069964  0.75843038  1.07823343]\n",
            "  [-1.44416544  0.37852152  1.05030569]\n",
            "  [-0.89290484  1.13521963  1.56438492]\n",
            "  [ 0.33833972 -1.53317602  1.39808271]]\n",
            "\n",
            " [[-0.56621713  1.39392587  1.40085869]\n",
            "  [ 1.41087541  0.906313    0.29765763]\n",
            "  [ 0.8174012  -0.89692984  1.23568487]\n",
            "  [ 0.53251174 -0.97213955  1.13348993]\n",
            "  [-0.87440383  1.40237437  0.26911803]\n",
            "  [-0.06770583  0.17603624 -0.90477904]\n",
            "  [-1.11518432 -1.66013718  0.10295533]]]\n",
            "\n",
            "kernel  2\n",
            "[[[ 1.25494553 -0.71129941  0.76276966]\n",
            "  [-0.25316498  1.28833342 -0.6599113 ]\n",
            "  [-0.75832528  0.95446313 -1.68918151]\n",
            "  [ 0.48107821  0.4936467  -0.32713087]\n",
            "  [ 1.35980856 -0.6968182  -1.30870742]\n",
            "  [ 1.08029722  0.19270707  1.15090903]\n",
            "  [ 1.6167471  -0.20669984  1.58613026]]\n",
            "\n",
            " [[-0.96854748 -0.33710636  0.92815519]\n",
            "  [-0.65770679  0.07936789  1.17439026]\n",
            "  [-0.75821348  1.09006984  1.53145291]\n",
            "  [ 0.14794267 -1.60264384 -0.77679575]\n",
            "  [ 1.36705117 -0.65729494 -0.20035476]\n",
            "  [-0.60682036  0.76292793 -0.57686233]\n",
            "  [-1.43699328  0.81329565  0.0762909 ]]\n",
            "\n",
            " [[-1.10836888 -1.42280841  0.65377332]\n",
            "  [ 0.23302088 -1.01839542 -0.85747927]\n",
            "  [ 0.91579693 -1.41978264 -0.23321605]\n",
            "  [-1.46944885  1.28653585  0.20678556]\n",
            "  [-1.38843737  0.28710177  1.15194129]\n",
            "  [ 1.42693842 -1.57321608  1.39550295]\n",
            "  [-0.05328233 -0.91806905 -1.09709475]]]\n",
            "\n",
            "kernel  3\n",
            "[[[-0.30495314  0.67441599 -1.19444353]\n",
            "  [ 1.07615752  0.82286687  0.95428053]\n",
            "  [ 0.42148369  1.41019121  0.22597329]\n",
            "  [ 1.48047041 -0.70213358  0.17250005]\n",
            "  [ 0.42658818  0.50044477 -1.08059803]\n",
            "  [ 0.01093574  1.67573259 -1.94318352]\n",
            "  [-0.43478489  0.11353673 -1.90166931]]\n",
            "\n",
            " [[-0.52178852  0.65128131  1.06390834]\n",
            "  [-0.36551485  0.1206451  -1.79516032]\n",
            "  [ 1.01632941 -1.87359381  1.38856657]\n",
            "  [ 0.97596485  0.1151633  -0.15055645]\n",
            "  [-1.60993872 -0.00211249 -0.38993565]\n",
            "  [ 0.75948528 -0.24992688  0.13317705]\n",
            "  [-1.964188   -1.06679006  0.52650971]]\n",
            "\n",
            " [[ 1.56183105 -0.32122536 -1.47411516]\n",
            "  [ 1.46754039  0.36162453  0.979768  ]\n",
            "  [-1.04918651  0.13690958  0.26849558]\n",
            "  [ 0.65624431  0.3280939   1.55234196]\n",
            "  [-2.08311482  0.1310886  -0.51620997]\n",
            "  [-1.05944598 -0.25465737 -1.05491409]\n",
            "  [ 0.08534194  0.13681618  0.98143651]]]\n",
            "\n",
            "kernel  4\n",
            "[[[-0.55643444  1.02996432 -1.70047176]\n",
            "  [-1.28181749 -0.64994902  0.9089349 ]\n",
            "  [-1.65678791 -1.11214291 -0.5260943 ]\n",
            "  [ 1.1542139  -0.5292855   1.14910555]\n",
            "  [-1.11949806  1.79201523  0.62718342]\n",
            "  [ 0.64097042  0.85186551  0.6751084 ]\n",
            "  [-0.81414782  1.25424128  0.02842845]]\n",
            "\n",
            " [[ 0.60269782 -1.62275659 -1.30366235]\n",
            "  [ 0.11786148 -0.89856045  0.82499424]\n",
            "  [-0.58670417  1.20587804 -0.89517053]\n",
            "  [ 1.15261718 -1.76403276  0.26812016]\n",
            "  [ 0.20581033  1.56115224 -0.80676297]\n",
            "  [ 0.91867777 -0.21912861  0.07568517]\n",
            "  [-1.11722377  0.83161383  1.36799151]]\n",
            "\n",
            " [[-0.88481733 -1.27044783 -1.38914941]\n",
            "  [ 1.61809452 -0.02368148 -0.31950747]\n",
            "  [ 1.40360776  0.86565598  1.86513209]\n",
            "  [-0.38167327 -1.49651181  0.13506753]\n",
            "  [ 0.53996073 -1.17875798  0.54842523]\n",
            "  [ 0.31788356 -0.84164147 -0.34293894]\n",
            "  [ 0.28927583  0.418429    0.04309501]]]\n",
            "\n",
            "kernel  5\n",
            "[[[ 1.23465202 -0.11372484  0.67860928]\n",
            "  [ 0.40064518 -0.25833421 -0.58127779]\n",
            "  [-0.68028739 -1.05074279  0.91641026]\n",
            "  [-1.52860139  0.26597901 -0.13104157]\n",
            "  [ 1.26895255 -1.64849307 -0.05219583]\n",
            "  [ 1.18138581 -1.51245291  0.07891963]\n",
            "  [-1.43829512  1.25814469  0.2717153 ]]\n",
            "\n",
            " [[-0.27550721 -0.28296425  1.03402852]\n",
            "  [ 0.79329953  0.17739647  1.39378269]\n",
            "  [ 1.31642748 -1.45313709 -0.41069377]\n",
            "  [ 1.46512982 -0.36520419  1.09244107]\n",
            "  [ 1.72117423 -0.22954528 -0.7504625 ]\n",
            "  [ 1.6983302   1.31484594 -1.00175518]\n",
            "  [ 0.35415869 -1.10355789 -1.0995224 ]]\n",
            "\n",
            " [[ 0.7692985  -0.28313637  0.78950788]\n",
            "  [-0.39791663 -1.33855405 -0.09900789]\n",
            "  [-1.17936351 -1.50429221  1.57518559]\n",
            "  [-1.12215399  0.97744038 -1.44807186]\n",
            "  [-1.05514588  0.86858696 -0.37826962]\n",
            "  [ 0.11563743  0.99406986 -1.43263105]\n",
            "  [-0.90916927  1.09760516  0.01174883]]]\n",
            "\n",
            "kernel  6\n",
            "[[[-1.19069015  0.99733129  1.03961434]\n",
            "  [ 0.67181437 -1.5453869  -0.24981703]\n",
            "  [-0.61142996 -0.38186764 -1.27916832]\n",
            "  [ 0.25098691 -1.0626964   0.01149993]\n",
            "  [ 0.69734594 -0.34475157 -1.21311658]\n",
            "  [ 1.59720536 -0.53472486 -1.4725489 ]\n",
            "  [ 0.50359481  0.1053724  -0.11073516]]\n",
            "\n",
            " [[ 0.68522347 -1.13212756 -1.21057423]\n",
            "  [ 1.46702981 -0.62076624  1.79888456]\n",
            "  [-0.71791359  0.37091743 -1.2953678 ]\n",
            "  [ 0.62892313 -1.57177439 -1.00439557]\n",
            "  [ 1.7299612   0.07901548  0.39382426]\n",
            "  [ 0.60769383  0.08927047  0.89811418]\n",
            "  [ 1.54804897 -0.19982629  1.58192686]]\n",
            "\n",
            " [[ 1.16796676  0.32166025  0.71323518]\n",
            "  [-1.12123363 -1.28880241  0.50692039]\n",
            "  [-0.54580431  1.0957     -1.01837937]\n",
            "  [ 1.44915913 -1.16132281  0.17031455]\n",
            "  [ 0.3449758  -1.04204123 -0.09424005]\n",
            "  [-1.12521032  1.67679089  1.52459487]\n",
            "  [-1.44102641  0.45952116 -0.59669836]]]\n",
            "\n",
            "kernel  7\n",
            "[[[ 1.45898939 -1.34405632 -0.95176704]\n",
            "  [ 1.66859185  0.18051257 -0.29689167]\n",
            "  [-0.62502604  1.68470426  1.60597864]\n",
            "  [ 0.00760935  0.72235196 -0.83464618]\n",
            "  [ 1.20470933  1.30460545 -0.96230686]\n",
            "  [-1.5255255   0.66233833  1.48040575]\n",
            "  [ 1.05451994  1.33381851 -0.96958291]]\n",
            "\n",
            " [[-0.13212424 -1.4103539   1.11048109]\n",
            "  [ 1.05680195  0.34306363 -1.15767644]\n",
            "  [-0.71402934 -0.56229171 -1.29569111]\n",
            "  [ 1.15960641 -1.19274293 -0.92861245]\n",
            "  [-1.01231358  0.28861511  0.47316975]\n",
            "  [-0.71649628  0.05835876 -1.03284777]\n",
            "  [ 1.33763906 -0.57381032 -0.2539474 ]]\n",
            "\n",
            " [[-0.60743024 -0.58197661  1.68248243]\n",
            "  [ 0.29632773 -1.25409502  1.23501183]\n",
            "  [ 0.43786945 -1.19198561  0.75962863]\n",
            "  [-1.03219488  1.12167396  0.32462579]\n",
            "  [-0.47020539 -0.95839979  0.52964573]\n",
            "  [-1.01190558 -0.41769327 -0.72576634]\n",
            "  [-1.5025532   1.13454372  0.52826555]]]\n",
            "\n",
            "kernel  8\n",
            "[[[-0.23691087  1.69351066  0.86867631]\n",
            "  [ 0.15903986  1.04450199 -1.03751999]\n",
            "  [ 0.40776959  0.26670747 -1.52835144]\n",
            "  [ 1.2935839   1.73295487 -1.03263746]\n",
            "  [-0.72103644 -0.98242373 -0.49620644]\n",
            "  [ 1.27393155 -0.86336568  1.1040569 ]\n",
            "  [ 1.01656568  1.51500715 -1.23435758]]\n",
            "\n",
            " [[ 1.43834822 -0.75950124 -0.06104083]\n",
            "  [ 0.78489835  0.77371266  1.44407508]\n",
            "  [-0.54543397 -0.7525428  -1.41868015]\n",
            "  [ 0.38631805 -0.12074828  0.101834  ]\n",
            "  [ 0.06111614 -1.24490434  1.45064481]\n",
            "  [ 1.02424267  1.10482987 -1.51739377]\n",
            "  [-0.33984155 -1.16138595 -0.11585615]]\n",
            "\n",
            " [[-1.1634222   1.68095267 -0.40421437]\n",
            "  [ 1.58148061 -1.22078357 -0.80718977]\n",
            "  [-1.03229651  0.34217673  1.05171901]\n",
            "  [ 0.37570921  0.79391151 -0.68118114]\n",
            "  [-0.92509195 -1.49625379  0.13746014]\n",
            "  [-0.98287909  0.13187793 -0.02856899]\n",
            "  [-1.51624066 -0.95440733  0.34105444]]]\n",
            "\n",
            "kernel  9\n",
            "[[[-1.51938482  1.751424    1.3442296 ]\n",
            "  [ 0.0302792   1.1875472  -0.70909769]\n",
            "  [ 0.86029914 -0.92913045 -1.39560674]\n",
            "  [ 0.20643869 -0.38078142 -0.33357303]\n",
            "  [ 1.44886728 -0.95132466  1.61199444]\n",
            "  [ 0.92472479 -0.94385774 -0.57917907]\n",
            "  [ 0.6066545   1.84257212  1.65977238]]\n",
            "\n",
            " [[-0.49939301  0.14899662 -0.98029112]\n",
            "  [ 0.49612009  0.05287226 -0.51850724]\n",
            "  [ 0.0221359   0.26954576 -1.22764833]\n",
            "  [ 0.1954922  -0.48863357  1.31551927]\n",
            "  [-1.33582606 -0.60220436 -1.01275366]\n",
            "  [ 0.33559735 -1.58243068  0.2659514 ]\n",
            "  [-0.27966199  0.7711682  -0.63857206]]\n",
            "\n",
            " [[ 0.75034005 -1.55160493  1.70649537]\n",
            "  [ 1.09170185 -0.80268806 -0.69629002]\n",
            "  [-0.42979913 -1.48192715  1.7789761 ]\n",
            "  [ 1.43143759  0.56300931 -0.60524274]\n",
            "  [-0.17771662 -1.27095031 -1.48686962]\n",
            "  [ 1.10371921  0.36981164 -1.00584363]\n",
            "  [ 0.78366539 -0.5018009  -0.00876814]]]\n",
            "\n",
            "time: 19.6 ms\n"
          ],
          "name": "stdout"
        }
      ]
    },
    {
      "cell_type": "code",
      "metadata": {
        "id": "8efLPuOZpjAN",
        "outputId": "148d31c6-cff2-4ab9-a9f9-8132db625efd",
        "colab": {
          "base_uri": "https://localhost:8080/"
        }
      },
      "source": [
        "modelOptionsObj1 = {\"batchnormalization\": True, \"kernelBank\":{\"nkernels\": 10, \"width\": 3, \"height\": 3, \"nbands\": 3, \"normalized\":True }}\n",
        "modelOptionsObj2 = {\"batchnormalization\": False, \"kernelBank\":{\"nkernels\": 10, \"width\": 3, \"height\": 3, \"nbands\": 3, \"normalized\":True }}\n",
        "modelOptionsObj3 = {\"batchnormalization\": True, \"kernelBank\":{\"nkernels\": 10, \"width\": 3, \"height\": 3, \"nbands\": 3, \"normalized\":False }}\n",
        "modelOptionsObj4 = {\"batchnormalization\": True, \"kernelBank\":{\"nkernels\": 10, \"width\": 5, \"height\": 5, \"nbands\": 3, \"normalized\":True }}\n",
        "modelOptionsObj5 = {\"batchnormalization\": True, \"kernelBank\":{\"nkernels\": 10, \"width\": 7, \"height\": 3, \"nbands\": 3, \"normalized\":True }}\n",
        "\n",
        "#modelOptionsObjarray = [modelOptionsObj1, modelOptionsObj2, modelOptionsObj3, modelOptionsObj4, modelOptionsObj5]\n",
        "\n",
        "modelOptionsObjarray = [ modelOptionsObj1]\n",
        "\n",
        "#trainsetNamearray = [\"Trainset1\", \"Trainset2\", \"Trainset3\"]\n",
        "#testsetNamearray = [\"Testset1\", \"Testset2\", \"Testset3\"]\n",
        "\n",
        "trainsetNamearray = [ \"Trainset3\"]\n",
        "testsetNamearray = [\"Testset3\"]\n",
        "\n",
        "\n",
        "trainFolderPatharray = [\"/content/train1_187_95_40_20_90/\", \"/content/train2_187_95_40_20_90/\", \"/content/train3_187_95_40_20_90/\"]\n",
        "testFolderPatharray = [\"/content/test1_187_95_40_20_90/\", \"/content/test2_187_95_40_20_90/\", \"/content/test3_187_95_40_20_90/\"]\n",
        "\n",
        "maskFolder = \"plates/\"\n",
        "\n",
        "j = 0\n",
        "modelprename = \"model\"\n",
        "\n",
        "kernelsSet = []\n",
        "\n",
        "print(\"starting...\")\n",
        "print()\n",
        "\n",
        "for modelOptionsObj in modelOptionsObjarray:\n",
        "  i = 0\n",
        "  j += 1\n",
        "\n",
        "  while i < len(trainsetNamearray):\n",
        "    \n",
        "    trainsetName = trainsetNamearray[i]\n",
        "    trainFolderPath = trainFolderPatharray[i]\n",
        "\n",
        "    trainsetbKernelsUsed, trainsetresultsDataFrame = launchModelEvaluation(trainsetName, trainFolderPath, maskFolder, modelOptionsObj)\n",
        "\n",
        "    kernelsSet.append(trainsetbKernelsUsed)\n",
        "\n",
        "    modelname = modelprename + str(j) + \"_\" + trainsetName + \"results.csv\"\n",
        "    trainsetresultsDataFrame.to_csv(modelname)\n",
        "    \n",
        "    #TEST part\n",
        "    meanTens = np.array([])\n",
        "    standardDeviationTens = np.array([])\n",
        "    if modelOptionsObj[\"batchnormalization\"] == True:\n",
        "      meanTens, standardDeviationTens = returnBatchNormMeanAndStandarDeviationTensors(trainFolderPath)\n",
        "\n",
        "    testsetName = testsetNamearray[i]\n",
        "    testFolderPath= testFolderPatharray[i]\n",
        "\n",
        "    #testResultDataframe = launchModelTestEvaluation(testsetName, testFolderPath, maskFolder, modelOptionsObj, meanTens, standardDeviationTens, trainsetbKernelsUsed)\n",
        "    #modelname = modelprename + str(j) + \"_\" + testsetName + \"results.csv\"\n",
        "    #testResultDataframe.to_csv(modelname)\n",
        "\n",
        "    i += 1\n",
        "  \n",
        "  print(\"Model \", j)\n",
        "\n",
        "\n",
        "print(\"Model 1 kernels\")\n",
        "\n",
        "i = 0\n",
        "for kernel in trainsetbKernelsUsed:\n",
        "  print(\"kernel \", i)\n",
        "  print(kernel)\n",
        "  print()\n",
        "  i+=1"
      ],
      "execution_count": null,
      "outputs": [
        {
          "output_type": "stream",
          "text": [
            "starting...\n",
            "\n",
            "Number of images processed  500\n",
            "Number of images processed  1000\n",
            "Number of images processed  1500\n",
            "Number of images processed  2000\n",
            "Number of images processed  2500\n",
            "Number of images processed  3000\n",
            "Number of images processed  3500\n",
            "Number of images processed  4000\n",
            "Model  1\n",
            "Model 1 kernels\n",
            "kernel  0\n",
            "[[[ 1.37783781 -0.51767582 -0.8061851 ]\n",
            "  [ 1.57259461 -0.18737986 -0.29962281]\n",
            "  [-1.76138367  1.31852815 -0.98429667]]\n",
            "\n",
            " [[-0.41262925  0.88951211  1.44023894]\n",
            "  [-0.28569755  0.5427874   1.12589145]\n",
            "  [-1.01465596  1.04878033  0.84033207]]\n",
            "\n",
            " [[-0.5468286  -1.32932188 -0.67498102]\n",
            "  [ 0.6103199   0.70645167  0.72414744]\n",
            "  [-1.72501703 -0.786482   -0.86526467]]]\n",
            "\n",
            "kernel  1\n",
            "[[[-0.98571143  0.15590174  1.56445559]\n",
            "  [-1.56863626 -1.58387202 -0.21210243]\n",
            "  [ 1.09503841  0.96054774  1.19110866]]\n",
            "\n",
            " [[-1.43024488  0.00903017 -1.88458497]\n",
            "  [ 1.53008677 -0.09330062  0.36177742]\n",
            "  [ 0.78400903 -0.5313749   0.63604125]]\n",
            "\n",
            " [[-0.22107432  0.78596806 -1.62810256]\n",
            "  [ 0.40215388 -0.79158312  0.225838  ]\n",
            "  [ 0.83617314 -0.39081669  0.78327435]]]\n",
            "\n",
            "kernel  2\n",
            "[[[ 0.08627206 -1.76304737  0.45528277]\n",
            "  [ 1.23611618 -1.24481615  0.18201957]\n",
            "  [-1.10204845 -0.97855119  0.47109976]]\n",
            "\n",
            " [[-0.09006257  1.75148654  0.10661566]\n",
            "  [-0.49301644 -1.32529665  0.23734584]\n",
            "  [-1.56112457 -0.29675442  0.89459826]]\n",
            "\n",
            " [[-1.4407699   1.54976833 -0.79838612]\n",
            "  [ 1.31700173  0.79278433 -0.14718592]\n",
            "  [ 1.35277266  0.2494315   0.55846457]]]\n",
            "\n",
            "kernel  3\n",
            "[[[ 1.02582388  0.54182913 -0.83139222]\n",
            "  [ 1.32614333 -0.43454185  0.90883177]\n",
            "  [-0.29584964 -1.50922294  0.16507248]]\n",
            "\n",
            " [[ 1.03458667  0.65190175 -1.37382908]\n",
            "  [ 0.41507857  0.95635556 -1.18959743]\n",
            "  [-0.16012273 -0.86715467  0.7904427 ]]\n",
            "\n",
            " [[ 1.00551666 -1.48562792 -1.25517331]\n",
            "  [-1.21442332  1.02652811  1.23044396]\n",
            "  [ 1.34149074 -0.54919265 -1.25391754]]]\n",
            "\n",
            "kernel  4\n",
            "[[[-1.89641049  0.15476641 -0.28447791]\n",
            "  [ 0.82278556  0.55377292 -1.47629985]\n",
            "  [ 1.09947669  0.70592138 -1.40898623]]\n",
            "\n",
            " [[ 0.89189202  0.81405947 -0.58664745]\n",
            "  [ 1.29479092  1.52072551  0.44113985]\n",
            "  [ 1.58585811 -1.38345814  0.05977724]]\n",
            "\n",
            " [[ 0.5997836  -0.20792176 -0.02849779]\n",
            "  [-1.96595992 -0.2643382   0.17383294]\n",
            "  [ 0.44465447 -0.63018218 -1.03005716]]]\n",
            "\n",
            "kernel  5\n",
            "[[[-0.43313688  1.305347   -0.87315067]\n",
            "  [ 1.48270706  1.1008507  -0.26016672]\n",
            "  [-1.96435301  0.21225809 -0.8434883 ]]\n",
            "\n",
            " [[ 1.21932663 -0.92787238  1.20910332]\n",
            "  [ 0.14460726 -0.59608171 -1.19883927]\n",
            "  [ 0.99064151 -0.29852569  0.17245147]]\n",
            "\n",
            " [[-0.05772088 -0.88311543  0.38011181]\n",
            "  [-1.05616757  1.59461009  0.44402823]\n",
            "  [-1.21049461  1.4425721  -1.09550212]]]\n",
            "\n",
            "kernel  6\n",
            "[[[-0.61116974 -0.91599314 -0.58251845]\n",
            "  [ 2.24528036  1.14433307 -0.74554426]\n",
            "  [-1.39920468  1.62647981 -0.19193222]]\n",
            "\n",
            " [[-0.04746382 -0.9921868   0.93281925]\n",
            "  [ 0.6048279  -1.06249922  0.57003815]\n",
            "  [ 1.40435868 -1.61692763 -0.21048636]]\n",
            "\n",
            " [[-0.95109608  0.25977388 -0.40753228]\n",
            "  [ 0.8782329  -1.41342521  1.01599411]\n",
            "  [-0.4595206   0.37555118  0.5498112 ]]]\n",
            "\n",
            "kernel  7\n",
            "[[[ 0.9869574  -1.44681373 -1.57516017]\n",
            "  [ 0.29837903 -0.97884436 -1.01011744]\n",
            "  [-0.62035245  1.43164102  0.32706006]]\n",
            "\n",
            " [[-0.98532461 -0.37435514  0.17535261]\n",
            "  [-0.39167843 -0.01788853  1.739555  ]\n",
            "  [-0.91441071 -0.33232463  1.1122483 ]]\n",
            "\n",
            " [[-1.09647911  1.8824305  -0.94844247]\n",
            "  [ 1.15546478  0.95858166  0.91609884]\n",
            "  [-1.11892253  0.36580448  0.4615406 ]]]\n",
            "\n",
            "kernel  8\n",
            "[[[-0.34994267  1.13912281 -1.2565227 ]\n",
            "  [ 0.8062924   1.93567173 -0.37381624]\n",
            "  [-1.32815881 -0.31270952 -1.24376701]]\n",
            "\n",
            " [[ 0.51243236  0.63474511  0.19859228]\n",
            "  [ 0.35478666 -1.14246242  0.73933333]\n",
            "  [-0.33467612 -0.77680247  1.45882489]]\n",
            "\n",
            " [[ 0.9187617  -0.75209071 -0.61465587]\n",
            "  [ 1.35339836 -1.23352485 -0.46244209]\n",
            "  [-1.58085223  0.0765104   1.63395168]]]\n",
            "\n",
            "kernel  9\n",
            "[[[ 0.75255832  0.27112133 -0.08565684]\n",
            "  [ 1.44181418 -1.0993562  -1.0754481 ]\n",
            "  [ 1.30658088 -1.64583937  1.45758863]]\n",
            "\n",
            " [[-0.71215076  0.34851366  0.35852359]\n",
            "  [-1.51072334 -0.65487731 -1.4933748 ]\n",
            "  [ 0.17066949 -0.06866804  1.55216398]]\n",
            "\n",
            " [[-0.90630489  1.20129983  0.81507973]\n",
            "  [-0.19372447  0.51744864  0.26210104]\n",
            "  [ 1.20207637 -0.97578232 -1.23563323]]]\n",
            "\n",
            "time: 1h 3min 40s\n"
          ],
          "name": "stdout"
        }
      ]
    },
    {
      "cell_type": "code",
      "metadata": {
        "id": "AyMYUg027VAt",
        "outputId": "570e1ef1-016a-43a5-d65c-0acc2fc9ad97",
        "colab": {
          "base_uri": "https://localhost:8080/"
        }
      },
      "source": [
        "print(\"Model 1, train set 2\")\n",
        "print()\n",
        "i = 0\n",
        "for kernel in trainsetbKernelsUsed:\n",
        "  print(\"kernel \", i)\n",
        "  print(kernel)\n",
        "  print()\n",
        "  i+=1"
      ],
      "execution_count": null,
      "outputs": [
        {
          "output_type": "stream",
          "text": [
            "Model 1, train set 2\n",
            "\n",
            "kernel  0\n",
            "[[[-1.36588669 -1.10065224  0.06874304]\n",
            "  [-1.2807445  -1.08718948 -0.46644976]\n",
            "  [ 0.52316689 -1.37879751 -0.68212607]]\n",
            "\n",
            " [[ 1.64915028 -0.82536934  0.55409325]\n",
            "  [ 1.5534529   1.38022061 -0.39406679]\n",
            "  [ 0.19621662 -1.14010866 -0.78128466]]\n",
            "\n",
            " [[-0.91775772 -0.174628   -0.29679572]\n",
            "  [ 0.71662914  1.22087258  0.50005836]\n",
            "  [ 0.49957221  1.67910435  1.35057689]]]\n",
            "\n",
            "kernel  1\n",
            "[[[-2.53261972e-02  1.06900295e+00 -3.15528436e-01]\n",
            "  [-2.09778165e-01  3.23429651e-01 -7.61860978e-01]\n",
            "  [ 9.95993570e-01  5.81937959e-01  1.45694334e+00]]\n",
            "\n",
            " [[-1.93647408e+00  1.93495666e-01  6.57124791e-01]\n",
            "  [ 2.67311706e-01 -2.36015384e+00  1.69005993e+00]\n",
            "  [ 7.25753928e-01  8.92851326e-01 -2.14438317e-03]]\n",
            "\n",
            " [[ 9.13618733e-01 -1.20691718e+00 -4.39832165e-01]\n",
            "  [-5.81892529e-01 -1.08685049e+00  2.43056737e-02]\n",
            "  [-1.49318045e+00  1.05614272e+00 -4.28033047e-01]]]\n",
            "\n",
            "kernel  2\n",
            "[[[ 0.68493452  0.98417931 -0.52584645]\n",
            "  [-0.25336727  1.67519852 -1.34946391]\n",
            "  [-0.25893459 -1.7637158  -1.29310451]]\n",
            "\n",
            " [[-0.39551146  1.29926422  0.95653875]\n",
            "  [ 1.01689432 -1.12985638  0.31606941]\n",
            "  [-0.32378112 -0.94783523  1.66481185]]\n",
            "\n",
            " [[ 1.30192518 -0.49028822 -1.68186833]\n",
            "  [-0.77125557 -0.10227943  1.11053214]\n",
            "  [-0.13880092  0.42135111 -0.00579012]]]\n",
            "\n",
            "kernel  3\n",
            "[[[-0.9812468   1.44416484 -0.20628281]\n",
            "  [ 0.6500779  -0.44114404 -0.63750296]\n",
            "  [-0.35403707 -0.31469986 -0.97467464]]\n",
            "\n",
            " [[ 1.44715412 -0.44322123 -1.2474546 ]\n",
            "  [ 1.39856653  0.32643455  1.97268797]\n",
            "  [-0.46437371 -0.83550625 -1.25556798]]\n",
            "\n",
            " [[ 0.11187074  2.05548245 -0.99044516]\n",
            "  [-0.65604922 -0.48028619  0.73391718]\n",
            "  [-0.55659155  1.45567068 -0.75694285]]]\n",
            "\n",
            "kernel  4\n",
            "[[[-1.34927148  1.1933563   1.52435896]\n",
            "  [-1.33333307  1.48257555 -0.57954921]\n",
            "  [-0.83445218  0.4165374  -0.05973773]]\n",
            "\n",
            " [[-0.43320429 -0.72811205 -0.80466686]\n",
            "  [ 0.06734063  0.61999699 -1.35916123]\n",
            "  [-0.11347986 -0.31834033  0.73553422]]\n",
            "\n",
            " [[-1.18803206  1.0809955   0.65762593]\n",
            "  [ 1.32251562  1.48203854 -0.29689159]\n",
            "  [ 1.33244735 -1.24296512 -1.27412596]]]\n",
            "\n",
            "kernel  5\n",
            "[[[ 2.17745581  1.21446265 -1.48935351]\n",
            "  [ 1.45095511 -0.5970579  -0.40813974]\n",
            "  [-0.7178848  -0.32409784 -0.73157486]]\n",
            "\n",
            " [[ 0.14332809  1.52846673  0.49970318]\n",
            "  [ 0.19856477 -0.59422026  0.28717556]\n",
            "  [-0.77952608 -0.33752196  0.79450396]]\n",
            "\n",
            " [[-1.24793906  0.6569189   1.68091199]\n",
            "  [-1.34866746 -0.47385812 -0.8998181 ]\n",
            "  [-1.18787701 -0.5028715   1.00796145]]]\n",
            "\n",
            "kernel  6\n",
            "[[[-0.29574369  0.7565342   0.23344822]\n",
            "  [ 1.43719343  0.19320536 -0.39949542]\n",
            "  [-1.22283493  0.05761465 -0.73228105]]\n",
            "\n",
            " [[ 1.07688228 -0.39936965 -1.61702599]\n",
            "  [ 1.28374399 -1.1145928  -1.69399215]\n",
            "  [ 1.32210256 -0.72917759 -0.64942144]]\n",
            "\n",
            " [[ 0.29998624  1.66342935 -0.73435751]\n",
            "  [-0.75335117 -1.44090279  1.33718527]\n",
            "  [ 0.53038363  1.12581916  0.46501786]]]\n",
            "\n",
            "kernel  7\n",
            "[[[ 0.3949134  -0.24207988 -0.18782441]\n",
            "  [ 0.70161325 -1.22127924 -1.35394948]\n",
            "  [-1.15257328 -0.65152101 -0.38302059]]\n",
            "\n",
            " [[-1.27617817  0.01705476  0.9829491 ]\n",
            "  [ 1.99088107  1.10539627  0.32499863]\n",
            "  [ 0.10752306 -0.09536081  0.42651218]]\n",
            "\n",
            " [[ 1.45655566 -0.18458709 -1.27852621]\n",
            "  [-1.07049992 -1.27323472  1.4205692 ]\n",
            "  [-0.83545074  0.40412215  1.8729968 ]]]\n",
            "\n",
            "kernel  8\n",
            "[[[-1.91162408  0.78071628  0.94345134]\n",
            "  [-1.40353975  0.76787677 -0.85615484]\n",
            "  [-1.44327085  0.23695577  1.01375768]]\n",
            "\n",
            " [[-0.47515669 -0.00530487  1.99934076]\n",
            "  [-0.0685956   0.10257633 -0.26272883]\n",
            "  [ 1.16609199 -0.85443871  1.57781193]]\n",
            "\n",
            " [[-0.25895552 -0.05552919  0.63712699]\n",
            "  [-0.40379771 -1.68872565  1.31353083]\n",
            "  [-0.71735818 -0.6834758   0.54941961]]]\n",
            "\n",
            "kernel  9\n",
            "[[[ 1.35278938 -1.10179685  1.77478493]\n",
            "  [ 0.22045481  1.59217491 -1.08591655]\n",
            "  [-1.15172071 -0.74672359  1.08512885]]\n",
            "\n",
            " [[-0.76504256 -0.85732987 -1.26584792]\n",
            "  [ 0.65282068  1.35575729 -1.07575245]\n",
            "  [-0.15926232 -0.4901034  -0.58022367]]\n",
            "\n",
            " [[-0.00597486 -0.37678907 -0.99362408]\n",
            "  [ 0.911498   -1.13491406  1.6443332 ]\n",
            "  [-0.21139796  0.84924726  0.5634306 ]]]\n",
            "\n",
            "time: 16.2 ms\n"
          ],
          "name": "stdout"
        }
      ]
    },
    {
      "cell_type": "code",
      "metadata": {
        "id": "vIVpxiMlW2uP",
        "outputId": "ac8b659d-e07c-48bd-fdb1-b050a2a9de87",
        "colab": {
          "base_uri": "https://localhost:8080/"
        }
      },
      "source": [
        "scoresarray = computeScoresPerKernel(trainsetresultsDataFrame)\n",
        "\n",
        "print(scoresarray)"
      ],
      "execution_count": null,
      "outputs": [
        {
          "output_type": "stream",
          "text": [
            "[['kernel_0', 'kernel_1', 'kernel_2', 'kernel_3', 'kernel_4', 'kernel_5', 'kernel_6', 'kernel_7', 'kernel_8', 'kernel_9'], [21.782489874494964, 51.61405351286239, 37.66301288330281, 87.20089506805317, 75.47833884072742, 49.78218503553104, 69.0665913552083, 19.716660333065878, 61.53832709717506, 68.16275324954549], [46.86526641886013, 29.005658898381647, 26.832054118424065, 62.71329857516338, 70.58108400460758, 74.15533494731868, 33.10618611599354, 42.19404055367292, 42.332579532907204, 38.971682993558275]]\n",
            "time: 103 ms\n"
          ],
          "name": "stdout"
        }
      ]
    },
    {
      "cell_type": "code",
      "metadata": {
        "id": "0zGw1wVhbdcy",
        "outputId": "62716176-e6d6-4f0d-f77a-205e76cfc634",
        "colab": {
          "base_uri": "https://localhost:8080/",
          "height": 312
        }
      },
      "source": [
        "fig, ax = plt.subplots()\n",
        "ax.scatter(scoresarray[1], scoresarray[2])\n",
        "\n",
        "plt.title(\"Average scores per kernel\")\n",
        "plt.xlabel(\"% activated pixels inside plate region\")\n",
        "plt.ylabel(\"% deactivated pixels outside plate region\")\n",
        "\n",
        "for i, txt in enumerate(scoresarray[0]):\n",
        "    ax.annotate(txt, (scoresarray[1][i], scoresarray[2][i]))"
      ],
      "execution_count": null,
      "outputs": [
        {
          "output_type": "display_data",
          "data": {
            "image/png": "[encoded data removed]",
            "text/plain": [
              "<Figure size 432x288 with 1 Axes>"
            ]
          },
          "metadata": {
            "tags": [],
            "needs_background": "light"
          }
        },
        {
          "output_type": "stream",
          "text": [
            "time: 210 ms\n"
          ],
          "name": "stdout"
        }
      ]
    },
    {
      "cell_type": "code",
      "metadata": {
        "id": "tKWMav8TlnaD"
      },
      "source": [
        ""
      ],
      "execution_count": null,
      "outputs": []
    },
    {
      "cell_type": "markdown",
      "metadata": {
        "id": "4dwNkpcZlwwq"
      },
      "source": [
        "## **Evaluating the kernels on the tests set MODEL1**"
      ]
    },
    {
      "cell_type": "markdown",
      "metadata": {
        "id": "ryPebhJmnOxT"
      },
      "source": [
        "**Train set 1 , test set 1**"
      ]
    },
    {
      "cell_type": "code",
      "metadata": {
        "id": "5sXH1CEsndAm",
        "outputId": "77edda47-bb8a-4c0b-8c2b-ef3637250244",
        "colab": {
          "base_uri": "https://localhost:8080/"
        }
      },
      "source": [
        "modelOptionsObjarray = [ modelOptionsObj1]\n",
        "\n",
        "trainsetNamearray = [ \"Trainset1\"]\n",
        "testsetNamearray = [\"Testset1\"]\n",
        "\n",
        "trainFolderPatharray = [\"/content/train1_187_95_40_20_90/\"]\n",
        "testFolderPatharray = [\"/content/test1_187_95_40_20_90/\"]\n",
        "\n",
        "maskFolder = \"plates/\"\n",
        "\n",
        "j = 0\n",
        "\n",
        "modelprename = \"model\"\n",
        "\n",
        "print(\"starting...\")\n",
        "print()\n",
        "\n",
        "for modelOptionsObj in modelOptionsObjarray:\n",
        "  i = 0\n",
        "  j += 1\n",
        "\n",
        "  while i < len(trainsetNamearray):\n",
        "    \n",
        "    trainsetName = trainsetNamearray[i]\n",
        "    trainFolderPath = trainFolderPatharray[i]\n",
        "\n",
        "    print(\"train set name \", trainsetName)\n",
        "    print(\"train folder \", trainFolderPath)\n",
        "\n",
        "    trainsetbKernelsUsed, trainsetresultsDataFrame = launchModelEvaluation(trainsetName, trainFolderPath, maskFolder, modelOptionsObj)\n",
        "\n",
        "    modelname = modelprename + str(j) + \"_\" + trainsetName + \"results.csv\"\n",
        "    trainsetresultsDataFrame.to_csv(modelname)\n",
        "    \n",
        "    k = 0\n",
        "    for kernel in trainsetbKernelsUsed:\n",
        "      print(\"kernel \", k)\n",
        "      print(kernel)\n",
        "      print()\n",
        "      k+=1\n",
        "    \n",
        "    i += 1"
      ],
      "execution_count": null,
      "outputs": [
        {
          "output_type": "stream",
          "text": [
            "starting...\n",
            "\n",
            "train set name  Trainset1\n",
            "train folder  /content/train1_187_95_40_20_90/\n"
          ],
          "name": "stdout"
        }
      ]
    },
    {
      "cell_type": "code",
      "metadata": {
        "id": "AbCBk5AtqQA4"
      },
      "source": [
        "scoresarray = computeScoresPerKernel(trainsetresultsDataFrame)\n",
        "plotScores(scoresarray)"
      ],
      "execution_count": null,
      "outputs": []
    },
    {
      "cell_type": "code",
      "metadata": {
        "id": "Z0vypclCnfKn"
      },
      "source": [
        "\n",
        "bestTrainsetbKernels = \n",
        "\n",
        "\n",
        "testFolderPath = \"/content/test1_187_95_40_20_90/\"\n",
        "\n",
        "testsetName = \"Testset1\"\n",
        "\n",
        "modelname = \"Model1\" + str(j) + \"_\" + testsetName + \"results.csv\"\n",
        "\n",
        "meanTens = np.array([])\n",
        "standardDeviationTens = np.array([])\n",
        "if modelOptionsObj[\"batchnormalization\"] == True:\n",
        "  meanTens, standardDeviationTens = returnBatchNormMeanAndStandarDeviationTensors(trainFolderPath)\n",
        "\n",
        "testResultDataframe = launchModelTestEvaluation(testsetName, testFolderPath, maskFolder, modelOptionsObj, meanTens, standardDeviationTens, bestTrainsetbKernels)\n",
        "\n",
        "testResultDataframe.to_csv(modelname)"
      ],
      "execution_count": null,
      "outputs": []
    },
    {
      "cell_type": "markdown",
      "metadata": {
        "id": "HxFMUkdQrkQn"
      },
      "source": [
        "**Train set 2, test set 2**"
      ]
    },
    {
      "cell_type": "code",
      "metadata": {
        "id": "1LsOiO55rsDt",
        "outputId": "fb789063-f666-44f3-af31-b647897e1b75",
        "colab": {
          "base_uri": "https://localhost:8080/"
        }
      },
      "source": [
        "modelOptionsObj1 = {\"batchnormalization\": True, \"kernelBank\":{\"nkernels\": 10, \"width\": 3, \"height\": 3, \"nbands\": 3, \"normalized\":True }}\n",
        "modelOptionsObj2 = {\"batchnormalization\": False, \"kernelBank\":{\"nkernels\": 10, \"width\": 3, \"height\": 3, \"nbands\": 3, \"normalized\":True }}\n",
        "modelOptionsObj3 = {\"batchnormalization\": True, \"kernelBank\":{\"nkernels\": 10, \"width\": 3, \"height\": 3, \"nbands\": 3, \"normalized\":False }}\n",
        "modelOptionsObj4 = {\"batchnormalization\": True, \"kernelBank\":{\"nkernels\": 10, \"width\": 5, \"height\": 5, \"nbands\": 3, \"normalized\":True }}\n",
        "modelOptionsObj5 = {\"batchnormalization\": True, \"kernelBank\":{\"nkernels\": 10, \"width\": 7, \"height\": 3, \"nbands\": 3, \"normalized\":True }}\n",
        "\n",
        "modelOptionsObjarray = [ modelOptionsObj1]\n",
        "\n",
        "trainsetNamearray = [ \"Trainset2\"]\n",
        "testsetNamearray = [\"Testset2\"]\n",
        "\n",
        "trainFolderPatharray = [\"/content/train2_187_95_40_20_90/\"]\n",
        "testFolderPatharray = [\"/content/test2_187_95_40_20_90/\"]\n",
        "\n",
        "maskFolder = \"plates/\"\n",
        "\n",
        "j = 0\n",
        "\n",
        "modelprename = \"model\"\n",
        "\n",
        "print(\"starting...\")\n",
        "print()\n",
        "\n",
        "for modelOptionsObj in modelOptionsObjarray:\n",
        "  i = 0\n",
        "  j += 1\n",
        "\n",
        "  while i < len(trainsetNamearray):\n",
        "    \n",
        "    trainsetName = trainsetNamearray[i]\n",
        "    trainFolderPath = trainFolderPatharray[i]\n",
        "\n",
        "    print(\"train set name \", trainsetName)\n",
        "    print(\"train folder \", trainFolderPath)\n",
        "\n",
        "    trainsetbKernelsUsed, trainsetresultsDataFrame = launchModelEvaluation(trainsetName, trainFolderPath, maskFolder, modelOptionsObj)\n",
        "\n",
        "    modelname = modelprename + str(j) + \"_\" + trainsetName + \"results.csv\"\n",
        "    trainsetresultsDataFrame.to_csv(modelname)\n",
        "\n",
        "    print(\"Model 1, train set \", trainsetName)\n",
        "    print()\n",
        "    \n",
        "    k = 0\n",
        "    for kernel in trainsetbKernelsUsed:\n",
        "      print(\"kernel \", k)\n",
        "      print(kernel)\n",
        "      print()\n",
        "      k+=1\n",
        "    \n",
        "    i += 1"
      ],
      "execution_count": 23,
      "outputs": [
        {
          "output_type": "stream",
          "text": [
            "starting...\n",
            "\n",
            "train set name  Trainset2\n",
            "train folder  /content/train2_187_95_40_20_90/\n",
            "Number of images processed  2000\n",
            "Number of images processed  4000\n",
            "Model 1, train set  Trainset2\n",
            "\n",
            "kernel  0\n",
            "[[[-1.30644726  0.86350263 -0.56196049]\n",
            "  [-0.61612914 -1.30520962  0.11838271]\n",
            "  [-0.00725846  0.87851648 -1.34246691]]\n",
            "\n",
            " [[ 0.9870099   0.15819819 -1.73650954]\n",
            "  [-0.69324433  0.29409335  0.9251609 ]\n",
            "  [ 0.65436198  1.66169049  0.40419814]]\n",
            "\n",
            " [[ 0.09337475  1.27988565 -1.47197439]\n",
            "  [ 1.36233626  1.35307047 -0.51248519]\n",
            "  [-1.71492456  0.25626509 -0.02143707]]]\n",
            "\n",
            "kernel  1\n",
            "[[[-0.49328776 -0.26022934 -0.07726513]\n",
            "  [ 0.62305609 -1.18807372  1.30682892]\n",
            "  [-1.1473942   0.53664294  0.69216054]]\n",
            "\n",
            " [[ 0.44217791  1.2554889   0.37654726]\n",
            "  [-1.66697491 -1.08471196  0.38679629]\n",
            "  [ 1.59883325  0.66156561  1.24079683]]\n",
            "\n",
            " [[ 0.79049535 -1.30516256  1.48954557]\n",
            "  [-1.74202626 -0.56440704  0.24604363]\n",
            "  [-0.15567005 -0.41944423 -1.54233193]]]\n",
            "\n",
            "kernel  2\n",
            "[[[-1.51412668  0.2331944  -0.80507979]\n",
            "  [-1.34556034  1.05194969 -1.04589868]\n",
            "  [-0.71524496  1.12166035  0.27936399]]\n",
            "\n",
            " [[ 1.23423453  1.0004599  -1.02572684]\n",
            "  [ 1.54643492  0.7558068   0.73381912]\n",
            "  [-1.3261453   0.02184592 -0.97846587]]\n",
            "\n",
            " [[ 1.46193146  1.43576025  0.67549717]\n",
            "  [-1.05832039  0.49248595 -0.26710012]\n",
            "  [-0.27396364 -0.22713862 -1.46167322]]]\n",
            "\n",
            "kernel  3\n",
            "[[[ 1.57971307  0.47552203  1.76921813]\n",
            "  [-1.54438237 -0.84337592  0.29120241]\n",
            "  [ 0.03728351 -0.4053713   0.12668478]]\n",
            "\n",
            " [[-0.98718712 -0.07365026 -1.07931704]\n",
            "  [-1.21686663 -0.59543634  0.5440771 ]\n",
            "  [ 1.24730323  0.1716772  -0.64645693]]\n",
            "\n",
            " [[ 0.94400229  1.28019565  0.48729032]\n",
            "  [-1.50295474 -0.77962473  1.84701381]\n",
            "  [ 0.76061725 -1.16834255 -0.71883486]]]\n",
            "\n",
            "kernel  4\n",
            "[[[ 1.67509839 -0.30050387 -1.12833919]\n",
            "  [ 1.68997629  0.10436986 -0.34845305]\n",
            "  [-0.62855563 -0.76128309 -1.60246034]]\n",
            "\n",
            " [[-1.18021628  0.11247323 -1.17440839]\n",
            "  [ 1.15679468  1.40091474  1.60587923]\n",
            "  [ 1.5485305   0.01292364  0.46700176]]\n",
            "\n",
            " [[-1.21963552  0.42532501 -0.35699649]\n",
            "  [-0.07524802 -0.1542496  -1.24199945]\n",
            "  [ 0.17070864  0.79633384 -0.99398087]]]\n",
            "\n",
            "kernel  5\n",
            "[[[-1.5818036  -1.45692549  0.17898236]\n",
            "  [-0.2308798  -0.05235472  0.2009445 ]\n",
            "  [ 0.49871409  1.31029472 -1.06037125]]\n",
            "\n",
            " [[ 1.29636767 -0.91917157  1.43383816]\n",
            "  [ 0.81432555  0.71409949  0.76057018]\n",
            "  [-0.72187189  0.1618011  -0.35743978]]\n",
            "\n",
            " [[-1.17310519 -0.19743568  1.26396921]\n",
            "  [-1.68117177 -1.28561484  1.1277184 ]\n",
            "  [ 0.23594728 -0.87865842  1.59923129]]]\n",
            "\n",
            "kernel  6\n",
            "[[[-1.30839806  0.81292246 -0.70293472]\n",
            "  [ 1.13738271 -1.33832494  1.14935474]\n",
            "  [ 0.18137066 -0.58201983 -0.74796321]]\n",
            "\n",
            " [[ 0.02391975  1.50768157  0.59956615]\n",
            "  [-0.70887524 -1.38067969 -1.3178859 ]\n",
            "  [-0.81270869  1.06433069 -1.18347606]]\n",
            "\n",
            " [[-0.03152043 -0.44446399  0.59231647]\n",
            "  [ 0.77283362 -0.13617423 -1.06328044]\n",
            "  [ 0.33850149  1.86115886  1.71736627]]]\n",
            "\n",
            "kernel  7\n",
            "[[[-0.33718542 -1.19935276 -0.35097475]\n",
            "  [-0.14534316 -0.67973889 -1.68150688]\n",
            "  [ 1.39604079 -0.12181844  1.02031156]]\n",
            "\n",
            " [[ 1.85879655 -1.79803536 -1.83444907]\n",
            "  [ 0.65337977  1.22915915  1.03492271]\n",
            "  [ 0.06496851 -1.11093411  0.91465372]]\n",
            "\n",
            " [[-0.92305252  0.64102434  0.70803044]\n",
            "  [ 0.75907349 -0.17064586  0.45326488]\n",
            "  [-0.06773689 -0.94498585  0.63213406]]]\n",
            "\n",
            "kernel  8\n",
            "[[[ 0.27644533 -0.50070737  0.83731077]\n",
            "  [-0.24628258 -1.3358542   0.76395048]\n",
            "  [ 0.57141729 -0.30296856 -1.55914637]]\n",
            "\n",
            " [[ 0.20193021 -0.646589   -1.50915056]\n",
            "  [ 0.82612689 -0.17673248  0.54485379]\n",
            "  [ 1.71027041 -0.59666888  0.50548382]]\n",
            "\n",
            " [[-1.46720401  0.81590655 -1.48010845]\n",
            "  [ 1.3279435  -0.19105978  0.04137658]\n",
            "  [ 1.65836307 -1.42134238  1.35243591]]]\n",
            "\n",
            "kernel  9\n",
            "[[[-1.2226035  -0.38840306  1.34096669]\n",
            "  [ 0.39297436 -1.54152036 -0.99866432]\n",
            "  [ 1.62115717 -0.08742015  1.14275184]]\n",
            "\n",
            " [[ 0.88641682 -1.412767   -1.05319195]\n",
            "  [ 0.67510115  0.57186675  0.11788186]\n",
            "  [-0.39275917  0.84938246 -1.31639712]]\n",
            "\n",
            " [[ 1.24083449 -1.50916311  0.37748861]\n",
            "  [ 1.1699285   0.40277467  1.1215329 ]\n",
            "  [-1.24157283 -0.04045368 -0.70614203]]]\n",
            "\n",
            "time: 1h 8min 20s\n"
          ],
          "name": "stdout"
        }
      ]
    },
    {
      "cell_type": "code",
      "metadata": {
        "id": "77zOq7UZsG6A",
        "outputId": "19b55e01-26c5-4142-dc1a-c1d0a1f73bad",
        "colab": {
          "base_uri": "https://localhost:8080/",
          "height": 366
        }
      },
      "source": [
        "scoresarray = computeScoresPerKernel(trainsetresultsDataFrame)\n",
        "print(\"Scores\")\n",
        "print(scoresarray)\n",
        "plotScores(scoresarray)"
      ],
      "execution_count": 29,
      "outputs": [
        {
          "output_type": "stream",
          "text": [
            "Scores\n",
            "[['kernel_0', 'kernel_1', 'kernel_2', 'kernel_3', 'kernel_4', 'kernel_5', 'kernel_6', 'kernel_7', 'kernel_8', 'kernel_9'], [47.50274578608058, 32.44803525669492, 44.44980907511138, 36.83237617143623, 78.85109476671242, 28.875918567504165, 45.79558625093236, 80.06081233003161, 85.25857175146707, 80.07996070926039], [24.935544795840748, 74.30173592361609, 26.7136321164105, 76.62075882098185, 29.50035148150554, 72.48378827363196, 28.002681280431, 58.293104685606714, 48.075004026375666, 50.735300985634744]]\n"
          ],
          "name": "stdout"
        },
        {
          "output_type": "display_data",
          "data": {
            "image/png": "[encoded data removed]",
            "text/plain": [
              "<Figure size 432x288 with 1 Axes>"
            ]
          },
          "metadata": {
            "tags": [],
            "needs_background": "light"
          }
        },
        {
          "output_type": "stream",
          "text": [
            "time: 310 ms\n"
          ],
          "name": "stdout"
        }
      ]
    },
    {
      "cell_type": "code",
      "metadata": {
        "id": "Xr_8oyaUsMF_",
        "outputId": "cd9535cc-a2a3-4d06-b34c-f24ae1e4708e",
        "colab": {
          "base_uri": "https://localhost:8080/"
        }
      },
      "source": [
        "bestkernels = [7, 8, 9 ]\n",
        "\n",
        "bestTrainsetbKernels = []\n",
        "kernelIDarray = []\n",
        "\n",
        "s = 0\n",
        "for kernel in trainsetbKernelsUsed:\n",
        "  if s in bestkernels:\n",
        "    bestTrainsetbKernels.append(kernel) \n",
        "    kernelIDarray.append(s)\n",
        "  s +=1 \n",
        "\n",
        "\n",
        "testFolderPath = \"/content/test2_187_95_40_20_90/\"\n",
        "\n",
        "testsetName = \"Testset2\"\n",
        "\n",
        "modelname = \"Model1\" + str(j) + \"_\" + testsetName + \"results.csv\"\n",
        "\n",
        "meanTens = np.array([])\n",
        "standardDeviationTens = np.array([])\n",
        "if modelOptionsObj[\"batchnormalization\"] == True:\n",
        "  meanTens, standardDeviationTens = returnBatchNormMeanAndStandarDeviationTensors(trainFolderPath)\n",
        "\n",
        "testResultDataframe = launchModelTestEvaluation(testsetName, testFolderPath, maskFolder, modelOptionsObj, meanTens, standardDeviationTens, bestTrainsetbKernels, kernelIDarray)\n",
        "\n",
        "testResultDataframe.to_csv(modelname)"
      ],
      "execution_count": 27,
      "outputs": [
        {
          "output_type": "stream",
          "text": [
            "Number of images processed  2000\n",
            "Number of images processed  4000\n",
            "time: 20min 42s\n"
          ],
          "name": "stdout"
        }
      ]
    },
    {
      "cell_type": "code",
      "metadata": {
        "id": "4zYxzSnzEY4X",
        "outputId": "992128ee-e815-475b-dd31-9969fa3bcabd",
        "colab": {
          "base_uri": "https://localhost:8080/",
          "height": 366
        }
      },
      "source": [
        "scoresarray = computeScoresPerKernel(testResultDataframe)\n",
        "\n",
        "print(\"Scores \")\n",
        "print(scoresarray)\n",
        "plotScores(scoresarray)"
      ],
      "execution_count": 28,
      "outputs": [
        {
          "output_type": "stream",
          "text": [
            "Scores \n",
            "[['kernel_7', 'kernel_8', 'kernel_9'], [79.8699183742596, 85.10438056672727, 79.76277198220072], [59.33640828926019, 49.07650384878347, 51.58269665508761]]\n"
          ],
          "name": "stdout"
        },
        {
          "output_type": "display_data",
          "data": {
            "image/png": "[encoded data removed]",
            "text/plain": [
              "<Figure size 432x288 with 1 Axes>"
            ]
          },
          "metadata": {
            "tags": [],
            "needs_background": "light"
          }
        },
        {
          "output_type": "stream",
          "text": [
            "time: 234 ms\n"
          ],
          "name": "stdout"
        }
      ]
    },
    {
      "cell_type": "markdown",
      "metadata": {
        "id": "0GdrNOAzsOLO"
      },
      "source": [
        "**Train set 3 test set 3**"
      ]
    },
    {
      "cell_type": "code",
      "metadata": {
        "id": "9FfLG3sOsTna"
      },
      "source": [
        "modelOptionsObjarray = [ modelOptionsObj1]\n",
        "\n",
        "trainsetNamearray = [ \"Trainset3\"]\n",
        "testsetNamearray = [\"Testset3\"]\n",
        "\n",
        "trainFolderPatharray = [\"/content/train3_187_95_40_20_90/\"]\n",
        "testFolderPatharray = [\"/content/test3_187_95_40_20_90/\"]\n",
        "\n",
        "maskFolder = \"plates/\"\n",
        "\n",
        "j = 0\n",
        "\n",
        "modelprename = \"model\"\n",
        "\n",
        "print(\"starting...\")\n",
        "print()\n",
        "\n",
        "for modelOptionsObj in modelOptionsObjarray:\n",
        "  i = 0\n",
        "  j += 1\n",
        "\n",
        "  while i < len(trainsetNamearray):\n",
        "    \n",
        "    trainsetName = trainsetNamearray[i]\n",
        "    trainFolderPath = trainFolderPatharray[i]\n",
        "\n",
        "    print(\"train set name \", trainsetName)\n",
        "    print(\"train folder \", trainFolderPath)\n",
        "\n",
        "    trainsetbKernelsUsed, trainsetresultsDataFrame = launchModelEvaluation(trainsetName, trainFolderPath, maskFolder, modelOptionsObj)\n",
        "\n",
        "    modelname = modelprename + str(j) + \"_\" + trainsetName + \"results.csv\"\n",
        "    trainsetresultsDataFrame.to_csv(modelname)\n",
        "\n",
        "    print(\"Model 1, train set \", trainsetName)\n",
        "    print()\n",
        "    \n",
        "    k = 0\n",
        "    for kernel in trainsetbKernelsUsed:\n",
        "      print(\"kernel \", k)\n",
        "      print(kernel)\n",
        "      print()\n",
        "      k+=1\n",
        "    \n",
        "    i += 1"
      ],
      "execution_count": null,
      "outputs": []
    },
    {
      "cell_type": "code",
      "metadata": {
        "id": "2B8NVw6fsY7J"
      },
      "source": [
        "scoresarray = computeScoresPerKernel(trainsetresultsDataFrame)\n",
        "plotScores(scoresarray)"
      ],
      "execution_count": null,
      "outputs": []
    },
    {
      "cell_type": "code",
      "metadata": {
        "id": "RlSWXDICsbpc"
      },
      "source": [
        "bestTrainsetbKernels = \n",
        "\n",
        "\n",
        "testFolderPath = \"/content/test3_187_95_40_20_90/\"\n",
        "\n",
        "testsetName = \"Testset3\"\n",
        "\n",
        "modelname = \"Model1\" + str(j) + \"_\" + testsetName + \"results.csv\"\n",
        "\n",
        "meanTens = np.array([])\n",
        "standardDeviationTens = np.array([])\n",
        "if modelOptionsObj[\"batchnormalization\"] == True:\n",
        "  meanTens, standardDeviationTens = returnBatchNormMeanAndStandarDeviationTensors(trainFolderPath)\n",
        "\n",
        "testResultDataframe = launchModelTestEvaluation(testsetName, testFolderPath, maskFolder, modelOptionsObj, meanTens, standardDeviationTens, bestTrainsetbKernels)\n",
        "\n",
        "testResultDataframe.to_csv(modelname)"
      ],
      "execution_count": null,
      "outputs": []
    },
    {
      "cell_type": "markdown",
      "metadata": {
        "id": "d6o-cpPcQnnU"
      },
      "source": [
        "## **Model 4**"
      ]
    },
    {
      "cell_type": "code",
      "metadata": {
        "id": "HO--T1yAQpFI",
        "outputId": "ac96c0bb-1312-4ae0-b8f5-fea01407b2ca",
        "colab": {
          "base_uri": "https://localhost:8080/"
        }
      },
      "source": [
        "modelOptionsObjarray = [ modelOptionsObj4]\n",
        "\n",
        "trainsetNamearray = [ \"Trainset2\"]\n",
        "testsetNamearray = [\"Testset2\"]\n",
        "\n",
        "trainFolderPatharray = [\"/content/train2_187_95_40_20_90/\"]\n",
        "testFolderPatharray = [\"/content/test2_187_95_40_20_90/\"]\n",
        "\n",
        "maskFolder = \"plates/\"\n",
        "\n",
        "j = 3\n",
        "\n",
        "modelprename = \"model\"\n",
        "\n",
        "print(\"starting...\")\n",
        "print()\n",
        "\n",
        "for modelOptionsObj in modelOptionsObjarray:\n",
        "  i = 0\n",
        "  j += 1\n",
        "\n",
        "  while i < len(trainsetNamearray):\n",
        "    \n",
        "    trainsetName = trainsetNamearray[i]\n",
        "    trainFolderPath = trainFolderPatharray[i]\n",
        "\n",
        "    print(\"train set name \", trainsetName)\n",
        "    print(\"train folder \", trainFolderPath)\n",
        "\n",
        "    trainsetbKernelsUsed, trainsetresultsDataFrame = launchModelEvaluation(trainsetName, trainFolderPath, maskFolder, modelOptionsObj)\n",
        "\n",
        "    modelname = modelprename + str(j) + \"_\" + trainsetName + \"results.csv\"\n",
        "    trainsetresultsDataFrame.to_csv(modelname)\n",
        "    \n",
        "    k = 0\n",
        "    for kernel in trainsetbKernelsUsed:\n",
        "      print(\"kernel \", k)\n",
        "      print(kernel)\n",
        "      print()\n",
        "      k+=1\n",
        "    \n",
        "    i += 1"
      ],
      "execution_count": 30,
      "outputs": [
        {
          "output_type": "stream",
          "text": [
            "starting...\n",
            "\n",
            "train set name  Trainset2\n",
            "train folder  /content/train2_187_95_40_20_90/\n",
            "Number of images processed  2000\n",
            "Number of images processed  4000\n",
            "kernel  0\n",
            "[[[-0.33219869 -0.04923783 -1.28153341]\n",
            "  [-1.09666872  0.88689767 -0.04830894]\n",
            "  [ 1.16169573  1.6803799  -1.04367038]\n",
            "  [ 0.72491329 -0.48153843 -0.39917967]\n",
            "  [-1.36914361 -0.37879815  0.5331758 ]]\n",
            "\n",
            " [[ 0.96930938 -0.30072957  1.25417012]\n",
            "  [ 1.39950962 -0.55709997 -1.75521294]\n",
            "  [-0.86570958 -1.7573655  -1.02930822]\n",
            "  [-0.81831692  1.18383697  0.76142177]\n",
            "  [ 1.24446427  0.44251442 -1.62909598]]\n",
            "\n",
            " [[ 1.04769653 -0.73011584 -1.73708972]\n",
            "  [ 0.52646193  1.47555181 -0.85363032]\n",
            "  [ 1.70578306 -0.00878696 -0.07131618]\n",
            "  [-0.99710463  0.36045572  1.10210728]\n",
            "  [ 0.78541285  0.36125622 -0.57073363]]\n",
            "\n",
            " [[-0.79601611 -0.26451287 -1.74824125]\n",
            "  [ 0.92842849  0.48233749 -0.27483093]\n",
            "  [-1.13689591 -0.78677178 -0.46738357]\n",
            "  [-1.43558458  1.00956583  0.13379516]\n",
            "  [ 1.53144332 -0.64281673  0.04440049]]\n",
            "\n",
            " [[ 1.17569293  0.0912602  -0.84194619]\n",
            "  [-1.27651675  1.65470738 -1.59125983]\n",
            "  [ 1.50354337  0.6799298   0.57064286]\n",
            "  [ 0.34592306 -0.66584266  1.55467015]\n",
            "  [-0.23053073  0.1819765   0.82571231]]]\n",
            "\n",
            "kernel  1\n",
            "[[[ 0.18007606  0.30889513 -0.90104165]\n",
            "  [ 1.37605261 -0.14331645  1.09657666]\n",
            "  [-1.01908968 -1.31217144  0.26687217]\n",
            "  [-0.3108333  -1.55363078 -0.0848013 ]\n",
            "  [ 1.49703908 -0.77054043 -1.14083284]]\n",
            "\n",
            " [[ 0.08751579 -1.21290598  1.59708679]\n",
            "  [ 1.19098771  1.09833729  0.79846743]\n",
            "  [ 1.02191464  0.39795556  0.89321812]\n",
            "  [-0.76643602  1.65269926  0.00544839]\n",
            "  [-0.85743536 -1.19480588  0.52662983]]\n",
            "\n",
            " [[-0.13664627  0.37428713 -0.42083246]\n",
            "  [ 0.26189834 -1.60664286 -1.12758845]\n",
            "  [-1.51283574 -1.75215031  0.72382634]\n",
            "  [-1.88268126 -1.47055983 -1.08023639]\n",
            "  [ 0.50272368  1.453346    1.02677401]]\n",
            "\n",
            " [[-0.32330516  1.70604792  0.23059445]\n",
            "  [ 0.30290543  0.37916571 -0.64032155]\n",
            "  [ 0.53664114  1.72146683  1.7632847 ]\n",
            "  [ 0.84751698  0.51859038 -0.51711635]\n",
            "  [-1.50137842 -0.4201313  -1.29230147]]\n",
            "\n",
            " [[-0.62855957  0.70951644  0.19208818]\n",
            "  [ 0.05618447 -0.87014503  1.02389054]\n",
            "  [ 0.250523   -0.82482685  1.65547116]\n",
            "  [-0.72751317 -0.87478987  0.13000675]\n",
            "  [-0.77091051 -0.24620603  1.53299783]]]\n",
            "\n",
            "kernel  2\n",
            "[[[-0.30552487  0.48651493 -0.30780602]\n",
            "  [-1.1144153   0.77333595 -1.24345917]\n",
            "  [ 0.99540306 -0.37399752 -0.85346681]\n",
            "  [-1.28509172  0.60033067 -0.73180262]\n",
            "  [-0.85026155  1.54224527  1.56971852]]\n",
            "\n",
            " [[-0.60099464  1.29690178  1.05270933]\n",
            "  [ 1.05996561  1.23526466  0.29255742]\n",
            "  [ 0.40067883 -1.42077208  0.36611837]\n",
            "  [-1.48159411  0.43931079  1.31620339]\n",
            "  [ 0.27866774  1.26986275 -0.33297622]]\n",
            "\n",
            " [[-0.6269733  -1.28073744 -1.07211582]\n",
            "  [-0.78187538  0.81456841 -1.04206337]\n",
            "  [ 0.58917819  1.08974873 -1.56000997]\n",
            "  [-1.53535059  1.62945548 -0.6250647 ]\n",
            "  [ 1.48453004  0.94746235 -1.01680994]]\n",
            "\n",
            " [[ 0.38692693 -0.70715953  0.57792248]\n",
            "  [-0.5202573   0.77822909  1.46734236]\n",
            "  [-0.49927848  1.61392621 -0.68976564]\n",
            "  [-0.26974864 -1.28978842 -1.40480583]\n",
            "  [ 0.68385629  0.24961511 -0.1686836 ]]\n",
            "\n",
            " [[ 0.69946392 -1.49715219 -0.01551389]\n",
            "  [-0.96465674  0.4926027   0.74183887]\n",
            "  [ 1.28035471  1.19809619 -0.35953636]\n",
            "  [-1.61856315 -1.41615714 -0.37362209]\n",
            "  [ 0.41136782  1.44732148 -1.32174429]]]\n",
            "\n",
            "kernel  3\n",
            "[[[-0.63632912 -1.23055008 -1.15170607]\n",
            "  [ 0.29794414 -0.75332603 -0.15000569]\n",
            "  [ 0.72035337  0.1225925   0.62748304]\n",
            "  [-1.06693866  1.72511591  0.03684982]\n",
            "  [ 0.67689803  0.8582198  -0.67650625]]\n",
            "\n",
            " [[ 0.60917221  1.3544519  -1.03360098]\n",
            "  [ 0.47107    -0.92905767  0.87882734]\n",
            "  [ 1.37507669  0.0882843   1.21420783]\n",
            "  [ 0.4094141   1.77482041 -1.07963515]\n",
            "  [ 1.78834205 -1.3855581  -0.64785956]]\n",
            "\n",
            " [[-1.3347423  -1.53092962  0.59081935]\n",
            "  [ 1.29393782 -0.8462322  -0.46114839]\n",
            "  [-0.07268091 -0.85402191  1.45476005]\n",
            "  [-0.85833466 -1.24374911  1.51310811]\n",
            "  [ 0.10494317 -0.29022645 -0.04209285]]\n",
            "\n",
            " [[ 0.04731819  1.70135702 -0.70487677]\n",
            "  [ 0.68470757 -1.04392065 -1.01085464]\n",
            "  [-0.65863934  0.8925138   0.34185253]\n",
            "  [ 0.99473606  0.43876017 -1.44607534]\n",
            "  [-1.26304224 -1.29167065 -0.65276051]]\n",
            "\n",
            " [[-1.15269614  0.83229123  1.37573441]\n",
            "  [ 0.15460853  1.13262061 -1.32658554]\n",
            "  [-1.36076415 -0.04211179  0.15716649]\n",
            "  [ 1.32679458  0.94754354 -1.10197083]\n",
            "  [ 0.63968623 -1.53619552  1.21301298]]]\n",
            "\n",
            "kernel  4\n",
            "[[[-0.35979116  1.0875627   1.29577169]\n",
            "  [ 0.46905884  1.55927708 -0.76248277]\n",
            "  [-0.66998973  1.20883119  0.60303592]\n",
            "  [ 0.79191284 -0.19000724 -0.82997082]\n",
            "  [ 0.03860235 -1.00962871  0.38181955]]\n",
            "\n",
            " [[ 1.52027995  0.03684455  1.46510714]\n",
            "  [ 0.74021781  1.32868841  1.05177158]\n",
            "  [ 1.55403605  0.41539909  1.07043529]\n",
            "  [-0.08293923 -1.59070218 -1.24446183]\n",
            "  [ 0.17243303 -0.39496867  0.80825854]]\n",
            "\n",
            " [[ 0.22557509 -0.68974065 -1.30866791]\n",
            "  [ 1.58792555  0.53296078  1.58282629]\n",
            "  [-0.28583538 -0.70222236 -1.62447062]\n",
            "  [ 0.31735112  1.65228368  1.33950966]\n",
            "  [-0.38692262 -0.64360053 -0.7735112 ]]\n",
            "\n",
            " [[-1.30911878 -1.14394249 -1.61662613]\n",
            "  [-1.42158077 -1.19932349 -1.44458475]\n",
            "  [-1.49726425  0.13565538 -0.46778399]\n",
            "  [-1.08567361  0.61165558  0.84879323]\n",
            "  [-0.19622509 -1.27288391 -0.24401709]]\n",
            "\n",
            " [[-0.94282912 -0.55490357  1.07556523]\n",
            "  [ 0.3771017   0.97618396 -0.96729074]\n",
            "  [ 1.19818345  0.26241263 -1.54589935]\n",
            "  [-0.47883121 -1.15673108 -0.28446396]\n",
            "  [ 0.89272348 -0.37764747  1.54148407]]]\n",
            "\n",
            "kernel  5\n",
            "[[[ 0.82602335  1.18501568  0.80752533]\n",
            "  [-1.58109581  0.95837785 -1.02297731]\n",
            "  [ 0.15346886  1.22820387 -0.62364676]\n",
            "  [-0.41403991 -1.70085014 -0.45283014]\n",
            "  [-0.39538428 -0.95027935  1.07995761]]\n",
            "\n",
            " [[ 1.37857478  0.9966445  -0.02284446]\n",
            "  [-0.97058401  0.87685311  0.13637802]\n",
            "  [ 1.43604518 -0.39184822 -0.33861317]\n",
            "  [-0.98774023  1.3590695   1.14549582]\n",
            "  [ 0.56054    -1.55442738  1.49569997]]\n",
            "\n",
            " [[-0.28183514 -1.17328804  1.17498363]\n",
            "  [ 1.3320997  -0.92533068  0.56820033]\n",
            "  [-1.10187324 -0.70644077 -0.97924286]\n",
            "  [-0.72320707  0.7980278  -1.16278374]\n",
            "  [-1.19020422  1.23924907 -0.6402069 ]]\n",
            "\n",
            " [[ 1.50953375  1.39192745 -1.02480849]\n",
            "  [ 0.32086533 -1.59817591 -0.85084468]\n",
            "  [-1.2263605   0.95628866  0.48874469]\n",
            "  [ 0.72011178  1.22732541  1.11548897]\n",
            "  [ 1.50822773 -0.47909178  1.29465659]]\n",
            "\n",
            " [[-1.63264497 -1.5690174   0.12945308]\n",
            "  [ 0.0399986  -0.9520583   1.05708152]\n",
            "  [ 0.90366717 -0.68068801 -0.258619  ]\n",
            "  [-1.06567011  0.4306326  -0.85527311]\n",
            "  [-0.31159699 -0.38981065 -0.6442036 ]]]\n",
            "\n",
            "kernel  6\n",
            "[[[-1.1736818  -0.86818801 -0.26136984]\n",
            "  [-1.66787724  0.46850582  1.51297946]\n",
            "  [-1.47307707 -1.17667671 -0.89330959]\n",
            "  [-0.55086789  0.22612268  0.68262113]\n",
            "  [ 1.22200458 -0.84753679  0.66540066]]\n",
            "\n",
            " [[-1.41548674  0.45557275 -1.09476234]\n",
            "  [-0.57793448 -0.27021899  0.11019056]\n",
            "  [-0.69495412  0.84370327 -0.64138488]\n",
            "  [ 0.43641753 -1.71844356  0.85643571]\n",
            "  [-1.19496448 -1.05911307  1.35229959]]\n",
            "\n",
            " [[ 1.56267024 -0.67911083  1.00511734]\n",
            "  [-1.54035767  0.13664618 -1.39565533]\n",
            "  [-0.28751184  0.43351604  1.18766142]\n",
            "  [ 1.04275045  0.32063209  1.522948  ]\n",
            "  [-1.58704758  1.47486207  1.32333948]]\n",
            "\n",
            " [[ 1.21109239 -0.31330248  0.20404697]\n",
            "  [ 1.52805502 -0.94040816 -0.0707249 ]\n",
            "  [ 0.07945386 -0.26561132 -0.35794918]\n",
            "  [ 0.29606314  0.34832535  1.22202665]\n",
            "  [ 1.37803485 -0.94867102 -1.19629639]]\n",
            "\n",
            " [[ 1.0056147   1.54172321  0.53269201]\n",
            "  [ 0.81835184 -0.99530237 -0.4878816 ]\n",
            "  [ 0.44254326  0.25752964 -1.15223587]\n",
            "  [-0.17303378 -1.71928475  1.36155072]\n",
            "  [ 0.36696608 -1.09147984  1.34524577]]]\n",
            "\n",
            "kernel  7\n",
            "[[[-1.349658   -1.46839492  1.45586013]\n",
            "  [-0.69473332  1.1428338  -0.80090363]\n",
            "  [-0.79450133 -0.06119876 -0.51431079]\n",
            "  [ 0.37344289 -0.9302154   0.57799769]\n",
            "  [ 1.37923876 -0.50870424  0.08975164]]\n",
            "\n",
            " [[-1.03574452 -0.2543029  -0.53293276]\n",
            "  [-0.59500626  1.29938109  0.74106353]\n",
            "  [ 0.74432566  0.54615444 -0.0790715 ]\n",
            "  [ 0.39666562  1.45508123 -1.53823628]\n",
            "  [-0.91531825 -0.43278724  0.02581474]]\n",
            "\n",
            " [[-0.09320951  0.95764231 -1.4314255 ]\n",
            "  [-0.0494968   0.67590297 -1.50853953]\n",
            "  [-0.51123631  1.57881211 -0.77885371]\n",
            "  [-1.23094786  1.60258285  1.26189882]\n",
            "  [ 1.25186161  0.90618961 -0.27340986]]\n",
            "\n",
            " [[-0.4962737   1.0662956  -1.18595085]\n",
            "  [-1.51210533 -0.19110336 -0.54668585]\n",
            "  [-0.41463384 -1.36106517 -0.05769901]\n",
            "  [ 0.48910015 -1.65279841  1.36680636]\n",
            "  [ 1.46147209 -1.61999333  0.86971637]]\n",
            "\n",
            " [[-0.68557038  1.21059069 -0.81982823]\n",
            "  [-1.34693999  0.96914044 -0.98055917]\n",
            "  [ 1.50401931  0.97801775  1.57246217]\n",
            "  [ 1.30385092 -0.461469   -0.8178459 ]\n",
            "  [-0.44222017  1.21355424  0.50835329]]]\n",
            "\n",
            "kernel  8\n",
            "[[[-1.45929411  1.41767766 -0.99779403]\n",
            "  [ 1.70379897 -0.48945389  0.74083627]\n",
            "  [ 0.63669936 -1.34464141 -0.18639336]\n",
            "  [-0.40372261  0.52084499  0.09688475]\n",
            "  [ 1.45816612 -0.97601591 -0.06319961]]\n",
            "\n",
            " [[ 0.26724567 -0.62773881  1.58946845]\n",
            "  [-0.58773084 -0.24698826 -1.0603631 ]\n",
            "  [ 1.76273072 -1.64971535  0.79811024]\n",
            "  [-1.30172322 -0.89910557  0.25533233]\n",
            "  [-0.2775697  -0.554348   -0.15067714]]\n",
            "\n",
            " [[ 1.20458944 -0.59385073 -0.09388676]\n",
            "  [-1.59671485 -0.93310149  0.1078965 ]\n",
            "  [ 1.36037063 -1.11803072  1.4516434 ]\n",
            "  [ 0.20466661 -0.31552369 -1.16127483]\n",
            "  [ 1.00573825 -0.52128546 -0.56385713]]\n",
            "\n",
            " [[ 1.42722249 -0.54686547 -1.44683734]\n",
            "  [-1.27046623 -1.52332969  1.26420058]\n",
            "  [ 0.66478359 -0.25939265 -1.28180528]\n",
            "  [ 1.20240085 -1.23890388  0.61371109]\n",
            "  [ 1.57984003  0.39674177 -0.38949314]]\n",
            "\n",
            " [[-0.18568159  1.35149189 -1.41256018]\n",
            "  [-0.34399872  0.95652166  1.53881703]\n",
            "  [-1.16406099  1.23898693 -0.18181304]\n",
            "  [ 0.16466006  0.93630495 -0.50009748]\n",
            "  [ 0.09815364  1.8060279   0.09674145]]]\n",
            "\n",
            "kernel  9\n",
            "[[[-4.01787449e-01  1.55061670e+00 -1.05096522e+00]\n",
            "  [ 1.30098803e+00 -1.47223372e-02  5.02025079e-02]\n",
            "  [-8.67445434e-01 -1.08873873e+00  1.45117270e+00]\n",
            "  [ 1.43159548e-01  1.09037786e-01 -7.32555868e-01]\n",
            "  [-1.01117634e+00 -1.62401900e-01 -1.50763171e+00]]\n",
            "\n",
            " [[ 4.47570303e-01  3.72303098e-01  1.49708020e+00]\n",
            "  [ 1.03454359e-03  9.51160442e-01  3.45677382e-01]\n",
            "  [ 1.44503149e-01 -1.18837382e+00  1.20010798e+00]\n",
            "  [-1.70478263e+00 -1.89133207e-01  1.46990523e+00]\n",
            "  [-6.52556365e-01 -1.00107633e+00  7.96792422e-02]]\n",
            "\n",
            " [[ 1.02759770e+00 -5.35319172e-02  1.78808992e-01]\n",
            "  [-3.04809078e-01  1.14761793e+00 -7.66795573e-01]\n",
            "  [-1.21066056e-01  1.43351659e+00 -1.58224368e+00]\n",
            "  [-1.62604041e+00  1.38083402e+00  1.48766789e+00]\n",
            "  [ 4.66601755e-01 -1.03169007e+00 -1.71753577e-01]]\n",
            "\n",
            " [[-6.35219761e-02 -1.17777294e+00  7.43973463e-01]\n",
            "  [ 8.23217385e-01  9.65196410e-03  1.55383599e+00]\n",
            "  [ 2.88269623e-01 -1.72703190e+00 -6.60271938e-01]\n",
            "  [ 1.05619440e+00  5.69765678e-01  8.05367195e-01]\n",
            "  [ 8.85124945e-01 -7.85276706e-01 -3.42070757e-01]]\n",
            "\n",
            " [[-9.13355753e-01  1.51515198e+00 -9.44653054e-01]\n",
            "  [-1.83492154e+00 -1.45499566e+00  1.58223408e+00]\n",
            "  [-9.88824260e-01  5.16311871e-01 -1.57334307e-01]\n",
            "  [-7.88280502e-01 -1.05579159e+00  1.03521516e+00]\n",
            "  [ 3.84554792e-01 -1.45040678e+00  1.57007514e+00]]]\n",
            "\n",
            "time: 1h 9min 38s\n"
          ],
          "name": "stdout"
        }
      ]
    },
    {
      "cell_type": "code",
      "metadata": {
        "id": "xaJRUViMhy0J",
        "outputId": "6fbb0b8e-8f40-4f16-ec33-c7a4d5fdea6f",
        "colab": {
          "base_uri": "https://localhost:8080/",
          "height": 366
        }
      },
      "source": [
        "scoresarray = computeScoresPerKernel(trainsetresultsDataFrame)\n",
        "print(\"Scores\")\n",
        "print(scoresarray)\n",
        "plotScores(scoresarray)"
      ],
      "execution_count": 31,
      "outputs": [
        {
          "output_type": "stream",
          "text": [
            "Scores\n",
            "[['kernel_0', 'kernel_1', 'kernel_2', 'kernel_3', 'kernel_4', 'kernel_5', 'kernel_6', 'kernel_7', 'kernel_8', 'kernel_9'], [74.02440683672349, 29.356328915426705, 42.60394048044178, 75.90820549582085, 63.52863745997853, 37.61124478258502, 36.30181727141712, 38.91561658802992, 79.17231887373882, 27.836582521483372], [27.970933319218528, 73.52954078810905, 29.121482607935057, 40.3341784325565, 55.79394641751454, 63.59298603937987, 75.41599710184477, 30.14807715656651, 49.33868419829813, 69.80723366851727]]\n"
          ],
          "name": "stdout"
        },
        {
          "output_type": "display_data",
          "data": {
            "image/png": "[encoded data removed]",
            "text/plain": [
              "<Figure size 432x288 with 1 Axes>"
            ]
          },
          "metadata": {
            "tags": [],
            "needs_background": "light"
          }
        },
        {
          "output_type": "stream",
          "text": [
            "time: 329 ms\n"
          ],
          "name": "stdout"
        }
      ]
    },
    {
      "cell_type": "markdown",
      "metadata": {
        "id": "bQ8e9f5apu2M"
      },
      "source": [
        "## **Model 5**"
      ]
    },
    {
      "cell_type": "code",
      "metadata": {
        "id": "nX5do-r2pwhD",
        "outputId": "a97b2308-dfd8-4a58-883e-bb700ea3c1dc",
        "colab": {
          "base_uri": "https://localhost:8080/"
        }
      },
      "source": [
        "modelOptionsObjarray = [ modelOptionsObj5]\n",
        "\n",
        "trainsetNamearray = [ \"Trainset2\"]\n",
        "testsetNamearray = [\"Testset2\"]\n",
        "\n",
        "trainFolderPatharray = [\"/content/train2_187_95_40_20_90/\"]\n",
        "testFolderPatharray = [\"/content/test2_187_95_40_20_90/\"]\n",
        "\n",
        "maskFolder = \"plates/\"\n",
        "\n",
        "j = 4\n",
        "\n",
        "modelprename = \"model\"\n",
        "\n",
        "print(\"starting...\")\n",
        "print()\n",
        "\n",
        "for modelOptionsObj in modelOptionsObjarray:\n",
        "  i = 0\n",
        "  j += 1\n",
        "\n",
        "  while i < len(trainsetNamearray):\n",
        "    \n",
        "    trainsetName = trainsetNamearray[i]\n",
        "    trainFolderPath = trainFolderPatharray[i]\n",
        "\n",
        "    print(\"train set name \", trainsetName)\n",
        "    print(\"train folder \", trainFolderPath)\n",
        "\n",
        "    trainsetbKernelsUsed, trainsetresultsDataFrame = launchModelEvaluation(trainsetName, trainFolderPath, maskFolder, modelOptionsObj)\n",
        "\n",
        "    modelname = modelprename + str(j) + \"_\" + trainsetName + \"results.csv\"\n",
        "    trainsetresultsDataFrame.to_csv(modelname)\n",
        "    \n",
        "    k = 0\n",
        "    for kernel in trainsetbKernelsUsed:\n",
        "      print(\"kernel \", k)\n",
        "      print(kernel)\n",
        "      print()\n",
        "      k+=1\n",
        "    \n",
        "    i += 1"
      ],
      "execution_count": 32,
      "outputs": [
        {
          "output_type": "stream",
          "text": [
            "starting...\n",
            "\n",
            "train set name  Trainset2\n",
            "train folder  /content/train2_187_95_40_20_90/\n",
            "Number of images processed  2000\n",
            "Number of images processed  4000\n",
            "kernel  0\n",
            "[[[-1.36356631 -0.82440154  0.88768428]\n",
            "  [-0.42841578 -0.4124984  -0.09401112]\n",
            "  [ 1.3971358   0.29715773 -0.7155558 ]\n",
            "  [ 0.97867202  0.38908465  1.40896314]\n",
            "  [ 0.48439989 -0.7487628  -1.47151411]\n",
            "  [-0.84505313 -0.66370722 -1.06995244]\n",
            "  [ 0.05086857  1.59610701 -0.56009294]]\n",
            "\n",
            " [[ 1.24087943 -1.61191576  0.44500805]\n",
            "  [-0.54982552  1.78369104  0.74776023]\n",
            "  [-0.07950465 -0.36804813  0.40308393]\n",
            "  [-0.84776626  0.91579986 -1.05862012]\n",
            "  [-0.75293298 -0.35222967 -0.63452688]\n",
            "  [-0.74936074  1.74190511 -1.36575659]\n",
            "  [-0.11172149 -1.20860102  0.11477913]]\n",
            "\n",
            " [[ 1.18411416 -0.81601039 -0.2151203 ]\n",
            "  [-1.36976794  0.38982831  0.17012462]\n",
            "  [ 1.38137188 -1.20787347  1.08705696]\n",
            "  [ 1.82156321 -0.64131737  0.15094301]\n",
            "  [-0.43389091 -0.86458594  0.65926743]\n",
            "  [-1.27968513  1.82203444  1.35046258]\n",
            "  [ 0.99395627  1.41308473 -1.59019462]]]\n",
            "\n",
            "kernel  1\n",
            "[[[-1.36040852  0.90349989  1.16741676]\n",
            "  [-0.18379268  0.48754396  0.9734801 ]\n",
            "  [ 0.78259434 -0.53861014 -0.1724479 ]\n",
            "  [-0.48656083 -0.07209892 -0.2543147 ]\n",
            "  [ 0.17000114  0.29876634 -1.12469977]\n",
            "  [ 0.77906564 -1.33715978 -1.74857373]\n",
            "  [-1.7398383  -0.2618656   1.15703927]]\n",
            "\n",
            " [[-1.27805093 -0.10515084  0.32529659]\n",
            "  [ 1.06226303  0.99697002  1.34572402]\n",
            "  [ 0.95090698  1.52229995 -1.4165809 ]\n",
            "  [ 0.38500263  0.4415262   1.38691826]\n",
            "  [-0.08579469  0.36465596  1.29144931]\n",
            "  [-1.04991896 -1.53216291  1.51226923]\n",
            "  [-0.29207371 -0.35422832  0.18168853]]\n",
            "\n",
            " [[-1.51242762 -1.04368301  0.2529495 ]\n",
            "  [-0.90855929 -1.11254754 -1.19321555]\n",
            "  [ 1.08165571  0.8221051  -1.2497309 ]\n",
            "  [-0.0422697   1.46397502  0.59439138]\n",
            "  [-0.92566604  1.42226875  1.310806  ]\n",
            "  [ 0.7578498  -0.09386502 -1.65636292]\n",
            "  [-0.65482209  1.0234544  -1.42835199]]]\n",
            "\n",
            "kernel  2\n",
            "[[[-1.60782515 -1.51631112  0.3409172 ]\n",
            "  [ 0.1666513   0.92578378 -0.65590352]\n",
            "  [ 0.34826017 -1.12726465  0.51518323]\n",
            "  [ 0.19790815 -0.28808356 -0.05674681]\n",
            "  [ 1.53868495 -0.80585891 -0.67721666]\n",
            "  [ 1.10193932 -1.63660839 -0.16986682]\n",
            "  [ 0.97368449  0.91730804  0.39370734]]\n",
            "\n",
            " [[ 1.06983104 -1.11440132  0.91870137]\n",
            "  [ 0.06540409 -0.87355643  0.19735172]\n",
            "  [ 0.33877321  0.82284736 -1.16173506]\n",
            "  [ 1.21951936  1.23161818 -0.76028038]\n",
            "  [-1.38033157  1.43603647  0.24171064]\n",
            "  [ 0.96717012  0.5721579  -1.47153548]\n",
            "  [ 1.1087621   0.04359553 -1.58758107]]\n",
            "\n",
            " [[-1.31456032  1.68535028  0.13952685]\n",
            "  [-1.01854163  0.71294167 -1.38303069]\n",
            "  [ 0.63107814  1.61367489  0.8098417 ]\n",
            "  [ 0.95303883  1.05545167  0.7205897 ]\n",
            "  [-0.92557139  1.32959968 -0.00178483]\n",
            "  [-1.60364723 -0.65745221 -0.14595609]\n",
            "  [-1.59805793 -0.34079959 -1.42409171]]]\n",
            "\n",
            "kernel  3\n",
            "[[[ 0.7564074   1.10231136 -1.36569308]\n",
            "  [ 0.33652881 -0.92731276 -0.96703498]\n",
            "  [ 1.55801966 -1.58628926 -0.57466783]\n",
            "  [-0.25776347 -0.53165904 -1.72140996]\n",
            "  [ 0.37817146  0.75125726  0.70567914]\n",
            "  [ 1.25458707 -1.57010087 -0.78849156]\n",
            "  [ 1.36742144  1.24785926  0.8835424 ]]\n",
            "\n",
            " [[-1.1813825   1.09755206 -1.75054569]\n",
            "  [ 0.45312763  0.45845506  0.93702609]\n",
            "  [-0.39575538  1.20278961 -0.75654407]\n",
            "  [ 0.74324428 -0.85741845  0.79999981]\n",
            "  [ 1.36187092 -1.78059287 -0.39903039]\n",
            "  [ 0.72421542 -0.11473041 -0.94030884]\n",
            "  [-1.73083263 -1.4480802   0.5641373 ]]\n",
            "\n",
            " [[ 0.53271743 -0.55080739  1.14195765]\n",
            "  [-1.12273084  1.06751414 -0.75459624]\n",
            "  [ 0.67464182 -0.39350125  1.24840316]\n",
            "  [ 0.14218276  1.05974429  0.38843843]\n",
            "  [ 0.10235049 -1.40607289  0.59533684]\n",
            "  [ 0.26021061  0.39648551  1.50384362]\n",
            "  [ 0.07627054 -0.48047923 -1.52046866]]]\n",
            "\n",
            "kernel  4\n",
            "[[[-1.1214391   0.96150622  0.57994086]\n",
            "  [ 0.52604748  1.6137513  -0.14401948]\n",
            "  [-1.63081579  0.12728235  1.40363942]\n",
            "  [ 0.0845497   0.71627419 -0.65749905]\n",
            "  [-1.44035487 -0.38627831 -1.38907754]\n",
            "  [-1.10442537  1.48624019  0.24792684]\n",
            "  [-0.87071428  0.04788744 -1.70341152]]\n",
            "\n",
            " [[-0.73365356  1.56632451  0.61393672]\n",
            "  [-0.8286297  -1.60724005 -0.36565699]\n",
            "  [ 1.24694794  1.54570633  0.1244824 ]\n",
            "  [ 0.21863794  0.35143912  0.18256954]\n",
            "  [ 0.96781078  1.11048159 -1.47818405]\n",
            "  [-0.63731398 -1.45938367  1.58386369]\n",
            "  [ 1.27666676  0.27767297  0.80843595]]\n",
            "\n",
            " [[-0.48493069  0.36258313 -0.78640481]\n",
            "  [-0.50169008 -1.52024853 -1.42286845]\n",
            "  [-0.01739575  1.61645968 -1.18315585]\n",
            "  [ 0.75980906  0.53045718  0.53945088]\n",
            "  [ 0.63271127  0.29100454 -1.82615891]\n",
            "  [ 0.9006692  -0.03129417  0.09210782]\n",
            "  [-0.79296269  1.2892412  -0.55930894]]]\n",
            "\n",
            "kernel  5\n",
            "[[[ 0.43937397 -0.90828611  1.19173785]\n",
            "  [ 1.25338536 -0.36180356  1.57858866]\n",
            "  [ 0.0637512  -0.48574574  0.74891047]\n",
            "  [-1.49523951  1.79196875 -0.89956963]\n",
            "  [-0.31350052  0.60660875 -0.47790477]\n",
            "  [-0.29310116 -0.03626343  0.10687897]\n",
            "  [-1.16395157 -0.35815715  1.26964289]]\n",
            "\n",
            " [[-0.58495578  1.82498135 -0.00584423]\n",
            "  [-0.95154337 -0.70375118  1.35142947]\n",
            "  [ 0.5509519   0.53408324  0.70602477]\n",
            "  [-1.11402296 -0.87966399  0.24362573]\n",
            "  [ 1.30986874 -0.71533861  0.93501767]\n",
            "  [ 0.23389073 -1.53574981  1.47125733]\n",
            "  [-1.38005501 -1.58286434 -0.06417333]]\n",
            "\n",
            " [[ 1.05332839  0.15983671 -1.54534983]\n",
            "  [ 1.37610328 -0.15248721 -0.30651197]\n",
            "  [-1.07981815  1.3603252   1.18941805]\n",
            "  [ 0.04488828 -1.17562291 -0.76570876]\n",
            "  [-0.63865689  0.60915402  0.43004057]\n",
            "  [ 1.84561377 -1.15799895 -1.56411795]\n",
            "  [-0.86449659 -1.40058748  0.68215639]]]\n",
            "\n",
            "kernel  6\n",
            "[[[-1.81778859  1.40563259  0.36531489]\n",
            "  [ 0.98574523 -0.91563672 -1.90917003]\n",
            "  [-0.60184656 -1.13551295  1.04760159]\n",
            "  [ 1.21240722 -0.0972409  -0.15586327]\n",
            "  [ 0.53314635 -1.39582185 -1.50552385]\n",
            "  [ 1.10265999  0.87600049  0.43622686]\n",
            "  [-1.88804592  1.14413242 -0.79358955]]\n",
            "\n",
            " [[ 1.45457658  0.69058169 -0.13674816]\n",
            "  [ 1.04338221  0.25674997  0.80944669]\n",
            "  [-1.04224951  1.48591262 -1.44327154]\n",
            "  [ 0.63330856  1.26925543  0.50509115]\n",
            "  [-1.04519491 -1.66052665 -1.22902429]\n",
            "  [ 0.528803    0.97159637 -0.38157949]\n",
            "  [-0.30248825 -0.69432013  1.51665663]]\n",
            "\n",
            " [[ 0.87510074 -0.19796735 -1.31921669]\n",
            "  [ 1.21244163 -0.91412891 -0.23738103]\n",
            "  [ 0.39212248  0.44556032 -0.16921712]\n",
            "  [-0.06926677  0.99069102 -0.13782125]\n",
            "  [ 0.6972981  -0.48214283 -0.89186151]\n",
            "  [-1.87502398  0.06140271  0.58209983]\n",
            "  [-0.73351006  0.33851242  1.30952281]]]\n",
            "\n",
            "kernel  7\n",
            "[[[ 0.31897974  1.27823891 -0.36637071]\n",
            "  [-0.91299387  0.25370966  1.20445721]\n",
            "  [-0.65050118 -0.40701688 -1.11069299]\n",
            "  [-0.50481953 -0.72418412 -1.33231658]\n",
            "  [-1.47334443  1.07326313 -0.8092325 ]\n",
            "  [ 0.12112104 -0.45347521 -0.08988148]\n",
            "  [ 1.35248439  1.0518845   0.60025334]]\n",
            "\n",
            " [[ 1.59739484  1.78902063 -0.40009992]\n",
            "  [ 0.57969603  1.51263517  0.09725448]\n",
            "  [-0.67139258 -0.07523616 -1.00032763]\n",
            "  [ 0.77683956 -0.4925767  -0.68912577]\n",
            "  [ 0.35467607 -0.81605148 -0.41056774]\n",
            "  [ 1.16357847 -2.01532804 -0.4596115 ]\n",
            "  [ 1.81917978 -0.44385194  1.31195723]]\n",
            "\n",
            " [[-1.69654096  1.36225423 -1.04534099]\n",
            "  [ 0.4287268  -1.35343223 -0.0958591 ]\n",
            "  [ 1.17749609  0.9471478  -0.93730624]\n",
            "  [-1.35835006  0.5905379   0.74824626]\n",
            "  [-0.72932447 -0.04429128 -0.74023186]\n",
            "  [ 1.54686443  0.87141072 -1.83394714]\n",
            "  [-0.78168532 -0.30587656  1.30187676]]]\n",
            "\n",
            "kernel  8\n",
            "[[[-1.38648865 -0.8041021  -1.37654316]\n",
            "  [-1.2776778   1.19489397 -0.31503266]\n",
            "  [ 0.93636889 -1.49617503  1.09521265]\n",
            "  [-1.48647484 -1.60199492 -0.62798752]\n",
            "  [-0.13459593  1.4033686   1.37409265]\n",
            "  [ 0.40755397 -0.37789236 -0.37347045]\n",
            "  [-0.62031569  1.37120665  1.29564361]]\n",
            "\n",
            " [[-0.48846515 -0.09030241 -0.7684063 ]\n",
            "  [ 0.98982934  0.00720446  1.31586917]\n",
            "  [-0.64495183 -0.32293373 -0.20984982]\n",
            "  [-1.35932439 -0.1253161   0.17563561]\n",
            "  [-1.54243894 -1.92380443  0.7739975 ]\n",
            "  [-0.36785267 -1.40722306 -1.51563611]\n",
            "  [ 1.51044509  0.93117685  0.89149928]]\n",
            "\n",
            " [[-0.60778441  1.46691495 -0.05881918]\n",
            "  [-0.25663995  1.31170639 -0.00251791]\n",
            "  [ 0.48995913 -1.68493997  0.46676207]\n",
            "  [ 1.21583513  0.07061052 -0.29251072]\n",
            "  [ 0.14433231  0.29219092  1.18421613]\n",
            "  [ 1.45420536 -0.25175318  1.18089733]\n",
            "  [-0.73842409  1.30278093  0.28423601]]]\n",
            "\n",
            "kernel  9\n",
            "[[[ 1.43321571 -0.84105592 -1.56082075]\n",
            "  [-1.67086528  0.30772057  0.18018411]\n",
            "  [ 1.06445198 -0.54191686  0.51314228]\n",
            "  [-1.45220272  0.64523608 -0.44021583]\n",
            "  [-1.26813359  1.53288988 -1.16513603]\n",
            "  [ 1.42185368  1.16954882  0.89438891]\n",
            "  [ 0.85688116 -0.42509047  1.71489402]]\n",
            "\n",
            " [[ 0.52571436  0.77224285 -1.68242023]\n",
            "  [-0.42059927 -1.67072191  0.51392078]\n",
            "  [ 0.2330837  -0.07138717  0.09536119]\n",
            "  [-0.37778081  0.3106475   1.3024628 ]\n",
            "  [-0.92180358  1.55853639  1.54517468]\n",
            "  [-1.03961399 -1.5948933  -0.26132864]\n",
            "  [-0.79139872  0.15079289 -1.36685685]]\n",
            "\n",
            " [[ 0.10550947 -0.4914528  -1.11425594]\n",
            "  [ 1.21347238  1.47599715 -0.09279089]\n",
            "  [ 0.93398518 -1.47021945 -0.32846269]\n",
            "  [-0.73773098  1.73658017 -0.11226243]\n",
            "  [-0.23094618 -1.09208724 -0.06025758]\n",
            "  [ 0.45981432  0.55557653 -1.11447948]\n",
            "  [ 0.15255885  1.17251186 -0.13916273]]]\n",
            "\n",
            "time: 1h 9min 29s\n"
          ],
          "name": "stdout"
        }
      ]
    }
  ]
}