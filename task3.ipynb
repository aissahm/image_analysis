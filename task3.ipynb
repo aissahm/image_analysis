{
  "nbformat": 4,
  "nbformat_minor": 0,
  "metadata": {
    "colab": {
      "name": "task3.ipynb",
      "provenance": [],
      "collapsed_sections": [
        "vWazAVEu_ncp",
        "qoURqel3YsZr",
        "Ky5pc75mY1Wr",
        "YLZWtE3X_7zI",
        "rdvcDuw5EvaX",
        "lgHPpHmJGTcm"
      ],
      "authorship_tag": "ABX9TyOahqI0I3RfAwl1gPYE25J8",
      "include_colab_link": true
    },
    "kernelspec": {
      "name": "python3",
      "display_name": "Python 3"
    }
  },
  "cells": [
    {
      "cell_type": "markdown",
      "metadata": {
        "id": "view-in-github",
        "colab_type": "text"
      },
      "source": [
        "<a href=\"https://colab.research.google.com/github/aissahm/image_analysis/blob/main/task3.ipynb\" target=\"_parent\"><img src=\"https://colab.research.google.com/assets/colab-badge.svg\" alt=\"Open In Colab\"/></a>"
      ]
    },
    {
      "cell_type": "markdown",
      "metadata": {
        "id": "qSymrW4A_P_6"
      },
      "source": [
        "# **Task 3**"
      ]
    },
    {
      "cell_type": "code",
      "metadata": {
        "id": "XkcZApPy_J9O",
        "colab": {
          "base_uri": "https://localhost:8080/"
        },
        "outputId": "34587ddb-fc34-4472-eccd-a1ac0ce0ce8b"
      },
      "source": [
        "import numpy as np\n",
        "import cv2\n",
        "from skimage import segmentation\n",
        "from skimage.segmentation import mark_boundaries\n",
        "import matplotlib.pyplot as plt\n",
        "import os\n",
        "import pandas as pd\n",
        "\n",
        "!pip install ipython-autotime\n",
        "%load_ext autotime"
      ],
      "execution_count": 1,
      "outputs": [
        {
          "output_type": "stream",
          "text": [
            "Collecting ipython-autotime\n",
            "  Downloading https://files.pythonhosted.org/packages/d6/c5/013f5aa3b56c6d2c58634bc979773df44ab2226cf4fa787daf0bfeeea0b4/ipython_autotime-0.3.0-py2.py3-none-any.whl\n",
            "Requirement already satisfied: ipython in /usr/local/lib/python3.6/dist-packages (from ipython-autotime) (5.5.0)\n",
            "Requirement already satisfied: setuptools>=18.5 in /usr/local/lib/python3.6/dist-packages (from ipython->ipython-autotime) (51.0.0)\n",
            "Requirement already satisfied: pickleshare in /usr/local/lib/python3.6/dist-packages (from ipython->ipython-autotime) (0.7.5)\n",
            "Requirement already satisfied: simplegeneric>0.8 in /usr/local/lib/python3.6/dist-packages (from ipython->ipython-autotime) (0.8.1)\n",
            "Requirement already satisfied: prompt-toolkit<2.0.0,>=1.0.4 in /usr/local/lib/python3.6/dist-packages (from ipython->ipython-autotime) (1.0.18)\n",
            "Requirement already satisfied: pygments in /usr/local/lib/python3.6/dist-packages (from ipython->ipython-autotime) (2.6.1)\n",
            "Requirement already satisfied: pexpect; sys_platform != \"win32\" in /usr/local/lib/python3.6/dist-packages (from ipython->ipython-autotime) (4.8.0)\n",
            "Requirement already satisfied: traitlets>=4.2 in /usr/local/lib/python3.6/dist-packages (from ipython->ipython-autotime) (4.3.3)\n",
            "Requirement already satisfied: decorator in /usr/local/lib/python3.6/dist-packages (from ipython->ipython-autotime) (4.4.2)\n",
            "Requirement already satisfied: wcwidth in /usr/local/lib/python3.6/dist-packages (from prompt-toolkit<2.0.0,>=1.0.4->ipython->ipython-autotime) (0.2.5)\n",
            "Requirement already satisfied: six>=1.9.0 in /usr/local/lib/python3.6/dist-packages (from prompt-toolkit<2.0.0,>=1.0.4->ipython->ipython-autotime) (1.15.0)\n",
            "Requirement already satisfied: ptyprocess>=0.5 in /usr/local/lib/python3.6/dist-packages (from pexpect; sys_platform != \"win32\"->ipython->ipython-autotime) (0.6.0)\n",
            "Requirement already satisfied: ipython-genutils in /usr/local/lib/python3.6/dist-packages (from traitlets>=4.2->ipython->ipython-autotime) (0.2.0)\n",
            "Installing collected packages: ipython-autotime\n",
            "Successfully installed ipython-autotime-0.3.0\n",
            "time: 3.16 ms (started: 2021-01-07 15:32:46 +00:00)\n"
          ],
          "name": "stdout"
        }
      ]
    },
    {
      "cell_type": "markdown",
      "metadata": {
        "id": "vWazAVEu_ncp"
      },
      "source": [
        "## **Introduction**"
      ]
    },
    {
      "cell_type": "code",
      "metadata": {
        "colab": {
          "base_uri": "https://localhost:8080/"
        },
        "id": "VPvzBpO2_pWK",
        "outputId": "2321e9cd-c595-41c9-ef39-0bcceb2099f9"
      },
      "source": [
        "#returns mask for correspoinding image\n",
        "def returnMaskPathFromImagePath(imagePath):\n",
        "  imagePath = imagePath.replace(\" \", \"\")\n",
        "  return imagePath.replace(\"orig\", \"mask\") \n",
        "\n",
        "#given a text file containing the name of training images return pathfile of respective masks\n",
        "def returnMaskImagesPathArray(trainTextPath):\n",
        "  mask_images_path_array = []\n",
        "  train_images_array = []\n",
        "  with open(trainTextPath, 'r') as file:\n",
        "      data = file.read().replace('\\n', ';')\n",
        "      train_images_array = data.split(\";\")\n",
        "  for train_image_str in train_images_array:\n",
        "    mask_image_str = train_image_str.replace(\"./plates/orig\", \"/content/plates/mask\")\n",
        "    if len(mask_image_str) > 0:\n",
        "      mask_images_path_array.append(mask_image_str)\n",
        "\n",
        "  return mask_images_path_array\n",
        "\n",
        "#return the subimage of interest\n",
        "def returnSubimageWith(width, height, xcenter, ycenter, maskImg):\n",
        "  xstart = xcenter - width//2\n",
        "  xend = xcenter + width//2\n",
        "  ystart = ycenter - height//2\n",
        "  yend = ycenter + height//2\n",
        "  return maskImg[ystart:yend+1,xstart: xend+1,:]\n",
        "\n",
        "#returns the number of pixels representing the plate in the mask\n",
        "def returnPlateNumberPixelsFromMask(maskImg):\n",
        "  #maskImg = cv2.imread(maskPath)\n",
        "  return maskImg.sum()/(3*255)\n",
        "\n",
        "#given width x height, and center coordinates of subimage, returns number of plate pixels contained in subimage\n",
        "def returnPlateNumberPixelsCovBySubimage(width, height, xcenter, ycenter, maskImg):\n",
        "  xstart = xcenter - width//2\n",
        "  if xstart < 0:\n",
        "    xstart = 0\n",
        "  xend = xcenter + width//2\n",
        "  ystart = ycenter - height//2\n",
        "  if ystart < 0:\n",
        "    ystart = 0\n",
        "  yend = ycenter + height//2\n",
        "  subImg = maskImg[ystart:yend+1,xstart: xend+1,:]\n",
        "\n",
        "  return subImg.sum()/(3*255)"
      ],
      "execution_count": 2,
      "outputs": [
        {
          "output_type": "stream",
          "text": [
            "time: 30.3 ms (started: 2021-01-07 15:33:30 +00:00)\n"
          ],
          "name": "stdout"
        }
      ]
    },
    {
      "cell_type": "markdown",
      "metadata": {
        "id": "qoURqel3YsZr"
      },
      "source": [
        "## **Converting original images from Grayscale to YCbCR**"
      ]
    },
    {
      "cell_type": "code",
      "metadata": {
        "colab": {
          "base_uri": "https://localhost:8080/"
        },
        "id": "LZzZRtlA_vHg",
        "outputId": "11b8fc67-954d-4b27-cd75-388c23efc03b"
      },
      "source": [
        "#function that saves an image\n",
        "def saveImage(image, imagefullpath):\n",
        "  cv2.imwrite(imagefullpath, image)\n",
        "\n",
        "#Mapping from grayscale pixel to RGB using color table\n",
        "def fromGrayscaleToRGBMapping(pixel, H):\n",
        "  V = pixel / H\n",
        "  V = (6 - 2) * V + 1\n",
        "  r_p = H * max(0, (3- abs(V-4) - abs(V-5))/2 )\n",
        "  g_p = H * max(0, (4- abs(V-2) - abs(V-4))/2 )\n",
        "  b_p = H * max(0, (3- abs(V-1) - abs(V-2))/2 )\n",
        "  return [r_p, g_p, b_p]\n",
        "\n",
        "#Transform the grayscale image with one channel into an RGB image with 3 channels\n",
        "def fromGrayscaleToRGB(grayscaleimage, bits):\n",
        "  if len(grayscaleimage.shape) !=2:\n",
        "    print (\"Error: image is not a grayscale image\")\n",
        "    return 0\n",
        "  \n",
        "  H = 2**bits -1\n",
        "\n",
        "  #we initiate an rgb image with 3 channels with same dimensions as grayscale image\n",
        "  rgbimage = np.zeros((grayscaleimage.shape[0], grayscaleimage.shape[1], 3))\n",
        "  i = 0\n",
        "  while i < grayscaleimage.shape[0]:\n",
        "    j = 0\n",
        "    while j < grayscaleimage.shape[1]:\n",
        "      r_p, g_p, b_p = fromGrayscaleToRGBMapping(grayscaleimage[i][j], H)\n",
        "      rgbimage[i][j][0] = r_p\n",
        "      rgbimage[i][j][1] = g_p\n",
        "      rgbimage[i][j][2] = b_p\n",
        "      \n",
        "      j +=1\n",
        "    i +=1\n",
        "  \n",
        "  return rgbimage\n",
        "\n",
        "#Transform an RGB image with 3 channels into a YCbCr image with 3 channels\n",
        "def fromRGBToYCbCr(rgbimage, bits):\n",
        "  conversionMatrix = np.array([[0.299, 0.587, 0.144], [-0.169, -0.331, 0.500], [0.500, -0.419, -0.081]])\n",
        "  bias = np.array([0, 2**(bits - 1), 2**(bits -1)])\n",
        "  YCbCrimage = np.zeros((rgbimage.shape[0], rgbimage.shape[1], rgbimage.shape[2]))\n",
        "\n",
        "  i = 0\n",
        "  while i < rgbimage.shape[0]:\n",
        "    j = 0\n",
        "    while j < rgbimage.shape[1]:\n",
        "      YCbCrimage[i][j] = conversionMatrix @ rgbimage[i][j] + bias\n",
        "      j += 1\n",
        "    i += 1\n",
        "\n",
        "  return YCbCrimage\n",
        "\n",
        "#Main function that converts a grayscale image with 1 channel to a YCbCr image with 3 channels\n",
        "def fromGrayscaleToYCbCr(image, bits):\n",
        "  rgbimage = fromGrayscaleToRGB(image, bits)\n",
        "  if len(rgbimage.shape) < 3:\n",
        "    return 0\n",
        "  return fromRGBToYCbCr(rgbimage, bits)"
      ],
      "execution_count": 3,
      "outputs": [
        {
          "output_type": "stream",
          "text": [
            "time: 59.9 ms (started: 2021-01-07 15:33:44 +00:00)\n"
          ],
          "name": "stdout"
        }
      ]
    },
    {
      "cell_type": "markdown",
      "metadata": {
        "id": "xDMGT6LE_zLR"
      },
      "source": [
        "**We create the YCbCr images**"
      ]
    },
    {
      "cell_type": "code",
      "metadata": {
        "colab": {
          "base_uri": "https://localhost:8080/"
        },
        "id": "WIHJps7Q_yfD",
        "outputId": "32c3ef18-5490-42b1-a206-b8893a011122"
      },
      "source": [
        "directory = '/content/plates/'\n",
        "\n",
        "#creating the folder that will contain the YCbCr images\n",
        "os.mkdir(\"ycbcrplates\")\n",
        "\n",
        "ycbcrdirectory = \"/content/ycbcrplates/\"\n",
        "\n",
        "i = 0 \n",
        "for filename in os.listdir(directory):\n",
        "  if \"orig\" in filename:\n",
        "    grayscaleimg = cv2.imread(directory + filename, cv2.IMREAD_GRAYSCALE)\n",
        "    ycbcrimg = fromGrayscaleToYCbCr(grayscaleimg, 8)\n",
        "    ycbcrimg = ycbcrimg.astype('uint8')\n",
        "\n",
        "    ycbcrimagepath = ycbcrdirectory + filename\n",
        "    cv2.imwrite(ycbcrimagepath, ycbcrimg)\n",
        "    i += 1\n",
        "\n",
        "print(\"Done,\", i, \" images from 'plates/' converted to YCbCr.\")"
      ],
      "execution_count": 4,
      "outputs": [
        {
          "output_type": "stream",
          "text": [
            "Done, 200  images from 'plates/' converted to YCbCr.\n",
            "time: 4min 21s (started: 2021-01-07 15:33:44 +00:00)\n"
          ],
          "name": "stdout"
        }
      ]
    },
    {
      "cell_type": "markdown",
      "metadata": {
        "id": "Ky5pc75mY1Wr"
      },
      "source": [
        "## **Converting Images from Grayscale to LAB**"
      ]
    },
    {
      "cell_type": "code",
      "metadata": {
        "id": "1YnYsZSYY6Oz"
      },
      "source": [
        "\n",
        "def fromXYZtoLAB(xyzimage):\n",
        "\n",
        "\n",
        "\n",
        "def fromRGBtoXYZMapping(rgbpixel):\n",
        "  xyzpixel = rgbpixel / 255.\n",
        "\n",
        "  if xyzpixel[0] > 0.04045:\n",
        "    xyzpixel[0] = ( ( xyzpixel[0] + 0.055 ) / 1.055 ) ** 2.4\n",
        "  else:\n",
        "    xyzpixel[0] = xyzpixel[0] / 12.92\n",
        "  \n",
        "  if xyzpixel[1] > 0.04045:\n",
        "    xyzpixel[1] = ( ( xyzpixel[1] + 0.055 ) / 1.055 ) ** 2.4\n",
        "  else:  \n",
        "    xyzpixel[1] = xyzpixel[1] / 12.92\n",
        "  \n",
        "  if xyzpixel[2] > 0.04045:\n",
        "    xyzpixel[2] = ( ( xyzpixel[2] + 0.055 ) / 1.055 ) ** 2.4\n",
        "  else:\n",
        "    xyzpixel[2] = xyzpixel[2] / 12.92\n",
        "\n",
        "  return xyzpixel\n",
        "\n",
        "def fromRGBtoXYZ(rgbimage):\n",
        "  #we initiate an XYZ image with 3 channels with same dimensions as RGB image\n",
        "  xyzimage = np.zeros((rgbimage.shape[0], rgbimage.shape[1], rgbimage.shape[2]))\n",
        "  i = 0\n",
        "  while i < rgbimage.shape[0]:\n",
        "    j = 0\n",
        "    while j < rgbimage.shape[1]:\n",
        "      x_p, y_p, z_p = fromRGBtoXYZMapping(rgbimage[i][j])\n",
        "      xyzimage[i][j][0] = x_p\n",
        "      xyzimage[i][j][1] = y_p\n",
        "      xyzimage[i][j][2] = z_p\n",
        "      j +=1\n",
        "    i +=1\n",
        "  \n",
        "  return xyzimage\n",
        "\n",
        "#transforms the image from RGB to LAB\n",
        "def fromRGBToLAB(rgbimage):\n",
        "\n",
        "\n",
        "\n",
        "#Main function that converts a grayscale image with 1 channel to a YCbCr image with 3 channels\n",
        "def fromGrayscaleToLAB(image, bits):\n",
        "  rgbimage = fromGrayscaleToRGB(image, bits)\n",
        "  if len(rgbimage.shape) < 3:\n",
        "    return 0\n",
        "  return fromRGBToLAB(rgbimage, bits)"
      ],
      "execution_count": null,
      "outputs": []
    },
    {
      "cell_type": "markdown",
      "metadata": {
        "id": "YLZWtE3X_7zI"
      },
      "source": [
        "## **Super-pixel segmentation**"
      ]
    },
    {
      "cell_type": "code",
      "metadata": {
        "colab": {
          "base_uri": "https://localhost:8080/"
        },
        "id": "RNHwy_0S__e9",
        "outputId": "5a45c56d-11dc-4b05-f8a8-767304bbf1f0"
      },
      "source": [
        "#returns the Geo center of each super pixel contained in an image\n",
        "def returnSuperPixelsGeometricCenters(labelimage):\n",
        "  width = labelimage.shape[1]\n",
        "  height = labelimage.shape[0]\n",
        "  nSuperPixels = np.max(labelimage) + 1\n",
        "  plabelCoordinates = np.zeros(nSuperPixels)\n",
        "\n",
        "  xCoordinates = np.zeros(nSuperPixels)\n",
        "  yCoordinates = np.zeros(nSuperPixels)\n",
        "  nElements = np.zeros(nSuperPixels)\n",
        "\n",
        "  i = 0\n",
        "  while i < height:\n",
        "    j = 0\n",
        "    while j < width:\n",
        "      plabel = labelimage[i][j]\n",
        "      xSum = xCoordinates[plabel]\n",
        "      ySum = yCoordinates[plabel]\n",
        "      nLabelElements = nElements[plabel]\n",
        "\n",
        "      xCoordinates[plabel] = xSum + j\n",
        "      yCoordinates[plabel] = ySum + i\n",
        "      nElements[plabel] = nLabelElements + 1  \n",
        "      j += 1\n",
        "    i += 1\n",
        "  \n",
        "  geocenters = []\n",
        "  \n",
        "  plabel = 0\n",
        "  while plabel < nSuperPixels :\n",
        "    xCenter = xCoordinates[plabel] / nElements[plabel]\n",
        "    yCenter = yCoordinates[plabel] / nElements[plabel]\n",
        "    geocenters.append([int(xCenter), int(yCenter)])\n",
        "    plabel += 1\n",
        "  \n",
        "  return geocenters\n",
        "\n",
        "#Perform Superpixel segmentation\n",
        "def returnLabelsWithSuperPixelSegmentation(imagepath, numberSuperpixels):\n",
        "  originalimage = cv2.imread(imagepath)\n",
        "  return segmentation.slic(originalimage, n_segments=numberSuperpixels)"
      ],
      "execution_count": 5,
      "outputs": [
        {
          "output_type": "stream",
          "text": [
            "time: 26.8 ms (started: 2021-01-07 15:38:06 +00:00)\n"
          ],
          "name": "stdout"
        }
      ]
    },
    {
      "cell_type": "code",
      "metadata": {
        "colab": {
          "base_uri": "https://localhost:8080/"
        },
        "id": "cUaYVR-YAH9B",
        "outputId": "752e5041-2fe7-4f34-ce91-5f533c324f0d"
      },
      "source": [
        "#Function that loops through the superpixels number until a plate in subimage is found \n",
        "#With threshold \n",
        "def returnMinimumSuperpixelsFor(imagepath, numberSuperpixels, width, height, threshold):\n",
        "  \n",
        "  subimageWithPlateFound = False\n",
        "\n",
        "  maskPath = returnMaskPathFromImagePath(imagepath)\n",
        "  \n",
        "  maskImage = cv2.imread(maskPath)\n",
        "  \n",
        "  nPlatePixelOriginalMask = returnPlateNumberPixelsFromMask(maskImage)\n",
        "  \n",
        "  while subimageWithPlateFound == False:\n",
        "    \n",
        "    labels = returnLabelsWithSuperPixelSegmentation(imagepath, numberSuperpixels)\n",
        "    labelsGeocenters = returnSuperPixelsGeometricCenters(labels)\n",
        "\n",
        "    for labelGeocenter in labelsGeocenters:\n",
        "      xCenter = labelGeocenter[0]\n",
        "      yCenter = labelGeocenter[1]\n",
        "      nPlatePixelsSubimage = returnPlateNumberPixelsCovBySubimage(width, height, xCenter, yCenter, maskImage)\n",
        "      \n",
        "      if nPlatePixelsSubimage / nPlatePixelOriginalMask >= threshold:\n",
        "        subimageWithPlateFound = True\n",
        "        break\n",
        "\n",
        "    if subimageWithPlateFound == False:\n",
        "      numberSuperpixels += 1\n",
        "      \n",
        "    #stopping algorithm if number of superpixels is too high\n",
        "    #then width, height aren't adequate\n",
        "    if numberSuperpixels > 100 and subimageWithPlateFound == False:\n",
        "      numberSuperpixels = -1\n",
        "      break\n",
        "\n",
        "  return numberSuperpixels "
      ],
      "execution_count": 6,
      "outputs": [
        {
          "output_type": "stream",
          "text": [
            "time: 17.1 ms (started: 2021-01-07 15:38:06 +00:00)\n"
          ],
          "name": "stdout"
        }
      ]
    },
    {
      "cell_type": "markdown",
      "metadata": {
        "id": "AH_gNdodAQCK"
      },
      "source": [
        "In this task 3, we reduce the number of plates pixels required to classify a subimage as class 1 \"plate/foreground\". In the previous tasks (1 and 3), we chose a threshold of 90%. In this task, we set the thresold to 50%. That means that every patch that contains just 50% of the plate pixels inside the patch is classified as a \"plate/foreground\". \n",
        "\n",
        "Note: We will have to take that into account when comparing the results with the classifiers we built in the previous tasks."
      ]
    },
    {
      "cell_type": "code",
      "metadata": {
        "colab": {
          "base_uri": "https://localhost:8080/"
        },
        "id": "B79F4krMAuQO",
        "outputId": "f9151536-940a-4655-8414-049e6ef22925"
      },
      "source": [
        "w = 100 #175 #163\n",
        "h = 60 #81 #79\n",
        "thresholdV = 0.5"
      ],
      "execution_count": 7,
      "outputs": [
        {
          "output_type": "stream",
          "text": [
            "time: 1.22 ms (started: 2021-01-07 15:38:06 +00:00)\n"
          ],
          "name": "stdout"
        }
      ]
    },
    {
      "cell_type": "code",
      "metadata": {
        "id": "GueLKinvA1Pj"
      },
      "source": [
        "superpixelsStart = 48\n",
        "\n",
        "platesFolderPath = \"/content/plates/\"\n",
        "\n",
        "f = open(\"train1.txt\", \"r\")\n",
        "for imgpath in f:\n",
        "  imgpath = imgpath.replace(\"./plates/\", \"\")\n",
        "  imgpath = imgpath.replace(\" \", \"\")\n",
        "  imgpath = platesFolderPath + imgpath\n",
        "  \n",
        "  if len(imgpath) > 5 and superpixelsStart > 0:\n",
        "    superpixelsStart = returnMinimumSuperpixelsFor(imgpath.strip(), superpixelsStart, w, h, thresholdV)\n",
        "    print(imgpath, \": \", superpixelsStart)"
      ],
      "execution_count": null,
      "outputs": []
    },
    {
      "cell_type": "markdown",
      "metadata": {
        "id": "9hkD4huoEOjB"
      },
      "source": [
        "**Conclusion:**\n",
        "\n",
        "Since the treshold is very low, we decided to reduce drastically the size of the patches from the previous tasks. This will decrease dramatically the computations required to process the images too. \n",
        "\n",
        "With trials, we found that, with a patch size of 100x60, we require 48 superpixels in order to get at least one patch classified as \"plate/foreground\" for each image in the three training sets. \n",
        "\n",
        "Those parameters will be used in the next steps."
      ]
    },
    {
      "cell_type": "markdown",
      "metadata": {
        "id": "rdvcDuw5EvaX"
      },
      "source": [
        "## **Creating the subimages with chosen number of superpixels**"
      ]
    },
    {
      "cell_type": "markdown",
      "metadata": {
        "id": "Ri6zkDZVFJBb"
      },
      "source": [
        "For the task, we use only the training set 1. We evaluate the classifier and compare it to the classifiers built in the previous tasks. \n",
        "\n",
        "After that, we select which classifier is the best according to the percentage of plate pixels activated and the percentage of pixels outside the plate deactivated. The higher the scores of the two metrics, the better the model."
      ]
    },
    {
      "cell_type": "code",
      "metadata": {
        "colab": {
          "base_uri": "https://localhost:8080/"
        },
        "id": "VVOq1MtTE8lr",
        "outputId": "a55a7c1b-2723-47c6-eda6-c404b8b9e367"
      },
      "source": [
        "def returnSubimageWIth(width, height, xcenter, ycenter, originalimage):\n",
        "  xstart = xcenter - width//2\n",
        "  ystart = ycenter - height//2\n",
        "  xend = xcenter + width//2\n",
        "  yend = ycenter + height//2\n",
        "\n",
        "  if xstart < 0 or ystart < 0:\n",
        "    print(\"xcoord or ycoor negative, xstart =\",  xstart, \", ystart = \", ystart)\n",
        "  \n",
        "  return originalimage[ystart:yend+1,xstart: xend+1,:]\n",
        "\n",
        "#verifiy the subimage fits inside the original image\n",
        "def returnCenterCoordinatesSubimageInsideOrigImage(width, height, xcenter, ycenter, W, H):\n",
        "  if xcenter < width // 2:\n",
        "    xcenter = width // 2\n",
        "    \n",
        "  if xcenter >= W - width//2:\n",
        "    xcenter = W - width//2 - 1\n",
        "\n",
        "  if ycenter < height //2:\n",
        "    ycenter = height //2\n",
        "  \n",
        "  if ycenter >= H - height//2:\n",
        "    ycenter = H - height//2 - 1\n",
        "  \n",
        "  return [xcenter, ycenter]\n",
        "\n",
        "#giving a name for the subimage\n",
        "def returnSubimageFilename(width, height, xcenter, ycenter, subimageclass, imagepath):\n",
        "  subimagefilename = imagepath.replace(\".png\", \"\")\n",
        "  subimagefilename = subimagefilename + \"_\" + str(xcenter) + \"_\" + str(ycenter) + \"_\" + str(width) + \"_\" + str(height) + \"_\" + str (subimageclass) + \".png\"\n",
        "  return subimagefilename\n",
        "\n",
        "#returns the subimage characteristics from its name\n",
        "def returnSubimageDimensionsCenterCoordinates(imagename):\n",
        "  imagename = imagename.replace(\".png\", \"\")\n",
        "  elementsArray = imagename.split(\"_\")\n",
        "  imageID = elementsArray[1]\n",
        "  width = int(elementsArray[4])\n",
        "  height = int(elementsArray[5])\n",
        "  xcenter = int(elementsArray[2])\n",
        "  ycenter = int(elementsArray[3])\n",
        "  imageclass = int(elementsArray[6])\n",
        "  return [imageID, width, height, xcenter, ycenter, imageclass]\n",
        "\n",
        "#returns the class of the subimage depending on the percentage \n",
        "#of pixel plates it contains from the original image\n",
        "def returnSubimageClassWith(nPlatePixelsSubimage, nPlatePixelOriginalMask, platePixelsThreshold):\n",
        "  if nPlatePixelsSubimage / nPlatePixelOriginalMask >= platePixelsThreshold:\n",
        "    return 1\n",
        "  return 0\n",
        "\n",
        "#creates the subimages with a given number of superpixels\n",
        "def createSubimagesWithSuperPixelsSegmentation(originalImageFolder, yCbCrImageFolder, imagename, subImageFolder, numberSuperpixels, width, height, platePixelsThreshold):\n",
        "  imagepath = originalImageFolder + imagename\n",
        "  yCbCrimagepath = yCbCrImageFolder + imagename\n",
        "  label = returnLabelsWithSuperPixelSegmentation(imagepath, numberSuperpixels)\n",
        "  labelsGeocenters = returnSuperPixelsGeometricCenters(label)\n",
        "  \n",
        "  maskPath = returnMaskPathFromImagePath(imagepath)\n",
        "  maskImage = cv2.imread(maskPath)\n",
        "  nPlatePixelOriginalMask = returnPlateNumberPixelsFromMask(maskImage)\n",
        "  yCbCrOriginalImage = cv2.imread(yCbCrimagepath)\n",
        "\n",
        "  nSubimagesCreated = 0\n",
        "\n",
        "  W = maskImage.shape[1]\n",
        "  H = maskImage.shape[0]\n",
        "\n",
        "  subimageWithClass1 = False\n",
        "\n",
        "  for labelGeocenter in labelsGeocenters:\n",
        "    xcenter = labelGeocenter[0]\n",
        "    ycenter = labelGeocenter[1]\n",
        "\n",
        "    #we recenter the subimage if needed to fit intside the original image\n",
        "    #we do that because we need to perform batch norm and we need all subimages with same dimensions\n",
        "    xcenter, ycenter = returnCenterCoordinatesSubimageInsideOrigImage(width, height, xcenter, ycenter, W, H)\n",
        "    nPlatePixelsSubimage = returnPlateNumberPixelsCovBySubimage(width, height, xcenter, ycenter, maskImage)\n",
        "    \n",
        "    #getting the class of the subimage according to the threshold of plate pixels inside it\n",
        "    subimageclass = returnSubimageClassWith(nPlatePixelsSubimage, nPlatePixelOriginalMask, platePixelsThreshold)\n",
        "    \n",
        "    subimage = returnSubimageWIth(width, height, xcenter, ycenter, yCbCrOriginalImage)\n",
        "    subimagefilename = returnSubimageFilename(width, height, xcenter, ycenter, subimageclass, imagename)\n",
        "    #saving the subimage\n",
        "    cv2.imwrite(subImageFolder + subimagefilename, subimage)\n",
        "    nSubimagesCreated += 1\n",
        "\n",
        "    if subimageclass == 1:\n",
        "      subimageWithClass1 = True\n",
        "\n",
        "  #we verifiy we get at least one subimage containing enough plate pixels\n",
        "  if subimageWithClass1 == False:\n",
        "    print(\"No class 1 for \", imagename)\n",
        "\n",
        "  return nSubimagesCreated"
      ],
      "execution_count": 8,
      "outputs": [
        {
          "output_type": "stream",
          "text": [
            "time: 99.5 ms (started: 2021-01-07 15:38:06 +00:00)\n"
          ],
          "name": "stdout"
        }
      ]
    },
    {
      "cell_type": "code",
      "metadata": {
        "colab": {
          "base_uri": "https://localhost:8080/"
        },
        "id": "NPPbcfUnFmES",
        "outputId": "874111fc-b625-43b8-c9b6-7f2d48f4b3f6"
      },
      "source": [
        "number_superpixels = 48\n",
        "\n",
        "yCbCrPlatesFolder = \"/content/ycbcrplates/\"\n",
        "platesFolderPath = \"/content/plates/\"\n",
        "\n",
        "subimageFoldernameArray = [\"train1\"]\n",
        "traintextfilearray = [\"train1.txt\"]\n",
        "\n",
        "i = 0\n",
        "while i < len(traintextfilearray):\n",
        "  totalSubimagesCreated = 0 \n",
        "  f = open(traintextfilearray[i], \"r\")\n",
        "\n",
        "  os.mkdir(subimageFoldernameArray[i])\n",
        "\n",
        "  for imgname in f:\n",
        "    imgname = imgname.replace(\"./plates/\", \"\")\n",
        "    imgname = imgname.replace(\" \", \"\")\n",
        "\n",
        "    if len(imgname) > 5:\n",
        "      subimagesCreated = createSubimagesWithSuperPixelsSegmentation(platesFolderPath, yCbCrPlatesFolder, imgname.strip(), subimageFoldernameArray[i] + \"/\", number_superpixels, w, h, thresholdV)\n",
        "      totalSubimagesCreated += subimagesCreated \n",
        "\n",
        "  print()\n",
        "  print(traintextfilearray[i])\n",
        "  print(\"Number of subimages created :\", totalSubimagesCreated)\n",
        "  i += 1"
      ],
      "execution_count": 9,
      "outputs": [
        {
          "output_type": "stream",
          "text": [
            "\n",
            "train1.txt\n",
            "Number of subimages created : 3166\n",
            "time: 29.8 s (started: 2021-01-07 15:38:06 +00:00)\n"
          ],
          "name": "stdout"
        }
      ]
    },
    {
      "cell_type": "markdown",
      "metadata": {
        "id": "VeeAvbd7F80-"
      },
      "source": [
        "We create the subimages for the test set 1 also."
      ]
    },
    {
      "cell_type": "code",
      "metadata": {
        "colab": {
          "base_uri": "https://localhost:8080/"
        },
        "id": "MyqabyCrGAgi",
        "outputId": "6a8a5f9c-a77d-4ad4-a99e-3d8062100106"
      },
      "source": [
        "subimageFoldernameArray = [\"test1\"]\n",
        "traintextfilearray = [\"test1.txt\"]\n",
        "\n",
        "i = 0\n",
        "while i < len(traintextfilearray):\n",
        "  totalSubimagesCreated = 0 \n",
        "  f = open(traintextfilearray[i], \"r\")\n",
        "\n",
        "  os.mkdir(subimageFoldernameArray[i])\n",
        "\n",
        "  for imgname in f:\n",
        "    imgname = imgname.replace(\"./plates/\", \"\")\n",
        "    imgname = imgname.replace(\" \", \"\")\n",
        "\n",
        "    if len(imgname) > 5:\n",
        "      subimagesCreated = createSubimagesWithSuperPixelsSegmentation(platesFolderPath, yCbCrPlatesFolder, imgname.strip(), subimageFoldernameArray[i] + \"/\", number_superpixels, w, h, thresholdV)\n",
        "      totalSubimagesCreated += subimagesCreated \n",
        "\n",
        "  print()\n",
        "  print(traintextfilearray[i])\n",
        "  print(\"Number of subimages created :\", totalSubimagesCreated)\n",
        "  i += 1"
      ],
      "execution_count": 10,
      "outputs": [
        {
          "output_type": "stream",
          "text": [
            "\n",
            "test1.txt\n",
            "Number of subimages created : 3206\n",
            "time: 29.8 s (started: 2021-01-07 15:38:36 +00:00)\n"
          ],
          "name": "stdout"
        }
      ]
    },
    {
      "cell_type": "markdown",
      "metadata": {
        "id": "S81EdW3yGWrc"
      },
      "source": [
        "We created the patches from training set 1 images, and test set 1 images. We are ready for the next step."
      ]
    },
    {
      "cell_type": "markdown",
      "metadata": {
        "id": "TQwnp0FLXSpq"
      },
      "source": [
        "**Saving the patches**"
      ]
    },
    {
      "cell_type": "code",
      "metadata": {
        "id": "nEa309FOXRIP"
      },
      "source": [
        "!zip -r /content/train1patches.zip /content/train1"
      ],
      "execution_count": null,
      "outputs": []
    },
    {
      "cell_type": "code",
      "metadata": {
        "id": "dpcS2QmCXh93"
      },
      "source": [
        "!zip -r /content/test1patches.zip /content/test1"
      ],
      "execution_count": null,
      "outputs": []
    },
    {
      "cell_type": "markdown",
      "metadata": {
        "id": "lgHPpHmJGTcm"
      },
      "source": [
        "## **Marker selection**"
      ]
    },
    {
      "cell_type": "markdown",
      "metadata": {
        "id": "3qhG9_NwGdDv"
      },
      "source": [
        "We select randomly a patch from class \"plate/foreground\" that we will mark.\n",
        "\n",
        "We will conduct the following experiments:\n",
        "\n",
        "*   select one class 1 patch and mark it (we mark only the figures appearing on the plate)\n",
        "*   select one class 1 patch and mark it (we mark the border of the plate)\n",
        "*   select two class 1 patch and mark them according to the best results obtained from the previous two experiments\n",
        "*   select three class 1 patch and mark them according to the best results obtained from the previous two experiments\n",
        "\n",
        "Those experiments will allow us to determine how to best mark a class 1 patch, and see how many marked patches we need to achieve the best results from the classifier.\n",
        "\n",
        "\n"
      ]
    },
    {
      "cell_type": "markdown",
      "metadata": {
        "id": "LKkQkidpGVY3"
      },
      "source": [
        "We use an image editor to mark the patches. The results obtained are the following:"
      ]
    },
    {
      "cell_type": "code",
      "metadata": {
        "colab": {
          "base_uri": "https://localhost:8080/",
          "height": 269
        },
        "id": "3ba4SCLZraZf",
        "outputId": "0333ce1f-d14c-419e-9459-a37ba75d37d2"
      },
      "source": [
        "img = cv2.imread(\"/content/train1/orig_0003_168_160_100_60_1.png\")\n",
        "\n",
        "markedimg = cv2.imread(\"/content/orig_0003_168_160_100_60_1_marker.png\")\n",
        "\n",
        "plt.imshow(markedimg)\n",
        "plt.show()"
      ],
      "execution_count": 11,
      "outputs": [
        {
          "output_type": "display_data",
          "data": {
            "image/png": "[encoded data removed]",
            "text/plain": [
              "<Figure size 432x288 with 1 Axes>"
            ]
          },
          "metadata": {
            "tags": [],
            "needs_background": "light"
          }
        },
        {
          "output_type": "stream",
          "text": [
            "time: 168 ms (started: 2021-01-07 15:39:06 +00:00)\n"
          ],
          "name": "stdout"
        }
      ]
    },
    {
      "cell_type": "code",
      "metadata": {
        "id": "tKdtWIUy6CRv",
        "colab": {
          "base_uri": "https://localhost:8080/"
        },
        "outputId": "68c239ab-6317-4713-9e62-4d719e885fbd"
      },
      "source": [
        "label = returnLabelsWithSuperPixelSegmentation(\"/content/orig_0003_168_160_100_60_1_marker.png\", 48)"
      ],
      "execution_count": 12,
      "outputs": [
        {
          "output_type": "stream",
          "text": [
            "time: 16.6 ms (started: 2021-01-07 15:39:06 +00:00)\n"
          ],
          "name": "stdout"
        }
      ]
    },
    {
      "cell_type": "code",
      "metadata": {
        "id": "AYqwsIog6Lac",
        "colab": {
          "base_uri": "https://localhost:8080/"
        },
        "outputId": "c96cfa4a-8e76-4bf4-fc20-d2b9cddedf30"
      },
      "source": [
        "label_array = np.array([label])"
      ],
      "execution_count": 13,
      "outputs": [
        {
          "output_type": "stream",
          "text": [
            "time: 1.04 ms (started: 2021-01-07 15:39:06 +00:00)\n"
          ],
          "name": "stdout"
        }
      ]
    },
    {
      "cell_type": "markdown",
      "metadata": {
        "id": "FERNrFqqiihc"
      },
      "source": [
        "## **FLIM algorithm**"
      ]
    },
    {
      "cell_type": "markdown",
      "metadata": {
        "id": "1ez3Cu3Gj1fP"
      },
      "source": [
        "We need to get the zip file of FLIM algorithm from [FLIM repository on Github](https://github.com/LIDS-UNICAMP/FLIM)"
      ]
    },
    {
      "cell_type": "code",
      "metadata": {
        "id": "zBRhbiMGjH7u"
      },
      "source": [
        "!unzip \"/content/FLIM-master.zip\"\n",
        "\n",
        "!pip install \"/content/FLIM-master/\"\n",
        "\n",
        "!pip install -r \"/content/FLIM-master/requirements.txt\""
      ],
      "execution_count": null,
      "outputs": []
    },
    {
      "cell_type": "code",
      "metadata": {
        "id": "GwQUkCB3TF2O",
        "outputId": "ef749cfe-8eeb-4c51-ef39-b2733ffc0e8a",
        "colab": {
          "base_uri": "https://localhost:8080/",
          "height": 1000
        }
      },
      "source": [
        "!unzip \"/content/FLIM-dev.zip\"\n",
        "\n",
        "!pip install \"/content/FLIM-dev/\"\n",
        "\n",
        "!pip install -r \"/content/FLIM-dev/requirements.txt\""
      ],
      "execution_count": 14,
      "outputs": [
        {
          "output_type": "stream",
          "text": [
            "Archive:  /content/FLIM-dev.zip\n",
            "27af84ccc3f38c6585292e4cdb121b41c50928dc\n",
            "   creating: FLIM-dev/\n",
            "  inflating: FLIM-dev/.gitignore     \n",
            "   creating: FLIM-dev/.vscode/\n",
            "  inflating: FLIM-dev/.vscode/settings.json  \n",
            "  inflating: FLIM-dev/LICENSE        \n",
            "  inflating: FLIM-dev/README.md      \n",
            "  inflating: FLIM-dev/arch.json      \n",
            "   creating: FLIM-dev/docs/\n",
            "  inflating: FLIM-dev/docs/Makefile  \n",
            "  inflating: FLIM-dev/docs/requirements.txt  \n",
            "   creating: FLIM-dev/docs/source/\n",
            "   creating: FLIM-dev/docs/source/_autosummary/\n",
            "  inflating: FLIM-dev/docs/source/_autosummary/flim.models.lcn.rst  \n",
            "  inflating: FLIM-dev/docs/source/_autosummary/flim.models.rst  \n",
            "  inflating: FLIM-dev/docs/source/_autosummary/flim.rst  \n",
            "  inflating: FLIM-dev/docs/source/_autosummary/flim.utils.label_connected_componentes.rst  \n",
            "  inflating: FLIM-dev/docs/source/_autosummary/flim.utils.rst  \n",
            "   creating: FLIM-dev/docs/source/_templates/\n",
            "  inflating: FLIM-dev/docs/source/_templates/custom-class-template.rst  \n",
            "  inflating: FLIM-dev/docs/source/_templates/custom-module-template.rst  \n",
            "  inflating: FLIM-dev/docs/source/conf.py  \n",
            "  inflating: FLIM-dev/docs/source/index.rst  \n",
            "   creating: FLIM-dev/flim/\n",
            " extracting: FLIM-dev/flim/__init__.py  \n",
            "   creating: FLIM-dev/flim/experiments/\n",
            "  inflating: FLIM-dev/flim/experiments/__init__.py  \n",
            "  inflating: FLIM-dev/flim/experiments/_dataset.py  \n",
            "  inflating: FLIM-dev/flim/experiments/utils.py  \n",
            "   creating: FLIM-dev/flim/models/\n",
            " extracting: FLIM-dev/flim/models/__init__.py  \n",
            "   creating: FLIM-dev/flim/models/lcn/\n",
            "  inflating: FLIM-dev/flim/models/lcn/__init__.py  \n",
            "  inflating: FLIM-dev/flim/models/lcn/_creator.py  \n",
            "  inflating: FLIM-dev/flim/models/lcn/_lcn.py  \n",
            "  inflating: FLIM-dev/flim/models/lcn/_special_conv_layer.py  \n",
            "  inflating: FLIM-dev/flim/models/lcn/_special_linear_layer.py  \n",
            "   creating: FLIM-dev/flim/tools/\n",
            "  inflating: FLIM-dev/flim/tools/annotation_tool.py  \n",
            "  inflating: FLIM-dev/flim/tools/training_tool.py  \n",
            "  inflating: FLIM-dev/flim/tools/validating_tool.py  \n",
            "  inflating: FLIM-dev/flim/utils.py  \n",
            "  inflating: FLIM-dev/pylama.ini     \n",
            "  inflating: FLIM-dev/requirements.txt  \n",
            "  inflating: FLIM-dev/setup.py       \n",
            "Processing ./FLIM-dev\n",
            "\u001b[31mERROR: Package 'FLIM' requires a different Python: 3.6.9 not in '>=3.7'\u001b[0m\n",
            "Requirement already satisfied: numpy in /usr/local/lib/python3.6/dist-packages (from -r /content/FLIM-dev/requirements.txt (line 1)) (1.19.4)\n",
            "Requirement already satisfied: torch in /usr/local/lib/python3.6/dist-packages (from -r /content/FLIM-dev/requirements.txt (line 2)) (1.7.0+cu101)\n",
            "Requirement already satisfied: torchvision in /usr/local/lib/python3.6/dist-packages (from -r /content/FLIM-dev/requirements.txt (line 3)) (0.8.1+cu101)\n",
            "Requirement already satisfied: setuptools in /usr/local/lib/python3.6/dist-packages (from -r /content/FLIM-dev/requirements.txt (line 4)) (51.0.0)\n",
            "Requirement already satisfied: scikit-image in /usr/local/lib/python3.6/dist-packages (from -r /content/FLIM-dev/requirements.txt (line 5)) (0.16.2)\n",
            "Requirement already satisfied: sklearn in /usr/local/lib/python3.6/dist-packages (from -r /content/FLIM-dev/requirements.txt (line 6)) (0.0)\n",
            "Collecting pylint\n",
            "\u001b[?25l  Downloading https://files.pythonhosted.org/packages/fb/13/519c1264a134beab2be4bac8dd3e64948980a5ca7833b31cf0255b21f20a/pylint-2.6.0-py3-none-any.whl (325kB)\n",
            "\u001b[K     |████████████████████████████████| 327kB 5.0MB/s \n",
            "\u001b[?25hCollecting pep8\n",
            "\u001b[?25l  Downloading https://files.pythonhosted.org/packages/42/3f/669429ce58de2c22d8d2c542752e137ec4b9885fff398d3eceb1a7f5acb4/pep8-1.7.1-py2.py3-none-any.whl (41kB)\n",
            "\u001b[K     |████████████████████████████████| 51kB 6.0MB/s \n",
            "\u001b[?25hCollecting pyflakes\n",
            "\u001b[?25l  Downloading https://files.pythonhosted.org/packages/69/5b/fd01b0c696f2f9a6d2c839883b642493b431f28fa32b29abc465ef675473/pyflakes-2.2.0-py2.py3-none-any.whl (66kB)\n",
            "\u001b[K     |████████████████████████████████| 71kB 7.2MB/s \n",
            "\u001b[?25hCollecting mccabe\n",
            "  Downloading https://files.pythonhosted.org/packages/87/89/479dc97e18549e21354893e4ee4ef36db1d237534982482c3681ee6e7b57/mccabe-0.6.1-py2.py3-none-any.whl\n",
            "Collecting pydocstyle\n",
            "  Downloading https://files.pythonhosted.org/packages/3b/32/59d44a2ff98e87a35c33b99dc1b4f0bacdd968a8f37080eccd840f2f8e89/pydocstyle-5.1.1-py3-none-any.whl\n",
            "Collecting flake8\n",
            "\u001b[?25l  Downloading https://files.pythonhosted.org/packages/d4/ca/3971802ee6251da1abead1a22831d7f4743781e2f743bd266bdd2f46c19b/flake8-3.8.4-py2.py3-none-any.whl (72kB)\n",
            "\u001b[K     |████████████████████████████████| 81kB 7.8MB/s \n",
            "\u001b[?25hCollecting pylama\n",
            "  Downloading https://files.pythonhosted.org/packages/89/a1/d94d7f5be441e1d323b0149a443038b40bbc921346c7ac5a8eecfaf49bdb/pylama-7.7.1-py2.py3-none-any.whl\n",
            "Requirement already satisfied: termcolor in /usr/local/lib/python3.6/dist-packages (from -r /content/FLIM-dev/requirements.txt (line 14)) (1.1.0)\n",
            "Requirement already satisfied: numba in /usr/local/lib/python3.6/dist-packages (from -r /content/FLIM-dev/requirements.txt (line 15)) (0.48.0)\n",
            "Collecting napari[pyside2]\n",
            "\u001b[?25l  Downloading https://files.pythonhosted.org/packages/cf/41/b516a4ae1ad27f19fa7d418f4f13bdabcb59470f0459306e801afffeb8a8/napari-0.3.8-py3-none-any.whl (850kB)\n",
            "\u001b[K     |████████████████████████████████| 860kB 15.8MB/s \n",
            "\u001b[?25hCollecting magicgui\n",
            "  Downloading https://files.pythonhosted.org/packages/89/4e/57b43e625d92f2580b0ea2df6e225aaa7f211513ffb903f2fc1e9b34ab6b/magicgui-0.1.6-py2.py3-none-any.whl\n",
            "Requirement already satisfied: typing-extensions in /usr/local/lib/python3.6/dist-packages (from torch->-r /content/FLIM-dev/requirements.txt (line 2)) (3.7.4.3)\n",
            "Requirement already satisfied: dataclasses in /usr/local/lib/python3.6/dist-packages (from torch->-r /content/FLIM-dev/requirements.txt (line 2)) (0.8)\n",
            "Requirement already satisfied: future in /usr/local/lib/python3.6/dist-packages (from torch->-r /content/FLIM-dev/requirements.txt (line 2)) (0.16.0)\n",
            "Requirement already satisfied: pillow>=4.1.1 in /usr/local/lib/python3.6/dist-packages (from torchvision->-r /content/FLIM-dev/requirements.txt (line 3)) (7.0.0)\n",
            "Requirement already satisfied: PyWavelets>=0.4.0 in /usr/local/lib/python3.6/dist-packages (from scikit-image->-r /content/FLIM-dev/requirements.txt (line 5)) (1.1.1)\n",
            "Requirement already satisfied: scipy>=0.19.0 in /usr/local/lib/python3.6/dist-packages (from scikit-image->-r /content/FLIM-dev/requirements.txt (line 5)) (1.4.1)\n",
            "Requirement already satisfied: matplotlib!=3.0.0,>=2.0.0 in /usr/local/lib/python3.6/dist-packages (from scikit-image->-r /content/FLIM-dev/requirements.txt (line 5)) (3.2.2)\n",
            "Requirement already satisfied: imageio>=2.3.0 in /usr/local/lib/python3.6/dist-packages (from scikit-image->-r /content/FLIM-dev/requirements.txt (line 5)) (2.4.1)\n",
            "Requirement already satisfied: networkx>=2.0 in /usr/local/lib/python3.6/dist-packages (from scikit-image->-r /content/FLIM-dev/requirements.txt (line 5)) (2.5)\n",
            "Requirement already satisfied: scikit-learn in /usr/local/lib/python3.6/dist-packages (from sklearn->-r /content/FLIM-dev/requirements.txt (line 6)) (0.22.2.post1)\n",
            "Collecting isort<6,>=4.2.5\n",
            "\u001b[?25l  Downloading https://files.pythonhosted.org/packages/cc/89/6888f573886e9dc0906ec98f1b15888de20919a142c355d7f57ebd977d36/isort-5.7.0-py3-none-any.whl (104kB)\n",
            "\u001b[K     |████████████████████████████████| 112kB 17.6MB/s \n",
            "\u001b[?25hCollecting astroid<=2.5,>=2.4.0\n",
            "\u001b[?25l  Downloading https://files.pythonhosted.org/packages/24/a8/5133f51967fb21e46ee50831c3f5dda49e976b7f915408d670b1603d41d6/astroid-2.4.2-py3-none-any.whl (213kB)\n",
            "\u001b[K     |████████████████████████████████| 215kB 17.8MB/s \n",
            "\u001b[?25hRequirement already satisfied: toml>=0.7.1 in /usr/local/lib/python3.6/dist-packages (from pylint->-r /content/FLIM-dev/requirements.txt (line 7)) (0.10.2)\n",
            "Requirement already satisfied: snowballstemmer in /usr/local/lib/python3.6/dist-packages (from pydocstyle->-r /content/FLIM-dev/requirements.txt (line 11)) (2.0.0)\n",
            "Collecting pycodestyle<2.7.0,>=2.6.0a1\n",
            "\u001b[?25l  Downloading https://files.pythonhosted.org/packages/10/5b/88879fb861ab79aef45c7e199cae3ef7af487b5603dcb363517a50602dd7/pycodestyle-2.6.0-py2.py3-none-any.whl (41kB)\n",
            "\u001b[K     |████████████████████████████████| 51kB 6.1MB/s \n",
            "\u001b[?25hRequirement already satisfied: importlib-metadata; python_version < \"3.8\" in /usr/local/lib/python3.6/dist-packages (from flake8->-r /content/FLIM-dev/requirements.txt (line 12)) (3.3.0)\n",
            "Requirement already satisfied: llvmlite<0.32.0,>=0.31.0dev0 in /usr/local/lib/python3.6/dist-packages (from numba->-r /content/FLIM-dev/requirements.txt (line 15)) (0.31.0)\n",
            "Collecting appdirs>=1.4.4\n",
            "  Downloading https://files.pythonhosted.org/packages/3b/00/2344469e2084fb287c2e0b57b72910309874c3245463acd6cf5e3db69324/appdirs-1.4.4-py2.py3-none-any.whl\n",
            "Collecting napari-svg>=0.1.4\n",
            "  Downloading https://files.pythonhosted.org/packages/da/48/a8bbfc4a598b2699b597d760979e13e325321da4484aa120240fcc4e2216/napari-svg-0.1.4.tar.gz\n",
            "Requirement already satisfied: tifffile>=2020.2.16 in /usr/local/lib/python3.6/dist-packages (from napari[pyside2]->-r /content/FLIM-dev/requirements.txt (line 16)) (2020.9.3)\n",
            "Requirement already satisfied: qtconsole>=4.5.1 in /usr/local/lib/python3.6/dist-packages (from napari[pyside2]->-r /content/FLIM-dev/requirements.txt (line 16)) (5.0.1)\n",
            "Collecting cachey>=0.2.1\n",
            "  Downloading https://files.pythonhosted.org/packages/57/f0/e24f3e5d5d539abeb783087b87c26cfb99c259f1126700569e000243745a/cachey-0.2.1-py3-none-any.whl\n",
            "Requirement already satisfied: toolz>=0.10.0 in /usr/local/lib/python3.6/dist-packages (from napari[pyside2]->-r /content/FLIM-dev/requirements.txt (line 16)) (0.11.1)\n",
            "Collecting IPython>=7.7.0\n",
            "\u001b[?25l  Downloading https://files.pythonhosted.org/packages/23/6a/210816c943c9aeeb29e4e18a298f14bf0e118fe222a23e13bfcc2d41b0a4/ipython-7.16.1-py3-none-any.whl (785kB)\n",
            "\u001b[K     |████████████████████████████████| 788kB 20.8MB/s \n",
            "\u001b[?25hRequirement already satisfied: PyOpenGL>=3.1.0 in /usr/local/lib/python3.6/dist-packages (from napari[pyside2]->-r /content/FLIM-dev/requirements.txt (line 16)) (3.1.5)\n",
            "Requirement already satisfied: wrapt>=1.11.1 in /usr/local/lib/python3.6/dist-packages (from napari[pyside2]->-r /content/FLIM-dev/requirements.txt (line 16)) (1.12.1)\n",
            "Collecting numpydoc>=0.9.2\n",
            "\u001b[?25l  Downloading https://files.pythonhosted.org/packages/60/1d/9e398c53d6ae27d5ab312ddc16a9ffe1bee0dfdf1d6ec88c40b0ca97582e/numpydoc-1.1.0-py3-none-any.whl (47kB)\n",
            "\u001b[K     |████████████████████████████████| 51kB 6.1MB/s \n",
            "\u001b[?25hRequirement already satisfied: qtpy>=1.7.0 in /usr/local/lib/python3.6/dist-packages (from napari[pyside2]->-r /content/FLIM-dev/requirements.txt (line 16)) (1.9.0)\n",
            "Collecting napari-plugin-engine>=0.1.5\n",
            "  Downloading https://files.pythonhosted.org/packages/a3/af/66d267f0d73b5002d2dba9361f865b28c6f9c51f7fcf78d757d4e4e4fd41/napari_plugin_engine-0.1.9-py3-none-any.whl\n",
            "Requirement already satisfied: psutil>=5.0 in /usr/local/lib/python3.6/dist-packages (from napari[pyside2]->-r /content/FLIM-dev/requirements.txt (line 16)) (5.4.8)\n",
            "Collecting PyYAML>=5.1\n",
            "\u001b[?25l  Downloading https://files.pythonhosted.org/packages/64/c2/b80047c7ac2478f9501676c988a5411ed5572f35d1beff9cae07d321512c/PyYAML-5.3.1.tar.gz (269kB)\n",
            "\u001b[K     |████████████████████████████████| 276kB 21.4MB/s \n",
            "\u001b[?25hRequirement already satisfied: dask[array]>=2.1.0 in /usr/local/lib/python3.6/dist-packages (from napari[pyside2]->-r /content/FLIM-dev/requirements.txt (line 16)) (2.12.0)\n",
            "Collecting vispy>=0.6.4\n",
            "\u001b[?25l  Downloading https://files.pythonhosted.org/packages/f4/f9/0a06f20ed1bdf4a2cd98e13126fc7fb9b00e0b4bd5d171d7dd47e99042d7/vispy-0.6.6-cp36-cp36m-manylinux2014_x86_64.whl (2.3MB)\n",
            "\u001b[K     |████████████████████████████████| 2.3MB 25.7MB/s \n",
            "\u001b[?25hCollecting ipykernel>=5.2.0\n",
            "\u001b[?25l  Downloading https://files.pythonhosted.org/packages/56/c5/97a972202414c79c28814b1450a31a89777638fb3524e8b5b686a5436abe/ipykernel-5.4.2-py3-none-any.whl (119kB)\n",
            "\u001b[K     |████████████████████████████████| 122kB 38.0MB/s \n",
            "\u001b[?25hCollecting PySide2<5.15.0,>=5.12.3; extra == \"pyside2\"\n",
            "\u001b[?25l  Downloading https://files.pythonhosted.org/packages/76/67/1a9667e7aa16fffaadd224b9a3d5504b634a928085a4b7728d95e0c67d6d/PySide2-5.14.2.3-5.14.2-cp35.cp36.cp37.cp38-abi3-manylinux1_x86_64.whl (166.0MB)\n",
            "\u001b[K     |████████████████████████████████| 166.0MB 81kB/s \n",
            "\u001b[?25hRequirement already satisfied: kiwisolver>=1.0.1 in /usr/local/lib/python3.6/dist-packages (from matplotlib!=3.0.0,>=2.0.0->scikit-image->-r /content/FLIM-dev/requirements.txt (line 5)) (1.3.1)\n",
            "Requirement already satisfied: cycler>=0.10 in /usr/local/lib/python3.6/dist-packages (from matplotlib!=3.0.0,>=2.0.0->scikit-image->-r /content/FLIM-dev/requirements.txt (line 5)) (0.10.0)\n",
            "Requirement already satisfied: python-dateutil>=2.1 in /usr/local/lib/python3.6/dist-packages (from matplotlib!=3.0.0,>=2.0.0->scikit-image->-r /content/FLIM-dev/requirements.txt (line 5)) (2.8.1)\n",
            "Requirement already satisfied: pyparsing!=2.0.4,!=2.1.2,!=2.1.6,>=2.0.1 in /usr/local/lib/python3.6/dist-packages (from matplotlib!=3.0.0,>=2.0.0->scikit-image->-r /content/FLIM-dev/requirements.txt (line 5)) (2.4.7)\n",
            "Requirement already satisfied: decorator>=4.3.0 in /usr/local/lib/python3.6/dist-packages (from networkx>=2.0->scikit-image->-r /content/FLIM-dev/requirements.txt (line 5)) (4.4.2)\n",
            "Requirement already satisfied: joblib>=0.11 in /usr/local/lib/python3.6/dist-packages (from scikit-learn->sklearn->-r /content/FLIM-dev/requirements.txt (line 6)) (1.0.0)\n",
            "Collecting lazy-object-proxy==1.4.*\n",
            "\u001b[?25l  Downloading https://files.pythonhosted.org/packages/0b/dd/b1e3407e9e6913cf178e506cd0dee818e58694d9a5cd1984e3f6a8b9a10f/lazy_object_proxy-1.4.3-cp36-cp36m-manylinux1_x86_64.whl (55kB)\n",
            "\u001b[K     |████████████████████████████████| 61kB 6.9MB/s \n",
            "\u001b[?25hCollecting typed-ast<1.5,>=1.4.0; implementation_name == \"cpython\" and python_version < \"3.8\"\n",
            "\u001b[?25l  Downloading https://files.pythonhosted.org/packages/56/c1/4cc3c0da2374963f59b2f57ef02e048cdc4f609cbc1184b4146d0812e5b5/typed_ast-1.4.2-cp36-cp36m-manylinux1_x86_64.whl (743kB)\n",
            "\u001b[K     |████████████████████████████████| 747kB 50.2MB/s \n",
            "\u001b[?25hRequirement already satisfied: six~=1.12 in /usr/local/lib/python3.6/dist-packages (from astroid<=2.5,>=2.4.0->pylint->-r /content/FLIM-dev/requirements.txt (line 7)) (1.15.0)\n",
            "Requirement already satisfied: zipp>=0.5 in /usr/local/lib/python3.6/dist-packages (from importlib-metadata; python_version < \"3.8\"->flake8->-r /content/FLIM-dev/requirements.txt (line 12)) (3.4.0)\n",
            "Requirement already satisfied: pygments in /usr/local/lib/python3.6/dist-packages (from qtconsole>=4.5.1->napari[pyside2]->-r /content/FLIM-dev/requirements.txt (line 16)) (2.6.1)\n",
            "Requirement already satisfied: ipython-genutils in /usr/local/lib/python3.6/dist-packages (from qtconsole>=4.5.1->napari[pyside2]->-r /content/FLIM-dev/requirements.txt (line 16)) (0.2.0)\n",
            "Requirement already satisfied: pyzmq>=17.1 in /usr/local/lib/python3.6/dist-packages (from qtconsole>=4.5.1->napari[pyside2]->-r /content/FLIM-dev/requirements.txt (line 16)) (20.0.0)\n",
            "Requirement already satisfied: jupyter-client>=4.1 in /usr/local/lib/python3.6/dist-packages (from qtconsole>=4.5.1->napari[pyside2]->-r /content/FLIM-dev/requirements.txt (line 16)) (5.3.5)\n",
            "Requirement already satisfied: traitlets in /usr/local/lib/python3.6/dist-packages (from qtconsole>=4.5.1->napari[pyside2]->-r /content/FLIM-dev/requirements.txt (line 16)) (4.3.3)\n",
            "Requirement already satisfied: jupyter-core in /usr/local/lib/python3.6/dist-packages (from qtconsole>=4.5.1->napari[pyside2]->-r /content/FLIM-dev/requirements.txt (line 16)) (4.7.0)\n",
            "Requirement already satisfied: heapdict in /usr/local/lib/python3.6/dist-packages (from cachey>=0.2.1->napari[pyside2]->-r /content/FLIM-dev/requirements.txt (line 16)) (1.0.1)\n",
            "Requirement already satisfied: jedi>=0.10 in /usr/local/lib/python3.6/dist-packages (from IPython>=7.7.0->napari[pyside2]->-r /content/FLIM-dev/requirements.txt (line 16)) (0.17.2)\n",
            "Requirement already satisfied: backcall in /usr/local/lib/python3.6/dist-packages (from IPython>=7.7.0->napari[pyside2]->-r /content/FLIM-dev/requirements.txt (line 16)) (0.2.0)\n",
            "Requirement already satisfied: pickleshare in /usr/local/lib/python3.6/dist-packages (from IPython>=7.7.0->napari[pyside2]->-r /content/FLIM-dev/requirements.txt (line 16)) (0.7.5)\n",
            "Requirement already satisfied: pexpect; sys_platform != \"win32\" in /usr/local/lib/python3.6/dist-packages (from IPython>=7.7.0->napari[pyside2]->-r /content/FLIM-dev/requirements.txt (line 16)) (4.8.0)\n",
            "Collecting prompt-toolkit!=3.0.0,!=3.0.1,<3.1.0,>=2.0.0\n",
            "\u001b[?25l  Downloading https://files.pythonhosted.org/packages/f7/11/153bde8264af33aacf10da4fa5f464e595a3b61e490bfb9acb2431f552e5/prompt_toolkit-3.0.9-py3-none-any.whl (355kB)\n",
            "\u001b[K     |████████████████████████████████| 358kB 45.1MB/s \n",
            "\u001b[?25hRequirement already satisfied: sphinx>=1.6.5 in /usr/local/lib/python3.6/dist-packages (from numpydoc>=0.9.2->napari[pyside2]->-r /content/FLIM-dev/requirements.txt (line 16)) (1.8.5)\n",
            "Requirement already satisfied: Jinja2>=2.3 in /usr/local/lib/python3.6/dist-packages (from numpydoc>=0.9.2->napari[pyside2]->-r /content/FLIM-dev/requirements.txt (line 16)) (2.11.2)\n",
            "Collecting freetype-py\n",
            "\u001b[?25l  Downloading https://files.pythonhosted.org/packages/40/b5/56751e13f8b4a42f52c1b85ecce1446f83245190d820b42748eb8574ae43/freetype_py-2.2.0-py3-none-manylinux1_x86_64.whl (890kB)\n",
            "\u001b[K     |████████████████████████████████| 890kB 41.4MB/s \n",
            "\u001b[?25hRequirement already satisfied: tornado>=4.2 in /usr/local/lib/python3.6/dist-packages (from ipykernel>=5.2.0->napari[pyside2]->-r /content/FLIM-dev/requirements.txt (line 16)) (5.1.1)\n",
            "Collecting shiboken2==5.14.2.3\n",
            "\u001b[?25l  Downloading https://files.pythonhosted.org/packages/e8/35/06a6a1a930aad2cc099ef08d3f9669cf3d6d0be5603eb09d87d89532e672/shiboken2-5.14.2.3-5.14.2-cp35.cp36.cp37.cp38-abi3-manylinux1_x86_64.whl (856kB)\n",
            "\u001b[K     |████████████████████████████████| 860kB 44.5MB/s \n",
            "\u001b[?25hRequirement already satisfied: parso<0.8.0,>=0.7.0 in /usr/local/lib/python3.6/dist-packages (from jedi>=0.10->IPython>=7.7.0->napari[pyside2]->-r /content/FLIM-dev/requirements.txt (line 16)) (0.7.1)\n",
            "Requirement already satisfied: ptyprocess>=0.5 in /usr/local/lib/python3.6/dist-packages (from pexpect; sys_platform != \"win32\"->IPython>=7.7.0->napari[pyside2]->-r /content/FLIM-dev/requirements.txt (line 16)) (0.6.0)\n",
            "Requirement already satisfied: wcwidth in /usr/local/lib/python3.6/dist-packages (from prompt-toolkit!=3.0.0,!=3.0.1,<3.1.0,>=2.0.0->IPython>=7.7.0->napari[pyside2]->-r /content/FLIM-dev/requirements.txt (line 16)) (0.2.5)\n",
            "Requirement already satisfied: requests>=2.0.0 in /usr/local/lib/python3.6/dist-packages (from sphinx>=1.6.5->numpydoc>=0.9.2->napari[pyside2]->-r /content/FLIM-dev/requirements.txt (line 16)) (2.23.0)\n",
            "Requirement already satisfied: babel!=2.0,>=1.3 in /usr/local/lib/python3.6/dist-packages (from sphinx>=1.6.5->numpydoc>=0.9.2->napari[pyside2]->-r /content/FLIM-dev/requirements.txt (line 16)) (2.9.0)\n",
            "Requirement already satisfied: packaging in /usr/local/lib/python3.6/dist-packages (from sphinx>=1.6.5->numpydoc>=0.9.2->napari[pyside2]->-r /content/FLIM-dev/requirements.txt (line 16)) (20.8)\n",
            "Requirement already satisfied: sphinxcontrib-websupport in /usr/local/lib/python3.6/dist-packages (from sphinx>=1.6.5->numpydoc>=0.9.2->napari[pyside2]->-r /content/FLIM-dev/requirements.txt (line 16)) (1.2.4)\n",
            "Requirement already satisfied: imagesize in /usr/local/lib/python3.6/dist-packages (from sphinx>=1.6.5->numpydoc>=0.9.2->napari[pyside2]->-r /content/FLIM-dev/requirements.txt (line 16)) (1.2.0)\n",
            "Requirement already satisfied: alabaster<0.8,>=0.7 in /usr/local/lib/python3.6/dist-packages (from sphinx>=1.6.5->numpydoc>=0.9.2->napari[pyside2]->-r /content/FLIM-dev/requirements.txt (line 16)) (0.7.12)\n",
            "Requirement already satisfied: docutils>=0.11 in /usr/local/lib/python3.6/dist-packages (from sphinx>=1.6.5->numpydoc>=0.9.2->napari[pyside2]->-r /content/FLIM-dev/requirements.txt (line 16)) (0.16)\n",
            "Requirement already satisfied: MarkupSafe>=0.23 in /usr/local/lib/python3.6/dist-packages (from Jinja2>=2.3->numpydoc>=0.9.2->napari[pyside2]->-r /content/FLIM-dev/requirements.txt (line 16)) (1.1.1)\n",
            "Requirement already satisfied: urllib3!=1.25.0,!=1.25.1,<1.26,>=1.21.1 in /usr/local/lib/python3.6/dist-packages (from requests>=2.0.0->sphinx>=1.6.5->numpydoc>=0.9.2->napari[pyside2]->-r /content/FLIM-dev/requirements.txt (line 16)) (1.24.3)\n",
            "Requirement already satisfied: chardet<4,>=3.0.2 in /usr/local/lib/python3.6/dist-packages (from requests>=2.0.0->sphinx>=1.6.5->numpydoc>=0.9.2->napari[pyside2]->-r /content/FLIM-dev/requirements.txt (line 16)) (3.0.4)\n",
            "Requirement already satisfied: certifi>=2017.4.17 in /usr/local/lib/python3.6/dist-packages (from requests>=2.0.0->sphinx>=1.6.5->numpydoc>=0.9.2->napari[pyside2]->-r /content/FLIM-dev/requirements.txt (line 16)) (2020.12.5)\n",
            "Requirement already satisfied: idna<3,>=2.5 in /usr/local/lib/python3.6/dist-packages (from requests>=2.0.0->sphinx>=1.6.5->numpydoc>=0.9.2->napari[pyside2]->-r /content/FLIM-dev/requirements.txt (line 16)) (2.10)\n",
            "Requirement already satisfied: pytz>=2015.7 in /usr/local/lib/python3.6/dist-packages (from babel!=2.0,>=1.3->sphinx>=1.6.5->numpydoc>=0.9.2->napari[pyside2]->-r /content/FLIM-dev/requirements.txt (line 16)) (2018.9)\n",
            "Requirement already satisfied: sphinxcontrib-serializinghtml in /usr/local/lib/python3.6/dist-packages (from sphinxcontrib-websupport->sphinx>=1.6.5->numpydoc>=0.9.2->napari[pyside2]->-r /content/FLIM-dev/requirements.txt (line 16)) (1.1.4)\n",
            "Building wheels for collected packages: napari-svg, PyYAML\n",
            "  Building wheel for napari-svg (setup.py) ... \u001b[?25l\u001b[?25hdone\n",
            "  Created wheel for napari-svg: filename=napari_svg-0.1.4-cp36-none-any.whl size=12103 sha256=5e0cc3be929a2ec59ffd2fa5dbb965ec4363c4052f9bd47e5253860ea292e441\n",
            "  Stored in directory: /root/.cache/pip/wheels/e3/08/24/2597f8434bff87e7063a4793d89d3122b44da0e49d35852015\n",
            "  Building wheel for PyYAML (setup.py) ... \u001b[?25l\u001b[?25hdone\n",
            "  Created wheel for PyYAML: filename=PyYAML-5.3.1-cp36-cp36m-linux_x86_64.whl size=44621 sha256=b76ee4cd1af75a5066b8055122f3730c1c178050aef312b978f001f50504d1fa\n",
            "  Stored in directory: /root/.cache/pip/wheels/a7/c1/ea/cf5bd31012e735dc1dfea3131a2d5eae7978b251083d6247bd\n",
            "Successfully built napari-svg PyYAML\n",
            "\u001b[31mERROR: jupyter-console 5.2.0 has requirement prompt-toolkit<2.0.0,>=1.0.0, but you'll have prompt-toolkit 3.0.9 which is incompatible.\u001b[0m\n",
            "\u001b[31mERROR: google-colab 1.0.0 has requirement ipykernel~=4.10, but you'll have ipykernel 5.4.2 which is incompatible.\u001b[0m\n",
            "\u001b[31mERROR: google-colab 1.0.0 has requirement ipython~=5.5.0, but you'll have ipython 7.16.1 which is incompatible.\u001b[0m\n",
            "\u001b[31mERROR: napari-svg 0.1.4 has requirement imageio>=2.5.0, but you'll have imageio 2.4.1 which is incompatible.\u001b[0m\n",
            "\u001b[31mERROR: napari 0.3.8 has requirement imageio>=2.5.0, but you'll have imageio 2.4.1 which is incompatible.\u001b[0m\n",
            "Installing collected packages: isort, lazy-object-proxy, typed-ast, astroid, mccabe, pylint, pep8, pyflakes, pydocstyle, pycodestyle, flake8, pylama, appdirs, napari-plugin-engine, freetype-py, vispy, napari-svg, cachey, prompt-toolkit, IPython, numpydoc, PyYAML, ipykernel, shiboken2, PySide2, napari, magicgui\n",
            "  Found existing installation: prompt-toolkit 1.0.18\n",
            "    Uninstalling prompt-toolkit-1.0.18:\n",
            "      Successfully uninstalled prompt-toolkit-1.0.18\n",
            "  Found existing installation: ipython 5.5.0\n",
            "    Uninstalling ipython-5.5.0:\n",
            "      Successfully uninstalled ipython-5.5.0\n",
            "  Found existing installation: PyYAML 3.13\n",
            "    Uninstalling PyYAML-3.13:\n",
            "      Successfully uninstalled PyYAML-3.13\n",
            "  Found existing installation: ipykernel 4.10.1\n",
            "    Uninstalling ipykernel-4.10.1:\n",
            "      Successfully uninstalled ipykernel-4.10.1\n",
            "Successfully installed IPython-7.16.1 PySide2-5.14.2.3 PyYAML-5.3.1 appdirs-1.4.4 astroid-2.4.2 cachey-0.2.1 flake8-3.8.4 freetype-py-2.2.0 ipykernel-5.4.2 isort-5.7.0 lazy-object-proxy-1.4.3 magicgui-0.1.6 mccabe-0.6.1 napari-0.3.8 napari-plugin-engine-0.1.9 napari-svg-0.1.4 numpydoc-1.1.0 pep8-1.7.1 prompt-toolkit-3.0.9 pycodestyle-2.6.0 pydocstyle-5.1.1 pyflakes-2.2.0 pylama-7.7.1 pylint-2.6.0 shiboken2-5.14.2.3 typed-ast-1.4.2 vispy-0.6.6\n"
          ],
          "name": "stdout"
        },
        {
          "output_type": "display_data",
          "data": {
            "application/vnd.colab-display-data+json": {
              "pip_warning": {
                "packages": [
                  "IPython",
                  "ipykernel",
                  "prompt_toolkit",
                  "yaml"
                ]
              }
            }
          },
          "metadata": {
            "tags": []
          }
        },
        {
          "output_type": "stream",
          "text": [
            "time: 40.7 s (started: 2021-01-07 15:39:06 +00:00)\n"
          ],
          "name": "stdout"
        }
      ]
    },
    {
      "cell_type": "code",
      "metadata": {
        "colab": {
          "base_uri": "https://localhost:8080/"
        },
        "id": "2x1gz1OjjpHG",
        "outputId": "0dc1801e-284a-4275-bcdc-0a91f401b982"
      },
      "source": [
        "import sys\n",
        "# insert at 1, 0 is the script path (or '' in REPL)\n",
        "sys.path.insert(1, '/content/FLIM-dev')\n",
        "\n",
        "\n",
        "import flim as flim\n",
        "from flim import utils\n",
        "from flim.models import lcn"
      ],
      "execution_count": 15,
      "outputs": [
        {
          "output_type": "stream",
          "text": [
            "time: 3.15 s (started: 2021-01-07 15:39:46 +00:00)\n"
          ],
          "name": "stdout"
        }
      ]
    },
    {
      "cell_type": "code",
      "metadata": {
        "id": "KudWoKYGxPhh",
        "colab": {
          "base_uri": "https://localhost:8080/"
        },
        "outputId": "e0591365-2b23-4f71-fa6a-4ce7890c0eed"
      },
      "source": [
        "markedimg.shape"
      ],
      "execution_count": 16,
      "outputs": [
        {
          "output_type": "execute_result",
          "data": {
            "text/plain": [
              "(61, 101, 3)"
            ]
          },
          "metadata": {
            "tags": []
          },
          "execution_count": 16
        },
        {
          "output_type": "stream",
          "text": [
            "time: 3.09 ms (started: 2021-01-07 15:40:28 +00:00)\n"
          ],
          "name": "stdout"
        }
      ]
    },
    {
      "cell_type": "code",
      "metadata": {
        "colab": {
          "base_uri": "https://localhost:8080/"
        },
        "id": "qWOj44OTtMus",
        "outputId": "2b0dbe55-c25c-4759-a43c-609dd28ec7d6"
      },
      "source": [
        "lcnarchitecture = {\"features\": {\n",
        "        \"type\": \"sequential\",\n",
        "        \"layers\": {\n",
        "            \"conv1\": {\n",
        "                \"operation\": \"conv2d\",\n",
        "                \"params\": {\n",
        "                    \"kernel_size\": 5,\n",
        "                    \"stride\": 1,\n",
        "                    \"padding\": 2,\n",
        "                    \"dilation\": 1,\n",
        "                    \"number_of_kernels_per_marker\": 8\n",
        "                },\n",
        "                \"activation\": {\n",
        "                    \"operation\": \"relu\",\n",
        "                    \"params\": {\n",
        "                        \"inplace\": True\n",
        "                    }\n",
        "                },\n",
        "                \"pool\": {\n",
        "                    \"operation\": \"max_pool2d\",\n",
        "                    \"params\": {\n",
        "                        \"kernel_size\": 3,\n",
        "                        \"stride\": 4,\n",
        "                        \"padding\": 0\n",
        "                    }\n",
        "                }\n",
        "            },\n",
        "        }\n",
        "    }}\n",
        "\n",
        "\n",
        "last_conv_layer_out_channels = 3\n",
        "lcnmodel = lcn.LCNCreator(lcnarchitecture, [img], label_array,)"
      ],
      "execution_count": 31,
      "outputs": [
        {
          "output_type": "stream",
          "text": [
            "time: 9.03 ms (started: 2021-01-07 16:13:12 +00:00)\n"
          ],
          "name": "stdout"
        }
      ]
    },
    {
      "cell_type": "code",
      "metadata": {
        "id": "w3eNtiFCmG9T",
        "outputId": "23e0b291-7870-4b61-dedf-22ddd12b714d",
        "colab": {
          "base_uri": "https://localhost:8080/"
        }
      },
      "source": [
        "nnn = lcnmodel.get_LIDSConvNet()"
      ],
      "execution_count": 34,
      "outputs": [
        {
          "output_type": "stream",
          "text": [
            "time: 1.09 ms (started: 2021-01-07 16:14:07 +00:00)\n"
          ],
          "name": "stdout"
        }
      ]
    },
    {
      "cell_type": "code",
      "metadata": {
        "id": "Qsa8mRMon9VH",
        "outputId": "c3ddfbbb-8438-41f7-cb08-e9d2d6a1913d",
        "colab": {
          "base_uri": "https://localhost:8080/"
        }
      },
      "source": [
        "nnn.train()"
      ],
      "execution_count": 35,
      "outputs": [
        {
          "output_type": "execute_result",
          "data": {
            "text/plain": [
              "LIDSConvNet(\n",
              "  (feature_extractor): Sequential()\n",
              "  (classifier): Sequential()\n",
              ")"
            ]
          },
          "metadata": {
            "tags": []
          },
          "execution_count": 35
        },
        {
          "output_type": "stream",
          "text": [
            "time: 3.21 ms (started: 2021-01-07 16:14:14 +00:00)\n"
          ],
          "name": "stdout"
        }
      ]
    },
    {
      "cell_type": "code",
      "metadata": {
        "id": "q1fM55PaoRzv",
        "outputId": "15cfcb8a-e6b2-4ceb-9d9e-dadeb01c8bbf",
        "colab": {
          "base_uri": "https://localhost:8080/"
        }
      },
      "source": [
        "nnn.__dict__"
      ],
      "execution_count": 40,
      "outputs": [
        {
          "output_type": "execute_result",
          "data": {
            "text/plain": [
              "{'_backward_hooks': OrderedDict(),\n",
              " '_buffers': OrderedDict(),\n",
              " '_forward_hooks': OrderedDict(),\n",
              " '_forward_pre_hooks': OrderedDict(),\n",
              " '_load_state_dict_pre_hooks': OrderedDict(),\n",
              " '_logger': <RootLogger root (WARNING)>,\n",
              " '_modules': OrderedDict([('feature_extractor', Sequential()),\n",
              "              ('classifier', Sequential())]),\n",
              " '_non_persistent_buffers_set': set(),\n",
              " '_parameters': OrderedDict(),\n",
              " '_remove_border': 0,\n",
              " '_state_dict_hooks': OrderedDict(),\n",
              " 'training': True}"
            ]
          },
          "metadata": {
            "tags": []
          },
          "execution_count": 40
        },
        {
          "output_type": "stream",
          "text": [
            "time: 2.96 ms (started: 2021-01-07 16:22:52 +00:00)\n"
          ],
          "name": "stdout"
        }
      ]
    }
  ]
}