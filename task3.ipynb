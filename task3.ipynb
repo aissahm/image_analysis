{
  "nbformat": 4,
  "nbformat_minor": 0,
  "metadata": {
    "colab": {
      "name": "task3.ipynb",
      "provenance": [],
      "collapsed_sections": [
        "vWazAVEu_ncp",
        "qoURqel3YsZr",
        "Ky5pc75mY1Wr",
        "YLZWtE3X_7zI",
        "rdvcDuw5EvaX",
        "lgHPpHmJGTcm"
      ],
      "authorship_tag": "ABX9TyNFTqGIQMThV1IpUbsHNAp1",
      "include_colab_link": true
    },
    "kernelspec": {
      "name": "python3",
      "display_name": "Python 3"
    }
  },
  "cells": [
    {
      "cell_type": "markdown",
      "metadata": {
        "id": "view-in-github",
        "colab_type": "text"
      },
      "source": [
        "<a href=\"https://colab.research.google.com/github/aissahm/image_analysis/blob/main/task3.ipynb\" target=\"_parent\"><img src=\"https://colab.research.google.com/assets/colab-badge.svg\" alt=\"Open In Colab\"/></a>"
      ]
    },
    {
      "cell_type": "markdown",
      "metadata": {
        "id": "qSymrW4A_P_6"
      },
      "source": [
        "# **Task 3**"
      ]
    },
    {
      "cell_type": "code",
      "metadata": {
        "id": "XkcZApPy_J9O",
        "colab": {
          "base_uri": "https://localhost:8080/"
        },
        "outputId": "afa4c207-abb3-4c1b-86e1-9422e94b6b55"
      },
      "source": [
        "import numpy as np\n",
        "import cv2\n",
        "from skimage import segmentation\n",
        "from skimage.segmentation import mark_boundaries\n",
        "import matplotlib.pyplot as plt\n",
        "import os\n",
        "import pandas as pd\n",
        "\n",
        "!pip install ipython-autotime\n",
        "%load_ext autotime"
      ],
      "execution_count": 1,
      "outputs": [
        {
          "output_type": "stream",
          "text": [
            "Collecting ipython-autotime\n",
            "  Downloading https://files.pythonhosted.org/packages/d6/c5/013f5aa3b56c6d2c58634bc979773df44ab2226cf4fa787daf0bfeeea0b4/ipython_autotime-0.3.0-py2.py3-none-any.whl\n",
            "Requirement already satisfied: ipython in /usr/local/lib/python3.6/dist-packages (from ipython-autotime) (5.5.0)\n",
            "Requirement already satisfied: prompt-toolkit<2.0.0,>=1.0.4 in /usr/local/lib/python3.6/dist-packages (from ipython->ipython-autotime) (1.0.18)\n",
            "Requirement already satisfied: decorator in /usr/local/lib/python3.6/dist-packages (from ipython->ipython-autotime) (4.4.2)\n",
            "Requirement already satisfied: traitlets>=4.2 in /usr/local/lib/python3.6/dist-packages (from ipython->ipython-autotime) (4.3.3)\n",
            "Requirement already satisfied: pexpect; sys_platform != \"win32\" in /usr/local/lib/python3.6/dist-packages (from ipython->ipython-autotime) (4.8.0)\n",
            "Requirement already satisfied: simplegeneric>0.8 in /usr/local/lib/python3.6/dist-packages (from ipython->ipython-autotime) (0.8.1)\n",
            "Requirement already satisfied: setuptools>=18.5 in /usr/local/lib/python3.6/dist-packages (from ipython->ipython-autotime) (51.1.1)\n",
            "Requirement already satisfied: pygments in /usr/local/lib/python3.6/dist-packages (from ipython->ipython-autotime) (2.6.1)\n",
            "Requirement already satisfied: pickleshare in /usr/local/lib/python3.6/dist-packages (from ipython->ipython-autotime) (0.7.5)\n",
            "Requirement already satisfied: wcwidth in /usr/local/lib/python3.6/dist-packages (from prompt-toolkit<2.0.0,>=1.0.4->ipython->ipython-autotime) (0.2.5)\n",
            "Requirement already satisfied: six>=1.9.0 in /usr/local/lib/python3.6/dist-packages (from prompt-toolkit<2.0.0,>=1.0.4->ipython->ipython-autotime) (1.15.0)\n",
            "Requirement already satisfied: ipython-genutils in /usr/local/lib/python3.6/dist-packages (from traitlets>=4.2->ipython->ipython-autotime) (0.2.0)\n",
            "Requirement already satisfied: ptyprocess>=0.5 in /usr/local/lib/python3.6/dist-packages (from pexpect; sys_platform != \"win32\"->ipython->ipython-autotime) (0.6.0)\n",
            "Installing collected packages: ipython-autotime\n",
            "Successfully installed ipython-autotime-0.3.0\n",
            "time: 1.68 ms (started: 2021-01-08 14:16:46 +00:00)\n"
          ],
          "name": "stdout"
        }
      ]
    },
    {
      "cell_type": "markdown",
      "metadata": {
        "id": "vWazAVEu_ncp"
      },
      "source": [
        "## **Introduction**"
      ]
    },
    {
      "cell_type": "code",
      "metadata": {
        "colab": {
          "base_uri": "https://localhost:8080/"
        },
        "id": "VPvzBpO2_pWK",
        "outputId": "0b010257-b152-4da5-abe7-9640a65674f3"
      },
      "source": [
        "#returns mask for correspoinding image\n",
        "def returnMaskPathFromImagePath(imagePath):\n",
        "  imagePath = imagePath.replace(\" \", \"\")\n",
        "  return imagePath.replace(\"orig\", \"mask\") \n",
        "\n",
        "#given a text file containing the name of training images return pathfile of respective masks\n",
        "def returnMaskImagesPathArray(trainTextPath):\n",
        "  mask_images_path_array = []\n",
        "  train_images_array = []\n",
        "  with open(trainTextPath, 'r') as file:\n",
        "      data = file.read().replace('\\n', ';')\n",
        "      train_images_array = data.split(\";\")\n",
        "  for train_image_str in train_images_array:\n",
        "    mask_image_str = train_image_str.replace(\"./plates/orig\", \"/content/plates/mask\")\n",
        "    if len(mask_image_str) > 0:\n",
        "      mask_images_path_array.append(mask_image_str)\n",
        "\n",
        "  return mask_images_path_array\n",
        "\n",
        "#return the subimage of interest\n",
        "def returnSubimageWith(width, height, xcenter, ycenter, maskImg):\n",
        "  xstart = xcenter - width//2\n",
        "  xend = xcenter + width//2\n",
        "  ystart = ycenter - height//2\n",
        "  yend = ycenter + height//2\n",
        "  return maskImg[ystart:yend+1,xstart: xend+1,:]\n",
        "\n",
        "#returns the number of pixels representing the plate in the mask\n",
        "def returnPlateNumberPixelsFromMask(maskImg):\n",
        "  #maskImg = cv2.imread(maskPath)\n",
        "  return maskImg.sum()/(3*255)\n",
        "\n",
        "#given width x height, and center coordinates of subimage, returns number of plate pixels contained in subimage\n",
        "def returnPlateNumberPixelsCovBySubimage(width, height, xcenter, ycenter, maskImg):\n",
        "  xstart = xcenter - width//2\n",
        "  if xstart < 0:\n",
        "    xstart = 0\n",
        "  xend = xcenter + width//2\n",
        "  ystart = ycenter - height//2\n",
        "  if ystart < 0:\n",
        "    ystart = 0\n",
        "  yend = ycenter + height//2\n",
        "  subImg = maskImg[ystart:yend+1,xstart: xend+1,:]\n",
        "\n",
        "  return subImg.sum()/(3*255)"
      ],
      "execution_count": 2,
      "outputs": [
        {
          "output_type": "stream",
          "text": [
            "time: 34.9 ms (started: 2021-01-08 14:16:50 +00:00)\n"
          ],
          "name": "stdout"
        }
      ]
    },
    {
      "cell_type": "markdown",
      "metadata": {
        "id": "qoURqel3YsZr"
      },
      "source": [
        "## **Converting original images from Grayscale to YCbCR**"
      ]
    },
    {
      "cell_type": "code",
      "metadata": {
        "colab": {
          "base_uri": "https://localhost:8080/"
        },
        "id": "LZzZRtlA_vHg",
        "outputId": "75c74fa5-bba3-4d82-c503-9eaaa48d1ac4"
      },
      "source": [
        "#function that saves an image\n",
        "def saveImage(image, imagefullpath):\n",
        "  cv2.imwrite(imagefullpath, image)\n",
        "\n",
        "#Mapping from grayscale pixel to RGB using color table\n",
        "def fromGrayscaleToRGBMapping(pixel, H):\n",
        "  V = pixel / H\n",
        "  V = (6 - 2) * V + 1\n",
        "  r_p = H * max(0, (3- abs(V-4) - abs(V-5))/2 )\n",
        "  g_p = H * max(0, (4- abs(V-2) - abs(V-4))/2 )\n",
        "  b_p = H * max(0, (3- abs(V-1) - abs(V-2))/2 )\n",
        "  return [r_p, g_p, b_p]\n",
        "\n",
        "#Transform the grayscale image with one channel into an RGB image with 3 channels\n",
        "def fromGrayscaleToRGB(grayscaleimage, bits):\n",
        "  if len(grayscaleimage.shape) !=2:\n",
        "    print (\"Error: image is not a grayscale image\")\n",
        "    return 0\n",
        "  \n",
        "  H = 2**bits -1\n",
        "\n",
        "  #we initiate an rgb image with 3 channels with same dimensions as grayscale image\n",
        "  rgbimage = np.zeros((grayscaleimage.shape[0], grayscaleimage.shape[1], 3))\n",
        "  i = 0\n",
        "  while i < grayscaleimage.shape[0]:\n",
        "    j = 0\n",
        "    while j < grayscaleimage.shape[1]:\n",
        "      r_p, g_p, b_p = fromGrayscaleToRGBMapping(grayscaleimage[i][j], H)\n",
        "      rgbimage[i][j][0] = r_p\n",
        "      rgbimage[i][j][1] = g_p\n",
        "      rgbimage[i][j][2] = b_p\n",
        "      \n",
        "      j +=1\n",
        "    i +=1\n",
        "  \n",
        "  return rgbimage\n",
        "\n",
        "#Transform an RGB image with 3 channels into a YCbCr image with 3 channels\n",
        "def fromRGBToYCbCr(rgbimage, bits):\n",
        "  conversionMatrix = np.array([[0.299, 0.587, 0.144], [-0.169, -0.331, 0.500], [0.500, -0.419, -0.081]])\n",
        "  bias = np.array([0, 2**(bits - 1), 2**(bits -1)])\n",
        "  YCbCrimage = np.zeros((rgbimage.shape[0], rgbimage.shape[1], rgbimage.shape[2]))\n",
        "\n",
        "  i = 0\n",
        "  while i < rgbimage.shape[0]:\n",
        "    j = 0\n",
        "    while j < rgbimage.shape[1]:\n",
        "      YCbCrimage[i][j] = conversionMatrix @ rgbimage[i][j] + bias\n",
        "      j += 1\n",
        "    i += 1\n",
        "\n",
        "  return YCbCrimage\n",
        "\n",
        "#Main function that converts a grayscale image with 1 channel to a YCbCr image with 3 channels\n",
        "def fromGrayscaleToYCbCr(image, bits):\n",
        "  rgbimage = fromGrayscaleToRGB(image, bits)\n",
        "  if len(rgbimage.shape) < 3:\n",
        "    return 0\n",
        "  return fromRGBToYCbCr(rgbimage, bits)"
      ],
      "execution_count": 3,
      "outputs": [
        {
          "output_type": "stream",
          "text": [
            "time: 59.6 ms (started: 2021-01-08 14:16:50 +00:00)\n"
          ],
          "name": "stdout"
        }
      ]
    },
    {
      "cell_type": "markdown",
      "metadata": {
        "id": "xDMGT6LE_zLR"
      },
      "source": [
        "**We create the YCbCr images**"
      ]
    },
    {
      "cell_type": "code",
      "metadata": {
        "colab": {
          "base_uri": "https://localhost:8080/"
        },
        "id": "WIHJps7Q_yfD",
        "outputId": "b904b5e1-7c07-4cdb-d852-8408c2d72c24"
      },
      "source": [
        "directory = '/content/plates/'\n",
        "\n",
        "#creating the folder that will contain the YCbCr images\n",
        "os.mkdir(\"ycbcrplates\")\n",
        "\n",
        "ycbcrdirectory = \"/content/ycbcrplates/\"\n",
        "\n",
        "i = 0 \n",
        "for filename in os.listdir(directory):\n",
        "  if \"orig\" in filename:\n",
        "    grayscaleimg = cv2.imread(directory + filename, cv2.IMREAD_GRAYSCALE)\n",
        "    ycbcrimg = fromGrayscaleToYCbCr(grayscaleimg, 8)\n",
        "    ycbcrimg = ycbcrimg.astype('uint8')\n",
        "\n",
        "    ycbcrimagepath = ycbcrdirectory + filename\n",
        "    cv2.imwrite(ycbcrimagepath, ycbcrimg)\n",
        "    i += 1\n",
        "\n",
        "print(\"Done,\", i, \" images from 'plates/' converted to YCbCr.\")"
      ],
      "execution_count": 4,
      "outputs": [
        {
          "output_type": "stream",
          "text": [
            "Done, 128  images from 'plates/' converted to YCbCr.\n",
            "time: 3min 31s (started: 2021-01-08 14:16:53 +00:00)\n"
          ],
          "name": "stdout"
        }
      ]
    },
    {
      "cell_type": "markdown",
      "metadata": {
        "id": "Ky5pc75mY1Wr"
      },
      "source": [
        "## **Converting Images from Grayscale to LAB**"
      ]
    },
    {
      "cell_type": "code",
      "metadata": {
        "id": "1YnYsZSYY6Oz"
      },
      "source": [
        "\n",
        "def fromXYZtoLAB(xyzimage):\n",
        "\n",
        "\n",
        "\n",
        "def fromRGBtoXYZMapping(rgbpixel):\n",
        "  xyzpixel = rgbpixel / 255.\n",
        "\n",
        "  if xyzpixel[0] > 0.04045:\n",
        "    xyzpixel[0] = ( ( xyzpixel[0] + 0.055 ) / 1.055 ) ** 2.4\n",
        "  else:\n",
        "    xyzpixel[0] = xyzpixel[0] / 12.92\n",
        "  \n",
        "  if xyzpixel[1] > 0.04045:\n",
        "    xyzpixel[1] = ( ( xyzpixel[1] + 0.055 ) / 1.055 ) ** 2.4\n",
        "  else:  \n",
        "    xyzpixel[1] = xyzpixel[1] / 12.92\n",
        "  \n",
        "  if xyzpixel[2] > 0.04045:\n",
        "    xyzpixel[2] = ( ( xyzpixel[2] + 0.055 ) / 1.055 ) ** 2.4\n",
        "  else:\n",
        "    xyzpixel[2] = xyzpixel[2] / 12.92\n",
        "\n",
        "  return xyzpixel\n",
        "\n",
        "def fromRGBtoXYZ(rgbimage):\n",
        "  #we initiate an XYZ image with 3 channels with same dimensions as RGB image\n",
        "  xyzimage = np.zeros((rgbimage.shape[0], rgbimage.shape[1], rgbimage.shape[2]))\n",
        "  i = 0\n",
        "  while i < rgbimage.shape[0]:\n",
        "    j = 0\n",
        "    while j < rgbimage.shape[1]:\n",
        "      x_p, y_p, z_p = fromRGBtoXYZMapping(rgbimage[i][j])\n",
        "      xyzimage[i][j][0] = x_p\n",
        "      xyzimage[i][j][1] = y_p\n",
        "      xyzimage[i][j][2] = z_p\n",
        "      j +=1\n",
        "    i +=1\n",
        "  \n",
        "  return xyzimage\n",
        "\n",
        "#transforms the image from RGB to LAB\n",
        "def fromRGBToLAB(rgbimage):\n",
        "\n",
        "\n",
        "\n",
        "#Main function that converts a grayscale image with 1 channel to a YCbCr image with 3 channels\n",
        "def fromGrayscaleToLAB(image, bits):\n",
        "  rgbimage = fromGrayscaleToRGB(image, bits)\n",
        "  if len(rgbimage.shape) < 3:\n",
        "    return 0\n",
        "  return fromRGBToLAB(rgbimage, bits)"
      ],
      "execution_count": null,
      "outputs": []
    },
    {
      "cell_type": "markdown",
      "metadata": {
        "id": "YLZWtE3X_7zI"
      },
      "source": [
        "## **Super-pixel segmentation**"
      ]
    },
    {
      "cell_type": "code",
      "metadata": {
        "colab": {
          "base_uri": "https://localhost:8080/"
        },
        "id": "RNHwy_0S__e9",
        "outputId": "40052aff-6ed2-437f-ef2e-24b28c5e10eb"
      },
      "source": [
        "#returns the Geo center of each super pixel contained in an image\n",
        "def returnSuperPixelsGeometricCenters(labelimage):\n",
        "  width = labelimage.shape[1]\n",
        "  height = labelimage.shape[0]\n",
        "  nSuperPixels = np.max(labelimage) + 1\n",
        "  plabelCoordinates = np.zeros(nSuperPixels)\n",
        "\n",
        "  xCoordinates = np.zeros(nSuperPixels)\n",
        "  yCoordinates = np.zeros(nSuperPixels)\n",
        "  nElements = np.zeros(nSuperPixels)\n",
        "\n",
        "  i = 0\n",
        "  while i < height:\n",
        "    j = 0\n",
        "    while j < width:\n",
        "      plabel = labelimage[i][j]\n",
        "      xSum = xCoordinates[plabel]\n",
        "      ySum = yCoordinates[plabel]\n",
        "      nLabelElements = nElements[plabel]\n",
        "\n",
        "      xCoordinates[plabel] = xSum + j\n",
        "      yCoordinates[plabel] = ySum + i\n",
        "      nElements[plabel] = nLabelElements + 1  \n",
        "      j += 1\n",
        "    i += 1\n",
        "  \n",
        "  geocenters = []\n",
        "  \n",
        "  plabel = 0\n",
        "  while plabel < nSuperPixels :\n",
        "    xCenter = xCoordinates[plabel] / nElements[plabel]\n",
        "    yCenter = yCoordinates[plabel] / nElements[plabel]\n",
        "    geocenters.append([int(xCenter), int(yCenter)])\n",
        "    plabel += 1\n",
        "  \n",
        "  return geocenters\n",
        "\n",
        "#Perform Superpixel segmentation\n",
        "def returnLabelsWithSuperPixelSegmentation(imagepath, numberSuperpixels):\n",
        "  originalimage = cv2.imread(imagepath)\n",
        "  return segmentation.slic(originalimage, n_segments=numberSuperpixels)"
      ],
      "execution_count": 5,
      "outputs": [
        {
          "output_type": "stream",
          "text": [
            "time: 27.9 ms (started: 2021-01-08 14:20:24 +00:00)\n"
          ],
          "name": "stdout"
        }
      ]
    },
    {
      "cell_type": "code",
      "metadata": {
        "colab": {
          "base_uri": "https://localhost:8080/"
        },
        "id": "cUaYVR-YAH9B",
        "outputId": "305bfde2-1a80-45e7-e30a-ae7ab3468885"
      },
      "source": [
        "#Function that loops through the superpixels number until a plate in subimage is found \n",
        "#With threshold \n",
        "def returnMinimumSuperpixelsFor(imagepath, numberSuperpixels, width, height, threshold):\n",
        "  \n",
        "  subimageWithPlateFound = False\n",
        "\n",
        "  maskPath = returnMaskPathFromImagePath(imagepath)\n",
        "  \n",
        "  maskImage = cv2.imread(maskPath)\n",
        "  \n",
        "  nPlatePixelOriginalMask = returnPlateNumberPixelsFromMask(maskImage)\n",
        "  \n",
        "  while subimageWithPlateFound == False:\n",
        "    \n",
        "    labels = returnLabelsWithSuperPixelSegmentation(imagepath, numberSuperpixels)\n",
        "    labelsGeocenters = returnSuperPixelsGeometricCenters(labels)\n",
        "\n",
        "    for labelGeocenter in labelsGeocenters:\n",
        "      xCenter = labelGeocenter[0]\n",
        "      yCenter = labelGeocenter[1]\n",
        "      nPlatePixelsSubimage = returnPlateNumberPixelsCovBySubimage(width, height, xCenter, yCenter, maskImage)\n",
        "      \n",
        "      if nPlatePixelsSubimage / nPlatePixelOriginalMask >= threshold:\n",
        "        subimageWithPlateFound = True\n",
        "        break\n",
        "\n",
        "    if subimageWithPlateFound == False:\n",
        "      numberSuperpixels += 1\n",
        "      \n",
        "    #stopping algorithm if number of superpixels is too high\n",
        "    #then width, height aren't adequate\n",
        "    if numberSuperpixels > 100 and subimageWithPlateFound == False:\n",
        "      numberSuperpixels = -1\n",
        "      break\n",
        "\n",
        "  return numberSuperpixels "
      ],
      "execution_count": 6,
      "outputs": [
        {
          "output_type": "stream",
          "text": [
            "time: 26.5 ms (started: 2021-01-08 14:20:25 +00:00)\n"
          ],
          "name": "stdout"
        }
      ]
    },
    {
      "cell_type": "markdown",
      "metadata": {
        "id": "AH_gNdodAQCK"
      },
      "source": [
        "In this task 3, we reduce the number of plates pixels required to classify a subimage as class 1 \"plate/foreground\". In the previous tasks (1 and 3), we chose a threshold of 90%. In this task, we set the thresold to 50%. That means that every patch that contains just 50% of the plate pixels inside the patch is classified as a \"plate/foreground\". \n",
        "\n",
        "Note: We will have to take that into account when comparing the results with the classifiers we built in the previous tasks."
      ]
    },
    {
      "cell_type": "code",
      "metadata": {
        "colab": {
          "base_uri": "https://localhost:8080/"
        },
        "id": "B79F4krMAuQO",
        "outputId": "aa2584e6-b0b2-4228-ad2c-ffc2ca30cb70"
      },
      "source": [
        "w = 100 #175 #163\n",
        "h = 60 #81 #79\n",
        "thresholdV = 0.5"
      ],
      "execution_count": 7,
      "outputs": [
        {
          "output_type": "stream",
          "text": [
            "time: 1.97 ms (started: 2021-01-08 14:20:25 +00:00)\n"
          ],
          "name": "stdout"
        }
      ]
    },
    {
      "cell_type": "code",
      "metadata": {
        "id": "GueLKinvA1Pj"
      },
      "source": [
        "superpixelsStart = 48\n",
        "\n",
        "platesFolderPath = \"/content/plates/\"\n",
        "\n",
        "f = open(\"train1.txt\", \"r\")\n",
        "for imgpath in f:\n",
        "  imgpath = imgpath.replace(\"./plates/\", \"\")\n",
        "  imgpath = imgpath.replace(\" \", \"\")\n",
        "  imgpath = platesFolderPath + imgpath\n",
        "  \n",
        "  if len(imgpath) > 5 and superpixelsStart > 0:\n",
        "    superpixelsStart = returnMinimumSuperpixelsFor(imgpath.strip(), superpixelsStart, w, h, thresholdV)\n",
        "    print(imgpath, \": \", superpixelsStart)"
      ],
      "execution_count": null,
      "outputs": []
    },
    {
      "cell_type": "markdown",
      "metadata": {
        "id": "9hkD4huoEOjB"
      },
      "source": [
        "**Conclusion:**\n",
        "\n",
        "Since the treshold is very low, we decided to reduce drastically the size of the patches from the previous tasks. This will decrease dramatically the computations required to process the images too. \n",
        "\n",
        "With trials, we found that, with a patch size of 100x60, we require 48 superpixels in order to get at least one patch classified as \"plate/foreground\" for each image in the three training sets. \n",
        "\n",
        "Those parameters will be used in the next steps."
      ]
    },
    {
      "cell_type": "markdown",
      "metadata": {
        "id": "rdvcDuw5EvaX"
      },
      "source": [
        "## **Creating the subimages with chosen number of superpixels**"
      ]
    },
    {
      "cell_type": "markdown",
      "metadata": {
        "id": "Ri6zkDZVFJBb"
      },
      "source": [
        "For the task, we use only the training set 1. We evaluate the classifier and compare it to the classifiers built in the previous tasks. \n",
        "\n",
        "After that, we select which classifier is the best according to the percentage of plate pixels activated and the percentage of pixels outside the plate deactivated. The higher the scores of the two metrics, the better the model."
      ]
    },
    {
      "cell_type": "code",
      "metadata": {
        "colab": {
          "base_uri": "https://localhost:8080/"
        },
        "id": "VVOq1MtTE8lr",
        "outputId": "1e28c647-e986-4eb1-cdd5-3550f5ea60f0"
      },
      "source": [
        "def returnSubimageWIth(width, height, xcenter, ycenter, originalimage):\n",
        "  xstart = xcenter - width//2\n",
        "  ystart = ycenter - height//2\n",
        "  xend = xcenter + width//2\n",
        "  yend = ycenter + height//2\n",
        "\n",
        "  if xstart < 0 or ystart < 0:\n",
        "    print(\"xcoord or ycoor negative, xstart =\",  xstart, \", ystart = \", ystart)\n",
        "  \n",
        "  return originalimage[ystart:yend+1,xstart: xend+1,:]\n",
        "\n",
        "#verifiy the subimage fits inside the original image\n",
        "def returnCenterCoordinatesSubimageInsideOrigImage(width, height, xcenter, ycenter, W, H):\n",
        "  if xcenter < width // 2:\n",
        "    xcenter = width // 2\n",
        "    \n",
        "  if xcenter >= W - width//2:\n",
        "    xcenter = W - width//2 - 1\n",
        "\n",
        "  if ycenter < height //2:\n",
        "    ycenter = height //2\n",
        "  \n",
        "  if ycenter >= H - height//2:\n",
        "    ycenter = H - height//2 - 1\n",
        "  \n",
        "  return [xcenter, ycenter]\n",
        "\n",
        "#giving a name for the subimage\n",
        "def returnSubimageFilename(width, height, xcenter, ycenter, subimageclass, imagepath):\n",
        "  subimagefilename = imagepath.replace(\".png\", \"\")\n",
        "  subimagefilename = subimagefilename + \"_\" + str(xcenter) + \"_\" + str(ycenter) + \"_\" + str(width) + \"_\" + str(height) + \"_\" + str (subimageclass) + \".png\"\n",
        "  return subimagefilename\n",
        "\n",
        "#returns the subimage characteristics from its name\n",
        "def returnSubimageDimensionsCenterCoordinates(imagename):\n",
        "  imagename = imagename.replace(\".png\", \"\")\n",
        "  elementsArray = imagename.split(\"_\")\n",
        "  imageID = elementsArray[1]\n",
        "  width = int(elementsArray[4])\n",
        "  height = int(elementsArray[5])\n",
        "  xcenter = int(elementsArray[2])\n",
        "  ycenter = int(elementsArray[3])\n",
        "  imageclass = int(elementsArray[6])\n",
        "  return [imageID, width, height, xcenter, ycenter, imageclass]\n",
        "\n",
        "#returns the class of the subimage depending on the percentage \n",
        "#of pixel plates it contains from the original image\n",
        "def returnSubimageClassWith(nPlatePixelsSubimage, nPlatePixelOriginalMask, platePixelsThreshold):\n",
        "  if nPlatePixelsSubimage / nPlatePixelOriginalMask >= platePixelsThreshold:\n",
        "    return 1\n",
        "  return 0\n",
        "\n",
        "#creates the subimages with a given number of superpixels\n",
        "def createSubimagesWithSuperPixelsSegmentation(originalImageFolder, yCbCrImageFolder, imagename, subImageFolder, numberSuperpixels, width, height, platePixelsThreshold):\n",
        "  imagepath = originalImageFolder + imagename\n",
        "  yCbCrimagepath = yCbCrImageFolder + imagename\n",
        "  label = returnLabelsWithSuperPixelSegmentation(imagepath, numberSuperpixels)\n",
        "  labelsGeocenters = returnSuperPixelsGeometricCenters(label)\n",
        "  \n",
        "  maskPath = returnMaskPathFromImagePath(imagepath)\n",
        "  maskImage = cv2.imread(maskPath)\n",
        "  nPlatePixelOriginalMask = returnPlateNumberPixelsFromMask(maskImage)\n",
        "  yCbCrOriginalImage = cv2.imread(yCbCrimagepath)\n",
        "\n",
        "  nSubimagesCreated = 0\n",
        "\n",
        "  W = maskImage.shape[1]\n",
        "  H = maskImage.shape[0]\n",
        "\n",
        "  subimageWithClass1 = False\n",
        "\n",
        "  for labelGeocenter in labelsGeocenters:\n",
        "    xcenter = labelGeocenter[0]\n",
        "    ycenter = labelGeocenter[1]\n",
        "\n",
        "    #we recenter the subimage if needed to fit intside the original image\n",
        "    #we do that because we need to perform batch norm and we need all subimages with same dimensions\n",
        "    xcenter, ycenter = returnCenterCoordinatesSubimageInsideOrigImage(width, height, xcenter, ycenter, W, H)\n",
        "    nPlatePixelsSubimage = returnPlateNumberPixelsCovBySubimage(width, height, xcenter, ycenter, maskImage)\n",
        "    \n",
        "    #getting the class of the subimage according to the threshold of plate pixels inside it\n",
        "    subimageclass = returnSubimageClassWith(nPlatePixelsSubimage, nPlatePixelOriginalMask, platePixelsThreshold)\n",
        "    \n",
        "    subimage = returnSubimageWIth(width, height, xcenter, ycenter, yCbCrOriginalImage)\n",
        "    subimagefilename = returnSubimageFilename(width, height, xcenter, ycenter, subimageclass, imagename)\n",
        "    #saving the subimage\n",
        "    cv2.imwrite(subImageFolder + subimagefilename, subimage)\n",
        "    nSubimagesCreated += 1\n",
        "\n",
        "    if subimageclass == 1:\n",
        "      subimageWithClass1 = True\n",
        "\n",
        "  #we verifiy we get at least one subimage containing enough plate pixels\n",
        "  if subimageWithClass1 == False:\n",
        "    print(\"No class 1 for \", imagename)\n",
        "\n",
        "  return nSubimagesCreated"
      ],
      "execution_count": 8,
      "outputs": [
        {
          "output_type": "stream",
          "text": [
            "time: 118 ms (started: 2021-01-08 14:20:25 +00:00)\n"
          ],
          "name": "stdout"
        }
      ]
    },
    {
      "cell_type": "code",
      "metadata": {
        "id": "NPPbcfUnFmES"
      },
      "source": [
        "number_superpixels = 48\n",
        "\n",
        "yCbCrPlatesFolder = \"/content/ycbcrplates/\"\n",
        "platesFolderPath = \"/content/plates/\"\n",
        "\n",
        "subimageFoldernameArray = [\"train1\"]\n",
        "traintextfilearray = [\"train1.txt\"]\n",
        "\n",
        "i = 0\n",
        "while i < len(traintextfilearray):\n",
        "  totalSubimagesCreated = 0 \n",
        "  f = open(traintextfilearray[i], \"r\")\n",
        "\n",
        "  #os.mkdir(subimageFoldernameArray[i])\n",
        "\n",
        "  for imgname in f:\n",
        "    imgname = imgname.replace(\"./plates/\", \"\")\n",
        "    imgname = imgname.replace(\" \", \"\")\n",
        "\n",
        "    if len(imgname) > 5:\n",
        "      print(\"imgname \", imgname)\n",
        "      subimagesCreated = createSubimagesWithSuperPixelsSegmentation(platesFolderPath, yCbCrPlatesFolder, imgname.strip(), subimageFoldernameArray[i] + \"/\", number_superpixels, w, h, thresholdV)\n",
        "      totalSubimagesCreated += subimagesCreated \n",
        "\n",
        "  print()\n",
        "  print(traintextfilearray[i])\n",
        "  print(\"Number of subimages created :\", totalSubimagesCreated)\n",
        "  i += 1"
      ],
      "execution_count": null,
      "outputs": []
    },
    {
      "cell_type": "markdown",
      "metadata": {
        "id": "VeeAvbd7F80-"
      },
      "source": [
        "We create the subimages for the test set 1 also."
      ]
    },
    {
      "cell_type": "code",
      "metadata": {
        "colab": {
          "base_uri": "https://localhost:8080/"
        },
        "id": "MyqabyCrGAgi",
        "outputId": "6a8a5f9c-a77d-4ad4-a99e-3d8062100106"
      },
      "source": [
        "subimageFoldernameArray = [\"test1\"]\n",
        "traintextfilearray = [\"test1.txt\"]\n",
        "\n",
        "i = 0\n",
        "while i < len(traintextfilearray):\n",
        "  totalSubimagesCreated = 0 \n",
        "  f = open(traintextfilearray[i], \"r\")\n",
        "\n",
        "  os.mkdir(subimageFoldernameArray[i])\n",
        "\n",
        "  for imgname in f:\n",
        "    imgname = imgname.replace(\"./plates/\", \"\")\n",
        "    imgname = imgname.replace(\" \", \"\")\n",
        "\n",
        "    if len(imgname) > 5:\n",
        "      subimagesCreated = createSubimagesWithSuperPixelsSegmentation(platesFolderPath, yCbCrPlatesFolder, imgname.strip(), subimageFoldernameArray[i] + \"/\", number_superpixels, w, h, thresholdV)\n",
        "      totalSubimagesCreated += subimagesCreated \n",
        "\n",
        "  print()\n",
        "  print(traintextfilearray[i])\n",
        "  print(\"Number of subimages created :\", totalSubimagesCreated)\n",
        "  i += 1"
      ],
      "execution_count": 10,
      "outputs": [
        {
          "output_type": "stream",
          "text": [
            "\n",
            "test1.txt\n",
            "Number of subimages created : 3206\n",
            "time: 29.8 s (started: 2021-01-07 15:38:36 +00:00)\n"
          ],
          "name": "stdout"
        }
      ]
    },
    {
      "cell_type": "markdown",
      "metadata": {
        "id": "S81EdW3yGWrc"
      },
      "source": [
        "We created the patches from training set 1 images, and test set 1 images. We are ready for the next step."
      ]
    },
    {
      "cell_type": "markdown",
      "metadata": {
        "id": "TQwnp0FLXSpq"
      },
      "source": [
        "**Saving the patches**"
      ]
    },
    {
      "cell_type": "code",
      "metadata": {
        "id": "nEa309FOXRIP"
      },
      "source": [
        "!zip -r /content/train1patches.zip /content/train1"
      ],
      "execution_count": null,
      "outputs": []
    },
    {
      "cell_type": "code",
      "metadata": {
        "id": "dpcS2QmCXh93"
      },
      "source": [
        "!zip -r /content/test1patches.zip /content/test1"
      ],
      "execution_count": null,
      "outputs": []
    },
    {
      "cell_type": "markdown",
      "metadata": {
        "id": "lgHPpHmJGTcm"
      },
      "source": [
        "## **Marker selection**"
      ]
    },
    {
      "cell_type": "markdown",
      "metadata": {
        "id": "3qhG9_NwGdDv"
      },
      "source": [
        "We select randomly a patch from class \"plate/foreground\" that we will mark.\n",
        "\n",
        "We will conduct the following experiments:\n",
        "\n",
        "*   select one class 1 patch and mark it (we mark only the figures appearing on the plate)\n",
        "*   select one class 1 patch and mark it (we mark the border of the plate)\n",
        "*   select two class 1 patch and mark them according to the best results obtained from the previous two experiments\n",
        "*   select three class 1 patch and mark them according to the best results obtained from the previous two experiments\n",
        "\n",
        "Those experiments will allow us to determine how to best mark a class 1 patch, and see how many marked patches we need to achieve the best results from the classifier.\n",
        "\n",
        "\n"
      ]
    },
    {
      "cell_type": "markdown",
      "metadata": {
        "id": "LKkQkidpGVY3"
      },
      "source": [
        "We use an image editor to mark the patches. The results obtained are the following:"
      ]
    },
    {
      "cell_type": "code",
      "metadata": {
        "colab": {
          "base_uri": "https://localhost:8080/",
          "height": 269
        },
        "id": "3ba4SCLZraZf",
        "outputId": "5efa4c54-09cb-4a17-f97e-b23dfc0b66d6"
      },
      "source": [
        "img = cv2.imread(\"/content/train1/orig_0003_168_160_100_60_1.png\")\n",
        "\n",
        "markedimg = cv2.imread(\"/content/orig_0003_168_160_100_60_1_marker.png\")\n",
        "\n",
        "plt.imshow(markedimg)\n",
        "plt.show()"
      ],
      "execution_count": 15,
      "outputs": [
        {
          "output_type": "display_data",
          "data": {
            "image/png": "[encoded data removed]",
            "text/plain": [
              "<Figure size 432x288 with 1 Axes>"
            ]
          },
          "metadata": {
            "tags": [],
            "needs_background": "light"
          }
        },
        {
          "output_type": "stream",
          "text": [
            "time: 262 ms (started: 2021-01-08 15:00:30 +00:00)\n"
          ],
          "name": "stdout"
        }
      ]
    },
    {
      "cell_type": "code",
      "metadata": {
        "id": "tKdtWIUy6CRv",
        "colab": {
          "base_uri": "https://localhost:8080/"
        },
        "outputId": "2fdd72f3-b3e3-4b59-e227-6168ece7208d"
      },
      "source": [
        "label = returnLabelsWithSuperPixelSegmentation(\"/content/train1/orig_0003_110_162_100_60_0.png\", 48)"
      ],
      "execution_count": 19,
      "outputs": [
        {
          "output_type": "stream",
          "text": [
            "time: 16.8 ms (started: 2021-01-08 15:01:25 +00:00)\n"
          ],
          "name": "stdout"
        }
      ]
    },
    {
      "cell_type": "code",
      "metadata": {
        "id": "AYqwsIog6Lac",
        "colab": {
          "base_uri": "https://localhost:8080/"
        },
        "outputId": "c7e3bf07-fa30-4878-b766-9794d1a5c026"
      },
      "source": [
        "label_array = np.array([label])"
      ],
      "execution_count": 20,
      "outputs": [
        {
          "output_type": "stream",
          "text": [
            "time: 1.44 ms (started: 2021-01-08 15:01:28 +00:00)\n"
          ],
          "name": "stdout"
        }
      ]
    },
    {
      "cell_type": "code",
      "metadata": {
        "id": "xaqPLaCt-LWf",
        "outputId": "8c21cf75-70f3-4da8-e544-92376b81caa4",
        "colab": {
          "base_uri": "https://localhost:8080/",
          "height": 286
        }
      },
      "source": [
        "label = returnLabelsWithSuperPixelSegmentation(\"/content/orig_0001.png\", 348)\n",
        "\n",
        "plt.imshow(label)\n",
        "plt.show()"
      ],
      "execution_count": 8,
      "outputs": [
        {
          "output_type": "display_data",
          "data": {
            "image/png": "[encoded data removed]",
            "text/plain": [
              "<Figure size 432x288 with 1 Axes>"
            ]
          },
          "metadata": {
            "tags": [],
            "needs_background": "light"
          }
        },
        {
          "output_type": "stream",
          "text": [
            "time: 369 ms (started: 2021-01-07 22:32:38 +00:00)\n"
          ],
          "name": "stdout"
        }
      ]
    },
    {
      "cell_type": "markdown",
      "metadata": {
        "id": "FERNrFqqiihc"
      },
      "source": [
        "## **FLIM algorithm**"
      ]
    },
    {
      "cell_type": "markdown",
      "metadata": {
        "id": "1ez3Cu3Gj1fP"
      },
      "source": [
        "We need to get the zip file of FLIM algorithm from [FLIM repository on Github](https://github.com/LIDS-UNICAMP/FLIM)"
      ]
    },
    {
      "cell_type": "code",
      "metadata": {
        "id": "zBRhbiMGjH7u"
      },
      "source": [
        "!unzip \"/content/FLIM-master.zip\"\n",
        "\n",
        "!pip install \"/content/FLIM-master/\"\n",
        "\n",
        "!pip install -r \"/content/FLIM-master/requirements.txt\""
      ],
      "execution_count": null,
      "outputs": []
    },
    {
      "cell_type": "code",
      "metadata": {
        "id": "GwQUkCB3TF2O"
      },
      "source": [
        "!unzip \"/content/FLIM-dev.zip\"\n",
        "\n",
        "!pip install \"/content/FLIM-dev/\"\n",
        "\n",
        "!pip install -r \"/content/FLIM-dev/requirements.txt\""
      ],
      "execution_count": null,
      "outputs": []
    },
    {
      "cell_type": "code",
      "metadata": {
        "colab": {
          "base_uri": "https://localhost:8080/"
        },
        "id": "2x1gz1OjjpHG",
        "outputId": "30c7096f-90e9-4e5b-8d69-89357980c35e"
      },
      "source": [
        "import sys\n",
        "# insert at 1, 0 is the script path (or '' in REPL)\n",
        "sys.path.insert(1, '/content/FLIM-dev')\n",
        "\n",
        "\n",
        "import flim as flim\n",
        "from flim import utils\n",
        "from flim.models import lcn"
      ],
      "execution_count": 14,
      "outputs": [
        {
          "output_type": "stream",
          "text": [
            "time: 3.31 s (started: 2021-01-08 14:28:17 +00:00)\n"
          ],
          "name": "stdout"
        }
      ]
    },
    {
      "cell_type": "code",
      "metadata": {
        "id": "KudWoKYGxPhh",
        "colab": {
          "base_uri": "https://localhost:8080/"
        },
        "outputId": "6409caef-4210-490b-c55c-27c74c9ea124"
      },
      "source": [
        "markedimg.shape"
      ],
      "execution_count": 21,
      "outputs": [
        {
          "output_type": "execute_result",
          "data": {
            "text/plain": [
              "(61, 101, 3)"
            ]
          },
          "metadata": {
            "tags": []
          },
          "execution_count": 21
        },
        {
          "output_type": "stream",
          "text": [
            "time: 2.59 ms (started: 2021-01-08 15:01:36 +00:00)\n"
          ],
          "name": "stdout"
        }
      ]
    },
    {
      "cell_type": "code",
      "metadata": {
        "colab": {
          "base_uri": "https://localhost:8080/"
        },
        "id": "qWOj44OTtMus",
        "outputId": "9efaf32d-adcc-40d3-bfd0-7e242ea8a7e1"
      },
      "source": [
        "lcnarchitecture = {\"features\": {\n",
        "        \"type\": \"sequential\",\n",
        "        \"layers\": {\n",
        "            \"conv1\": {\n",
        "                \"operation\": \"conv2d\",\n",
        "                \"params\": {\n",
        "                    \"kernel_size\": 5,\n",
        "                    \"stride\": 1,\n",
        "                    \"padding\": 2,\n",
        "                    \"dilation\": 1,\n",
        "                    \"number_of_kernels_per_marker\": 8\n",
        "                },\n",
        "                \"activation\": {\n",
        "                    \"operation\": \"relu\",\n",
        "                    \"params\": {\n",
        "                        \"inplace\": True\n",
        "                    }\n",
        "                },\n",
        "                \"pool\": {\n",
        "                    \"operation\": \"max_pool2d\",\n",
        "                    \"params\": {\n",
        "                        \"kernel_size\": 3,\n",
        "                        \"stride\": 4,\n",
        "                        \"padding\": 0\n",
        "                    }\n",
        "                }\n",
        "            },\n",
        "        }\n",
        "    }}\n",
        "\n",
        "last_conv_layer_out_channels = 3\n",
        "lcnmodel = lcn.LCNCreator(lcnarchitecture, [img], label_array)\n",
        "\n",
        "lcnmodel.build_feature_extractor()"
      ],
      "execution_count": 23,
      "outputs": [
        {
          "output_type": "stream",
          "text": [
            "Building conv1\n",
            "Number of patches 363\n",
            "time: 1.02 s (started: 2021-01-08 15:02:10 +00:00)\n"
          ],
          "name": "stdout"
        }
      ]
    },
    {
      "cell_type": "code",
      "metadata": {
        "id": "9Ve-VKSbcUZw",
        "outputId": "a7e5adb6-4747-4c7a-db4a-d808491b0522",
        "colab": {
          "base_uri": "https://localhost:8080/",
          "height": 392
        }
      },
      "source": [
        "#see output of FLIM\n",
        "model = lcnmodel.get_LIDSConvNet()\n",
        "\n",
        "out = model.feature_extractor.forward(np.array(img))\n",
        "\n",
        "#classificador :\n",
        "#build_classifier"
      ],
      "execution_count": 29,
      "outputs": [
        {
          "output_type": "error",
          "ename": "TypeError",
          "evalue": "ignored",
          "traceback": [
            "\u001b[0;31m---------------------------------------------------------------------------\u001b[0m",
            "\u001b[0;31mTypeError\u001b[0m                                 Traceback (most recent call last)",
            "\u001b[0;32m<ipython-input-29-d41d52d427b4>\u001b[0m in \u001b[0;36m<module>\u001b[0;34m()\u001b[0m\n\u001b[1;32m      2\u001b[0m \u001b[0mmodel\u001b[0m \u001b[0;34m=\u001b[0m \u001b[0mlcnmodel\u001b[0m\u001b[0;34m.\u001b[0m\u001b[0mget_LIDSConvNet\u001b[0m\u001b[0;34m(\u001b[0m\u001b[0;34m)\u001b[0m\u001b[0;34m\u001b[0m\u001b[0;34m\u001b[0m\u001b[0m\n\u001b[1;32m      3\u001b[0m \u001b[0;34m\u001b[0m\u001b[0m\n\u001b[0;32m----> 4\u001b[0;31m \u001b[0mout\u001b[0m \u001b[0;34m=\u001b[0m \u001b[0mmodel\u001b[0m\u001b[0;34m.\u001b[0m\u001b[0mfeature_extractor\u001b[0m\u001b[0;34m.\u001b[0m\u001b[0mforward\u001b[0m\u001b[0;34m(\u001b[0m\u001b[0mnp\u001b[0m\u001b[0;34m.\u001b[0m\u001b[0marray\u001b[0m\u001b[0;34m(\u001b[0m\u001b[0mimg\u001b[0m\u001b[0;34m)\u001b[0m\u001b[0;34m)\u001b[0m\u001b[0;34m\u001b[0m\u001b[0;34m\u001b[0m\u001b[0m\n\u001b[0m\u001b[1;32m      5\u001b[0m \u001b[0;34m\u001b[0m\u001b[0m\n\u001b[1;32m      6\u001b[0m \u001b[0;31m#classificador :\u001b[0m\u001b[0;34m\u001b[0m\u001b[0;34m\u001b[0m\u001b[0;34m\u001b[0m\u001b[0m\n",
            "\u001b[0;32m/usr/local/lib/python3.6/dist-packages/torch/nn/modules/container.py\u001b[0m in \u001b[0;36mforward\u001b[0;34m(self, input)\u001b[0m\n\u001b[1;32m    115\u001b[0m     \u001b[0;32mdef\u001b[0m \u001b[0mforward\u001b[0m\u001b[0;34m(\u001b[0m\u001b[0mself\u001b[0m\u001b[0;34m,\u001b[0m \u001b[0minput\u001b[0m\u001b[0;34m)\u001b[0m\u001b[0;34m:\u001b[0m\u001b[0;34m\u001b[0m\u001b[0;34m\u001b[0m\u001b[0m\n\u001b[1;32m    116\u001b[0m         \u001b[0;32mfor\u001b[0m \u001b[0mmodule\u001b[0m \u001b[0;32min\u001b[0m \u001b[0mself\u001b[0m\u001b[0;34m:\u001b[0m\u001b[0;34m\u001b[0m\u001b[0;34m\u001b[0m\u001b[0m\n\u001b[0;32m--> 117\u001b[0;31m             \u001b[0minput\u001b[0m \u001b[0;34m=\u001b[0m \u001b[0mmodule\u001b[0m\u001b[0;34m(\u001b[0m\u001b[0minput\u001b[0m\u001b[0;34m)\u001b[0m\u001b[0;34m\u001b[0m\u001b[0;34m\u001b[0m\u001b[0m\n\u001b[0m\u001b[1;32m    118\u001b[0m         \u001b[0;32mreturn\u001b[0m \u001b[0minput\u001b[0m\u001b[0;34m\u001b[0m\u001b[0;34m\u001b[0m\u001b[0m\n\u001b[1;32m    119\u001b[0m \u001b[0;34m\u001b[0m\u001b[0m\n",
            "\u001b[0;32m/usr/local/lib/python3.6/dist-packages/torch/nn/modules/module.py\u001b[0m in \u001b[0;36m_call_impl\u001b[0;34m(self, *input, **kwargs)\u001b[0m\n\u001b[1;32m    725\u001b[0m             \u001b[0mresult\u001b[0m \u001b[0;34m=\u001b[0m \u001b[0mself\u001b[0m\u001b[0;34m.\u001b[0m\u001b[0m_slow_forward\u001b[0m\u001b[0;34m(\u001b[0m\u001b[0;34m*\u001b[0m\u001b[0minput\u001b[0m\u001b[0;34m,\u001b[0m \u001b[0;34m**\u001b[0m\u001b[0mkwargs\u001b[0m\u001b[0;34m)\u001b[0m\u001b[0;34m\u001b[0m\u001b[0;34m\u001b[0m\u001b[0m\n\u001b[1;32m    726\u001b[0m         \u001b[0;32melse\u001b[0m\u001b[0;34m:\u001b[0m\u001b[0;34m\u001b[0m\u001b[0;34m\u001b[0m\u001b[0m\n\u001b[0;32m--> 727\u001b[0;31m             \u001b[0mresult\u001b[0m \u001b[0;34m=\u001b[0m \u001b[0mself\u001b[0m\u001b[0;34m.\u001b[0m\u001b[0mforward\u001b[0m\u001b[0;34m(\u001b[0m\u001b[0;34m*\u001b[0m\u001b[0minput\u001b[0m\u001b[0;34m,\u001b[0m \u001b[0;34m**\u001b[0m\u001b[0mkwargs\u001b[0m\u001b[0;34m)\u001b[0m\u001b[0;34m\u001b[0m\u001b[0;34m\u001b[0m\u001b[0m\n\u001b[0m\u001b[1;32m    728\u001b[0m         for hook in itertools.chain(\n\u001b[1;32m    729\u001b[0m                 \u001b[0m_global_forward_hooks\u001b[0m\u001b[0;34m.\u001b[0m\u001b[0mvalues\u001b[0m\u001b[0;34m(\u001b[0m\u001b[0;34m)\u001b[0m\u001b[0;34m,\u001b[0m\u001b[0;34m\u001b[0m\u001b[0;34m\u001b[0m\u001b[0m\n",
            "\u001b[0;32m/content/FLIM-dev/flim/models/lcn/_special_conv_layer.py\u001b[0m in \u001b[0;36mforward\u001b[0;34m(self, x)\u001b[0m\n\u001b[1;32m    448\u001b[0m         \"\"\"\n\u001b[1;32m    449\u001b[0m         self._logger.debug(\n\u001b[0;32m--> 450\u001b[0;31m             \"forwarding in special conv layer. Input shape %i\", x.size())\n\u001b[0m\u001b[1;32m    451\u001b[0m         \u001b[0mx\u001b[0m \u001b[0;34m=\u001b[0m \u001b[0;34m(\u001b[0m\u001b[0mx\u001b[0m \u001b[0;34m-\u001b[0m \u001b[0mself\u001b[0m\u001b[0;34m.\u001b[0m\u001b[0mmean_by_channel\u001b[0m\u001b[0;34m)\u001b[0m\u001b[0;34m/\u001b[0m\u001b[0;34m(\u001b[0m\u001b[0mself\u001b[0m\u001b[0;34m.\u001b[0m\u001b[0mstd_by_channel\u001b[0m \u001b[0;34m+\u001b[0m \u001b[0;36m0.00001\u001b[0m\u001b[0;34m)\u001b[0m\u001b[0;34m\u001b[0m\u001b[0;34m\u001b[0m\u001b[0m\n\u001b[1;32m    452\u001b[0m \u001b[0;34m\u001b[0m\u001b[0m\n",
            "\u001b[0;31mTypeError\u001b[0m: 'int' object is not callable"
          ]
        },
        {
          "output_type": "stream",
          "text": [
            "time: 30.7 ms (started: 2021-01-08 15:04:33 +00:00)\n"
          ],
          "name": "stdout"
        }
      ]
    },
    {
      "cell_type": "code",
      "metadata": {
        "colab": {
          "base_uri": "https://localhost:8080/"
        },
        "id": "w3eNtiFCmG9T",
        "outputId": "23e0b291-7870-4b61-dedf-22ddd12b714d"
      },
      "source": [
        "nnn = lcnmodel.get_LIDSConvNet()"
      ],
      "execution_count": 34,
      "outputs": [
        {
          "output_type": "stream",
          "text": [
            "time: 1.09 ms (started: 2021-01-07 16:14:07 +00:00)\n"
          ],
          "name": "stdout"
        }
      ]
    },
    {
      "cell_type": "code",
      "metadata": {
        "colab": {
          "base_uri": "https://localhost:8080/"
        },
        "id": "q1fM55PaoRzv",
        "outputId": "fccfa160-afdf-4c76-f803-13d2ba2bb4d8"
      },
      "source": [
        "model.__dict__"
      ],
      "execution_count": 26,
      "outputs": [
        {
          "output_type": "execute_result",
          "data": {
            "text/plain": [
              "{'_backward_hooks': OrderedDict(),\n",
              " '_buffers': OrderedDict(),\n",
              " '_forward_hooks': OrderedDict(),\n",
              " '_forward_pre_hooks': OrderedDict(),\n",
              " '_load_state_dict_pre_hooks': OrderedDict(),\n",
              " '_logger': <RootLogger root (WARNING)>,\n",
              " '_modules': OrderedDict([('feature_extractor', Sequential(\n",
              "                 (conv1): SpecialConvLayer(\n",
              "                   (conv): Conv2d(3, 176, kernel_size=(5, 5), stride=(1, 1), padding=(2, 2), bias=False)\n",
              "                   (activation): ReLU(inplace=True)\n",
              "                   (pool): MaxPool2d(kernel_size=3, stride=4, padding=0, dilation=1, ceil_mode=False)\n",
              "                 )\n",
              "               )), ('classifier', Sequential())]),\n",
              " '_non_persistent_buffers_set': set(),\n",
              " '_parameters': OrderedDict(),\n",
              " '_remove_border': 0,\n",
              " '_state_dict_hooks': OrderedDict(),\n",
              " 'training': True}"
            ]
          },
          "metadata": {
            "tags": []
          },
          "execution_count": 26
        },
        {
          "output_type": "stream",
          "text": [
            "time: 3.75 ms (started: 2021-01-08 15:03:48 +00:00)\n"
          ],
          "name": "stdout"
        }
      ]
    }
  ]
}