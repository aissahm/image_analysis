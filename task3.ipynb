{
  "nbformat": 4,
  "nbformat_minor": 0,
  "metadata": {
    "colab": {
      "name": "task3.ipynb",
      "provenance": [],
      "collapsed_sections": [
        "vWazAVEu_ncp",
        "qoURqel3YsZr",
        "Ky5pc75mY1Wr",
        "YLZWtE3X_7zI",
        "rdvcDuw5EvaX",
        "lgHPpHmJGTcm"
      ],
      "authorship_tag": "ABX9TyNeqMvYApd7mQmkvnjU01n4",
      "include_colab_link": true
    },
    "kernelspec": {
      "name": "python3",
      "display_name": "Python 3"
    }
  },
  "cells": [
    {
      "cell_type": "markdown",
      "metadata": {
        "id": "view-in-github",
        "colab_type": "text"
      },
      "source": [
        "<a href=\"https://colab.research.google.com/github/aissahm/image_analysis/blob/main/task3.ipynb\" target=\"_parent\"><img src=\"https://colab.research.google.com/assets/colab-badge.svg\" alt=\"Open In Colab\"/></a>"
      ]
    },
    {
      "cell_type": "markdown",
      "metadata": {
        "id": "qSymrW4A_P_6"
      },
      "source": [
        "# **Task 3**"
      ]
    },
    {
      "cell_type": "code",
      "metadata": {
        "id": "XkcZApPy_J9O"
      },
      "source": [
        "import numpy as np\n",
        "import cv2\n",
        "from skimage import segmentation\n",
        "from skimage.segmentation import mark_boundaries\n",
        "import matplotlib.pyplot as plt\n",
        "import os\n",
        "import pandas as pd\n",
        "import torch\n",
        "\n",
        "!pip install ipython-autotime\n",
        "%load_ext autotime"
      ],
      "execution_count": null,
      "outputs": []
    },
    {
      "cell_type": "markdown",
      "metadata": {
        "id": "vWazAVEu_ncp"
      },
      "source": [
        "## **Introduction**"
      ]
    },
    {
      "cell_type": "code",
      "metadata": {
        "colab": {
          "base_uri": "https://localhost:8080/"
        },
        "id": "VPvzBpO2_pWK",
        "outputId": "fab9bd37-560a-40df-ee2d-a36098935a4b"
      },
      "source": [
        "#returns mask for correspoinding image\n",
        "def returnMaskPathFromImagePath(imagePath):\n",
        "  imagePath = imagePath.replace(\" \", \"\")\n",
        "  return imagePath.replace(\"orig\", \"mask\") \n",
        "\n",
        "#given a text file containing the name of training images return pathfile of respective masks\n",
        "def returnMaskImagesPathArray(trainTextPath):\n",
        "  mask_images_path_array = []\n",
        "  train_images_array = []\n",
        "  with open(trainTextPath, 'r') as file:\n",
        "      data = file.read().replace('\\n', ';')\n",
        "      train_images_array = data.split(\";\")\n",
        "  for train_image_str in train_images_array:\n",
        "    mask_image_str = train_image_str.replace(\"./plates/orig\", \"/content/plates/mask\")\n",
        "    if len(mask_image_str) > 0:\n",
        "      mask_images_path_array.append(mask_image_str)\n",
        "\n",
        "  return mask_images_path_array\n",
        "\n",
        "#return the subimage of interest\n",
        "def returnSubimageWith(width, height, xcenter, ycenter, maskImg):\n",
        "  xstart = xcenter - width//2\n",
        "  xend = xcenter + width//2\n",
        "  ystart = ycenter - height//2\n",
        "  yend = ycenter + height//2\n",
        "  return maskImg[ystart:yend+1,xstart: xend+1,:]\n",
        "\n",
        "#returns the number of pixels representing the plate in the mask\n",
        "def returnPlateNumberPixelsFromMask(maskImg):\n",
        "  #maskImg = cv2.imread(maskPath)\n",
        "  return maskImg.sum()/(3*255)\n",
        "\n",
        "#given width x height, and center coordinates of subimage, returns number of plate pixels contained in subimage\n",
        "def returnPlateNumberPixelsCovBySubimage(width, height, xcenter, ycenter, maskImg):\n",
        "  xstart = xcenter - width//2\n",
        "  if xstart < 0:\n",
        "    xstart = 0\n",
        "  xend = xcenter + width//2\n",
        "  ystart = ycenter - height//2\n",
        "  if ystart < 0:\n",
        "    ystart = 0\n",
        "  yend = ycenter + height//2\n",
        "  subImg = maskImg[ystart:yend+1,xstart: xend+1,:]\n",
        "\n",
        "  return subImg.sum()/(3*255)"
      ],
      "execution_count": 2,
      "outputs": [
        {
          "output_type": "stream",
          "text": [
            "time: 28.2 ms (started: 2021-01-12 20:08:55 +00:00)\n"
          ],
          "name": "stdout"
        }
      ]
    },
    {
      "cell_type": "markdown",
      "metadata": {
        "id": "qoURqel3YsZr"
      },
      "source": [
        "## **Converting original images from Grayscale to YCbCR**"
      ]
    },
    {
      "cell_type": "code",
      "metadata": {
        "colab": {
          "base_uri": "https://localhost:8080/"
        },
        "id": "LZzZRtlA_vHg",
        "outputId": "7e88fbbe-d1f5-4ffc-e23d-02b380459093"
      },
      "source": [
        "#function that saves an image\n",
        "def saveImage(image, imagefullpath):\n",
        "  cv2.imwrite(imagefullpath, image)\n",
        "\n",
        "#Mapping from grayscale pixel to RGB using color table\n",
        "def fromGrayscaleToRGBMapping(pixel, H):\n",
        "  V = pixel / H\n",
        "  V = (6 - 2) * V + 1\n",
        "  r_p = H * max(0, (3- abs(V-4) - abs(V-5))/2 )\n",
        "  g_p = H * max(0, (4- abs(V-2) - abs(V-4))/2 )\n",
        "  b_p = H * max(0, (3- abs(V-1) - abs(V-2))/2 )\n",
        "  return [r_p, g_p, b_p]\n",
        "\n",
        "#Transform the grayscale image with one channel into an RGB image with 3 channels\n",
        "def fromGrayscaleToRGB(grayscaleimage, bits):\n",
        "  if len(grayscaleimage.shape) !=2:\n",
        "    print (\"Error: image is not a grayscale image\")\n",
        "    return 0\n",
        "  \n",
        "  H = 2**bits -1\n",
        "\n",
        "  #we initiate an rgb image with 3 channels with same dimensions as grayscale image\n",
        "  rgbimage = np.zeros((grayscaleimage.shape[0], grayscaleimage.shape[1], 3))\n",
        "  i = 0\n",
        "  while i < grayscaleimage.shape[0]:\n",
        "    j = 0\n",
        "    while j < grayscaleimage.shape[1]:\n",
        "      r_p, g_p, b_p = fromGrayscaleToRGBMapping(grayscaleimage[i][j], H)\n",
        "      rgbimage[i][j][0] = r_p\n",
        "      rgbimage[i][j][1] = g_p\n",
        "      rgbimage[i][j][2] = b_p\n",
        "      \n",
        "      j +=1\n",
        "    i +=1\n",
        "  \n",
        "  return rgbimage\n",
        "\n",
        "#Transform an RGB image with 3 channels into a YCbCr image with 3 channels\n",
        "def fromRGBToYCbCr(rgbimage, bits):\n",
        "  conversionMatrix = np.array([[0.299, 0.587, 0.144], [-0.169, -0.331, 0.500], [0.500, -0.419, -0.081]])\n",
        "  bias = np.array([0, 2**(bits - 1), 2**(bits -1)])\n",
        "  YCbCrimage = np.zeros((rgbimage.shape[0], rgbimage.shape[1], rgbimage.shape[2]))\n",
        "\n",
        "  i = 0\n",
        "  while i < rgbimage.shape[0]:\n",
        "    j = 0\n",
        "    while j < rgbimage.shape[1]:\n",
        "      YCbCrimage[i][j] = conversionMatrix @ rgbimage[i][j] + bias\n",
        "      j += 1\n",
        "    i += 1\n",
        "\n",
        "  return YCbCrimage\n",
        "\n",
        "#Main function that converts a grayscale image with 1 channel to a YCbCr image with 3 channels\n",
        "def fromGrayscaleToYCbCr(image, bits):\n",
        "  rgbimage = fromGrayscaleToRGB(image, bits)\n",
        "  if len(rgbimage.shape) < 3:\n",
        "    return 0\n",
        "  return fromRGBToYCbCr(rgbimage, bits)"
      ],
      "execution_count": 3,
      "outputs": [
        {
          "output_type": "stream",
          "text": [
            "time: 52.6 ms (started: 2021-01-12 20:08:55 +00:00)\n"
          ],
          "name": "stdout"
        }
      ]
    },
    {
      "cell_type": "markdown",
      "metadata": {
        "id": "xDMGT6LE_zLR"
      },
      "source": [
        "**We create the YCbCr images**"
      ]
    },
    {
      "cell_type": "code",
      "metadata": {
        "colab": {
          "base_uri": "https://localhost:8080/"
        },
        "id": "WIHJps7Q_yfD",
        "outputId": "4f9d845c-1f01-434b-ed16-c844923145a4"
      },
      "source": [
        "directory = '/content/plates/'\n",
        "\n",
        "#creating the folder that will contain the YCbCr images\n",
        "os.mkdir(\"ycbcrplates\")\n",
        "\n",
        "ycbcrdirectory = \"/content/ycbcrplates/\"\n",
        "\n",
        "i = 0 \n",
        "for filename in os.listdir(directory):\n",
        "  if \"orig\" in filename:\n",
        "    grayscaleimg = cv2.imread(directory + filename, cv2.IMREAD_GRAYSCALE)\n",
        "    ycbcrimg = fromGrayscaleToYCbCr(grayscaleimg, 8)\n",
        "    ycbcrimg = ycbcrimg.astype('uint8')\n",
        "\n",
        "    ycbcrimagepath = ycbcrdirectory + filename\n",
        "    cv2.imwrite(ycbcrimagepath, ycbcrimg)\n",
        "    i += 1\n",
        "\n",
        "print(\"Done,\", i, \" images from 'plates/' converted to YCbCr.\")"
      ],
      "execution_count": 4,
      "outputs": [
        {
          "output_type": "stream",
          "text": [
            "Done, 200  images from 'plates/' converted to YCbCr.\n",
            "time: 4min 36s (started: 2021-01-12 20:09:30 +00:00)\n"
          ],
          "name": "stdout"
        }
      ]
    },
    {
      "cell_type": "markdown",
      "metadata": {
        "id": "Ky5pc75mY1Wr"
      },
      "source": [
        "## **Converting Images from Grayscale to LAB**"
      ]
    },
    {
      "cell_type": "code",
      "metadata": {
        "id": "1YnYsZSYY6Oz",
        "colab": {
          "base_uri": "https://localhost:8080/"
        },
        "outputId": "3cc6e8a9-b447-4441-cd9e-903567f9ef59"
      },
      "source": [
        "#Main function that converts a grayscale image with 1 channel to a YCbCr image with 3 channels\n",
        "def fromGrayscaleToLAB(image, bits):\n",
        "  rgbimage = fromGrayscaleToRGB(image, bits)\n",
        "  if len(rgbimage.shape) < 3:\n",
        "    return 0\n",
        "  rgbimage_float32 = np.float32(rgbimage)\n",
        "  return cv2.cvtColor(rgbimage_float32, cv2.COLOR_RGB2LAB)"
      ],
      "execution_count": 5,
      "outputs": [
        {
          "output_type": "stream",
          "text": [
            "time: 3.66 ms (started: 2021-01-12 20:14:07 +00:00)\n"
          ],
          "name": "stdout"
        }
      ]
    },
    {
      "cell_type": "code",
      "metadata": {
        "colab": {
          "base_uri": "https://localhost:8080/",
          "height": 303
        },
        "id": "TvNCNCLxfoi_",
        "outputId": "bbd8de30-bb9d-4500-d2da-1fe8bf18d664"
      },
      "source": [
        "grayscaleimg = cv2.imread('/content/plates/orig_0029.png', cv2.IMREAD_GRAYSCALE)\n",
        "labimg = fromGrayscaleToLAB(grayscaleimg, 8)\n",
        "plt.imshow(labimg)\n",
        "plt.show()"
      ],
      "execution_count": 12,
      "outputs": [
        {
          "output_type": "stream",
          "text": [
            "Clipping input data to the valid range for imshow with RGB data ([0..1] for floats or [0..255] for integers).\n"
          ],
          "name": "stderr"
        },
        {
          "output_type": "display_data",
          "data": {
            "image/png": "[encoded data removed]",
            "text/plain": [
              "<Figure size 432x288 with 1 Axes>"
            ]
          },
          "metadata": {
            "tags": [],
            "needs_background": "light"
          }
        },
        {
          "output_type": "stream",
          "text": [
            "time: 1.48 s (started: 2021-01-12 12:16:28 +00:00)\n"
          ],
          "name": "stdout"
        }
      ]
    },
    {
      "cell_type": "code",
      "metadata": {
        "colab": {
          "base_uri": "https://localhost:8080/"
        },
        "id": "V1RLPP4xfNxl",
        "outputId": "b0bd3073-033c-4f21-ec61-077dfd353447"
      },
      "source": [
        "#creating the folder that will contain the YCbCr images\n",
        "os.mkdir(\"labplates\")\n",
        "\n",
        "labdirectory = \"/content/labplates/\"\n",
        "\n",
        "i = 0 \n",
        "for filename in os.listdir(directory):\n",
        "  if \"orig\" in filename:\n",
        "    grayscaleimg = cv2.imread(directory + filename, cv2.IMREAD_GRAYSCALE)\n",
        "    labimg = fromGrayscaleToLAB(grayscaleimg, 8)\n",
        "    labimagepath = labdirectory + filename\n",
        "    cv2.imwrite(labimagepath, labimg)\n",
        "    i += 1\n",
        "\n",
        "print(\"Done,\", i, \" images from 'plates/' converted to L*A*B.\")"
      ],
      "execution_count": 6,
      "outputs": [
        {
          "output_type": "stream",
          "text": [
            "Done, 200  images from 'plates/' converted to L*A*B.\n",
            "time: 3min 21s (started: 2021-01-12 20:14:07 +00:00)\n"
          ],
          "name": "stdout"
        }
      ]
    },
    {
      "cell_type": "markdown",
      "metadata": {
        "id": "YLZWtE3X_7zI"
      },
      "source": [
        "## **Super-pixel segmentation**"
      ]
    },
    {
      "cell_type": "code",
      "metadata": {
        "colab": {
          "base_uri": "https://localhost:8080/"
        },
        "id": "RNHwy_0S__e9",
        "outputId": "fa692dd6-95b1-4f27-a3de-26f5f4b8f8ce"
      },
      "source": [
        "#returns the Geo center of each super pixel contained in an image\n",
        "def returnSuperPixelsGeometricCenters(labelimage):\n",
        "  width = labelimage.shape[1]\n",
        "  height = labelimage.shape[0]\n",
        "  nSuperPixels = np.max(labelimage) + 1\n",
        "  plabelCoordinates = np.zeros(nSuperPixels)\n",
        "\n",
        "  xCoordinates = np.zeros(nSuperPixels)\n",
        "  yCoordinates = np.zeros(nSuperPixels)\n",
        "  nElements = np.zeros(nSuperPixels)\n",
        "\n",
        "  i = 0\n",
        "  while i < height:\n",
        "    j = 0\n",
        "    while j < width:\n",
        "      plabel = labelimage[i][j]\n",
        "      xSum = xCoordinates[plabel]\n",
        "      ySum = yCoordinates[plabel]\n",
        "      nLabelElements = nElements[plabel]\n",
        "\n",
        "      xCoordinates[plabel] = xSum + j\n",
        "      yCoordinates[plabel] = ySum + i\n",
        "      nElements[plabel] = nLabelElements + 1  \n",
        "      j += 1\n",
        "    i += 1\n",
        "  \n",
        "  geocenters = []\n",
        "  \n",
        "  plabel = 0\n",
        "  while plabel < nSuperPixels :\n",
        "    xCenter = xCoordinates[plabel] / nElements[plabel]\n",
        "    yCenter = yCoordinates[plabel] / nElements[plabel]\n",
        "    geocenters.append([int(xCenter), int(yCenter)])\n",
        "    plabel += 1\n",
        "  \n",
        "  return geocenters\n",
        "\n",
        "#Perform Superpixel segmentation\n",
        "def returnLabelsWithSuperPixelSegmentation(imagepath, numberSuperpixels):\n",
        "  originalimage = cv2.imread(imagepath)\n",
        "  return segmentation.slic(originalimage, n_segments=numberSuperpixels)"
      ],
      "execution_count": 7,
      "outputs": [
        {
          "output_type": "stream",
          "text": [
            "time: 23.1 ms (started: 2021-01-12 20:17:28 +00:00)\n"
          ],
          "name": "stdout"
        }
      ]
    },
    {
      "cell_type": "code",
      "metadata": {
        "colab": {
          "base_uri": "https://localhost:8080/"
        },
        "id": "cUaYVR-YAH9B",
        "outputId": "15583e3f-1ca0-447e-b6ee-e822ea1806e4"
      },
      "source": [
        "#Function that loops through the superpixels number until a plate in subimage is found \n",
        "#With threshold \n",
        "def returnMinimumSuperpixelsFor(imagepath, numberSuperpixels, width, height, threshold):\n",
        "  \n",
        "  subimageWithPlateFound = False\n",
        "\n",
        "  maskPath = returnMaskPathFromImagePath(imagepath)\n",
        "  \n",
        "  maskImage = cv2.imread(maskPath)\n",
        "  \n",
        "  nPlatePixelOriginalMask = returnPlateNumberPixelsFromMask(maskImage)\n",
        "  \n",
        "  while subimageWithPlateFound == False:\n",
        "    \n",
        "    labels = returnLabelsWithSuperPixelSegmentation(imagepath, numberSuperpixels)\n",
        "    labelsGeocenters = returnSuperPixelsGeometricCenters(labels)\n",
        "\n",
        "    for labelGeocenter in labelsGeocenters:\n",
        "      xCenter = labelGeocenter[0]\n",
        "      yCenter = labelGeocenter[1]\n",
        "      nPlatePixelsSubimage = returnPlateNumberPixelsCovBySubimage(width, height, xCenter, yCenter, maskImage)\n",
        "      \n",
        "      if nPlatePixelsSubimage / nPlatePixelOriginalMask >= threshold:\n",
        "        subimageWithPlateFound = True\n",
        "        break\n",
        "\n",
        "    if subimageWithPlateFound == False:\n",
        "      numberSuperpixels += 1\n",
        "      \n",
        "    #stopping algorithm if number of superpixels is too high\n",
        "    #then width, height aren't adequate\n",
        "    if numberSuperpixels > 100 and subimageWithPlateFound == False:\n",
        "      numberSuperpixels = -1\n",
        "      break\n",
        "\n",
        "  return numberSuperpixels "
      ],
      "execution_count": 8,
      "outputs": [
        {
          "output_type": "stream",
          "text": [
            "time: 17 ms (started: 2021-01-12 20:17:28 +00:00)\n"
          ],
          "name": "stdout"
        }
      ]
    },
    {
      "cell_type": "markdown",
      "metadata": {
        "id": "AH_gNdodAQCK"
      },
      "source": [
        "In this task 3, we reduce the number of plates pixels required to classify a subimage as class 1 \"plate/foreground\". In the previous tasks (1 and 3), we chose a threshold of 90%. In this task, we set the thresold to 50%. That means that every patch that contains just 50% of the plate pixels inside the patch is classified as a \"plate/foreground\". \n",
        "\n",
        "Note: We will have to take that into account when comparing the results with the classifiers we built in the previous tasks."
      ]
    },
    {
      "cell_type": "code",
      "metadata": {
        "colab": {
          "base_uri": "https://localhost:8080/"
        },
        "id": "B79F4krMAuQO",
        "outputId": "b79d1102-9dfa-411d-dde1-7e021cea1abc"
      },
      "source": [
        "w = 100 #175 #163\n",
        "h = 60 #81 #79\n",
        "thresholdV = 0.5"
      ],
      "execution_count": 9,
      "outputs": [
        {
          "output_type": "stream",
          "text": [
            "time: 1.35 ms (started: 2021-01-12 20:17:28 +00:00)\n"
          ],
          "name": "stdout"
        }
      ]
    },
    {
      "cell_type": "code",
      "metadata": {
        "id": "GueLKinvA1Pj"
      },
      "source": [
        "superpixelsStart = 48\n",
        "\n",
        "platesFolderPath = \"/content/plates/\"\n",
        "\n",
        "f = open(\"train1.txt\", \"r\")\n",
        "for imgpath in f:\n",
        "  imgpath = imgpath.replace(\"./plates/\", \"\")\n",
        "  imgpath = imgpath.replace(\" \", \"\")\n",
        "  imgpath = platesFolderPath + imgpath\n",
        "  \n",
        "  if len(imgpath) > 5 and superpixelsStart > 0:\n",
        "    superpixelsStart = returnMinimumSuperpixelsFor(imgpath.strip(), superpixelsStart, w, h, thresholdV)\n",
        "    print(imgpath, \": \", superpixelsStart)"
      ],
      "execution_count": null,
      "outputs": []
    },
    {
      "cell_type": "markdown",
      "metadata": {
        "id": "9hkD4huoEOjB"
      },
      "source": [
        "**Conclusion:**\n",
        "\n",
        "Since the treshold is very low, we decided to reduce drastically the size of the patches from the previous tasks. This will decrease dramatically the computations required to process the images too. \n",
        "\n",
        "With trials, we found that, with a patch size of 100x60, we require 48 superpixels in order to get at least one patch classified as \"plate/foreground\" for each image in the three training sets. \n",
        "\n",
        "Those parameters will be used in the next steps."
      ]
    },
    {
      "cell_type": "markdown",
      "metadata": {
        "id": "rdvcDuw5EvaX"
      },
      "source": [
        "## **Creating the subimages with chosen number of superpixels**"
      ]
    },
    {
      "cell_type": "markdown",
      "metadata": {
        "id": "Ri6zkDZVFJBb"
      },
      "source": [
        "For the task, we use only the training set 1. We evaluate the classifier and compare it to the classifiers built in the previous tasks. \n",
        "\n",
        "After that, we select which classifier is the best according to the percentage of plate pixels activated and the percentage of pixels outside the plate deactivated. The higher the scores of the two metrics, the better the model."
      ]
    },
    {
      "cell_type": "code",
      "metadata": {
        "colab": {
          "base_uri": "https://localhost:8080/"
        },
        "id": "VVOq1MtTE8lr",
        "outputId": "fa8b0a86-1426-491e-a4d3-d3a02577ea7f"
      },
      "source": [
        "def returnSubimageWIth(width, height, xcenter, ycenter, originalimage):\n",
        "  xstart = xcenter - width//2\n",
        "  ystart = ycenter - height//2\n",
        "  xend = xcenter + width//2\n",
        "  yend = ycenter + height//2\n",
        "\n",
        "  if xstart < 0 or ystart < 0:\n",
        "    print(\"xcoord or ycoor negative, xstart =\",  xstart, \", ystart = \", ystart)\n",
        "  \n",
        "  return originalimage[ystart:yend+1,xstart: xend+1,:]\n",
        "\n",
        "#verifiy the subimage fits inside the original image\n",
        "def returnCenterCoordinatesSubimageInsideOrigImage(width, height, xcenter, ycenter, W, H):\n",
        "  if xcenter < width // 2:\n",
        "    xcenter = width // 2\n",
        "    \n",
        "  if xcenter >= W - width//2:\n",
        "    xcenter = W - width//2 - 1\n",
        "\n",
        "  if ycenter < height //2:\n",
        "    ycenter = height //2\n",
        "  \n",
        "  if ycenter >= H - height//2:\n",
        "    ycenter = H - height//2 - 1\n",
        "  \n",
        "  return [xcenter, ycenter]\n",
        "\n",
        "#giving a name for the subimage\n",
        "def returnSubimageFilename(width, height, xcenter, ycenter, subimageclass, imagepath):\n",
        "  subimagefilename = imagepath.replace(\".png\", \"\")\n",
        "  subimagefilename = subimagefilename + \"_\" + str(xcenter) + \"_\" + str(ycenter) + \"_\" + str(width) + \"_\" + str(height) + \"_\" + str (subimageclass) + \".png\"\n",
        "  return subimagefilename\n",
        "\n",
        "#returns the subimage characteristics from its name\n",
        "def returnSubimageDimensionsCenterCoordinates(imagename):\n",
        "  imagename = imagename.replace(\".png\", \"\")\n",
        "  elementsArray = imagename.split(\"_\")\n",
        "  imageID = elementsArray[1]\n",
        "  width = int(elementsArray[4])\n",
        "  height = int(elementsArray[5])\n",
        "  xcenter = int(elementsArray[2])\n",
        "  ycenter = int(elementsArray[3])\n",
        "  imageclass = int(elementsArray[6])\n",
        "  return [imageID, width, height, xcenter, ycenter, imageclass]\n",
        "\n",
        "#returns the class of the subimage depending on the percentage \n",
        "#of pixel plates it contains from the original image\n",
        "def returnSubimageClassWith(nPlatePixelsSubimage, nPlatePixelOriginalMask, platePixelsThreshold):\n",
        "  if nPlatePixelsSubimage / nPlatePixelOriginalMask >= platePixelsThreshold:\n",
        "    return 1\n",
        "  return 0\n",
        "\n",
        "#creates the subimages with a given number of superpixels\n",
        "def createSubimagesWithSuperPixelsSegmentation(originalImageFolder, otherformatImageFolder, imagename, subImageFolder, numberSuperpixels, width, height, platePixelsThreshold):\n",
        "  imagepath = originalImageFolder + imagename\n",
        "  otherformatimagepath = otherformatImageFolder + imagename\n",
        "  label = returnLabelsWithSuperPixelSegmentation(imagepath, numberSuperpixels)\n",
        "  labelsGeocenters = returnSuperPixelsGeometricCenters(label)\n",
        "  \n",
        "  maskPath = returnMaskPathFromImagePath(imagepath)\n",
        "  maskImage = cv2.imread(maskPath)\n",
        "  nPlatePixelOriginalMask = returnPlateNumberPixelsFromMask(maskImage)\n",
        "  otherformatOriginalImage = cv2.imread(otherformatimagepath)\n",
        "\n",
        "  nSubimagesCreated = 0\n",
        "\n",
        "  W = maskImage.shape[1]\n",
        "  H = maskImage.shape[0]\n",
        "\n",
        "  subimageWithClass1 = False\n",
        "\n",
        "  for labelGeocenter in labelsGeocenters:\n",
        "    xcenter = labelGeocenter[0]\n",
        "    ycenter = labelGeocenter[1]\n",
        "\n",
        "    #we recenter the subimage if needed to fit intside the original image\n",
        "    #we do that because we need to perform batch norm and we need all subimages with same dimensions\n",
        "    xcenter, ycenter = returnCenterCoordinatesSubimageInsideOrigImage(width, height, xcenter, ycenter, W, H)\n",
        "    nPlatePixelsSubimage = returnPlateNumberPixelsCovBySubimage(width, height, xcenter, ycenter, maskImage)\n",
        "    \n",
        "    #getting the class of the subimage according to the threshold of plate pixels inside it\n",
        "    subimageclass = returnSubimageClassWith(nPlatePixelsSubimage, nPlatePixelOriginalMask, platePixelsThreshold)\n",
        "    \n",
        "    subimage = returnSubimageWIth(width, height, xcenter, ycenter, otherformatOriginalImage)\n",
        "    subimagefilename = returnSubimageFilename(width, height, xcenter, ycenter, subimageclass, imagename)\n",
        "    #saving the subimage\n",
        "    cv2.imwrite(subImageFolder + subimagefilename, subimage)\n",
        "    nSubimagesCreated += 1\n",
        "\n",
        "    if subimageclass == 1:\n",
        "      subimageWithClass1 = True\n",
        "\n",
        "  #we verifiy we get at least one subimage containing enough plate pixels\n",
        "  if subimageWithClass1 == False:\n",
        "    print(\"No class 1 for \", imagename)\n",
        "\n",
        "  return nSubimagesCreated"
      ],
      "execution_count": 10,
      "outputs": [
        {
          "output_type": "stream",
          "text": [
            "time: 100 ms (started: 2021-01-12 20:17:28 +00:00)\n"
          ],
          "name": "stdout"
        }
      ]
    },
    {
      "cell_type": "markdown",
      "metadata": {
        "id": "BKS7g_i7jQMP"
      },
      "source": [
        "**Creating Patches from YCbCr images**"
      ]
    },
    {
      "cell_type": "code",
      "metadata": {
        "colab": {
          "base_uri": "https://localhost:8080/"
        },
        "id": "NPPbcfUnFmES",
        "outputId": "29209fa0-4835-4286-acd1-fd590aa5b9d5"
      },
      "source": [
        "number_superpixels = 48\n",
        "\n",
        "yCbCrPlatesFolder = \"/content/ycbcrplates/\"\n",
        "platesFolderPath = \"/content/plates/\"\n",
        "\n",
        "subimageFoldernameArray = [\"train1\"]\n",
        "traintextfilearray = [\"train1.txt\"]\n",
        "\n",
        "i = 0\n",
        "while i < len(traintextfilearray):\n",
        "  totalSubimagesCreated = 0 \n",
        "  f = open(traintextfilearray[i], \"r\")\n",
        "\n",
        "  os.mkdir(subimageFoldernameArray[i])\n",
        "\n",
        "  for imgname in f:\n",
        "    imgname = imgname.replace(\"./plates/\", \"\")\n",
        "    imgname = imgname.replace(\" \", \"\")\n",
        "\n",
        "    if len(imgname) > 5:\n",
        "      subimagesCreated = createSubimagesWithSuperPixelsSegmentation(platesFolderPath, yCbCrPlatesFolder, imgname.strip(), subimageFoldernameArray[i] + \"/\", number_superpixels, w, h, thresholdV)\n",
        "      totalSubimagesCreated += subimagesCreated \n",
        "\n",
        "  print()\n",
        "  print(traintextfilearray[i])\n",
        "  print(\"Number of subimages created :\", totalSubimagesCreated)\n",
        "  i += 1"
      ],
      "execution_count": 25,
      "outputs": [
        {
          "output_type": "stream",
          "text": [
            "\n",
            "train1.txt\n",
            "Number of subimages created : 3166\n",
            "time: 31.3 s (started: 2021-01-12 12:23:41 +00:00)\n"
          ],
          "name": "stdout"
        }
      ]
    },
    {
      "cell_type": "markdown",
      "metadata": {
        "id": "VeeAvbd7F80-"
      },
      "source": [
        "We create the subimages for the test set 1 also."
      ]
    },
    {
      "cell_type": "code",
      "metadata": {
        "colab": {
          "base_uri": "https://localhost:8080/"
        },
        "id": "MyqabyCrGAgi",
        "outputId": "56351d85-a3d7-4d46-da87-8903ad7f01f0"
      },
      "source": [
        "subimageFoldernameArray = [\"test1\"]\n",
        "traintextfilearray = [\"test1.txt\"]\n",
        "\n",
        "i = 0\n",
        "while i < len(traintextfilearray):\n",
        "  totalSubimagesCreated = 0 \n",
        "  f = open(traintextfilearray[i], \"r\")\n",
        "\n",
        "  os.mkdir(subimageFoldernameArray[i])\n",
        "\n",
        "  for imgname in f:\n",
        "    imgname = imgname.replace(\"./plates/\", \"\")\n",
        "    imgname = imgname.replace(\" \", \"\")\n",
        "\n",
        "    if len(imgname) > 5:\n",
        "      subimagesCreated = createSubimagesWithSuperPixelsSegmentation(platesFolderPath, yCbCrPlatesFolder, imgname.strip(), subimageFoldernameArray[i] + \"/\", number_superpixels, w, h, thresholdV)\n",
        "      totalSubimagesCreated += subimagesCreated \n",
        "\n",
        "  print()\n",
        "  print(traintextfilearray[i])\n",
        "  print(\"Number of subimages created :\", totalSubimagesCreated)\n",
        "  i += 1"
      ],
      "execution_count": 26,
      "outputs": [
        {
          "output_type": "stream",
          "text": [
            "\n",
            "test1.txt\n",
            "Number of subimages created : 3206\n",
            "time: 30.7 s (started: 2021-01-12 12:24:12 +00:00)\n"
          ],
          "name": "stdout"
        }
      ]
    },
    {
      "cell_type": "markdown",
      "metadata": {
        "id": "U4epap0SjYV6"
      },
      "source": [
        "**Creating patches from LAB images**"
      ]
    },
    {
      "cell_type": "code",
      "metadata": {
        "colab": {
          "base_uri": "https://localhost:8080/"
        },
        "id": "d8mGwKcJjcgf",
        "outputId": "10bd0f68-ed56-4920-e47f-89bc145f9d38"
      },
      "source": [
        "number_superpixels = 48\n",
        "\n",
        "labPlatesFolder = \"/content/labplates/\"\n",
        "platesFolderPath = \"/content/plates/\"\n",
        "\n",
        "subimageFoldernameArray = [\"lab_train1\"]\n",
        "traintextfilearray = [\"train1.txt\"]\n",
        "\n",
        "i = 0\n",
        "while i < len(traintextfilearray):\n",
        "  totalSubimagesCreated = 0 \n",
        "  f = open(traintextfilearray[i], \"r\")\n",
        "\n",
        "  os.mkdir(subimageFoldernameArray[i])\n",
        "\n",
        "  for imgname in f:\n",
        "    imgname = imgname.replace(\"./plates/\", \"\")\n",
        "    imgname = imgname.replace(\" \", \"\")\n",
        "\n",
        "    if len(imgname) > 5:\n",
        "      subimagesCreated = createSubimagesWithSuperPixelsSegmentation(platesFolderPath, labPlatesFolder, imgname.strip(), subimageFoldernameArray[i] + \"/\", number_superpixels, w, h, thresholdV)\n",
        "      totalSubimagesCreated += subimagesCreated \n",
        "\n",
        "  print()\n",
        "  print(traintextfilearray[i])\n",
        "  print(\"Number of subimages created :\", totalSubimagesCreated)\n",
        "  i += 1"
      ],
      "execution_count": 11,
      "outputs": [
        {
          "output_type": "stream",
          "text": [
            "\n",
            "train1.txt\n",
            "Number of subimages created : 3166\n",
            "time: 29 s (started: 2021-01-12 20:17:28 +00:00)\n"
          ],
          "name": "stdout"
        }
      ]
    },
    {
      "cell_type": "markdown",
      "metadata": {
        "id": "S81EdW3yGWrc"
      },
      "source": [
        "We created the patches from training set 1 images, and test set 1 images. We are ready for the next step."
      ]
    },
    {
      "cell_type": "markdown",
      "metadata": {
        "id": "TQwnp0FLXSpq"
      },
      "source": [
        "**Saving the patches**"
      ]
    },
    {
      "cell_type": "code",
      "metadata": {
        "id": "nEa309FOXRIP"
      },
      "source": [
        "!zip -r /content/train1patches.zip /content/train1"
      ],
      "execution_count": null,
      "outputs": []
    },
    {
      "cell_type": "code",
      "metadata": {
        "id": "dpcS2QmCXh93"
      },
      "source": [
        "!zip -r /content/test1patches.zip /content/test1"
      ],
      "execution_count": null,
      "outputs": []
    },
    {
      "cell_type": "markdown",
      "metadata": {
        "id": "lgHPpHmJGTcm"
      },
      "source": [
        "## **Marker selection**"
      ]
    },
    {
      "cell_type": "markdown",
      "metadata": {
        "id": "3qhG9_NwGdDv"
      },
      "source": [
        "We select randomly a patch from class \"plate/foreground\" that we will mark.\n",
        "\n",
        "We will conduct the following experiments:\n",
        "\n",
        "*   select one class 1 patch and mark it (we mark only the figures appearing on the plate)\n",
        "*   select one class 1 patch and mark it (we mark the border of the plate)\n",
        "*   select two class 1 patch and mark them according to the best results obtained from the previous two experiments\n",
        "*   select three class 1 patch and mark them according to the best results obtained from the previous two experiments\n",
        "\n",
        "Those experiments will allow us to determine how to best mark a class 1 patch, and see how many marked patches we need to achieve the best results from the classifier.\n",
        "\n",
        "\n"
      ]
    },
    {
      "cell_type": "markdown",
      "metadata": {
        "id": "5fFA_iZMUEaT"
      },
      "source": [
        "We create two folders that will contain the markers and the images used for markers."
      ]
    },
    {
      "cell_type": "code",
      "metadata": {
        "id": "ucz0iTk6T7Go"
      },
      "source": [
        "os.mkdir(\"imagesformarkers\")\n",
        "os.mkdir(\"imageslabels\")"
      ],
      "execution_count": null,
      "outputs": []
    },
    {
      "cell_type": "markdown",
      "metadata": {
        "id": "AKGrYQiwlBcQ"
      },
      "source": [
        "### **Using YCbCr patches**"
      ]
    },
    {
      "cell_type": "markdown",
      "metadata": {
        "id": "LKkQkidpGVY3"
      },
      "source": [
        "We use an image editor to mark the patches. The results obtained are the following:"
      ]
    },
    {
      "cell_type": "code",
      "metadata": {
        "colab": {
          "base_uri": "https://localhost:8080/",
          "height": 269
        },
        "id": "3ba4SCLZraZf",
        "outputId": "bc944be8-6546-46f5-f655-c38e6f7e46c4"
      },
      "source": [
        "img = cv2.imread(\"/content/train1/orig_0003_168_160_100_60_1.png\")\n",
        "plt.imshow(img)\n",
        "plt.show()"
      ],
      "execution_count": 139,
      "outputs": [
        {
          "output_type": "display_data",
          "data": {
            "image/png": "[encoded data removed]",
            "text/plain": [
              "<Figure size 432x288 with 1 Axes>"
            ]
          },
          "metadata": {
            "tags": [],
            "needs_background": "light"
          }
        },
        {
          "output_type": "stream",
          "text": [
            "time: 166 ms (started: 2021-01-09 21:45:13 +00:00)\n"
          ],
          "name": "stdout"
        }
      ]
    },
    {
      "cell_type": "code",
      "metadata": {
        "colab": {
          "base_uri": "https://localhost:8080/",
          "height": 286
        },
        "id": "xaqPLaCt-LWf",
        "outputId": "883e0468-c503-40a7-9f8e-2669506d9385"
      },
      "source": [
        "img = cv2.imread('/content/2markers.jpg',3) # reads image 'opencv-logo.png' as grayscale\n",
        "plt.imshow(img, cmap='gray')"
      ],
      "execution_count": 99,
      "outputs": [
        {
          "output_type": "execute_result",
          "data": {
            "text/plain": [
              "<matplotlib.image.AxesImage at 0x7f8071e2c278>"
            ]
          },
          "metadata": {
            "tags": []
          },
          "execution_count": 99
        },
        {
          "output_type": "display_data",
          "data": {
            "image/png": "[encoded data removed]",
            "text/plain": [
              "<Figure size 432x288 with 1 Axes>"
            ]
          },
          "metadata": {
            "tags": [],
            "needs_background": "light"
          }
        },
        {
          "output_type": "stream",
          "text": [
            "time: 180 ms (started: 2021-01-09 21:20:03 +00:00)\n"
          ],
          "name": "stdout"
        }
      ]
    },
    {
      "cell_type": "code",
      "metadata": {
        "colab": {
          "base_uri": "https://localhost:8080/"
        },
        "id": "Mhg2yx5W2bqx",
        "outputId": "e2f1828d-9f07-4136-da13-ee7d9542df04"
      },
      "source": [
        "#function that converts the image marker into a binary array\n",
        "def convertMarkerImageIntoBinaryArray(markerimage):\n",
        "  markerimage_width = markerimage.shape[1]\n",
        "  markerimage_height = markerimage.shape[0]\n",
        "  markerimagecopy = np.zeros( (markerimage.shape[0], markerimage.shape[1]))\n",
        "  i = 0\n",
        "  while i < markerimage_height:\n",
        "    j = 0\n",
        "    while j < markerimage_width:\n",
        "      if markerimage[i][j] < 10:\n",
        "        markerimagecopy[i][j] = 1\n",
        "      if markerimage[i][j] < 90 and markerimage[i][j] > 10:\n",
        "        markerimagecopy[i][j] = 2\n",
        "      if markerimage[i][j] > 90:\n",
        "        markerimagecopy[i][j] = 0\n",
        "      j += 1\n",
        "    i += 1\n",
        "\n",
        "  return markerimagecopy\n",
        "\n",
        "#function that converts the image marker into a binary array\n",
        "def convertMarkerImageIntoBinaryArrayTwo(markerimage):\n",
        "  markerimage[markerimage < 10] = 1\n",
        "  markerimage[markerimage > 10] = 0\n",
        "  return markerimage"
      ],
      "execution_count": 135,
      "outputs": [
        {
          "output_type": "stream",
          "text": [
            "time: 19.8 ms (started: 2021-01-09 21:44:30 +00:00)\n"
          ],
          "name": "stdout"
        }
      ]
    },
    {
      "cell_type": "code",
      "metadata": {
        "colab": {
          "base_uri": "https://localhost:8080/"
        },
        "id": "PZl4_MS4wi-P",
        "outputId": "1eb3d464-07e3-43b4-d585-e86f6ebec2dd"
      },
      "source": [
        "imgmarker = cv2.imread('/content/2markers2.jpg',0)\n",
        "imgmarker = convertMarkerImageIntoBinaryArray(imgmarker)"
      ],
      "execution_count": 173,
      "outputs": [
        {
          "output_type": "stream",
          "text": [
            "time: 47.2 ms (started: 2021-01-09 22:04:54 +00:00)\n"
          ],
          "name": "stdout"
        }
      ]
    },
    {
      "cell_type": "code",
      "metadata": {
        "colab": {
          "base_uri": "https://localhost:8080/",
          "height": 0
        },
        "id": "ccRdVPQMFjNc",
        "outputId": "a6354792-c985-4139-ea92-32c3c8763cf3"
      },
      "source": [
        "plt.imshow(imgmarker, cmap='gray')"
      ],
      "execution_count": 174,
      "outputs": [
        {
          "output_type": "execute_result",
          "data": {
            "text/plain": [
              "<matplotlib.image.AxesImage at 0x7f8070456198>"
            ]
          },
          "metadata": {
            "tags": []
          },
          "execution_count": 174
        },
        {
          "output_type": "display_data",
          "data": {
            "image/png": "[encoded data removed]",
            "text/plain": [
              "<Figure size 432x288 with 1 Axes>"
            ]
          },
          "metadata": {
            "tags": [],
            "needs_background": "light"
          }
        },
        {
          "output_type": "stream",
          "text": [
            "time: 188 ms (started: 2021-01-09 22:04:57 +00:00)\n"
          ],
          "name": "stdout"
        }
      ]
    },
    {
      "cell_type": "markdown",
      "metadata": {
        "id": "AAeyNdrDlLG6"
      },
      "source": [
        "### **Using LAB patches**"
      ]
    },
    {
      "cell_type": "code",
      "metadata": {
        "colab": {
          "base_uri": "https://localhost:8080/",
          "height": 269
        },
        "id": "9ObFqA0elUB2",
        "outputId": "d5eac52c-c3ab-4376-fc65-c95745095a43"
      },
      "source": [
        "img = cv2.imread(\"/content/orig_0017_228_145_100_60_1.png\")\n",
        "plt.imshow(img)\n",
        "plt.show()"
      ],
      "execution_count": 12,
      "outputs": [
        {
          "output_type": "display_data",
          "data": {
            "image/png": "[encoded data removed]",
            "text/plain": [
              "<Figure size 432x288 with 1 Axes>"
            ]
          },
          "metadata": {
            "tags": [],
            "needs_background": "light"
          }
        },
        {
          "output_type": "stream",
          "text": [
            "time: 183 ms (started: 2021-01-12 20:27:47 +00:00)\n"
          ],
          "name": "stdout"
        }
      ]
    },
    {
      "cell_type": "code",
      "metadata": {
        "colab": {
          "base_uri": "https://localhost:8080/",
          "height": 269
        },
        "id": "Ra1xIOkLmXI0",
        "outputId": "651426ec-1226-4a7b-ec9d-592a3e223580"
      },
      "source": [
        "labimgmarker = cv2.imread(\"/content/imageslabels/orig_0028_50_140_100_60_1_marked.jpg\", 0)\n",
        "plt.imshow(labimgmarker, cmap='gray')\n",
        "plt.show()"
      ],
      "execution_count": 69,
      "outputs": [
        {
          "output_type": "display_data",
          "data": {
            "image/png": "[encoded data removed]",
            "text/plain": [
              "<Figure size 432x288 with 1 Axes>"
            ]
          },
          "metadata": {
            "tags": [],
            "needs_background": "light"
          }
        },
        {
          "output_type": "stream",
          "text": [
            "time: 145 ms (started: 2021-01-12 20:51:05 +00:00)\n"
          ],
          "name": "stdout"
        }
      ]
    },
    {
      "cell_type": "code",
      "metadata": {
        "colab": {
          "base_uri": "https://localhost:8080/"
        },
        "id": "FHPLRpXDnvBD",
        "outputId": "d95e8473-04a1-42d5-b4dd-5bb5526289d9"
      },
      "source": [
        "labimgmarker[50:54, 55:59]"
      ],
      "execution_count": 14,
      "outputs": [
        {
          "output_type": "execute_result",
          "data": {
            "text/plain": [
              "array([[  0,   2,   0, 254],\n",
              "       [255, 251,   3,   0],\n",
              "       [255, 255, 253, 255],\n",
              "       [255, 252, 255, 255]], dtype=uint8)"
            ]
          },
          "metadata": {
            "tags": []
          },
          "execution_count": 14
        },
        {
          "output_type": "stream",
          "text": [
            "time: 4.58 ms (started: 2021-01-12 20:28:12 +00:00)\n"
          ],
          "name": "stdout"
        }
      ]
    },
    {
      "cell_type": "code",
      "metadata": {
        "colab": {
          "base_uri": "https://localhost:8080/"
        },
        "id": "ejueV1GMmqEC",
        "outputId": "51a2cb7c-c2b4-4b88-f778-af757e1f2834"
      },
      "source": [
        "labimgmarker[43:48, 84:92]"
      ],
      "execution_count": 15,
      "outputs": [
        {
          "output_type": "execute_result",
          "data": {
            "text/plain": [
              "array([[254,   2,   0,   2, 255, 255, 255, 255],\n",
              "       [  0,   2, 254, 255, 254, 255, 254, 254],\n",
              "       [  0, 255, 255, 255, 254, 255, 255, 255],\n",
              "       [255, 255, 253, 255, 255, 253, 255, 255],\n",
              "       [  0,   0,   1,   0,   0,   3,   0,   0]], dtype=uint8)"
            ]
          },
          "metadata": {
            "tags": []
          },
          "execution_count": 15
        },
        {
          "output_type": "stream",
          "text": [
            "time: 3.92 ms (started: 2021-01-12 20:28:16 +00:00)\n"
          ],
          "name": "stdout"
        }
      ]
    },
    {
      "cell_type": "code",
      "metadata": {
        "colab": {
          "base_uri": "https://localhost:8080/"
        },
        "id": "EUK6fMQNoAkC",
        "outputId": "107b5b54-ac8b-42e1-f26c-12bb07b76849"
      },
      "source": [
        "#function that converts the image marker into a binary array\n",
        "def convertMarkerImageIntoTwoClassArray(markerimage):\n",
        "  markerimage_width = markerimage.shape[1]\n",
        "  markerimage_height = markerimage.shape[0]\n",
        "  markerimagecopy = np.zeros( (markerimage.shape[0], markerimage.shape[1]))\n",
        "  i = 0\n",
        "  while i < markerimage_height:\n",
        "    j = 0\n",
        "    while j < markerimage_width:\n",
        "      if markerimage[i][j] < 10:\n",
        "        markerimagecopy[i][j] = 1\n",
        "      if markerimage[i][j] < 230 and markerimage[i][j] > 10:\n",
        "        markerimagecopy[i][j] = 2\n",
        "      if markerimage[i][j] > 240:\n",
        "        markerimagecopy[i][j] = 0\n",
        "      j += 1\n",
        "    i += 1\n",
        "\n",
        "  return markerimagecopy\n",
        "\n",
        "#function that converts the image marker into a binary array\n",
        "def convertMarkerImageIntoOneClassArray(markerimage):\n",
        "  markerimage[markerimage < 10] = 1\n",
        "  markerimage[markerimage > 10] = 0\n",
        "  return markerimage "
      ],
      "execution_count": 16,
      "outputs": [
        {
          "output_type": "stream",
          "text": [
            "time: 16.8 ms (started: 2021-01-12 20:28:21 +00:00)\n"
          ],
          "name": "stdout"
        }
      ]
    },
    {
      "cell_type": "code",
      "metadata": {
        "colab": {
          "base_uri": "https://localhost:8080/",
          "height": 286
        },
        "id": "0iMzeAzvobHi",
        "outputId": "a8ce670d-5518-4c7e-e9a4-b70bf85177f6"
      },
      "source": [
        "labimgmarker = convertMarkerImageIntoOneClassArray(labimgmarker)\n",
        "\n",
        "plt.imshow(labimgmarker, cmap='gray')"
      ],
      "execution_count": 17,
      "outputs": [
        {
          "output_type": "execute_result",
          "data": {
            "text/plain": [
              "<matplotlib.image.AxesImage at 0x7f2375c16d30>"
            ]
          },
          "metadata": {
            "tags": []
          },
          "execution_count": 17
        },
        {
          "output_type": "display_data",
          "data": {
            "image/png": "[encoded data removed]",
            "text/plain": [
              "<Figure size 432x288 with 1 Axes>"
            ]
          },
          "metadata": {
            "tags": [],
            "needs_background": "light"
          }
        },
        {
          "output_type": "stream",
          "text": [
            "time: 176 ms (started: 2021-01-12 20:28:26 +00:00)\n"
          ],
          "name": "stdout"
        }
      ]
    },
    {
      "cell_type": "markdown",
      "metadata": {
        "id": "FERNrFqqiihc"
      },
      "source": [
        "## **FLIM algorithm**"
      ]
    },
    {
      "cell_type": "markdown",
      "metadata": {
        "id": "1ez3Cu3Gj1fP"
      },
      "source": [
        "We need to get the zip file of FLIM algorithm from [FLIM repository on Github](https://github.com/LIDS-UNICAMP/FLIM)"
      ]
    },
    {
      "cell_type": "code",
      "metadata": {
        "id": "zBRhbiMGjH7u"
      },
      "source": [
        "!unzip \"/content/FLIM-master.zip\"\n",
        "\n",
        "!pip install \"/content/FLIM-master/\"\n",
        "\n",
        "!pip install -r \"/content/FLIM-master/requirements.txt\""
      ],
      "execution_count": null,
      "outputs": []
    },
    {
      "cell_type": "code",
      "metadata": {
        "id": "GwQUkCB3TF2O"
      },
      "source": [
        "!unzip \"/content/FLIM-dev.zip\"\n",
        "\n",
        "!pip install \"/content/FLIM-dev/\"\n",
        "\n",
        "!pip install -r \"/content/FLIM-dev/requirements.txt\""
      ],
      "execution_count": null,
      "outputs": []
    },
    {
      "cell_type": "code",
      "metadata": {
        "id": "-C4PItEG-yz6"
      },
      "source": [
        "#\"/content/FLIM-dev (1).zip\"\n",
        "\n",
        "#!unzip \"/content/FLIM-dev (1).zip\"\n",
        "\n",
        "!pip install \"/content/FLIM-dev/\"\n",
        "\n",
        "!pip install -r \"/content/FLIM-dev/requirements.txt\""
      ],
      "execution_count": null,
      "outputs": []
    },
    {
      "cell_type": "code",
      "metadata": {
        "colab": {
          "base_uri": "https://localhost:8080/"
        },
        "id": "2x1gz1OjjpHG",
        "outputId": "df22ddff-f3b5-4ecb-94ec-83bda9a2a38c"
      },
      "source": [
        "import sys\n",
        "# insert at 1, 0 is the script path (or '' in REPL)\n",
        "sys.path.insert(1, '/content/FLIM-dev')\n",
        "\n",
        "import flim as flim\n",
        "from flim import utils\n",
        "from flim.models import lcn"
      ],
      "execution_count": 226,
      "outputs": [
        {
          "output_type": "stream",
          "text": [
            "time: 3.2 ms (started: 2021-01-12 23:44:38 +00:00)\n"
          ],
          "name": "stdout"
        }
      ]
    },
    {
      "cell_type": "markdown",
      "metadata": {
        "id": "7LojIswnhmCl"
      },
      "source": [
        "**Structuring the inputs for FLIM algorithm**"
      ]
    },
    {
      "cell_type": "code",
      "metadata": {
        "colab": {
          "base_uri": "https://localhost:8080/"
        },
        "id": "OcYM_Ad2UUFh",
        "outputId": "6a9f5438-3f8b-4398-9764-e541c48de601"
      },
      "source": [
        "imagesformarkersdirectory = \"/content/imagesformarkers/\"\n",
        "patches_array = []\n",
        "i = 0 \n",
        "for filename in os.listdir(imagesformarkersdirectory):\n",
        "  if \"orig\" in filename:\n",
        "    formarkersimg = cv2.imread(imagesformarkersdirectory + filename)\n",
        "    patches_array.append(formarkersimg)\n",
        "    i += 1\n",
        "\n",
        "patches_array = np.array(patches_array)\n",
        "patches_array = np.array(patches_array.reshape(patches_array.shape[0], patches_array.shape[1], patches_array.shape[2], patches_array.shape[3]))\n",
        "\n",
        "print(\"Done,\", i, \" images in patch array for FLIM.\")\n",
        "\n",
        "imageslabelsdirectory = \"/content/imageslabels/\"\n",
        "markers_array = []\n",
        "i = 0 \n",
        "for filename in os.listdir(imageslabelsdirectory):\n",
        "  if \"orig\" in filename:\n",
        "    labelsimg = cv2.imread(imageslabelsdirectory + filename , 0)\n",
        "    labelsimg = convertMarkerImageIntoOneClassArray(labelsimg)\n",
        "    markers_array.append(labelsimg)\n",
        "    i += 1\n",
        "\n",
        "markers_array = np.array(markers_array)\n",
        "#markers_array = np.array(markers_array.reshape(markers_array.shape[0], markers_array.shape[1], markers_array.shape[2]))\n",
        "\n",
        "print(\"Done,\", i, \" images labels in labels array for FLIM.\")"
      ],
      "execution_count": 227,
      "outputs": [
        {
          "output_type": "stream",
          "text": [
            "Done, 3  images in patch array for FLIM.\n",
            "Done, 3  images labels in labels array for FLIM.\n",
            "time: 18.7 ms (started: 2021-01-12 23:44:45 +00:00)\n"
          ],
          "name": "stdout"
        }
      ]
    },
    {
      "cell_type": "code",
      "metadata": {
        "colab": {
          "base_uri": "https://localhost:8080/"
        },
        "id": "FK6mrDIEcvZn",
        "outputId": "718a2839-66c6-45a5-e617-ee255df0edd4"
      },
      "source": [
        "print(patches_array.shape)\n",
        "print(markers_array.shape)"
      ],
      "execution_count": 228,
      "outputs": [
        {
          "output_type": "stream",
          "text": [
            "(3, 61, 101, 3)\n",
            "(3, 61, 101)\n",
            "time: 2.59 ms (started: 2021-01-12 23:44:48 +00:00)\n"
          ],
          "name": "stdout"
        }
      ]
    },
    {
      "cell_type": "code",
      "metadata": {
        "id": "RGEhe5YSqMzd"
      },
      "source": [
        "#markers_array = np.array(labimgmarker)\n",
        "#patches_array = [img]"
      ],
      "execution_count": null,
      "outputs": []
    },
    {
      "cell_type": "code",
      "metadata": {
        "colab": {
          "base_uri": "https://localhost:8080/",
          "height": 358
        },
        "id": "qWOj44OTtMus",
        "outputId": "94a5bcd9-6793-4574-ff56-08a3abcdba44"
      },
      "source": [
        "lcnarchitecture = {\"features\": {\n",
        "        \"type\": \"sequential\",\n",
        "        \"layers\": {\n",
        "            \"conv1\": {\n",
        "                \"operation\": \"conv2d\",\n",
        "                \"params\": {\n",
        "                    \"kernel_size\": 3,\n",
        "                    \"stride\": 1,\n",
        "                    \"padding\": 1,\n",
        "                    \"dilation\": 1,\n",
        "                    \"number_of_kernels_per_marker\": 3\n",
        "                },\n",
        "                \"activation\": {\n",
        "                    \"operation\": \"relu\",\n",
        "                    \"params\": {\n",
        "                        \"inplace\": True\n",
        "                    }\n",
        "                },\n",
        "                \"pool\": {\n",
        "                    \"operation\": \"max_pool2d\",\n",
        "                    \"params\": {\n",
        "                        \"kernel_size\": 3,\n",
        "                        \"stride\": 1,\n",
        "                        \"padding\": 1\n",
        "                    }\n",
        "                },\n",
        "                \"BatchNorm\": {\n",
        "                    \"operation\": \"BatchNorm1d\",\n",
        "                    \"params\": {\n",
        "                        \"num_features\": 10\n",
        "                    }\n",
        "                }\n",
        "            },\n",
        "        }\n",
        "    }}\n",
        "    \n",
        "lcncreatorinstance = lcn.LCNCreator(lcnarchitecture, patches_array, markers_array)\n",
        "lcncreatorinstance.build_feature_extractor()"
      ],
      "execution_count": 229,
      "outputs": [
        {
          "output_type": "error",
          "ename": "RuntimeError",
          "evalue": "ignored",
          "traceback": [
            "\u001b[0;31m---------------------------------------------------------------------------\u001b[0m",
            "\u001b[0;31mRuntimeError\u001b[0m                              Traceback (most recent call last)",
            "\u001b[0;32m<ipython-input-229-3358be798766>\u001b[0m in \u001b[0;36m<module>\u001b[0;34m()\u001b[0m\n\u001b[1;32m     36\u001b[0m \u001b[0;34m\u001b[0m\u001b[0m\n\u001b[1;32m     37\u001b[0m \u001b[0mlcncreatorinstance\u001b[0m \u001b[0;34m=\u001b[0m \u001b[0mlcn\u001b[0m\u001b[0;34m.\u001b[0m\u001b[0mLCNCreator\u001b[0m\u001b[0;34m(\u001b[0m\u001b[0mlcnarchitecture\u001b[0m\u001b[0;34m,\u001b[0m \u001b[0mpatches_array\u001b[0m\u001b[0;34m,\u001b[0m \u001b[0mmarkers_array\u001b[0m\u001b[0;34m)\u001b[0m\u001b[0;34m\u001b[0m\u001b[0;34m\u001b[0m\u001b[0m\n\u001b[0;32m---> 38\u001b[0;31m \u001b[0mlcncreatorinstance\u001b[0m\u001b[0;34m.\u001b[0m\u001b[0mbuild_feature_extractor\u001b[0m\u001b[0;34m(\u001b[0m\u001b[0;34m)\u001b[0m\u001b[0;34m\u001b[0m\u001b[0;34m\u001b[0m\u001b[0m\n\u001b[0m",
            "\u001b[0;32m/content/FLIM-dev/flim/models/lcn/_creator.py\u001b[0m in \u001b[0;36mbuild_feature_extractor\u001b[0;34m(self, remove_similar_filters, similarity_level)\u001b[0m\n\u001b[1;32m    147\u001b[0m             \u001b[0;32mif\u001b[0m \u001b[0mself\u001b[0m\u001b[0;34m.\u001b[0m\u001b[0m_relabel_markers\u001b[0m\u001b[0;34m:\u001b[0m\u001b[0;34m\u001b[0m\u001b[0;34m\u001b[0m\u001b[0m\n\u001b[1;32m    148\u001b[0m                 \u001b[0mstart_label\u001b[0m \u001b[0;34m=\u001b[0m \u001b[0;36m2\u001b[0m \u001b[0;32mif\u001b[0m \u001b[0mself\u001b[0m\u001b[0;34m.\u001b[0m\u001b[0m_has_superpixel_markers\u001b[0m \u001b[0;32melse\u001b[0m \u001b[0;36m1\u001b[0m\u001b[0;34m\u001b[0m\u001b[0;34m\u001b[0m\u001b[0m\n\u001b[0;32m--> 149\u001b[0;31m                 \u001b[0mmarkers\u001b[0m \u001b[0;34m=\u001b[0m \u001b[0mlabel_connected_components\u001b[0m\u001b[0;34m(\u001b[0m\u001b[0mmarkers\u001b[0m\u001b[0;34m,\u001b[0m \u001b[0mstart_label\u001b[0m\u001b[0;34m)\u001b[0m\u001b[0;34m\u001b[0m\u001b[0;34m\u001b[0m\u001b[0m\n\u001b[0m\u001b[1;32m    150\u001b[0m \u001b[0;34m\u001b[0m\u001b[0m\n\u001b[1;32m    151\u001b[0m             \u001b[0;32mif\u001b[0m \u001b[0mself\u001b[0m\u001b[0;34m.\u001b[0m\u001b[0m_has_superpixel_markers\u001b[0m\u001b[0;34m:\u001b[0m\u001b[0;34m\u001b[0m\u001b[0;34m\u001b[0m\u001b[0m\n",
            "\u001b[0;32m/content/FLIM-dev/flim/utils.py\u001b[0m in \u001b[0;36mlabel_connected_components\u001b[0;34m(label_image, start_label)\u001b[0m\n\u001b[1;32m     42\u001b[0m         \u001b[0mnum_labels\u001b[0m \u001b[0;34m=\u001b[0m \u001b[0mlabel_image\u001b[0m\u001b[0;34m.\u001b[0m\u001b[0mastype\u001b[0m\u001b[0;34m(\u001b[0m\u001b[0mnp\u001b[0m\u001b[0;34m.\u001b[0m\u001b[0mint32\u001b[0m\u001b[0;34m)\u001b[0m\u001b[0;34m.\u001b[0m\u001b[0mmax\u001b[0m\u001b[0;34m(\u001b[0m\u001b[0;34m)\u001b[0m\u001b[0;34m\u001b[0m\u001b[0;34m\u001b[0m\u001b[0m\n\u001b[1;32m     43\u001b[0m \u001b[0;34m\u001b[0m\u001b[0m\n\u001b[0;32m---> 44\u001b[0;31m         \u001b[0;31m#new_label_image = np.zeros_like(label_image).astype(np.int)\u001b[0m\u001b[0;34m\u001b[0m\u001b[0;34m\u001b[0m\u001b[0;34m\u001b[0m\u001b[0m\n\u001b[0m\u001b[1;32m     45\u001b[0m         \u001b[0mstructure\u001b[0m \u001b[0;34m=\u001b[0m \u001b[0mnp\u001b[0m\u001b[0;34m.\u001b[0m\u001b[0mones\u001b[0m\u001b[0;34m(\u001b[0m\u001b[0;34m(\u001b[0m\u001b[0;36m3\u001b[0m\u001b[0;34m,\u001b[0m \u001b[0;36m3\u001b[0m\u001b[0;34m)\u001b[0m\u001b[0;34m,\u001b[0m \u001b[0mdtype\u001b[0m\u001b[0;34m=\u001b[0m\u001b[0mnp\u001b[0m\u001b[0;34m.\u001b[0m\u001b[0muint8\u001b[0m\u001b[0;34m)\u001b[0m\u001b[0;34m\u001b[0m\u001b[0;34m\u001b[0m\u001b[0m\n\u001b[1;32m     46\u001b[0m \u001b[0;34m\u001b[0m\u001b[0m\n",
            "\u001b[0;32m/usr/local/lib/python3.6/dist-packages/scipy/ndimage/measurements.py\u001b[0m in \u001b[0;36mlabel\u001b[0;34m(input, structure, output)\u001b[0m\n\u001b[1;32m    183\u001b[0m     \u001b[0mstructure\u001b[0m \u001b[0;34m=\u001b[0m \u001b[0mnumpy\u001b[0m\u001b[0;34m.\u001b[0m\u001b[0masarray\u001b[0m\u001b[0;34m(\u001b[0m\u001b[0mstructure\u001b[0m\u001b[0;34m,\u001b[0m \u001b[0mdtype\u001b[0m\u001b[0;34m=\u001b[0m\u001b[0mbool\u001b[0m\u001b[0;34m)\u001b[0m\u001b[0;34m\u001b[0m\u001b[0;34m\u001b[0m\u001b[0m\n\u001b[1;32m    184\u001b[0m     \u001b[0;32mif\u001b[0m \u001b[0mstructure\u001b[0m\u001b[0;34m.\u001b[0m\u001b[0mndim\u001b[0m \u001b[0;34m!=\u001b[0m \u001b[0minput\u001b[0m\u001b[0;34m.\u001b[0m\u001b[0mndim\u001b[0m\u001b[0;34m:\u001b[0m\u001b[0;34m\u001b[0m\u001b[0;34m\u001b[0m\u001b[0m\n\u001b[0;32m--> 185\u001b[0;31m         \u001b[0;32mraise\u001b[0m \u001b[0mRuntimeError\u001b[0m\u001b[0;34m(\u001b[0m\u001b[0;34m'structure and input must have equal rank'\u001b[0m\u001b[0;34m)\u001b[0m\u001b[0;34m\u001b[0m\u001b[0;34m\u001b[0m\u001b[0m\n\u001b[0m\u001b[1;32m    186\u001b[0m     \u001b[0;32mfor\u001b[0m \u001b[0mii\u001b[0m \u001b[0;32min\u001b[0m \u001b[0mstructure\u001b[0m\u001b[0;34m.\u001b[0m\u001b[0mshape\u001b[0m\u001b[0;34m:\u001b[0m\u001b[0;34m\u001b[0m\u001b[0;34m\u001b[0m\u001b[0m\n\u001b[1;32m    187\u001b[0m         \u001b[0;32mif\u001b[0m \u001b[0mii\u001b[0m \u001b[0;34m!=\u001b[0m \u001b[0;36m3\u001b[0m\u001b[0;34m:\u001b[0m\u001b[0;34m\u001b[0m\u001b[0;34m\u001b[0m\u001b[0m\n",
            "\u001b[0;31mRuntimeError\u001b[0m: structure and input must have equal rank"
          ]
        },
        {
          "output_type": "stream",
          "text": [
            "time: 34.6 ms (started: 2021-01-12 23:44:54 +00:00)\n"
          ],
          "name": "stdout"
        }
      ]
    },
    {
      "cell_type": "code",
      "metadata": {
        "id": "BGIA8hEtn0H2",
        "outputId": "bb14eec1-0253-445a-ea5d-f21c4257450b",
        "colab": {
          "base_uri": "https://localhost:8080/"
        }
      },
      "source": [
        "print(type(patches_array[0]))"
      ],
      "execution_count": 191,
      "outputs": [
        {
          "output_type": "stream",
          "text": [
            "<class 'numpy.ndarray'>\n",
            "time: 1.52 ms (started: 2021-01-12 22:03:02 +00:00)\n"
          ],
          "name": "stdout"
        }
      ]
    },
    {
      "cell_type": "code",
      "metadata": {
        "colab": {
          "base_uri": "https://localhost:8080/"
        },
        "id": "bj1oXE6J4Qgc",
        "outputId": "b4d7632c-a5af-4c1f-a5ad-db050953df7e"
      },
      "source": [
        "imgarray = img.copy()\n",
        "imgarray = np.array(imgarray.reshape(1, imgarray.shape[2], imgarray.shape[0], imgarray.shape[1]))\n",
        "\n",
        "print(\"set of images shape for forward function :\", imgarray.shape)\n",
        "print(\"images shape :\", img.shape)"
      ],
      "execution_count": 165,
      "outputs": [
        {
          "output_type": "stream",
          "text": [
            "set of images shape for forward function : (1, 3, 61, 101)\n",
            "images shape : (61, 101, 3)\n",
            "time: 6.08 ms (started: 2021-01-12 21:48:08 +00:00)\n"
          ],
          "name": "stdout"
        }
      ]
    },
    {
      "cell_type": "code",
      "metadata": {
        "colab": {
          "base_uri": "https://localhost:8080/"
        },
        "id": "9Ve-VKSbcUZw",
        "outputId": "8637dbaf-41f8-4261-88a4-3b7a734c2813"
      },
      "source": [
        "#see output of FLIM\n",
        "model = lcncreatorinstance.get_LIDSConvNet()\n",
        "\n",
        "imgarray = img.copy()\n",
        "imgarray = np.array(imgarray.reshape(1, imgarray.shape[2], imgarray.shape[0], imgarray.shape[1]))\n",
        "\n",
        "out = model.feature_extractor.forward(torch.from_numpy(imgarray))\n",
        "out.shape"
      ],
      "execution_count": 166,
      "outputs": [
        {
          "output_type": "execute_result",
          "data": {
            "text/plain": [
              "torch.Size([1, 130, 61, 101])"
            ]
          },
          "metadata": {
            "tags": []
          },
          "execution_count": 166
        },
        {
          "output_type": "stream",
          "text": [
            "time: 25.4 ms (started: 2021-01-12 21:48:19 +00:00)\n"
          ],
          "name": "stdout"
        }
      ]
    },
    {
      "cell_type": "code",
      "metadata": {
        "colab": {
          "base_uri": "https://localhost:8080/",
          "height": 286
        },
        "id": "aBYhkuFoHltk",
        "outputId": "8af7b8f9-57f4-46cd-f66a-7687caf290bb"
      },
      "source": [
        "outnumpy = out.detach().numpy()\n",
        "\n",
        "plt.imshow(outnumpy[0, 1, :, :], cmap='gray')"
      ],
      "execution_count": 133,
      "outputs": [
        {
          "output_type": "execute_result",
          "data": {
            "text/plain": [
              "<matplotlib.image.AxesImage at 0x7f23676dbcc0>"
            ]
          },
          "metadata": {
            "tags": []
          },
          "execution_count": 133
        },
        {
          "output_type": "display_data",
          "data": {
            "image/png": "[encoded data removed]",
            "text/plain": [
              "<Figure size 432x288 with 1 Axes>"
            ]
          },
          "metadata": {
            "tags": [],
            "needs_background": "light"
          }
        },
        {
          "output_type": "stream",
          "text": [
            "time: 291 ms (started: 2021-01-12 21:31:49 +00:00)\n"
          ],
          "name": "stdout"
        }
      ]
    },
    {
      "cell_type": "code",
      "metadata": {
        "id": "05gI-i4p-JIW"
      },
      "source": [
        "#classificador :\n",
        "#build_classifier"
      ],
      "execution_count": null,
      "outputs": []
    },
    {
      "cell_type": "code",
      "metadata": {
        "colab": {
          "base_uri": "https://localhost:8080/"
        },
        "id": "q1fM55PaoRzv",
        "outputId": "cf458ee4-6f83-4891-b22e-a0eeb65cdd48"
      },
      "source": [
        "model.__dict__"
      ],
      "execution_count": 78,
      "outputs": [
        {
          "output_type": "execute_result",
          "data": {
            "text/plain": [
              "{'_backward_hooks': OrderedDict(),\n",
              " '_buffers': OrderedDict(),\n",
              " '_forward_hooks': OrderedDict(),\n",
              " '_forward_pre_hooks': OrderedDict(),\n",
              " '_load_state_dict_pre_hooks': OrderedDict(),\n",
              " '_logger': <RootLogger root (WARNING)>,\n",
              " '_modules': OrderedDict([('feature_extractor', Sequential(\n",
              "                 (conv1): SpecialConvLayer(\n",
              "                   (conv): Conv2d(3, 14, kernel_size=(5, 5), stride=(1, 1), padding=(2, 2), bias=False)\n",
              "                   (activation): ReLU(inplace=True)\n",
              "                   (pool): MaxPool2d(kernel_size=3, stride=4, padding=0, dilation=1, ceil_mode=False)\n",
              "                 )\n",
              "               )), ('classifier', Sequential())]),\n",
              " '_non_persistent_buffers_set': set(),\n",
              " '_parameters': OrderedDict(),\n",
              " '_remove_border': 0,\n",
              " '_state_dict_hooks': OrderedDict(),\n",
              " 'training': True}"
            ]
          },
          "metadata": {
            "tags": []
          },
          "execution_count": 78
        },
        {
          "output_type": "stream",
          "text": [
            "time: 4.46 ms (started: 2021-01-09 20:48:42 +00:00)\n"
          ],
          "name": "stdout"
        }
      ]
    }
  ]
}